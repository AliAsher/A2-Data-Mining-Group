{
 "cells": [
  {
   "cell_type": "markdown",
   "metadata": {},
   "source": [
    "https://www.kaggle.com/gpreda/covid-19-vaccination-progress"
   ]
  },
  {
   "cell_type": "code",
   "execution_count": 2,
   "metadata": {},
   "outputs": [],
   "source": [
    "import pandas as pd\n",
    "import numpy as np\n",
    "import matplotlib.pyplot as plt"
   ]
  },
  {
   "cell_type": "code",
   "execution_count": 9,
   "metadata": {},
   "outputs": [
    {
     "name": "stdout",
     "output_type": "stream",
     "text": [
      "<class 'pandas.core.frame.DataFrame'>\n",
      "RangeIndex: 8451 entries, 0 to 8450\n",
      "Data columns (total 15 columns):\n",
      " #   Column                               Non-Null Count  Dtype  \n",
      "---  ------                               --------------  -----  \n",
      " 0   country                              8451 non-null   object \n",
      " 1   iso_code                             8451 non-null   object \n",
      " 2   date                                 8451 non-null   object \n",
      " 3   total_vaccinations                   5231 non-null   float64\n",
      " 4   people_vaccinated                    4688 non-null   float64\n",
      " 5   people_fully_vaccinated              3186 non-null   float64\n",
      " 6   daily_vaccinations_raw               4415 non-null   float64\n",
      " 7   daily_vaccinations                   8260 non-null   float64\n",
      " 8   total_vaccinations_per_hundred       5231 non-null   float64\n",
      " 9   people_vaccinated_per_hundred        4688 non-null   float64\n",
      " 10  people_fully_vaccinated_per_hundred  3186 non-null   float64\n",
      " 11  daily_vaccinations_per_million       8260 non-null   float64\n",
      " 12  vaccines                             8451 non-null   object \n",
      " 13  source_name                          8451 non-null   object \n",
      " 14  source_website                       8451 non-null   object \n",
      "dtypes: float64(9), object(6)\n",
      "memory usage: 990.5+ KB\n"
     ]
    }
   ],
   "source": [
    "data_df = pd.read_csv('data/country_vaccinations.csv')\n",
    "data_df.info()"
   ]
  },
  {
   "cell_type": "code",
   "execution_count": 5,
   "metadata": {},
   "outputs": [
    {
     "name": "stdout",
     "output_type": "stream",
     "text": [
      "<class 'pandas.core.frame.DataFrame'>\n",
      "RangeIndex: 154 entries, 0 to 153\n",
      "Data columns (total 11 columns):\n",
      " #   Column                           Non-Null Count  Dtype  \n",
      "---  ------                           --------------  -----  \n",
      " 0   Country                          154 non-null    object \n",
      " 1   iso_code                         154 non-null    object \n",
      " 2   Vaccines                         154 non-null    object \n",
      " 3   Total vaccinations               154 non-null    float64\n",
      " 4   Percent                          154 non-null    float64\n",
      " 5   Daily vaccinations               150 non-null    float64\n",
      " 6   Daily vaccinations per million   150 non-null    float64\n",
      " 7   People vaccinated                142 non-null    float64\n",
      " 8   People vaccinated per hundred    142 non-null    float64\n",
      " 9   People fully vaccinated          86 non-null     float64\n",
      " 10  People fully vaccinated percent  86 non-null     float64\n",
      "dtypes: float64(8), object(3)\n",
      "memory usage: 13.4+ KB\n"
     ]
    },
    {
     "name": "stderr",
     "output_type": "stream",
     "text": [
      "<ipython-input-5-ed37d046525c>:1: FutureWarning: Indexing with multiple keys (implicitly converted to a tuple of keys) will be deprecated, use a list instead.\n",
      "  country_vaccine = data_df.groupby([\"country\", \"iso_code\", \"vaccines\"])['total_vaccinations',\n"
     ]
    }
   ],
   "source": [
    "country_vaccine = data_df.groupby([\"country\", \"iso_code\", \"vaccines\"])['total_vaccinations', \n",
    "                                                                       'total_vaccinations_per_hundred',\n",
    "                                                                      'daily_vaccinations',\n",
    "                                                                      'daily_vaccinations_per_million',\n",
    "                                                                      'people_vaccinated',\n",
    "                                                                      'people_vaccinated_per_hundred',\n",
    "                                                                       'people_fully_vaccinated', 'people_fully_vaccinated_per_hundred'\n",
    "                                                                      ].max().reset_index()\n",
    "country_vaccine.columns = [\"Country\", \"iso_code\", \"Vaccines\", \"Total vaccinations\", \"Percent\", \"Daily vaccinations\", \n",
    "                           \"Daily vaccinations per million\", \"People vaccinated\", \"People vaccinated per hundred\",\n",
    "                           'People fully vaccinated', 'People fully vaccinated percent']\n",
    "country_vaccine.info()"
   ]
  },
  {
   "cell_type": "code",
   "execution_count": 6,
   "metadata": {},
   "outputs": [
    {
     "data": {
      "text/html": [
       "<div>\n",
       "<style scoped>\n",
       "    .dataframe tbody tr th:only-of-type {\n",
       "        vertical-align: middle;\n",
       "    }\n",
       "\n",
       "    .dataframe tbody tr th {\n",
       "        vertical-align: top;\n",
       "    }\n",
       "\n",
       "    .dataframe thead th {\n",
       "        text-align: right;\n",
       "    }\n",
       "</style>\n",
       "<table border=\"1\" class=\"dataframe\">\n",
       "  <thead>\n",
       "    <tr style=\"text-align: right;\">\n",
       "      <th></th>\n",
       "      <th>Country</th>\n",
       "      <th>iso_code</th>\n",
       "      <th>Vaccines</th>\n",
       "      <th>Total vaccinations</th>\n",
       "      <th>Percent</th>\n",
       "      <th>Daily vaccinations</th>\n",
       "      <th>Daily vaccinations per million</th>\n",
       "      <th>People vaccinated</th>\n",
       "      <th>People vaccinated per hundred</th>\n",
       "      <th>People fully vaccinated</th>\n",
       "      <th>People fully vaccinated percent</th>\n",
       "    </tr>\n",
       "  </thead>\n",
       "  <tbody>\n",
       "    <tr>\n",
       "      <th>0</th>\n",
       "      <td>Afghanistan</td>\n",
       "      <td>AFG</td>\n",
       "      <td>Oxford/AstraZeneca</td>\n",
       "      <td>54000.0</td>\n",
       "      <td>0.14</td>\n",
       "      <td>2862.0</td>\n",
       "      <td>74.0</td>\n",
       "      <td>54000.0</td>\n",
       "      <td>0.14</td>\n",
       "      <td>NaN</td>\n",
       "      <td>NaN</td>\n",
       "    </tr>\n",
       "    <tr>\n",
       "      <th>1</th>\n",
       "      <td>Albania</td>\n",
       "      <td>ALB</td>\n",
       "      <td>Pfizer/BioNTech</td>\n",
       "      <td>64075.0</td>\n",
       "      <td>2.23</td>\n",
       "      <td>3287.0</td>\n",
       "      <td>1142.0</td>\n",
       "      <td>6073.0</td>\n",
       "      <td>0.21</td>\n",
       "      <td>655.0</td>\n",
       "      <td>0.02</td>\n",
       "    </tr>\n",
       "    <tr>\n",
       "      <th>2</th>\n",
       "      <td>Algeria</td>\n",
       "      <td>DZA</td>\n",
       "      <td>Sputnik V</td>\n",
       "      <td>75000.0</td>\n",
       "      <td>0.17</td>\n",
       "      <td>3748.0</td>\n",
       "      <td>85.0</td>\n",
       "      <td>NaN</td>\n",
       "      <td>NaN</td>\n",
       "      <td>NaN</td>\n",
       "      <td>NaN</td>\n",
       "    </tr>\n",
       "    <tr>\n",
       "      <th>3</th>\n",
       "      <td>Andorra</td>\n",
       "      <td>AND</td>\n",
       "      <td>Pfizer/BioNTech</td>\n",
       "      <td>9288.0</td>\n",
       "      <td>12.02</td>\n",
       "      <td>679.0</td>\n",
       "      <td>8788.0</td>\n",
       "      <td>7098.0</td>\n",
       "      <td>9.19</td>\n",
       "      <td>1265.0</td>\n",
       "      <td>1.64</td>\n",
       "    </tr>\n",
       "    <tr>\n",
       "      <th>4</th>\n",
       "      <td>Angola</td>\n",
       "      <td>AGO</td>\n",
       "      <td>Oxford/AstraZeneca</td>\n",
       "      <td>87022.0</td>\n",
       "      <td>0.26</td>\n",
       "      <td>6044.0</td>\n",
       "      <td>184.0</td>\n",
       "      <td>87022.0</td>\n",
       "      <td>0.26</td>\n",
       "      <td>NaN</td>\n",
       "      <td>NaN</td>\n",
       "    </tr>\n",
       "  </tbody>\n",
       "</table>\n",
       "</div>"
      ],
      "text/plain": [
       "       Country iso_code            Vaccines  Total vaccinations  Percent  \\\n",
       "0  Afghanistan      AFG  Oxford/AstraZeneca             54000.0     0.14   \n",
       "1      Albania      ALB     Pfizer/BioNTech             64075.0     2.23   \n",
       "2      Algeria      DZA           Sputnik V             75000.0     0.17   \n",
       "3      Andorra      AND     Pfizer/BioNTech              9288.0    12.02   \n",
       "4       Angola      AGO  Oxford/AstraZeneca             87022.0     0.26   \n",
       "\n",
       "   Daily vaccinations  Daily vaccinations per million  People vaccinated  \\\n",
       "0              2862.0                            74.0            54000.0   \n",
       "1              3287.0                          1142.0             6073.0   \n",
       "2              3748.0                            85.0                NaN   \n",
       "3               679.0                          8788.0             7098.0   \n",
       "4              6044.0                           184.0            87022.0   \n",
       "\n",
       "   People vaccinated per hundred  People fully vaccinated  \\\n",
       "0                           0.14                      NaN   \n",
       "1                           0.21                    655.0   \n",
       "2                            NaN                      NaN   \n",
       "3                           9.19                   1265.0   \n",
       "4                           0.26                      NaN   \n",
       "\n",
       "   People fully vaccinated percent  \n",
       "0                              NaN  \n",
       "1                             0.02  \n",
       "2                              NaN  \n",
       "3                             1.64  \n",
       "4                              NaN  "
      ]
     },
     "execution_count": 6,
     "metadata": {},
     "output_type": "execute_result"
    }
   ],
   "source": [
    "country_vaccine.head()"
   ]
  },
  {
   "cell_type": "code",
   "execution_count": null,
   "metadata": {},
   "outputs": [],
   "source": []
  }
 ],
 "metadata": {
  "kernelspec": {
   "display_name": "Python 3",
   "language": "python",
   "name": "python3"
  },
  "language_info": {
   "codemirror_mode": {
    "name": "ipython",
    "version": 3
   },
   "file_extension": ".py",
   "mimetype": "text/x-python",
   "name": "python",
   "nbconvert_exporter": "python",
   "pygments_lexer": "ipython3",
   "version": "3.8.5"
  }
 },
 "nbformat": 4,
 "nbformat_minor": 4
}
