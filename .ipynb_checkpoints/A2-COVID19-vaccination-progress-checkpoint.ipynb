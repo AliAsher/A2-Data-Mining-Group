{
 "cells": [
  {
   "cell_type": "markdown",
   "metadata": {},
   "source": [
    "# Group 16: SIT307 Data Mining Group Project"
   ]
  },
  {
   "cell_type": "markdown",
   "metadata": {},
   "source": [
    "Dataset Selected/used: <b>COVID-19 World Vaccination Progress</b>\n",
    "\n",
    "Found at: https://www.kaggle.com/gpreda/covid-world-vaccination-progress\n",
    "\n",
    "Collected by: <b>Gabriel Preda</b>\n",
    "\n",
    "Updated: <b>Daily</b>\n",
    "\n",
    "Date of download: <b>15th April 2021</b>"
   ]
  },
  {
   "cell_type": "markdown",
   "metadata": {},
   "source": [
    " "
   ]
  },
  {
   "cell_type": "markdown",
   "metadata": {},
   "source": [
    "Imported libraries used"
   ]
  },
  {
   "cell_type": "code",
   "execution_count": 1,
   "metadata": {},
   "outputs": [],
   "source": [
    "# import libraries used\n",
    "import numpy as np\n",
    "import pandas as pd\n",
    "pd.set_option('precision', 2)\n",
    "\n",
    "import matplotlib\n",
    "import matplotlib.pyplot as plt\n",
    "%matplotlib inline\n",
    "import seaborn as sns\n",
    "from scipy import stats"
   ]
  },
  {
   "cell_type": "markdown",
   "metadata": {},
   "source": [
    " "
   ]
  },
  {
   "cell_type": "markdown",
   "metadata": {},
   "source": [
    "## Data Cleansing\n",
    "Get some information about the data set such as what are the columns, the data type in those columns and the number of columns and rows"
   ]
  },
  {
   "cell_type": "code",
   "execution_count": 2,
   "metadata": {},
   "outputs": [
    {
     "data": {
      "text/html": [
       "<div>\n",
       "<style scoped>\n",
       "    .dataframe tbody tr th:only-of-type {\n",
       "        vertical-align: middle;\n",
       "    }\n",
       "\n",
       "    .dataframe tbody tr th {\n",
       "        vertical-align: top;\n",
       "    }\n",
       "\n",
       "    .dataframe thead th {\n",
       "        text-align: right;\n",
       "    }\n",
       "</style>\n",
       "<table border=\"1\" class=\"dataframe\">\n",
       "  <thead>\n",
       "    <tr style=\"text-align: right;\">\n",
       "      <th></th>\n",
       "      <th>country</th>\n",
       "      <th>iso_code</th>\n",
       "      <th>date</th>\n",
       "      <th>total_vaccinations</th>\n",
       "      <th>people_vaccinated</th>\n",
       "      <th>people_fully_vaccinated</th>\n",
       "      <th>daily_vaccinations_raw</th>\n",
       "      <th>daily_vaccinations</th>\n",
       "      <th>total_vaccinations_per_hundred</th>\n",
       "      <th>people_vaccinated_per_hundred</th>\n",
       "      <th>people_fully_vaccinated_per_hundred</th>\n",
       "      <th>daily_vaccinations_per_million</th>\n",
       "      <th>vaccines</th>\n",
       "      <th>source_name</th>\n",
       "      <th>source_website</th>\n",
       "    </tr>\n",
       "  </thead>\n",
       "  <tbody>\n",
       "    <tr>\n",
       "      <th>0</th>\n",
       "      <td>Afghanistan</td>\n",
       "      <td>AFG</td>\n",
       "      <td>2021-02-22</td>\n",
       "      <td>0.0</td>\n",
       "      <td>0.0</td>\n",
       "      <td>NaN</td>\n",
       "      <td>NaN</td>\n",
       "      <td>NaN</td>\n",
       "      <td>0.0</td>\n",
       "      <td>0.0</td>\n",
       "      <td>NaN</td>\n",
       "      <td>NaN</td>\n",
       "      <td>Oxford/AstraZeneca</td>\n",
       "      <td>Government of Afghanistan</td>\n",
       "      <td>http://www.xinhuanet.com/english/asiapacific/2...</td>\n",
       "    </tr>\n",
       "    <tr>\n",
       "      <th>1</th>\n",
       "      <td>Afghanistan</td>\n",
       "      <td>AFG</td>\n",
       "      <td>2021-02-23</td>\n",
       "      <td>NaN</td>\n",
       "      <td>NaN</td>\n",
       "      <td>NaN</td>\n",
       "      <td>NaN</td>\n",
       "      <td>1367.0</td>\n",
       "      <td>NaN</td>\n",
       "      <td>NaN</td>\n",
       "      <td>NaN</td>\n",
       "      <td>35.0</td>\n",
       "      <td>Oxford/AstraZeneca</td>\n",
       "      <td>Government of Afghanistan</td>\n",
       "      <td>http://www.xinhuanet.com/english/asiapacific/2...</td>\n",
       "    </tr>\n",
       "    <tr>\n",
       "      <th>2</th>\n",
       "      <td>Afghanistan</td>\n",
       "      <td>AFG</td>\n",
       "      <td>2021-02-24</td>\n",
       "      <td>NaN</td>\n",
       "      <td>NaN</td>\n",
       "      <td>NaN</td>\n",
       "      <td>NaN</td>\n",
       "      <td>1367.0</td>\n",
       "      <td>NaN</td>\n",
       "      <td>NaN</td>\n",
       "      <td>NaN</td>\n",
       "      <td>35.0</td>\n",
       "      <td>Oxford/AstraZeneca</td>\n",
       "      <td>Government of Afghanistan</td>\n",
       "      <td>http://www.xinhuanet.com/english/asiapacific/2...</td>\n",
       "    </tr>\n",
       "    <tr>\n",
       "      <th>3</th>\n",
       "      <td>Afghanistan</td>\n",
       "      <td>AFG</td>\n",
       "      <td>2021-02-25</td>\n",
       "      <td>NaN</td>\n",
       "      <td>NaN</td>\n",
       "      <td>NaN</td>\n",
       "      <td>NaN</td>\n",
       "      <td>1367.0</td>\n",
       "      <td>NaN</td>\n",
       "      <td>NaN</td>\n",
       "      <td>NaN</td>\n",
       "      <td>35.0</td>\n",
       "      <td>Oxford/AstraZeneca</td>\n",
       "      <td>Government of Afghanistan</td>\n",
       "      <td>http://www.xinhuanet.com/english/asiapacific/2...</td>\n",
       "    </tr>\n",
       "    <tr>\n",
       "      <th>4</th>\n",
       "      <td>Afghanistan</td>\n",
       "      <td>AFG</td>\n",
       "      <td>2021-02-26</td>\n",
       "      <td>NaN</td>\n",
       "      <td>NaN</td>\n",
       "      <td>NaN</td>\n",
       "      <td>NaN</td>\n",
       "      <td>1367.0</td>\n",
       "      <td>NaN</td>\n",
       "      <td>NaN</td>\n",
       "      <td>NaN</td>\n",
       "      <td>35.0</td>\n",
       "      <td>Oxford/AstraZeneca</td>\n",
       "      <td>Government of Afghanistan</td>\n",
       "      <td>http://www.xinhuanet.com/english/asiapacific/2...</td>\n",
       "    </tr>\n",
       "  </tbody>\n",
       "</table>\n",
       "</div>"
      ],
      "text/plain": [
       "       country iso_code        date  total_vaccinations  people_vaccinated  \\\n",
       "0  Afghanistan      AFG  2021-02-22                 0.0                0.0   \n",
       "1  Afghanistan      AFG  2021-02-23                 NaN                NaN   \n",
       "2  Afghanistan      AFG  2021-02-24                 NaN                NaN   \n",
       "3  Afghanistan      AFG  2021-02-25                 NaN                NaN   \n",
       "4  Afghanistan      AFG  2021-02-26                 NaN                NaN   \n",
       "\n",
       "   people_fully_vaccinated  daily_vaccinations_raw  daily_vaccinations  \\\n",
       "0                      NaN                     NaN                 NaN   \n",
       "1                      NaN                     NaN              1367.0   \n",
       "2                      NaN                     NaN              1367.0   \n",
       "3                      NaN                     NaN              1367.0   \n",
       "4                      NaN                     NaN              1367.0   \n",
       "\n",
       "   total_vaccinations_per_hundred  people_vaccinated_per_hundred  \\\n",
       "0                             0.0                            0.0   \n",
       "1                             NaN                            NaN   \n",
       "2                             NaN                            NaN   \n",
       "3                             NaN                            NaN   \n",
       "4                             NaN                            NaN   \n",
       "\n",
       "   people_fully_vaccinated_per_hundred  daily_vaccinations_per_million  \\\n",
       "0                                  NaN                             NaN   \n",
       "1                                  NaN                            35.0   \n",
       "2                                  NaN                            35.0   \n",
       "3                                  NaN                            35.0   \n",
       "4                                  NaN                            35.0   \n",
       "\n",
       "             vaccines                source_name  \\\n",
       "0  Oxford/AstraZeneca  Government of Afghanistan   \n",
       "1  Oxford/AstraZeneca  Government of Afghanistan   \n",
       "2  Oxford/AstraZeneca  Government of Afghanistan   \n",
       "3  Oxford/AstraZeneca  Government of Afghanistan   \n",
       "4  Oxford/AstraZeneca  Government of Afghanistan   \n",
       "\n",
       "                                      source_website  \n",
       "0  http://www.xinhuanet.com/english/asiapacific/2...  \n",
       "1  http://www.xinhuanet.com/english/asiapacific/2...  \n",
       "2  http://www.xinhuanet.com/english/asiapacific/2...  \n",
       "3  http://www.xinhuanet.com/english/asiapacific/2...  \n",
       "4  http://www.xinhuanet.com/english/asiapacific/2...  "
      ]
     },
     "execution_count": 2,
     "metadata": {},
     "output_type": "execute_result"
    }
   ],
   "source": [
    "# read in CSV file to vaccination and preview head\n",
    "vaccination = pd.read_csv('data/country_vaccinations.csv')\n",
    "vaccination.head()"
   ]
  },
  {
   "cell_type": "code",
   "execution_count": 3,
   "metadata": {},
   "outputs": [
    {
     "data": {
      "text/plain": [
       "Index(['country', 'iso_code', 'date', 'total_vaccinations',\n",
       "       'people_vaccinated', 'people_fully_vaccinated',\n",
       "       'daily_vaccinations_raw', 'daily_vaccinations',\n",
       "       'total_vaccinations_per_hundred', 'people_vaccinated_per_hundred',\n",
       "       'people_fully_vaccinated_per_hundred', 'daily_vaccinations_per_million',\n",
       "       'vaccines', 'source_name', 'source_website'],\n",
       "      dtype='object')"
      ]
     },
     "execution_count": 3,
     "metadata": {},
     "output_type": "execute_result"
    }
   ],
   "source": [
    "# See what the column headings are\n",
    "vaccination.columns"
   ]
  },
  {
   "cell_type": "code",
   "execution_count": 4,
   "metadata": {},
   "outputs": [
    {
     "name": "stdout",
     "output_type": "stream",
     "text": [
      "<class 'pandas.core.frame.DataFrame'>\n",
      "RangeIndex: 11364 entries, 0 to 11363\n",
      "Data columns (total 15 columns):\n",
      " #   Column                               Non-Null Count  Dtype  \n",
      "---  ------                               --------------  -----  \n",
      " 0   country                              11364 non-null  object \n",
      " 1   iso_code                             11364 non-null  object \n",
      " 2   date                                 11364 non-null  object \n",
      " 3   total_vaccinations                   6756 non-null   float64\n",
      " 4   people_vaccinated                    6091 non-null   float64\n",
      " 5   people_fully_vaccinated              4362 non-null   float64\n",
      " 6   daily_vaccinations_raw               5646 non-null   float64\n",
      " 7   daily_vaccinations                   11167 non-null  float64\n",
      " 8   total_vaccinations_per_hundred       6756 non-null   float64\n",
      " 9   people_vaccinated_per_hundred        6091 non-null   float64\n",
      " 10  people_fully_vaccinated_per_hundred  4362 non-null   float64\n",
      " 11  daily_vaccinations_per_million       11167 non-null  float64\n",
      " 12  vaccines                             11364 non-null  object \n",
      " 13  source_name                          11364 non-null  object \n",
      " 14  source_website                       11364 non-null  object \n",
      "dtypes: float64(9), object(6)\n",
      "memory usage: 1.3+ MB\n"
     ]
    }
   ],
   "source": [
    "# and the data type stored in those columns\n",
    "vaccination.info()"
   ]
  },
  {
   "cell_type": "code",
   "execution_count": 5,
   "metadata": {},
   "outputs": [
    {
     "data": {
      "text/plain": [
       "(11364, 15)"
      ]
     },
     "execution_count": 5,
     "metadata": {},
     "output_type": "execute_result"
    }
   ],
   "source": [
    "# and the shape of the data set\n",
    "vaccination.shape"
   ]
  },
  {
   "cell_type": "markdown",
   "metadata": {},
   "source": [
    "Check categorical columns for spelling errors and misprints/typos:"
   ]
  },
  {
   "cell_type": "code",
   "execution_count": 6,
   "metadata": {},
   "outputs": [
    {
     "data": {
      "text/plain": [
       "array(['Afghanistan', 'Albania', 'Algeria', 'Andorra', 'Angola',\n",
       "       'Anguilla', 'Antigua and Barbuda', 'Argentina', 'Armenia',\n",
       "       'Australia', 'Austria', 'Azerbaijan', 'Bahamas', 'Bahrain',\n",
       "       'Bangladesh', 'Barbados', 'Belarus', 'Belgium', 'Belize',\n",
       "       'Bermuda', 'Bhutan', 'Bolivia', 'Bosnia and Herzegovina',\n",
       "       'Botswana', 'Brazil', 'Brunei', 'Bulgaria', 'Cambodia', 'Canada',\n",
       "       'Cape Verde', 'Cayman Islands', 'Chile', 'China', 'Colombia',\n",
       "       'Costa Rica', \"Cote d'Ivoire\", 'Croatia', 'Cyprus', 'Czechia',\n",
       "       'Denmark', 'Dominica', 'Dominican Republic', 'Ecuador', 'Egypt',\n",
       "       'El Salvador', 'England', 'Equatorial Guinea', 'Estonia',\n",
       "       'Eswatini', 'Faeroe Islands', 'Falkland Islands', 'Finland',\n",
       "       'France', 'Gabon', 'Gambia', 'Georgia', 'Germany', 'Ghana',\n",
       "       'Gibraltar', 'Greece', 'Greenland', 'Grenada', 'Guatemala',\n",
       "       'Guernsey', 'Guinea', 'Guyana', 'Honduras', 'Hong Kong', 'Hungary',\n",
       "       'Iceland', 'India', 'Indonesia', 'Iran', 'Iraq', 'Ireland',\n",
       "       'Isle of Man', 'Israel', 'Italy', 'Jamaica', 'Japan', 'Jersey',\n",
       "       'Jordan', 'Kazakhstan', 'Kenya', 'Kosovo', 'Kuwait', 'Kyrgyzstan',\n",
       "       'Laos', 'Latvia', 'Lebanon', 'Liechtenstein', 'Lithuania',\n",
       "       'Luxembourg', 'Macao', 'Malawi', 'Malaysia', 'Maldives', 'Mali',\n",
       "       'Malta', 'Mauritania', 'Mauritius', 'Mexico', 'Moldova', 'Monaco',\n",
       "       'Mongolia', 'Montenegro', 'Montserrat', 'Morocco', 'Mozambique',\n",
       "       'Myanmar', 'Namibia', 'Nepal', 'Netherlands', 'New Zealand',\n",
       "       'Nigeria', 'North Macedonia', 'Northern Cyprus',\n",
       "       'Northern Ireland', 'Norway', 'Oman', 'Pakistan', 'Palestine',\n",
       "       'Panama', 'Papua New Guinea', 'Paraguay', 'Peru', 'Philippines',\n",
       "       'Poland', 'Portugal', 'Qatar', 'Romania', 'Russia', 'Rwanda',\n",
       "       'Saint Helena', 'Saint Kitts and Nevis', 'Saint Lucia',\n",
       "       'Saint Vincent and the Grenadines', 'San Marino',\n",
       "       'Sao Tome and Principe', 'Saudi Arabia', 'Scotland', 'Senegal',\n",
       "       'Serbia', 'Seychelles', 'Sierra Leone', 'Singapore', 'Slovakia',\n",
       "       'Slovenia', 'Solomon Islands', 'South Africa', 'South Korea',\n",
       "       'Spain', 'Sri Lanka', 'Sudan', 'Suriname', 'Sweden', 'Switzerland',\n",
       "       'Syria', 'Taiwan', 'Thailand', 'Togo', 'Trinidad and Tobago',\n",
       "       'Tunisia', 'Turkey', 'Turks and Caicos Islands', 'Uganda',\n",
       "       'Ukraine', 'United Arab Emirates', 'United Kingdom',\n",
       "       'United States', 'Uruguay', 'Uzbekistan', 'Venezuela', 'Vietnam',\n",
       "       'Wales', 'Zimbabwe'], dtype=object)"
      ]
     },
     "execution_count": 6,
     "metadata": {},
     "output_type": "execute_result"
    }
   ],
   "source": [
    "# check the unique values of country\n",
    "vaccination.country.unique()"
   ]
  },
  {
   "cell_type": "code",
   "execution_count": 7,
   "metadata": {},
   "outputs": [
    {
     "data": {
      "text/plain": [
       "array(['AFG', 'ALB', 'DZA', 'AND', 'AGO', 'AIA', 'ATG', 'ARG', 'ARM',\n",
       "       'AUS', 'AUT', 'AZE', 'BHS', 'BHR', 'BGD', 'BRB', 'BLR', 'BEL',\n",
       "       'BLZ', 'BMU', 'BTN', 'BOL', 'BIH', 'BWA', 'BRA', 'BRN', 'BGR',\n",
       "       'KHM', 'CAN', 'CPV', 'CYM', 'CHL', 'CHN', 'COL', 'CRI', 'CIV',\n",
       "       'HRV', 'CYP', 'CZE', 'DNK', 'DMA', 'DOM', 'ECU', 'EGY', 'SLV',\n",
       "       'OWID_ENG', 'GNQ', 'EST', 'SWZ', 'FRO', 'FLK', 'FIN', 'FRA', 'GAB',\n",
       "       'GMB', 'GEO', 'DEU', 'GHA', 'GIB', 'GRC', 'GRL', 'GRD', 'GTM',\n",
       "       'GGY', 'GIN', 'GUY', 'HND', 'HKG', 'HUN', 'ISL', 'IND', 'IDN',\n",
       "       'IRN', 'IRQ', 'IRL', 'IMN', 'ISR', 'ITA', 'JAM', 'JPN', 'JEY',\n",
       "       'JOR', 'KAZ', 'KEN', 'OWID_KOS', 'KWT', 'KGZ', 'LAO', 'LVA', 'LBN',\n",
       "       'LIE', 'LTU', 'LUX', 'MAC', 'MWI', 'MYS', 'MDV', 'MLI', 'MLT',\n",
       "       'MRT', 'MUS', 'MEX', 'MDA', 'MCO', 'MNG', 'MNE', 'MSR', 'MAR',\n",
       "       'MOZ', 'MMR', 'NAM', 'NPL', 'NLD', 'NZL', 'NGA', 'MKD', 'OWID_CYN',\n",
       "       'OWID_NIR', 'NOR', 'OMN', 'PAK', 'PSE', 'PAN', 'PNG', 'PRY', 'PER',\n",
       "       'PHL', 'POL', 'PRT', 'QAT', 'ROU', 'RUS', 'RWA', 'SHN', 'KNA',\n",
       "       'LCA', 'VCT', 'SMR', 'STP', 'SAU', 'OWID_SCT', 'SEN', 'SRB', 'SYC',\n",
       "       'SLE', 'SGP', 'SVK', 'SVN', 'SLB', 'ZAF', 'KOR', 'ESP', 'LKA',\n",
       "       'SDN', 'SUR', 'SWE', 'CHE', 'SYR', 'TWN', 'THA', 'TGO', 'TTO',\n",
       "       'TUN', 'TUR', 'TCA', 'UGA', 'UKR', 'ARE', 'GBR', 'USA', 'URY',\n",
       "       'UZB', 'VEN', 'VNM', 'OWID_WLS', 'ZWE'], dtype=object)"
      ]
     },
     "execution_count": 7,
     "metadata": {},
     "output_type": "execute_result"
    }
   ],
   "source": [
    "# check the unique values of ISO code\n",
    "vaccination.iso_code.unique()"
   ]
  },
  {
   "cell_type": "code",
   "execution_count": 8,
   "metadata": {},
   "outputs": [
    {
     "data": {
      "text/plain": [
       "array(['Oxford/AstraZeneca', 'Pfizer/BioNTech, Sinovac', 'Sputnik V',\n",
       "       'Pfizer/BioNTech',\n",
       "       'Oxford/AstraZeneca, Sinopharm/Beijing, Sputnik V',\n",
       "       'Oxford/AstraZeneca, Pfizer/BioNTech',\n",
       "       'Moderna, Oxford/AstraZeneca, Pfizer/BioNTech', 'Sinovac',\n",
       "       'Oxford/AstraZeneca, Pfizer/BioNTech, Sinopharm/Beijing, Sputnik V',\n",
       "       'Oxford/AstraZeneca, Pfizer/BioNTech, Sputnik V',\n",
       "       'Oxford/AstraZeneca, Sinovac',\n",
       "       'Oxford/AstraZeneca, Sinopharm/Beijing, Sinovac',\n",
       "       'Sinopharm/Beijing, Sinopharm/Wuhan, Sinovac',\n",
       "       'Oxford/AstraZeneca, Sinopharm/Beijing',\n",
       "       'Oxford/AstraZeneca, Pfizer/BioNTech, Sinovac',\n",
       "       'Sinopharm/Beijing', 'Moderna, Pfizer/BioNTech',\n",
       "       'Moderna, Oxford/AstraZeneca',\n",
       "       'Moderna, Oxford/AstraZeneca, Pfizer/BioNTech, Sinopharm/Beijing, Sputnik V',\n",
       "       'Covaxin, Oxford/AstraZeneca',\n",
       "       'Pfizer/BioNTech, Sinopharm/Beijing',\n",
       "       'Sinopharm/Beijing, Sputnik V',\n",
       "       'Oxford/AstraZeneca, Pfizer/BioNTech, Sinovac, Sputnik V',\n",
       "       'EpiVacCorona, Sputnik V', 'Pfizer/BioNTech, Sputnik V',\n",
       "       'Johnson&Johnson', 'Pfizer/BioNTech, Sinovac, Sputnik V',\n",
       "       'Oxford/AstraZeneca, Pfizer/BioNTech, Sinopharm/Beijing, Sinopharm/Wuhan, Sputnik V',\n",
       "       'Johnson&Johnson, Moderna, Pfizer/BioNTech'], dtype=object)"
      ]
     },
     "execution_count": 8,
     "metadata": {},
     "output_type": "execute_result"
    }
   ],
   "source": [
    "# check the unique values of vaccine used in the country\n",
    "vaccination.vaccines.unique()"
   ]
  },
  {
   "cell_type": "markdown",
   "metadata": {},
   "source": [
    "Source name and source website will not be used in data analysis, therefore there is no need to check for misprints"
   ]
  },
  {
   "cell_type": "markdown",
   "metadata": {},
   "source": [
    "No errors or misprints/typos found therefore no cleaning is required here.\n",
    "\n",
    "Check numerical columns for unreasonable minimum values:"
   ]
  },
  {
   "cell_type": "code",
   "execution_count": 9,
   "metadata": {},
   "outputs": [
    {
     "data": {
      "text/html": [
       "<div>\n",
       "<style scoped>\n",
       "    .dataframe tbody tr th:only-of-type {\n",
       "        vertical-align: middle;\n",
       "    }\n",
       "\n",
       "    .dataframe tbody tr th {\n",
       "        vertical-align: top;\n",
       "    }\n",
       "\n",
       "    .dataframe thead th {\n",
       "        text-align: right;\n",
       "    }\n",
       "</style>\n",
       "<table border=\"1\" class=\"dataframe\">\n",
       "  <thead>\n",
       "    <tr style=\"text-align: right;\">\n",
       "      <th></th>\n",
       "      <th>total_vaccinations</th>\n",
       "      <th>people_vaccinated</th>\n",
       "      <th>people_fully_vaccinated</th>\n",
       "      <th>daily_vaccinations_raw</th>\n",
       "      <th>daily_vaccinations</th>\n",
       "      <th>total_vaccinations_per_hundred</th>\n",
       "      <th>people_vaccinated_per_hundred</th>\n",
       "      <th>people_fully_vaccinated_per_hundred</th>\n",
       "      <th>daily_vaccinations_per_million</th>\n",
       "    </tr>\n",
       "  </thead>\n",
       "  <tbody>\n",
       "    <tr>\n",
       "      <th>count</th>\n",
       "      <td>6756.000000</td>\n",
       "      <td>6091.000000</td>\n",
       "      <td>4362.000000</td>\n",
       "      <td>5646.000000</td>\n",
       "      <td>11167.000000</td>\n",
       "      <td>6756.000000</td>\n",
       "      <td>6091.000000</td>\n",
       "      <td>4362.000000</td>\n",
       "      <td>11167.000000</td>\n",
       "    </tr>\n",
       "    <tr>\n",
       "      <th>mean</th>\n",
       "      <td>3770686.125518</td>\n",
       "      <td>2662908.245772</td>\n",
       "      <td>1216657.215956</td>\n",
       "      <td>121580.530464</td>\n",
       "      <td>70694.528790</td>\n",
       "      <td>12.578215</td>\n",
       "      <td>9.460942</td>\n",
       "      <td>4.536311</td>\n",
       "      <td>2813.774156</td>\n",
       "    </tr>\n",
       "    <tr>\n",
       "      <th>std</th>\n",
       "      <td>14580169.439103</td>\n",
       "      <td>9335192.557808</td>\n",
       "      <td>5044791.424996</td>\n",
       "      <td>450796.086742</td>\n",
       "      <td>304626.841394</td>\n",
       "      <td>20.648919</td>\n",
       "      <td>13.848831</td>\n",
       "      <td>9.080818</td>\n",
       "      <td>4934.979742</td>\n",
       "    </tr>\n",
       "    <tr>\n",
       "      <th>min</th>\n",
       "      <td>0.000000</td>\n",
       "      <td>0.000000</td>\n",
       "      <td>1.000000</td>\n",
       "      <td>-29286.000000</td>\n",
       "      <td>0.000000</td>\n",
       "      <td>0.000000</td>\n",
       "      <td>0.000000</td>\n",
       "      <td>0.000000</td>\n",
       "      <td>0.000000</td>\n",
       "    </tr>\n",
       "    <tr>\n",
       "      <th>25%</th>\n",
       "      <td>52868.000000</td>\n",
       "      <td>50046.000000</td>\n",
       "      <td>22609.750000</td>\n",
       "      <td>3181.250000</td>\n",
       "      <td>926.500000</td>\n",
       "      <td>1.000000</td>\n",
       "      <td>0.950000</td>\n",
       "      <td>0.490000</td>\n",
       "      <td>327.000000</td>\n",
       "    </tr>\n",
       "    <tr>\n",
       "      <th>50%</th>\n",
       "      <td>355014.500000</td>\n",
       "      <td>297899.000000</td>\n",
       "      <td>152502.500000</td>\n",
       "      <td>15463.500000</td>\n",
       "      <td>6001.000000</td>\n",
       "      <td>4.860000</td>\n",
       "      <td>3.860000</td>\n",
       "      <td>1.720000</td>\n",
       "      <td>1396.000000</td>\n",
       "    </tr>\n",
       "    <tr>\n",
       "      <th>75%</th>\n",
       "      <td>1641988.250000</td>\n",
       "      <td>1221800.000000</td>\n",
       "      <td>586143.750000</td>\n",
       "      <td>60260.000000</td>\n",
       "      <td>26703.500000</td>\n",
       "      <td>15.070000</td>\n",
       "      <td>11.470000</td>\n",
       "      <td>4.577500</td>\n",
       "      <td>3513.000000</td>\n",
       "    </tr>\n",
       "    <tr>\n",
       "      <th>max</th>\n",
       "      <td>189692045.000000</td>\n",
       "      <td>120848490.000000</td>\n",
       "      <td>74066085.000000</td>\n",
       "      <td>7185000.000000</td>\n",
       "      <td>5190143.000000</td>\n",
       "      <td>190.910000</td>\n",
       "      <td>102.490000</td>\n",
       "      <td>88.420000</td>\n",
       "      <td>118759.000000</td>\n",
       "    </tr>\n",
       "  </tbody>\n",
       "</table>\n",
       "</div>"
      ],
      "text/plain": [
       "       total_vaccinations  people_vaccinated  people_fully_vaccinated  \\\n",
       "count         6756.000000        6091.000000              4362.000000   \n",
       "mean       3770686.125518     2662908.245772           1216657.215956   \n",
       "std       14580169.439103     9335192.557808           5044791.424996   \n",
       "min              0.000000           0.000000                 1.000000   \n",
       "25%          52868.000000       50046.000000             22609.750000   \n",
       "50%         355014.500000      297899.000000            152502.500000   \n",
       "75%        1641988.250000     1221800.000000            586143.750000   \n",
       "max      189692045.000000   120848490.000000          74066085.000000   \n",
       "\n",
       "       daily_vaccinations_raw  daily_vaccinations  \\\n",
       "count             5646.000000        11167.000000   \n",
       "mean            121580.530464        70694.528790   \n",
       "std             450796.086742       304626.841394   \n",
       "min             -29286.000000            0.000000   \n",
       "25%               3181.250000          926.500000   \n",
       "50%              15463.500000         6001.000000   \n",
       "75%              60260.000000        26703.500000   \n",
       "max            7185000.000000      5190143.000000   \n",
       "\n",
       "       total_vaccinations_per_hundred  people_vaccinated_per_hundred  \\\n",
       "count                     6756.000000                    6091.000000   \n",
       "mean                        12.578215                       9.460942   \n",
       "std                         20.648919                      13.848831   \n",
       "min                          0.000000                       0.000000   \n",
       "25%                          1.000000                       0.950000   \n",
       "50%                          4.860000                       3.860000   \n",
       "75%                         15.070000                      11.470000   \n",
       "max                        190.910000                     102.490000   \n",
       "\n",
       "       people_fully_vaccinated_per_hundred  daily_vaccinations_per_million  \n",
       "count                          4362.000000                    11167.000000  \n",
       "mean                              4.536311                     2813.774156  \n",
       "std                               9.080818                     4934.979742  \n",
       "min                               0.000000                        0.000000  \n",
       "25%                               0.490000                      327.000000  \n",
       "50%                               1.720000                     1396.000000  \n",
       "75%                               4.577500                     3513.000000  \n",
       "max                              88.420000                   118759.000000  "
      ]
     },
     "execution_count": 9,
     "metadata": {},
     "output_type": "execute_result"
    }
   ],
   "source": [
    "# set pandas to float format to show full numbers\n",
    "pd.set_option('float_format', '{:f}'.format)\n",
    "\n",
    "# descriptive statistical values showing mean and five number summary\n",
    "vaccination.describe()"
   ]
  },
  {
   "cell_type": "markdown",
   "metadata": {},
   "source": [
    "No negative values found. However an unreasonable value was found with one country reporting 102.5 people vaccinated per hundred. This isn't possible so will be removed from the data set.\n",
    "\n",
    "<b>Note:</b> one country has 190 total vaccinations per hundred. While this seems incorrect, this column registers single doses and as people require 2 doses this 190 is correct. Over 200 would be an impossible value.\n"
   ]
  },
  {
   "cell_type": "code",
   "execution_count": 10,
   "metadata": {},
   "outputs": [],
   "source": [
    "# indexes of people vaccinated per hundred over 100 people\n",
    "impossible_idx = vaccination[vaccination['people_vaccinated_per_hundred'] > 100 ].index\n",
    "\n",
    "# Delete these row indexes from dataFrame\n",
    "vaccination = vaccination.drop(impossible_idx)"
   ]
  },
  {
   "cell_type": "code",
   "execution_count": 11,
   "metadata": {},
   "outputs": [
    {
     "data": {
      "text/plain": [
       "count   6089.000000\n",
       "mean       9.430655\n",
       "std       13.749865\n",
       "min        0.000000\n",
       "25%        0.950000\n",
       "50%        3.850000\n",
       "75%       11.450000\n",
       "max       99.310000\n",
       "Name: people_vaccinated_per_hundred, dtype: float64"
      ]
     },
     "execution_count": 11,
     "metadata": {},
     "output_type": "execute_result"
    }
   ],
   "source": [
    "# descriptive statistical values showing people_vaccinated_per_hundred max changing\n",
    "vaccination['people_vaccinated_per_hundred'].describe()"
   ]
  },
  {
   "cell_type": "markdown",
   "metadata": {},
   "source": [
    "Test the number of null values per column to see which ones have high missing value ratios. However, don't remove the row as the row could contain valuable information to a different column. Missing value removal will be done when the column wants to be used."
   ]
  },
  {
   "cell_type": "code",
   "execution_count": 12,
   "metadata": {},
   "outputs": [
    {
     "data": {
      "text/plain": [
       "country                                   0\n",
       "iso_code                                  0\n",
       "date                                      0\n",
       "total_vaccinations                     4608\n",
       "people_vaccinated                      5273\n",
       "people_fully_vaccinated                7002\n",
       "daily_vaccinations_raw                 5718\n",
       "daily_vaccinations                      197\n",
       "total_vaccinations_per_hundred         4608\n",
       "people_vaccinated_per_hundred          5273\n",
       "people_fully_vaccinated_per_hundred    7002\n",
       "daily_vaccinations_per_million          197\n",
       "vaccines                                  0\n",
       "source_name                               0\n",
       "source_website                            0\n",
       "dtype: int64"
      ]
     },
     "execution_count": 12,
     "metadata": {},
     "output_type": "execute_result"
    }
   ],
   "source": [
    "# get the count of null values in each column\n",
    "vaccination.isnull().sum()"
   ]
  },
  {
   "cell_type": "markdown",
   "metadata": {},
   "source": [
    "Transform date data type to date time instead of object. "
   ]
  },
  {
   "cell_type": "code",
   "execution_count": 13,
   "metadata": {},
   "outputs": [
    {
     "name": "stdout",
     "output_type": "stream",
     "text": [
      "<class 'pandas.core.frame.DataFrame'>\n",
      "Int64Index: 11362 entries, 0 to 11363\n",
      "Data columns (total 15 columns):\n",
      " #   Column                               Non-Null Count  Dtype         \n",
      "---  ------                               --------------  -----         \n",
      " 0   country                              11362 non-null  object        \n",
      " 1   iso_code                             11362 non-null  object        \n",
      " 2   date                                 11362 non-null  datetime64[ns]\n",
      " 3   total_vaccinations                   6754 non-null   float64       \n",
      " 4   people_vaccinated                    6089 non-null   float64       \n",
      " 5   people_fully_vaccinated              4360 non-null   float64       \n",
      " 6   daily_vaccinations_raw               5644 non-null   float64       \n",
      " 7   daily_vaccinations                   11165 non-null  float64       \n",
      " 8   total_vaccinations_per_hundred       6754 non-null   float64       \n",
      " 9   people_vaccinated_per_hundred        6089 non-null   float64       \n",
      " 10  people_fully_vaccinated_per_hundred  4360 non-null   float64       \n",
      " 11  daily_vaccinations_per_million       11165 non-null  float64       \n",
      " 12  vaccines                             11362 non-null  object        \n",
      " 13  source_name                          11362 non-null  object        \n",
      " 14  source_website                       11362 non-null  object        \n",
      "dtypes: datetime64[ns](1), float64(9), object(5)\n",
      "memory usage: 1.4+ MB\n"
     ]
    }
   ],
   "source": [
    "# convert data format to day, month, year\n",
    "vaccination['date'] = pd.to_datetime(vaccination['date'], format=\"%Y/%m/%d\", errors='raise')\n",
    "\n",
    "# check data type of date is now date time\n",
    "vaccination.info()"
   ]
  },
  {
   "cell_type": "markdown",
   "metadata": {},
   "source": [
    "#### Z-Scores\n",
    "Check the numerical column Z-scores to determine outliers"
   ]
  },
  {
   "cell_type": "code",
   "execution_count": 14,
   "metadata": {},
   "outputs": [],
   "source": [
    "# take just numerical columns and determine Z-score in new data frame called z-scores\n",
    "z_score_cols = vaccination[['total_vaccinations', 'people_vaccinated', 'people_fully_vaccinated', 'daily_vaccinations_raw',\n",
    "                          'daily_vaccinations', 'total_vaccinations_per_hundred', 'people_vaccinated_per_hundred',\n",
    "                          'people_fully_vaccinated_per_hundred', 'daily_vaccinations_per_million']].copy()\n",
    "\n",
    "z_scores = pd.DataFrame(stats.zscore(z_score_cols, nan_policy='omit'))"
   ]
  },
  {
   "cell_type": "code",
   "execution_count": 15,
   "metadata": {},
   "outputs": [
    {
     "data": {
      "text/html": [
       "<div>\n",
       "<style scoped>\n",
       "    .dataframe tbody tr th:only-of-type {\n",
       "        vertical-align: middle;\n",
       "    }\n",
       "\n",
       "    .dataframe tbody tr th {\n",
       "        vertical-align: top;\n",
       "    }\n",
       "\n",
       "    .dataframe thead th {\n",
       "        text-align: right;\n",
       "    }\n",
       "</style>\n",
       "<table border=\"1\" class=\"dataframe\">\n",
       "  <thead>\n",
       "    <tr style=\"text-align: right;\">\n",
       "      <th></th>\n",
       "      <th>0</th>\n",
       "      <th>1</th>\n",
       "      <th>2</th>\n",
       "      <th>3</th>\n",
       "      <th>4</th>\n",
       "      <th>5</th>\n",
       "      <th>6</th>\n",
       "      <th>7</th>\n",
       "      <th>8</th>\n",
       "    </tr>\n",
       "  </thead>\n",
       "  <tbody>\n",
       "    <tr>\n",
       "      <th>count</th>\n",
       "      <td>6754.000000</td>\n",
       "      <td>6089.000000</td>\n",
       "      <td>4360.000000</td>\n",
       "      <td>5644.000000</td>\n",
       "      <td>11165.000000</td>\n",
       "      <td>6754.000000</td>\n",
       "      <td>6089.000000</td>\n",
       "      <td>4360.000000</td>\n",
       "      <td>11165.000000</td>\n",
       "    </tr>\n",
       "    <tr>\n",
       "      <th>mean</th>\n",
       "      <td>-0.000000</td>\n",
       "      <td>-0.000000</td>\n",
       "      <td>-0.000000</td>\n",
       "      <td>0.000000</td>\n",
       "      <td>0.000000</td>\n",
       "      <td>-0.000000</td>\n",
       "      <td>-0.000000</td>\n",
       "      <td>0.000000</td>\n",
       "      <td>-0.000000</td>\n",
       "    </tr>\n",
       "    <tr>\n",
       "      <th>std</th>\n",
       "      <td>1.000074</td>\n",
       "      <td>1.000082</td>\n",
       "      <td>1.000115</td>\n",
       "      <td>1.000089</td>\n",
       "      <td>1.000045</td>\n",
       "      <td>1.000074</td>\n",
       "      <td>1.000082</td>\n",
       "      <td>1.000115</td>\n",
       "      <td>1.000045</td>\n",
       "    </tr>\n",
       "    <tr>\n",
       "      <th>min</th>\n",
       "      <td>-0.258676</td>\n",
       "      <td>-0.285328</td>\n",
       "      <td>-0.241254</td>\n",
       "      <td>-0.334737</td>\n",
       "      <td>-0.232101</td>\n",
       "      <td>-0.613296</td>\n",
       "      <td>-0.685929</td>\n",
       "      <td>-0.505216</td>\n",
       "      <td>-0.570036</td>\n",
       "    </tr>\n",
       "    <tr>\n",
       "      <th>25%</th>\n",
       "      <td>-0.255050</td>\n",
       "      <td>-0.279964</td>\n",
       "      <td>-0.236777</td>\n",
       "      <td>-0.262713</td>\n",
       "      <td>-0.229055</td>\n",
       "      <td>-0.564333</td>\n",
       "      <td>-0.616832</td>\n",
       "      <td>-0.450178</td>\n",
       "      <td>-0.503773</td>\n",
       "    </tr>\n",
       "    <tr>\n",
       "      <th>50%</th>\n",
       "      <td>-0.234301</td>\n",
       "      <td>-0.253415</td>\n",
       "      <td>-0.210937</td>\n",
       "      <td>-0.235451</td>\n",
       "      <td>-0.212390</td>\n",
       "      <td>-0.375336</td>\n",
       "      <td>-0.405903</td>\n",
       "      <td>-0.312021</td>\n",
       "      <td>-0.287355</td>\n",
       "    </tr>\n",
       "    <tr>\n",
       "      <th>75%</th>\n",
       "      <td>-0.146050</td>\n",
       "      <td>-0.154400</td>\n",
       "      <td>-0.125060</td>\n",
       "      <td>-0.136070</td>\n",
       "      <td>-0.144440</td>\n",
       "      <td>0.123965</td>\n",
       "      <td>0.146875</td>\n",
       "      <td>0.008099</td>\n",
       "      <td>0.141428</td>\n",
       "    </tr>\n",
       "    <tr>\n",
       "      <th>max</th>\n",
       "      <td>12.750763</td>\n",
       "      <td>12.659252</td>\n",
       "      <td>14.438943</td>\n",
       "      <td>15.667485</td>\n",
       "      <td>16.804925</td>\n",
       "      <td>8.544755</td>\n",
       "      <td>6.537281</td>\n",
       "      <td>9.349971</td>\n",
       "      <td>23.495122</td>\n",
       "    </tr>\n",
       "  </tbody>\n",
       "</table>\n",
       "</div>"
      ],
      "text/plain": [
       "                0           1           2           3            4  \\\n",
       "count 6754.000000 6089.000000 4360.000000 5644.000000 11165.000000   \n",
       "mean    -0.000000   -0.000000   -0.000000    0.000000     0.000000   \n",
       "std      1.000074    1.000082    1.000115    1.000089     1.000045   \n",
       "min     -0.258676   -0.285328   -0.241254   -0.334737    -0.232101   \n",
       "25%     -0.255050   -0.279964   -0.236777   -0.262713    -0.229055   \n",
       "50%     -0.234301   -0.253415   -0.210937   -0.235451    -0.212390   \n",
       "75%     -0.146050   -0.154400   -0.125060   -0.136070    -0.144440   \n",
       "max     12.750763   12.659252   14.438943   15.667485    16.804925   \n",
       "\n",
       "                5           6           7            8  \n",
       "count 6754.000000 6089.000000 4360.000000 11165.000000  \n",
       "mean    -0.000000   -0.000000    0.000000    -0.000000  \n",
       "std      1.000074    1.000082    1.000115     1.000045  \n",
       "min     -0.613296   -0.685929   -0.505216    -0.570036  \n",
       "25%     -0.564333   -0.616832   -0.450178    -0.503773  \n",
       "50%     -0.375336   -0.405903   -0.312021    -0.287355  \n",
       "75%      0.123965    0.146875    0.008099     0.141428  \n",
       "max      8.544755    6.537281    9.349971    23.495122  "
      ]
     },
     "execution_count": 15,
     "metadata": {},
     "output_type": "execute_result"
    }
   ],
   "source": [
    "# display Z-Score descriptive statistics to determine average, max, min, lower and upper quartile of Z-scores\n",
    "z_scores.describe()"
   ]
  },
  {
   "cell_type": "code",
   "execution_count": 16,
   "metadata": {},
   "outputs": [
    {
     "data": {
      "text/plain": [
       "0    106\n",
       "1    104\n",
       "2     53\n",
       "3    112\n",
       "4    161\n",
       "5    152\n",
       "6    128\n",
       "7    112\n",
       "8    141\n",
       "dtype: int64"
      ]
     },
     "execution_count": 16,
     "metadata": {},
     "output_type": "execute_result"
    }
   ],
   "source": [
    "z_scores[z_scores > np.abs(3.0)].count()"
   ]
  },
  {
   "cell_type": "markdown",
   "metadata": {},
   "source": [
    "As there are a large number of high z scores (greater than 3) due to different countries vaccination capabilities at different stages of their role outs, no outliers will be removed as this is valuable data and would lose a large number of data records."
   ]
  },
  {
   "cell_type": "markdown",
   "metadata": {},
   "source": [
    "#### Duplicate Rows\n",
    "Duplicate rows were determined in order to remove these so as not to provide misleading analysis"
   ]
  },
  {
   "cell_type": "code",
   "execution_count": 17,
   "metadata": {},
   "outputs": [
    {
     "data": {
      "text/plain": [
       "0"
      ]
     },
     "execution_count": 17,
     "metadata": {},
     "output_type": "execute_result"
    }
   ],
   "source": [
    "# test for duplicate rows\n",
    "vaccination.duplicated().sum()"
   ]
  },
  {
   "cell_type": "markdown",
   "metadata": {},
   "source": [
    "No duplicate rows found"
   ]
  },
  {
   "cell_type": "markdown",
   "metadata": {},
   "source": [
    "#### Feature Selection\n",
    "Filter stratergy was used to remove columns with low information gain and duplication that would not be neccisary for any of our analysis"
   ]
  },
  {
   "cell_type": "code",
   "execution_count": 18,
   "metadata": {},
   "outputs": [],
   "source": [
    "# drop source name, source website, raw daily vaccinations and ISO codes from dataframe to leave a clean and smaller dataset\n",
    "vaccination = vaccination.drop(columns=['source_name', 'source_website', 'iso_code', 'daily_vaccinations_raw'])"
   ]
  },
  {
   "cell_type": "markdown",
   "metadata": {},
   "source": [
    " "
   ]
  },
  {
   "cell_type": "markdown",
   "metadata": {},
   "source": [
    "\n",
    "\n",
    "\n"
   ]
  },
  {
   "cell_type": "markdown",
   "metadata": {},
   "source": [
    "## Exploratory Data Analysis\n",
    "Exploring the data in different ways. First some correlations were identified then many experiments were performed but only select few have been included so as not to clog code file. The following questions were explored here: \n",
    "\n",
    "1. Which country has vaccinated the most people and what vaccine have they used?\n",
    "2. Which country has fully vaccinated the most people?\n",
    "3. The most vaccines administered in a single day, and by which country?\n",
    "4. Which country has adminisered at least one dose to the largest percentage of their population?\n",
    "5. What vaccines are used in which countries?\n",
    "6. Which vaccines is the most used around the globe?\n",
    "\n",
    "Some further exploring was done to find interesting patterns by looking at various top and bottom 10 countries in different categories such as total vaccinations and largest percentage of population vaccinated.\n",
    "\n",
    "Finally, a line graph was plotted to show the variance in vaccination rates of some different countries."
   ]
  },
  {
   "cell_type": "markdown",
   "metadata": {},
   "source": [
    "#### Pearson Correlation\n",
    "Pearson Correlation was used to determine correlation between different columns"
   ]
  },
  {
   "cell_type": "code",
   "execution_count": 19,
   "metadata": {},
   "outputs": [
    {
     "data": {
      "image/png": "[encoded data removed]",
      "text/plain": [
       "<Figure size 432x288 with 2 Axes>"
      ]
     },
     "metadata": {
      "needs_background": "light"
     },
     "output_type": "display_data"
    }
   ],
   "source": [
    "# determine pearson correlation and display as heat map\n",
    "corr = vaccination.corr(method='pearson')\n",
    "\n",
    "ax = sns.heatmap(\n",
    "    corr, \n",
    "    vmin=-1, vmax=1, center=0,\n",
    "    cmap=sns.diverging_palette(20, 220, n=200),\n",
    "    square=True\n",
    ")\n",
    "ax.set_xticklabels(\n",
    "    ax.get_xticklabels(),\n",
    "    rotation=45,\n",
    "    horizontalalignment='right'\n",
    ");\n",
    "\n",
    "# source from https://towardsdatascience.com/better-heatmaps-and-correlation-matrix-plots-in-python-41445d0f2bec"
   ]
  },
  {
   "cell_type": "markdown",
   "metadata": {},
   "source": [
    "Descriptive statistics were able to be used to determine some interesting information such as country who has administered the most vaccines, the highest number of fully vaccinated people, the most vaccines administered on a single day, the country that has administered at least one dose to the largest percentage of their population and the most used vaccine around the world."
   ]
  },
  {
   "cell_type": "markdown",
   "metadata": {},
   "source": [
    "#### Most Vaccines Administers"
   ]
  },
  {
   "cell_type": "code",
   "execution_count": 20,
   "metadata": {},
   "outputs": [],
   "source": [
    "# determine the index that contains the highest total vaccination value\n",
    "most_vacs = vaccination['total_vaccinations'].idxmax()"
   ]
  },
  {
   "cell_type": "code",
   "execution_count": 21,
   "metadata": {},
   "outputs": [],
   "source": [
    "# determine the country, date and number of people vaccinated based on the highest total vaccination\n",
    "country_most, date_recorded, total_vaccinations_most = vaccination.loc[most_vacs][['country', 'date', 'total_vaccinations']]"
   ]
  },
  {
   "cell_type": "code",
   "execution_count": 22,
   "metadata": {},
   "outputs": [],
   "source": [
    "# determine all the vaccines that country has used\n",
    "vaccines_used = vaccination.loc[vaccination['country'] == country_most, 'vaccines']"
   ]
  },
  {
   "cell_type": "code",
   "execution_count": 23,
   "metadata": {},
   "outputs": [
    {
     "name": "stdout",
     "output_type": "stream",
     "text": [
      "United States has administer the most vaccinations as of 12 Apr 2021 with a total of 189692045 using ['Johnson&Johnson, Moderna, Pfizer/BioNTech'] vaccines.\n"
     ]
    }
   ],
   "source": [
    "print(country_most, 'has administer the most vaccinations as of', date_recorded.strftime(\"%d %b %Y\"), 'with a total of', \n",
    "      int(total_vaccinations_most), 'using', vaccines_used.unique(), 'vaccines.')"
   ]
  },
  {
   "cell_type": "markdown",
   "metadata": {},
   "source": [
    "#### Fully Vaccinated the Most People"
   ]
  },
  {
   "cell_type": "code",
   "execution_count": 24,
   "metadata": {},
   "outputs": [],
   "source": [
    "# determine the index that contains the highest total vaccination value and display\n",
    "most_full_vacs = vaccination['people_fully_vaccinated'].idxmax()"
   ]
  },
  {
   "cell_type": "code",
   "execution_count": 25,
   "metadata": {},
   "outputs": [
    {
     "name": "stdout",
     "output_type": "stream",
     "text": [
      "United States has the most fully vaccinated people as of 12 Apr 2021 with a total of 74066085\n"
     ]
    }
   ],
   "source": [
    "# show the country, date and number of people vaccinated based on the highest total vaccination\n",
    "country_fully, date_fully, people_full_vacc = vaccination.loc[most_full_vacs][['country', 'date', 'people_fully_vaccinated']]\n",
    "print(country_fully, 'has the most fully vaccinated people as of', date_fully.strftime(\"%d %b %Y\"), 'with a total of', \n",
    "      int(people_full_vacc))"
   ]
  },
  {
   "cell_type": "markdown",
   "metadata": {},
   "source": [
    "#### Most Vaccines Administered in SIngle Day"
   ]
  },
  {
   "cell_type": "code",
   "execution_count": 26,
   "metadata": {},
   "outputs": [
    {
     "data": {
      "text/plain": [
       "2211"
      ]
     },
     "execution_count": 26,
     "metadata": {},
     "output_type": "execute_result"
    }
   ],
   "source": [
    "most_vaccines_daily = vaccination['daily_vaccinations'].idxmax()\n",
    "most_vaccines_daily"
   ]
  },
  {
   "cell_type": "code",
   "execution_count": 27,
   "metadata": {},
   "outputs": [],
   "source": [
    "country_most_day, date_recorded_day, most_vaccinations_admin_daily = vaccination.loc[most_vaccines_daily][['country', 'date', 'daily_vaccinations']]"
   ]
  },
  {
   "cell_type": "code",
   "execution_count": 28,
   "metadata": {},
   "outputs": [
    {
     "name": "stdout",
     "output_type": "stream",
     "text": [
      "China has administered the most vaccinations on a single day on 02 Apr 2021 with a total of 5190143\n"
     ]
    }
   ],
   "source": [
    "print(country_most_day, 'has administered the most vaccinations on a single day on', date_recorded_day.strftime(\"%d %b %Y\"), \n",
    "      'with a total of', int(most_vaccinations_admin_daily))"
   ]
  },
  {
   "cell_type": "markdown",
   "metadata": {},
   "source": [
    "#### Country That Has Administered at least One Dose to the Largest Percentage of Their Population"
   ]
  },
  {
   "cell_type": "code",
   "execution_count": 29,
   "metadata": {},
   "outputs": [
    {
     "data": {
      "text/plain": [
       "4017"
      ]
     },
     "execution_count": 29,
     "metadata": {},
     "output_type": "execute_result"
    }
   ],
   "source": [
    "most_one_dose = vaccination['people_vaccinated_per_hundred'].idxmax()\n",
    "most_one_dose"
   ]
  },
  {
   "cell_type": "code",
   "execution_count": 30,
   "metadata": {},
   "outputs": [],
   "source": [
    "country_most_one_dose, date_recorded_day, most_admin_one_dose = vaccination.loc[most_one_dose][['country', 'date', 'people_vaccinated_per_hundred']]"
   ]
  },
  {
   "cell_type": "code",
   "execution_count": 31,
   "metadata": {},
   "outputs": [
    {
     "name": "stdout",
     "output_type": "stream",
     "text": [
      "Gibraltar has administered largest percentange of their population atleast one dose by 09 Apr 2021 with a total of 99 %\n"
     ]
    }
   ],
   "source": [
    "print(country_most_one_dose, 'has administered largest percentange of their population atleast one dose by', \n",
    "      date_recorded_day.strftime(\"%d %b %Y\"), 'with a total of', int(most_admin_one_dose), '%')"
   ]
  },
  {
   "cell_type": "markdown",
   "metadata": {},
   "source": [
    "#### Most used vaccine"
   ]
  },
  {
   "cell_type": "code",
   "execution_count": 32,
   "metadata": {},
   "outputs": [
    {
     "data": {
      "text/plain": [
       "Index(['country', 'vaccines'], dtype='object')"
      ]
     },
     "execution_count": 32,
     "metadata": {},
     "output_type": "execute_result"
    }
   ],
   "source": [
    "# Most used vaccine\n",
    "# taking just the country and vaccine\n",
    "most_used_vac = vaccination[['country','vaccines']]\n",
    "\n",
    "# check worked correctly\n",
    "most_used_vac.columns"
   ]
  },
  {
   "cell_type": "code",
   "execution_count": 33,
   "metadata": {
    "scrolled": true
   },
   "outputs": [
    {
     "data": {
      "text/html": [
       "<div>\n",
       "<style scoped>\n",
       "    .dataframe tbody tr th:only-of-type {\n",
       "        vertical-align: middle;\n",
       "    }\n",
       "\n",
       "    .dataframe tbody tr th {\n",
       "        vertical-align: top;\n",
       "    }\n",
       "\n",
       "    .dataframe thead th {\n",
       "        text-align: right;\n",
       "    }\n",
       "</style>\n",
       "<table border=\"1\" class=\"dataframe\">\n",
       "  <thead>\n",
       "    <tr style=\"text-align: right;\">\n",
       "      <th></th>\n",
       "      <th>country</th>\n",
       "      <th>0</th>\n",
       "      <th>1</th>\n",
       "      <th>2</th>\n",
       "      <th>3</th>\n",
       "      <th>4</th>\n",
       "    </tr>\n",
       "  </thead>\n",
       "  <tbody>\n",
       "    <tr>\n",
       "      <th>0</th>\n",
       "      <td>Afghanistan</td>\n",
       "      <td>Oxford/AstraZeneca</td>\n",
       "      <td>None</td>\n",
       "      <td>None</td>\n",
       "      <td>None</td>\n",
       "      <td>None</td>\n",
       "    </tr>\n",
       "    <tr>\n",
       "      <th>1</th>\n",
       "      <td>Afghanistan</td>\n",
       "      <td>Oxford/AstraZeneca</td>\n",
       "      <td>None</td>\n",
       "      <td>None</td>\n",
       "      <td>None</td>\n",
       "      <td>None</td>\n",
       "    </tr>\n",
       "    <tr>\n",
       "      <th>2</th>\n",
       "      <td>Afghanistan</td>\n",
       "      <td>Oxford/AstraZeneca</td>\n",
       "      <td>None</td>\n",
       "      <td>None</td>\n",
       "      <td>None</td>\n",
       "      <td>None</td>\n",
       "    </tr>\n",
       "    <tr>\n",
       "      <th>3</th>\n",
       "      <td>Afghanistan</td>\n",
       "      <td>Oxford/AstraZeneca</td>\n",
       "      <td>None</td>\n",
       "      <td>None</td>\n",
       "      <td>None</td>\n",
       "      <td>None</td>\n",
       "    </tr>\n",
       "    <tr>\n",
       "      <th>4</th>\n",
       "      <td>Afghanistan</td>\n",
       "      <td>Oxford/AstraZeneca</td>\n",
       "      <td>None</td>\n",
       "      <td>None</td>\n",
       "      <td>None</td>\n",
       "      <td>None</td>\n",
       "    </tr>\n",
       "    <tr>\n",
       "      <th>...</th>\n",
       "      <td>...</td>\n",
       "      <td>...</td>\n",
       "      <td>...</td>\n",
       "      <td>...</td>\n",
       "      <td>...</td>\n",
       "      <td>...</td>\n",
       "    </tr>\n",
       "    <tr>\n",
       "      <th>11359</th>\n",
       "      <td>Zimbabwe</td>\n",
       "      <td>Sinopharm/Beijing</td>\n",
       "      <td>None</td>\n",
       "      <td>None</td>\n",
       "      <td>None</td>\n",
       "      <td>None</td>\n",
       "    </tr>\n",
       "    <tr>\n",
       "      <th>11360</th>\n",
       "      <td>Zimbabwe</td>\n",
       "      <td>Sinopharm/Beijing</td>\n",
       "      <td>None</td>\n",
       "      <td>None</td>\n",
       "      <td>None</td>\n",
       "      <td>None</td>\n",
       "    </tr>\n",
       "    <tr>\n",
       "      <th>11361</th>\n",
       "      <td>Zimbabwe</td>\n",
       "      <td>Sinopharm/Beijing</td>\n",
       "      <td>None</td>\n",
       "      <td>None</td>\n",
       "      <td>None</td>\n",
       "      <td>None</td>\n",
       "    </tr>\n",
       "    <tr>\n",
       "      <th>11362</th>\n",
       "      <td>Zimbabwe</td>\n",
       "      <td>Sinopharm/Beijing</td>\n",
       "      <td>None</td>\n",
       "      <td>None</td>\n",
       "      <td>None</td>\n",
       "      <td>None</td>\n",
       "    </tr>\n",
       "    <tr>\n",
       "      <th>11363</th>\n",
       "      <td>Zimbabwe</td>\n",
       "      <td>Sinopharm/Beijing</td>\n",
       "      <td>None</td>\n",
       "      <td>None</td>\n",
       "      <td>None</td>\n",
       "      <td>None</td>\n",
       "    </tr>\n",
       "  </tbody>\n",
       "</table>\n",
       "<p>11362 rows × 6 columns</p>\n",
       "</div>"
      ],
      "text/plain": [
       "           country                   0     1     2     3     4\n",
       "0      Afghanistan  Oxford/AstraZeneca  None  None  None  None\n",
       "1      Afghanistan  Oxford/AstraZeneca  None  None  None  None\n",
       "2      Afghanistan  Oxford/AstraZeneca  None  None  None  None\n",
       "3      Afghanistan  Oxford/AstraZeneca  None  None  None  None\n",
       "4      Afghanistan  Oxford/AstraZeneca  None  None  None  None\n",
       "...            ...                 ...   ...   ...   ...   ...\n",
       "11359     Zimbabwe   Sinopharm/Beijing  None  None  None  None\n",
       "11360     Zimbabwe   Sinopharm/Beijing  None  None  None  None\n",
       "11361     Zimbabwe   Sinopharm/Beijing  None  None  None  None\n",
       "11362     Zimbabwe   Sinopharm/Beijing  None  None  None  None\n",
       "11363     Zimbabwe   Sinopharm/Beijing  None  None  None  None\n",
       "\n",
       "[11362 rows x 6 columns]"
      ]
     },
     "execution_count": 33,
     "metadata": {},
     "output_type": "execute_result"
    }
   ],
   "source": [
    "# concat multiple vaccines contained by spliting at commas\n",
    "most_used_vac = pd.concat([most_used_vac['country'], most_used_vac['vaccines'].str.split(', ', expand=True)], axis=1)\n",
    "most_used_vac"
   ]
  },
  {
   "cell_type": "code",
   "execution_count": 34,
   "metadata": {},
   "outputs": [
    {
     "data": {
      "text/html": [
       "<div>\n",
       "<style scoped>\n",
       "    .dataframe tbody tr th:only-of-type {\n",
       "        vertical-align: middle;\n",
       "    }\n",
       "\n",
       "    .dataframe tbody tr th {\n",
       "        vertical-align: top;\n",
       "    }\n",
       "\n",
       "    .dataframe thead th {\n",
       "        text-align: right;\n",
       "    }\n",
       "</style>\n",
       "<table border=\"1\" class=\"dataframe\">\n",
       "  <thead>\n",
       "    <tr style=\"text-align: right;\">\n",
       "      <th></th>\n",
       "      <th>country</th>\n",
       "      <th>variable</th>\n",
       "      <th>value</th>\n",
       "    </tr>\n",
       "  </thead>\n",
       "  <tbody>\n",
       "    <tr>\n",
       "      <th>0</th>\n",
       "      <td>Afghanistan</td>\n",
       "      <td>0</td>\n",
       "      <td>Oxford/AstraZeneca</td>\n",
       "    </tr>\n",
       "    <tr>\n",
       "      <th>1</th>\n",
       "      <td>Afghanistan</td>\n",
       "      <td>0</td>\n",
       "      <td>Oxford/AstraZeneca</td>\n",
       "    </tr>\n",
       "    <tr>\n",
       "      <th>2</th>\n",
       "      <td>Afghanistan</td>\n",
       "      <td>0</td>\n",
       "      <td>Oxford/AstraZeneca</td>\n",
       "    </tr>\n",
       "    <tr>\n",
       "      <th>3</th>\n",
       "      <td>Afghanistan</td>\n",
       "      <td>0</td>\n",
       "      <td>Oxford/AstraZeneca</td>\n",
       "    </tr>\n",
       "    <tr>\n",
       "      <th>4</th>\n",
       "      <td>Afghanistan</td>\n",
       "      <td>0</td>\n",
       "      <td>Oxford/AstraZeneca</td>\n",
       "    </tr>\n",
       "    <tr>\n",
       "      <th>...</th>\n",
       "      <td>...</td>\n",
       "      <td>...</td>\n",
       "      <td>...</td>\n",
       "    </tr>\n",
       "    <tr>\n",
       "      <th>56805</th>\n",
       "      <td>Zimbabwe</td>\n",
       "      <td>4</td>\n",
       "      <td>None</td>\n",
       "    </tr>\n",
       "    <tr>\n",
       "      <th>56806</th>\n",
       "      <td>Zimbabwe</td>\n",
       "      <td>4</td>\n",
       "      <td>None</td>\n",
       "    </tr>\n",
       "    <tr>\n",
       "      <th>56807</th>\n",
       "      <td>Zimbabwe</td>\n",
       "      <td>4</td>\n",
       "      <td>None</td>\n",
       "    </tr>\n",
       "    <tr>\n",
       "      <th>56808</th>\n",
       "      <td>Zimbabwe</td>\n",
       "      <td>4</td>\n",
       "      <td>None</td>\n",
       "    </tr>\n",
       "    <tr>\n",
       "      <th>56809</th>\n",
       "      <td>Zimbabwe</td>\n",
       "      <td>4</td>\n",
       "      <td>None</td>\n",
       "    </tr>\n",
       "  </tbody>\n",
       "</table>\n",
       "<p>56810 rows × 3 columns</p>\n",
       "</div>"
      ],
      "text/plain": [
       "           country variable               value\n",
       "0      Afghanistan        0  Oxford/AstraZeneca\n",
       "1      Afghanistan        0  Oxford/AstraZeneca\n",
       "2      Afghanistan        0  Oxford/AstraZeneca\n",
       "3      Afghanistan        0  Oxford/AstraZeneca\n",
       "4      Afghanistan        0  Oxford/AstraZeneca\n",
       "...            ...      ...                 ...\n",
       "56805     Zimbabwe        4                None\n",
       "56806     Zimbabwe        4                None\n",
       "56807     Zimbabwe        4                None\n",
       "56808     Zimbabwe        4                None\n",
       "56809     Zimbabwe        4                None\n",
       "\n",
       "[56810 rows x 3 columns]"
      ]
     },
     "execution_count": 34,
     "metadata": {},
     "output_type": "execute_result"
    }
   ],
   "source": [
    "# melt the different columns into a single one with country\n",
    "most_used_vac = most_used_vac.melt(id_vars=['country'])\n",
    "most_used_vac"
   ]
  },
  {
   "cell_type": "code",
   "execution_count": 35,
   "metadata": {},
   "outputs": [
    {
     "data": {
      "text/plain": [
       "country        0\n",
       "value      33397\n",
       "dtype: int64"
      ]
     },
     "execution_count": 35,
     "metadata": {},
     "output_type": "execute_result"
    }
   ],
   "source": [
    "# remove variable column\n",
    "most_used_vac.drop('variable', axis=1, inplace=True)\n",
    "\n",
    "# check number of null values in dataframe\n",
    "most_used_vac.isnull().sum()"
   ]
  },
  {
   "cell_type": "code",
   "execution_count": 36,
   "metadata": {},
   "outputs": [
    {
     "data": {
      "text/html": [
       "<div>\n",
       "<style scoped>\n",
       "    .dataframe tbody tr th:only-of-type {\n",
       "        vertical-align: middle;\n",
       "    }\n",
       "\n",
       "    .dataframe tbody tr th {\n",
       "        vertical-align: top;\n",
       "    }\n",
       "\n",
       "    .dataframe thead th {\n",
       "        text-align: right;\n",
       "    }\n",
       "</style>\n",
       "<table border=\"1\" class=\"dataframe\">\n",
       "  <thead>\n",
       "    <tr style=\"text-align: right;\">\n",
       "      <th></th>\n",
       "      <th>country</th>\n",
       "      <th>vaccines</th>\n",
       "    </tr>\n",
       "  </thead>\n",
       "  <tbody>\n",
       "    <tr>\n",
       "      <th>0</th>\n",
       "      <td>Afghanistan</td>\n",
       "      <td>Oxford/AstraZeneca</td>\n",
       "    </tr>\n",
       "    <tr>\n",
       "      <th>1</th>\n",
       "      <td>Afghanistan</td>\n",
       "      <td>Oxford/AstraZeneca</td>\n",
       "    </tr>\n",
       "    <tr>\n",
       "      <th>2</th>\n",
       "      <td>Afghanistan</td>\n",
       "      <td>Oxford/AstraZeneca</td>\n",
       "    </tr>\n",
       "    <tr>\n",
       "      <th>3</th>\n",
       "      <td>Afghanistan</td>\n",
       "      <td>Oxford/AstraZeneca</td>\n",
       "    </tr>\n",
       "    <tr>\n",
       "      <th>4</th>\n",
       "      <td>Afghanistan</td>\n",
       "      <td>Oxford/AstraZeneca</td>\n",
       "    </tr>\n",
       "  </tbody>\n",
       "</table>\n",
       "</div>"
      ],
      "text/plain": [
       "       country            vaccines\n",
       "0  Afghanistan  Oxford/AstraZeneca\n",
       "1  Afghanistan  Oxford/AstraZeneca\n",
       "2  Afghanistan  Oxford/AstraZeneca\n",
       "3  Afghanistan  Oxford/AstraZeneca\n",
       "4  Afghanistan  Oxford/AstraZeneca"
      ]
     },
     "execution_count": 36,
     "metadata": {},
     "output_type": "execute_result"
    }
   ],
   "source": [
    "# show columns and head\n",
    "most_used_vac.columns = ['country','vaccines']\n",
    "most_used_vac.head()"
   ]
  },
  {
   "cell_type": "code",
   "execution_count": 37,
   "metadata": {},
   "outputs": [
    {
     "name": "stdout",
     "output_type": "stream",
     "text": [
      "11\n"
     ]
    },
    {
     "data": {
      "text/plain": [
       "array(['Oxford/AstraZeneca', 'Pfizer/BioNTech', 'Sputnik V', 'Moderna',\n",
       "       'Sinovac', 'Sinopharm/Beijing', 'Covaxin', 'EpiVacCorona',\n",
       "       'Johnson&Johnson', None, 'Sinopharm/Wuhan'], dtype=object)"
      ]
     },
     "execution_count": 37,
     "metadata": {},
     "output_type": "execute_result"
    }
   ],
   "source": [
    "# display the number of unique vaccine entries and what they are\n",
    "print(len(most_used_vac.vaccines.unique()))\n",
    "most_used_vac.vaccines.unique()"
   ]
  },
  {
   "cell_type": "code",
   "execution_count": 38,
   "metadata": {},
   "outputs": [
    {
     "name": "stdout",
     "output_type": "stream",
     "text": [
      "<class 'pandas.core.frame.DataFrame'>\n",
      "RangeIndex: 56810 entries, 0 to 56809\n",
      "Data columns (total 2 columns):\n",
      " #   Column    Non-Null Count  Dtype \n",
      "---  ------    --------------  ----- \n",
      " 0   country   56810 non-null  object\n",
      " 1   vaccines  23413 non-null  object\n",
      "dtypes: object(2)\n",
      "memory usage: 887.8+ KB\n"
     ]
    }
   ],
   "source": [
    "# get information from data frame\n",
    "most_used_vac.info()"
   ]
  },
  {
   "cell_type": "code",
   "execution_count": 39,
   "metadata": {},
   "outputs": [
    {
     "data": {
      "text/plain": [
       "country     0\n",
       "vaccines    0\n",
       "dtype: int64"
      ]
     },
     "execution_count": 39,
     "metadata": {},
     "output_type": "execute_result"
    }
   ],
   "source": [
    "# drop all rows containing null values as any country that only uses one\n",
    "# vaccine will have many NA values\n",
    "most_used_vac = most_used_vac.dropna(axis=0)\n",
    "\n",
    "# check all null values been removed\n",
    "most_used_vac.isnull().sum()"
   ]
  },
  {
   "cell_type": "code",
   "execution_count": 40,
   "metadata": {},
   "outputs": [
    {
     "name": "stdout",
     "output_type": "stream",
     "text": [
      "10\n"
     ]
    }
   ],
   "source": [
    "# check unique vaccines after none has been removed\n",
    "print(len(most_used_vac.vaccines.unique()))"
   ]
  },
  {
   "cell_type": "code",
   "execution_count": 41,
   "metadata": {},
   "outputs": [
    {
     "data": {
      "text/html": [
       "<div>\n",
       "<style scoped>\n",
       "    .dataframe tbody tr th:only-of-type {\n",
       "        vertical-align: middle;\n",
       "    }\n",
       "\n",
       "    .dataframe tbody tr th {\n",
       "        vertical-align: top;\n",
       "    }\n",
       "\n",
       "    .dataframe thead th {\n",
       "        text-align: right;\n",
       "    }\n",
       "</style>\n",
       "<table border=\"1\" class=\"dataframe\">\n",
       "  <thead>\n",
       "    <tr style=\"text-align: right;\">\n",
       "      <th></th>\n",
       "      <th>unique</th>\n",
       "    </tr>\n",
       "    <tr>\n",
       "      <th>vaccines</th>\n",
       "      <th></th>\n",
       "    </tr>\n",
       "  </thead>\n",
       "  <tbody>\n",
       "    <tr>\n",
       "      <th>Covaxin</th>\n",
       "      <td>[India]</td>\n",
       "    </tr>\n",
       "    <tr>\n",
       "      <th>EpiVacCorona</th>\n",
       "      <td>[Russia]</td>\n",
       "    </tr>\n",
       "    <tr>\n",
       "      <th>Johnson&amp;Johnson</th>\n",
       "      <td>[South Africa, United States]</td>\n",
       "    </tr>\n",
       "    <tr>\n",
       "      <th>Moderna</th>\n",
       "      <td>[Austria, Belgium, Bulgaria, Canada, Croatia, ...</td>\n",
       "    </tr>\n",
       "    <tr>\n",
       "      <th>Oxford/AstraZeneca</th>\n",
       "      <td>[Afghanistan, Angola, Anguilla, Antigua and Ba...</td>\n",
       "    </tr>\n",
       "    <tr>\n",
       "      <th>Pfizer/BioNTech</th>\n",
       "      <td>[Albania, Andorra, Bermuda, Cayman Islands, Ch...</td>\n",
       "    </tr>\n",
       "    <tr>\n",
       "      <th>Sinopharm/Beijing</th>\n",
       "      <td>[China, Equatorial Guinea, Gabon, Kyrgyzstan, ...</td>\n",
       "    </tr>\n",
       "    <tr>\n",
       "      <th>Sinopharm/Wuhan</th>\n",
       "      <td>[China, United Arab Emirates]</td>\n",
       "    </tr>\n",
       "    <tr>\n",
       "      <th>Sinovac</th>\n",
       "      <td>[Azerbaijan, Albania, Brazil, Chile, Colombia,...</td>\n",
       "    </tr>\n",
       "    <tr>\n",
       "      <th>Sputnik V</th>\n",
       "      <td>[Algeria, Armenia, Belarus, Guinea, Iran, Kaza...</td>\n",
       "    </tr>\n",
       "  </tbody>\n",
       "</table>\n",
       "</div>"
      ],
      "text/plain": [
       "                                                               unique\n",
       "vaccines                                                             \n",
       "Covaxin                                                       [India]\n",
       "EpiVacCorona                                                 [Russia]\n",
       "Johnson&Johnson                         [South Africa, United States]\n",
       "Moderna             [Austria, Belgium, Bulgaria, Canada, Croatia, ...\n",
       "Oxford/AstraZeneca  [Afghanistan, Angola, Anguilla, Antigua and Ba...\n",
       "Pfizer/BioNTech     [Albania, Andorra, Bermuda, Cayman Islands, Ch...\n",
       "Sinopharm/Beijing   [China, Equatorial Guinea, Gabon, Kyrgyzstan, ...\n",
       "Sinopharm/Wuhan                         [China, United Arab Emirates]\n",
       "Sinovac             [Azerbaijan, Albania, Brazil, Chile, Colombia,...\n",
       "Sputnik V           [Algeria, Armenia, Belarus, Guinea, Iran, Kaza..."
      ]
     },
     "execution_count": 41,
     "metadata": {},
     "output_type": "execute_result"
    }
   ],
   "source": [
    "# create a summary grouping countries by unique vaccines\n",
    "summary = most_used_vac.groupby('vaccines')['country'].agg(['unique'])\n",
    "# display summary\n",
    "summary"
   ]
  },
  {
   "cell_type": "code",
   "execution_count": 42,
   "metadata": {},
   "outputs": [
    {
     "data": {
      "text/html": [
       "<div>\n",
       "<style scoped>\n",
       "    .dataframe tbody tr th:only-of-type {\n",
       "        vertical-align: middle;\n",
       "    }\n",
       "\n",
       "    .dataframe tbody tr th {\n",
       "        vertical-align: top;\n",
       "    }\n",
       "\n",
       "    .dataframe thead th {\n",
       "        text-align: right;\n",
       "    }\n",
       "</style>\n",
       "<table border=\"1\" class=\"dataframe\">\n",
       "  <thead>\n",
       "    <tr style=\"text-align: right;\">\n",
       "      <th></th>\n",
       "      <th>unique</th>\n",
       "      <th>nCountry</th>\n",
       "    </tr>\n",
       "    <tr>\n",
       "      <th>vaccines</th>\n",
       "      <th></th>\n",
       "      <th></th>\n",
       "    </tr>\n",
       "  </thead>\n",
       "  <tbody>\n",
       "    <tr>\n",
       "      <th>Covaxin</th>\n",
       "      <td>[India]</td>\n",
       "      <td>1</td>\n",
       "    </tr>\n",
       "    <tr>\n",
       "      <th>EpiVacCorona</th>\n",
       "      <td>[Russia]</td>\n",
       "      <td>1</td>\n",
       "    </tr>\n",
       "    <tr>\n",
       "      <th>Johnson&amp;Johnson</th>\n",
       "      <td>[South Africa, United States]</td>\n",
       "      <td>2</td>\n",
       "    </tr>\n",
       "    <tr>\n",
       "      <th>Moderna</th>\n",
       "      <td>[Austria, Belgium, Bulgaria, Canada, Croatia, ...</td>\n",
       "      <td>36</td>\n",
       "    </tr>\n",
       "    <tr>\n",
       "      <th>Oxford/AstraZeneca</th>\n",
       "      <td>[Afghanistan, Angola, Anguilla, Antigua and Ba...</td>\n",
       "      <td>118</td>\n",
       "    </tr>\n",
       "    <tr>\n",
       "      <th>Pfizer/BioNTech</th>\n",
       "      <td>[Albania, Andorra, Bermuda, Cayman Islands, Ch...</td>\n",
       "      <td>85</td>\n",
       "    </tr>\n",
       "    <tr>\n",
       "      <th>Sinopharm/Beijing</th>\n",
       "      <td>[China, Equatorial Guinea, Gabon, Kyrgyzstan, ...</td>\n",
       "      <td>27</td>\n",
       "    </tr>\n",
       "    <tr>\n",
       "      <th>Sinopharm/Wuhan</th>\n",
       "      <td>[China, United Arab Emirates]</td>\n",
       "      <td>2</td>\n",
       "    </tr>\n",
       "    <tr>\n",
       "      <th>Sinovac</th>\n",
       "      <td>[Azerbaijan, Albania, Brazil, Chile, Colombia,...</td>\n",
       "      <td>19</td>\n",
       "    </tr>\n",
       "    <tr>\n",
       "      <th>Sputnik V</th>\n",
       "      <td>[Algeria, Armenia, Belarus, Guinea, Iran, Kaza...</td>\n",
       "      <td>24</td>\n",
       "    </tr>\n",
       "  </tbody>\n",
       "</table>\n",
       "</div>"
      ],
      "text/plain": [
       "                                                               unique  \\\n",
       "vaccines                                                                \n",
       "Covaxin                                                       [India]   \n",
       "EpiVacCorona                                                 [Russia]   \n",
       "Johnson&Johnson                         [South Africa, United States]   \n",
       "Moderna             [Austria, Belgium, Bulgaria, Canada, Croatia, ...   \n",
       "Oxford/AstraZeneca  [Afghanistan, Angola, Anguilla, Antigua and Ba...   \n",
       "Pfizer/BioNTech     [Albania, Andorra, Bermuda, Cayman Islands, Ch...   \n",
       "Sinopharm/Beijing   [China, Equatorial Guinea, Gabon, Kyrgyzstan, ...   \n",
       "Sinopharm/Wuhan                         [China, United Arab Emirates]   \n",
       "Sinovac             [Azerbaijan, Albania, Brazil, Chile, Colombia,...   \n",
       "Sputnik V           [Algeria, Armenia, Belarus, Guinea, Iran, Kaza...   \n",
       "\n",
       "                    nCountry  \n",
       "vaccines                      \n",
       "Covaxin                    1  \n",
       "EpiVacCorona               1  \n",
       "Johnson&Johnson            2  \n",
       "Moderna                   36  \n",
       "Oxford/AstraZeneca       118  \n",
       "Pfizer/BioNTech           85  \n",
       "Sinopharm/Beijing         27  \n",
       "Sinopharm/Wuhan            2  \n",
       "Sinovac                   19  \n",
       "Sputnik V                 24  "
      ]
     },
     "execution_count": 42,
     "metadata": {},
     "output_type": "execute_result"
    }
   ],
   "source": [
    "# add a number of countries column to data frame\n",
    "summary['nCountry'] = summary.unique.str.len()\n",
    "# display summary\n",
    "summary"
   ]
  },
  {
   "cell_type": "code",
   "execution_count": 43,
   "metadata": {},
   "outputs": [
    {
     "data": {
      "text/plain": [
       "315"
      ]
     },
     "execution_count": 43,
     "metadata": {},
     "output_type": "execute_result"
    }
   ],
   "source": [
    "# display number of countries identified\n",
    "summary.nCountry.sum()"
   ]
  },
  {
   "cell_type": "code",
   "execution_count": 44,
   "metadata": {},
   "outputs": [
    {
     "data": {
      "text/html": [
       "<div>\n",
       "<style scoped>\n",
       "    .dataframe tbody tr th:only-of-type {\n",
       "        vertical-align: middle;\n",
       "    }\n",
       "\n",
       "    .dataframe tbody tr th {\n",
       "        vertical-align: top;\n",
       "    }\n",
       "\n",
       "    .dataframe thead th {\n",
       "        text-align: right;\n",
       "    }\n",
       "</style>\n",
       "<table border=\"1\" class=\"dataframe\">\n",
       "  <thead>\n",
       "    <tr style=\"text-align: right;\">\n",
       "      <th></th>\n",
       "      <th>unique</th>\n",
       "      <th>nCountry</th>\n",
       "      <th>pCountry</th>\n",
       "    </tr>\n",
       "    <tr>\n",
       "      <th>vaccines</th>\n",
       "      <th></th>\n",
       "      <th></th>\n",
       "      <th></th>\n",
       "    </tr>\n",
       "  </thead>\n",
       "  <tbody>\n",
       "    <tr>\n",
       "      <th>Covaxin</th>\n",
       "      <td>[India]</td>\n",
       "      <td>1</td>\n",
       "      <td>0.317460</td>\n",
       "    </tr>\n",
       "    <tr>\n",
       "      <th>EpiVacCorona</th>\n",
       "      <td>[Russia]</td>\n",
       "      <td>1</td>\n",
       "      <td>0.317460</td>\n",
       "    </tr>\n",
       "    <tr>\n",
       "      <th>Johnson&amp;Johnson</th>\n",
       "      <td>[South Africa, United States]</td>\n",
       "      <td>2</td>\n",
       "      <td>0.634921</td>\n",
       "    </tr>\n",
       "    <tr>\n",
       "      <th>Moderna</th>\n",
       "      <td>[Austria, Belgium, Bulgaria, Canada, Croatia, ...</td>\n",
       "      <td>36</td>\n",
       "      <td>11.428571</td>\n",
       "    </tr>\n",
       "    <tr>\n",
       "      <th>Oxford/AstraZeneca</th>\n",
       "      <td>[Afghanistan, Angola, Anguilla, Antigua and Ba...</td>\n",
       "      <td>118</td>\n",
       "      <td>37.460317</td>\n",
       "    </tr>\n",
       "    <tr>\n",
       "      <th>Pfizer/BioNTech</th>\n",
       "      <td>[Albania, Andorra, Bermuda, Cayman Islands, Ch...</td>\n",
       "      <td>85</td>\n",
       "      <td>26.984127</td>\n",
       "    </tr>\n",
       "    <tr>\n",
       "      <th>Sinopharm/Beijing</th>\n",
       "      <td>[China, Equatorial Guinea, Gabon, Kyrgyzstan, ...</td>\n",
       "      <td>27</td>\n",
       "      <td>8.571429</td>\n",
       "    </tr>\n",
       "    <tr>\n",
       "      <th>Sinopharm/Wuhan</th>\n",
       "      <td>[China, United Arab Emirates]</td>\n",
       "      <td>2</td>\n",
       "      <td>0.634921</td>\n",
       "    </tr>\n",
       "    <tr>\n",
       "      <th>Sinovac</th>\n",
       "      <td>[Azerbaijan, Albania, Brazil, Chile, Colombia,...</td>\n",
       "      <td>19</td>\n",
       "      <td>6.031746</td>\n",
       "    </tr>\n",
       "    <tr>\n",
       "      <th>Sputnik V</th>\n",
       "      <td>[Algeria, Armenia, Belarus, Guinea, Iran, Kaza...</td>\n",
       "      <td>24</td>\n",
       "      <td>7.619048</td>\n",
       "    </tr>\n",
       "  </tbody>\n",
       "</table>\n",
       "</div>"
      ],
      "text/plain": [
       "                                                               unique  \\\n",
       "vaccines                                                                \n",
       "Covaxin                                                       [India]   \n",
       "EpiVacCorona                                                 [Russia]   \n",
       "Johnson&Johnson                         [South Africa, United States]   \n",
       "Moderna             [Austria, Belgium, Bulgaria, Canada, Croatia, ...   \n",
       "Oxford/AstraZeneca  [Afghanistan, Angola, Anguilla, Antigua and Ba...   \n",
       "Pfizer/BioNTech     [Albania, Andorra, Bermuda, Cayman Islands, Ch...   \n",
       "Sinopharm/Beijing   [China, Equatorial Guinea, Gabon, Kyrgyzstan, ...   \n",
       "Sinopharm/Wuhan                         [China, United Arab Emirates]   \n",
       "Sinovac             [Azerbaijan, Albania, Brazil, Chile, Colombia,...   \n",
       "Sputnik V           [Algeria, Armenia, Belarus, Guinea, Iran, Kaza...   \n",
       "\n",
       "                    nCountry  pCountry  \n",
       "vaccines                                \n",
       "Covaxin                    1  0.317460  \n",
       "EpiVacCorona               1  0.317460  \n",
       "Johnson&Johnson            2  0.634921  \n",
       "Moderna                   36 11.428571  \n",
       "Oxford/AstraZeneca       118 37.460317  \n",
       "Pfizer/BioNTech           85 26.984127  \n",
       "Sinopharm/Beijing         27  8.571429  \n",
       "Sinopharm/Wuhan            2  0.634921  \n",
       "Sinovac                   19  6.031746  \n",
       "Sputnik V                 24  7.619048  "
      ]
     },
     "execution_count": 44,
     "metadata": {},
     "output_type": "execute_result"
    }
   ],
   "source": [
    "# work out the percentage of countries that use each vaccine and add new column\n",
    "summary = summary.assign(pCountry = lambda x: ((x['nCountry'])/summary.nCountry.sum()) * 100)\n",
    "# display\n",
    "summary"
   ]
  },
  {
   "cell_type": "code",
   "execution_count": 45,
   "metadata": {},
   "outputs": [
    {
     "data": {
      "text/html": [
       "<div>\n",
       "<style scoped>\n",
       "    .dataframe tbody tr th:only-of-type {\n",
       "        vertical-align: middle;\n",
       "    }\n",
       "\n",
       "    .dataframe tbody tr th {\n",
       "        vertical-align: top;\n",
       "    }\n",
       "\n",
       "    .dataframe thead th {\n",
       "        text-align: right;\n",
       "    }\n",
       "</style>\n",
       "<table border=\"1\" class=\"dataframe\">\n",
       "  <thead>\n",
       "    <tr style=\"text-align: right;\">\n",
       "      <th></th>\n",
       "      <th>unique</th>\n",
       "      <th>nCountry</th>\n",
       "      <th>pCountry</th>\n",
       "    </tr>\n",
       "    <tr>\n",
       "      <th>vaccines</th>\n",
       "      <th></th>\n",
       "      <th></th>\n",
       "      <th></th>\n",
       "    </tr>\n",
       "  </thead>\n",
       "  <tbody>\n",
       "    <tr>\n",
       "      <th>Oxford/AstraZeneca</th>\n",
       "      <td>[Afghanistan, Angola, Anguilla, Antigua and Ba...</td>\n",
       "      <td>118</td>\n",
       "      <td>37.460317</td>\n",
       "    </tr>\n",
       "    <tr>\n",
       "      <th>Pfizer/BioNTech</th>\n",
       "      <td>[Albania, Andorra, Bermuda, Cayman Islands, Ch...</td>\n",
       "      <td>85</td>\n",
       "      <td>26.984127</td>\n",
       "    </tr>\n",
       "    <tr>\n",
       "      <th>Moderna</th>\n",
       "      <td>[Austria, Belgium, Bulgaria, Canada, Croatia, ...</td>\n",
       "      <td>36</td>\n",
       "      <td>11.428571</td>\n",
       "    </tr>\n",
       "    <tr>\n",
       "      <th>Sinopharm/Beijing</th>\n",
       "      <td>[China, Equatorial Guinea, Gabon, Kyrgyzstan, ...</td>\n",
       "      <td>27</td>\n",
       "      <td>8.571429</td>\n",
       "    </tr>\n",
       "    <tr>\n",
       "      <th>Sputnik V</th>\n",
       "      <td>[Algeria, Armenia, Belarus, Guinea, Iran, Kaza...</td>\n",
       "      <td>24</td>\n",
       "      <td>7.619048</td>\n",
       "    </tr>\n",
       "    <tr>\n",
       "      <th>Sinovac</th>\n",
       "      <td>[Azerbaijan, Albania, Brazil, Chile, Colombia,...</td>\n",
       "      <td>19</td>\n",
       "      <td>6.031746</td>\n",
       "    </tr>\n",
       "    <tr>\n",
       "      <th>Johnson&amp;Johnson</th>\n",
       "      <td>[South Africa, United States]</td>\n",
       "      <td>2</td>\n",
       "      <td>0.634921</td>\n",
       "    </tr>\n",
       "    <tr>\n",
       "      <th>Sinopharm/Wuhan</th>\n",
       "      <td>[China, United Arab Emirates]</td>\n",
       "      <td>2</td>\n",
       "      <td>0.634921</td>\n",
       "    </tr>\n",
       "    <tr>\n",
       "      <th>Covaxin</th>\n",
       "      <td>[India]</td>\n",
       "      <td>1</td>\n",
       "      <td>0.317460</td>\n",
       "    </tr>\n",
       "    <tr>\n",
       "      <th>EpiVacCorona</th>\n",
       "      <td>[Russia]</td>\n",
       "      <td>1</td>\n",
       "      <td>0.317460</td>\n",
       "    </tr>\n",
       "  </tbody>\n",
       "</table>\n",
       "</div>"
      ],
      "text/plain": [
       "                                                               unique  \\\n",
       "vaccines                                                                \n",
       "Oxford/AstraZeneca  [Afghanistan, Angola, Anguilla, Antigua and Ba...   \n",
       "Pfizer/BioNTech     [Albania, Andorra, Bermuda, Cayman Islands, Ch...   \n",
       "Moderna             [Austria, Belgium, Bulgaria, Canada, Croatia, ...   \n",
       "Sinopharm/Beijing   [China, Equatorial Guinea, Gabon, Kyrgyzstan, ...   \n",
       "Sputnik V           [Algeria, Armenia, Belarus, Guinea, Iran, Kaza...   \n",
       "Sinovac             [Azerbaijan, Albania, Brazil, Chile, Colombia,...   \n",
       "Johnson&Johnson                         [South Africa, United States]   \n",
       "Sinopharm/Wuhan                         [China, United Arab Emirates]   \n",
       "Covaxin                                                       [India]   \n",
       "EpiVacCorona                                                 [Russia]   \n",
       "\n",
       "                    nCountry  pCountry  \n",
       "vaccines                                \n",
       "Oxford/AstraZeneca       118 37.460317  \n",
       "Pfizer/BioNTech           85 26.984127  \n",
       "Moderna                   36 11.428571  \n",
       "Sinopharm/Beijing         27  8.571429  \n",
       "Sputnik V                 24  7.619048  \n",
       "Sinovac                   19  6.031746  \n",
       "Johnson&Johnson            2  0.634921  \n",
       "Sinopharm/Wuhan            2  0.634921  \n",
       "Covaxin                    1  0.317460  \n",
       "EpiVacCorona               1  0.317460  "
      ]
     },
     "execution_count": 45,
     "metadata": {},
     "output_type": "execute_result"
    }
   ],
   "source": [
    "# sort summary with most used vaccine first\n",
    "summary.sort_values('nCountry', ascending=False)"
   ]
  },
  {
   "cell_type": "code",
   "execution_count": 46,
   "metadata": {},
   "outputs": [
    {
     "data": {
      "image/png": "[encoded data removed]",
      "text/plain": [
       "<Figure size 720x504 with 1 Axes>"
      ]
     },
     "metadata": {},
     "output_type": "display_data"
    }
   ],
   "source": [
    "# create a pie chart to show the use of each vaccine\n",
    "plt.style.use('fivethirtyeight')\n",
    "plt.figure(figsize=(10,7))\n",
    "labels = summary.index\n",
    "\n",
    "plt.pie(summary.pCountry, labels=labels, explode=[0.05, 0.05, 0.05, 0.05, 0.05, 0.05, 0.05, 0.05, 0.05, 0.05], \n",
    "        wedgeprops={'edgecolor':'black', 'width':0.6}, startangle=180, autopct='%1.1F%%', radius=2)\n",
    "\n",
    "plt.legend(loc='right')\n",
    "plt.show()"
   ]
  },
  {
   "cell_type": "code",
   "execution_count": 47,
   "metadata": {},
   "outputs": [
    {
     "data": {
      "image/png": "[encoded data removed]",
      "text/plain": [
       "<Figure size 864x576 with 1 Axes>"
      ]
     },
     "metadata": {},
     "output_type": "display_data"
    }
   ],
   "source": [
    "# create a horisontal bar graph to show the number of countries using a given vaccine\n",
    "summary = summary.sort_values('nCountry')\n",
    "\n",
    "plt.figure(figsize=(12,8))\n",
    "plt.title(\"Vaccines distribution by countries\")\n",
    "plt.style.use('fivethirtyeight')\n",
    "plt.xlabel('Number of countries')\n",
    "plt.xticks(np.arange(0,110,10))\n",
    "\n",
    "plt.barh(summary.index, summary.nCountry)\n",
    "plt.show()"
   ]
  },
  {
   "cell_type": "markdown",
   "metadata": {},
   "source": [
    "#### Top 10 Total Vaccinations"
   ]
  },
  {
   "cell_type": "code",
   "execution_count": 56,
   "metadata": {},
   "outputs": [
    {
     "data": {
      "text/html": [
       "<div>\n",
       "<style scoped>\n",
       "    .dataframe tbody tr th:only-of-type {\n",
       "        vertical-align: middle;\n",
       "    }\n",
       "\n",
       "    .dataframe tbody tr th {\n",
       "        vertical-align: top;\n",
       "    }\n",
       "\n",
       "    .dataframe thead th {\n",
       "        text-align: right;\n",
       "    }\n",
       "</style>\n",
       "<table border=\"1\" class=\"dataframe\">\n",
       "  <thead>\n",
       "    <tr style=\"text-align: right;\">\n",
       "      <th></th>\n",
       "      <th>country</th>\n",
       "      <th>total_vaccinations</th>\n",
       "    </tr>\n",
       "  </thead>\n",
       "  <tbody>\n",
       "    <tr>\n",
       "      <th>11064</th>\n",
       "      <td>United States</td>\n",
       "      <td>189692045.000000</td>\n",
       "    </tr>\n",
       "    <tr>\n",
       "      <th>2221</th>\n",
       "      <td>China</td>\n",
       "      <td>171928000.000000</td>\n",
       "    </tr>\n",
       "    <tr>\n",
       "      <th>4835</th>\n",
       "      <td>India</td>\n",
       "      <td>108533085.000000</td>\n",
       "    </tr>\n",
       "    <tr>\n",
       "      <th>10950</th>\n",
       "      <td>United Kingdom</td>\n",
       "      <td>39846781.000000</td>\n",
       "    </tr>\n",
       "    <tr>\n",
       "      <th>3225</th>\n",
       "      <td>England</td>\n",
       "      <td>33445922.000000</td>\n",
       "    </tr>\n",
       "    <tr>\n",
       "      <th>1588</th>\n",
       "      <td>Brazil</td>\n",
       "      <td>27432994.000000</td>\n",
       "    </tr>\n",
       "    <tr>\n",
       "      <th>10601</th>\n",
       "      <td>Turkey</td>\n",
       "      <td>18728978.000000</td>\n",
       "    </tr>\n",
       "    <tr>\n",
       "      <th>3885</th>\n",
       "      <td>Germany</td>\n",
       "      <td>18684873.000000</td>\n",
       "    </tr>\n",
       "    <tr>\n",
       "      <th>4926</th>\n",
       "      <td>Indonesia</td>\n",
       "      <td>15602574.000000</td>\n",
       "    </tr>\n",
       "    <tr>\n",
       "      <th>3697</th>\n",
       "      <td>France</td>\n",
       "      <td>14536712.000000</td>\n",
       "    </tr>\n",
       "  </tbody>\n",
       "</table>\n",
       "</div>"
      ],
      "text/plain": [
       "              country  total_vaccinations\n",
       "11064   United States    189692045.000000\n",
       "2221            China    171928000.000000\n",
       "4835            India    108533085.000000\n",
       "10950  United Kingdom     39846781.000000\n",
       "3225          England     33445922.000000\n",
       "1588           Brazil     27432994.000000\n",
       "10601          Turkey     18728978.000000\n",
       "3885          Germany     18684873.000000\n",
       "4926        Indonesia     15602574.000000\n",
       "3697           France     14536712.000000"
      ]
     },
     "execution_count": 56,
     "metadata": {},
     "output_type": "execute_result"
    }
   ],
   "source": [
    "top_vac = vaccination.sort_values(['total_vaccinations'], ascending=False).drop_duplicates(subset=['country'], keep='first').groupby('country').head().head(10)\n",
    "top_vac[['country','total_vaccinations']]"
   ]
  },
  {
   "cell_type": "markdown",
   "metadata": {},
   "source": [
    "#### Bottom 10 Total Vaccinations"
   ]
  },
  {
   "cell_type": "code",
   "execution_count": 49,
   "metadata": {},
   "outputs": [
    {
     "data": {
      "text/html": [
       "<div>\n",
       "<style scoped>\n",
       "    .dataframe tbody tr th:only-of-type {\n",
       "        vertical-align: middle;\n",
       "    }\n",
       "\n",
       "    .dataframe tbody tr th {\n",
       "        vertical-align: top;\n",
       "    }\n",
       "\n",
       "    .dataframe thead th {\n",
       "        text-align: right;\n",
       "    }\n",
       "</style>\n",
       "<table border=\"1\" class=\"dataframe\">\n",
       "  <thead>\n",
       "    <tr style=\"text-align: right;\">\n",
       "      <th></th>\n",
       "      <th>country</th>\n",
       "      <th>total_vaccinations</th>\n",
       "    </tr>\n",
       "  </thead>\n",
       "  <tbody>\n",
       "    <tr>\n",
       "      <th>8032</th>\n",
       "      <td>Papua New Guinea</td>\n",
       "      <td>250.000000</td>\n",
       "    </tr>\n",
       "    <tr>\n",
       "      <th>499</th>\n",
       "      <td>Armenia</td>\n",
       "      <td>565.000000</td>\n",
       "    </tr>\n",
       "    <tr>\n",
       "      <th>6538</th>\n",
       "      <td>Mali</td>\n",
       "      <td>643.000000</td>\n",
       "    </tr>\n",
       "    <tr>\n",
       "      <th>7043</th>\n",
       "      <td>Montserrat</td>\n",
       "      <td>1306.000000</td>\n",
       "    </tr>\n",
       "    <tr>\n",
       "      <th>9760</th>\n",
       "      <td>Solomon Islands</td>\n",
       "      <td>2000.000000</td>\n",
       "    </tr>\n",
       "    <tr>\n",
       "      <th>5892</th>\n",
       "      <td>Kyrgyzstan</td>\n",
       "      <td>2100.000000</td>\n",
       "    </tr>\n",
       "    <tr>\n",
       "      <th>1888</th>\n",
       "      <td>Cape Verde</td>\n",
       "      <td>2184.000000</td>\n",
       "    </tr>\n",
       "    <tr>\n",
       "      <th>1593</th>\n",
       "      <td>Brunei</td>\n",
       "      <td>2323.000000</td>\n",
       "    </tr>\n",
       "    <tr>\n",
       "      <th>10331</th>\n",
       "      <td>Syria</td>\n",
       "      <td>2500.000000</td>\n",
       "    </tr>\n",
       "    <tr>\n",
       "      <th>5784</th>\n",
       "      <td>Kosovo</td>\n",
       "      <td>2500.000000</td>\n",
       "    </tr>\n",
       "  </tbody>\n",
       "</table>\n",
       "</div>"
      ],
      "text/plain": [
       "                country  total_vaccinations\n",
       "8032   Papua New Guinea          250.000000\n",
       "499             Armenia          565.000000\n",
       "6538               Mali          643.000000\n",
       "7043         Montserrat         1306.000000\n",
       "9760    Solomon Islands         2000.000000\n",
       "5892         Kyrgyzstan         2100.000000\n",
       "1888         Cape Verde         2184.000000\n",
       "1593             Brunei         2323.000000\n",
       "10331             Syria         2500.000000\n",
       "5784             Kosovo         2500.000000"
      ]
     },
     "execution_count": 49,
     "metadata": {},
     "output_type": "execute_result"
    }
   ],
   "source": [
    "bottom_vac = vaccination.sort_values(['total_vaccinations'], ascending=False).drop_duplicates(subset=['country'], keep='first').groupby('country').tail().tail(10).sort_values(by='total_vaccinations', ascending=True)\n",
    "bottom_vac[['country','total_vaccinations']]"
   ]
  },
  {
   "cell_type": "markdown",
   "metadata": {},
   "source": [
    "#### Top 10 Percentage of Population Vaccinated"
   ]
  },
  {
   "cell_type": "code",
   "execution_count": 50,
   "metadata": {},
   "outputs": [
    {
     "data": {
      "text/html": [
       "<div>\n",
       "<style scoped>\n",
       "    .dataframe tbody tr th:only-of-type {\n",
       "        vertical-align: middle;\n",
       "    }\n",
       "\n",
       "    .dataframe tbody tr th {\n",
       "        vertical-align: top;\n",
       "    }\n",
       "\n",
       "    .dataframe thead th {\n",
       "        text-align: right;\n",
       "    }\n",
       "</style>\n",
       "<table border=\"1\" class=\"dataframe\">\n",
       "  <thead>\n",
       "    <tr style=\"text-align: right;\">\n",
       "      <th></th>\n",
       "      <th>country</th>\n",
       "      <th>people_vaccinated_per_hundred</th>\n",
       "    </tr>\n",
       "  </thead>\n",
       "  <tbody>\n",
       "    <tr>\n",
       "      <th>4017</th>\n",
       "      <td>Gibraltar</td>\n",
       "      <td>99.310000</td>\n",
       "    </tr>\n",
       "    <tr>\n",
       "      <th>3488</th>\n",
       "      <td>Falkland Islands</td>\n",
       "      <td>74.790000</td>\n",
       "    </tr>\n",
       "    <tr>\n",
       "      <th>9431</th>\n",
       "      <td>Seychelles</td>\n",
       "      <td>66.600000</td>\n",
       "    </tr>\n",
       "    <tr>\n",
       "      <th>1352</th>\n",
       "      <td>Bhutan</td>\n",
       "      <td>61.640000</td>\n",
       "    </tr>\n",
       "    <tr>\n",
       "      <th>5316</th>\n",
       "      <td>Israel</td>\n",
       "      <td>61.570000</td>\n",
       "    </tr>\n",
       "    <tr>\n",
       "      <th>5201</th>\n",
       "      <td>Isle of Man</td>\n",
       "      <td>54.390000</td>\n",
       "    </tr>\n",
       "    <tr>\n",
       "      <th>8815</th>\n",
       "      <td>Saint Helena</td>\n",
       "      <td>51.180000</td>\n",
       "    </tr>\n",
       "    <tr>\n",
       "      <th>11309</th>\n",
       "      <td>Wales</td>\n",
       "      <td>50.360000</td>\n",
       "    </tr>\n",
       "    <tr>\n",
       "      <th>6534</th>\n",
       "      <td>Maldives</td>\n",
       "      <td>49.660000</td>\n",
       "    </tr>\n",
       "    <tr>\n",
       "      <th>9196</th>\n",
       "      <td>Scotland</td>\n",
       "      <td>48.850000</td>\n",
       "    </tr>\n",
       "  </tbody>\n",
       "</table>\n",
       "</div>"
      ],
      "text/plain": [
       "                country  people_vaccinated_per_hundred\n",
       "4017          Gibraltar                      99.310000\n",
       "3488   Falkland Islands                      74.790000\n",
       "9431         Seychelles                      66.600000\n",
       "1352             Bhutan                      61.640000\n",
       "5316             Israel                      61.570000\n",
       "5201        Isle of Man                      54.390000\n",
       "8815       Saint Helena                      51.180000\n",
       "11309             Wales                      50.360000\n",
       "6534           Maldives                      49.660000\n",
       "9196           Scotland                      48.850000"
      ]
     },
     "execution_count": 50,
     "metadata": {},
     "output_type": "execute_result"
    }
   ],
   "source": [
    "top_perc_vac = vaccination.sort_values(['people_vaccinated_per_hundred'], ascending=False).drop_duplicates(subset=['country'], keep='first').groupby('country').head().head(10)\n",
    "top_perc_vac[['country','people_vaccinated_per_hundred']]"
   ]
  },
  {
   "cell_type": "markdown",
   "metadata": {},
   "source": [
    "#### Bottom 10 Percentage of Population Vaccinated"
   ]
  },
  {
   "cell_type": "code",
   "execution_count": 51,
   "metadata": {},
   "outputs": [
    {
     "data": {
      "text/html": [
       "<div>\n",
       "<style scoped>\n",
       "    .dataframe tbody tr th:only-of-type {\n",
       "        vertical-align: middle;\n",
       "    }\n",
       "\n",
       "    .dataframe tbody tr th {\n",
       "        vertical-align: top;\n",
       "    }\n",
       "\n",
       "    .dataframe thead th {\n",
       "        text-align: right;\n",
       "    }\n",
       "</style>\n",
       "<table border=\"1\" class=\"dataframe\">\n",
       "  <thead>\n",
       "    <tr style=\"text-align: right;\">\n",
       "      <th></th>\n",
       "      <th>country</th>\n",
       "      <th>people_vaccinated_per_hundred</th>\n",
       "    </tr>\n",
       "  </thead>\n",
       "  <tbody>\n",
       "    <tr>\n",
       "      <th>88</th>\n",
       "      <td>Albania</td>\n",
       "      <td>0.210000</td>\n",
       "    </tr>\n",
       "    <tr>\n",
       "      <th>9459</th>\n",
       "      <td>Sierra Leone</td>\n",
       "      <td>0.470000</td>\n",
       "    </tr>\n",
       "    <tr>\n",
       "      <th>9813</th>\n",
       "      <td>South Africa</td>\n",
       "      <td>0.490000</td>\n",
       "    </tr>\n",
       "    <tr>\n",
       "      <th>4487</th>\n",
       "      <td>Honduras</td>\n",
       "      <td>0.560000</td>\n",
       "    </tr>\n",
       "    <tr>\n",
       "      <th>8078</th>\n",
       "      <td>Paraguay</td>\n",
       "      <td>0.640000</td>\n",
       "    </tr>\n",
       "    <tr>\n",
       "      <th>10396</th>\n",
       "      <td>Thailand</td>\n",
       "      <td>0.710000</td>\n",
       "    </tr>\n",
       "    <tr>\n",
       "      <th>4289</th>\n",
       "      <td>Guatemala</td>\n",
       "      <td>0.770000</td>\n",
       "    </tr>\n",
       "    <tr>\n",
       "      <th>3242</th>\n",
       "      <td>Equatorial Guinea</td>\n",
       "      <td>0.790000</td>\n",
       "    </tr>\n",
       "    <tr>\n",
       "      <th>5505</th>\n",
       "      <td>Japan</td>\n",
       "      <td>0.870000</td>\n",
       "    </tr>\n",
       "    <tr>\n",
       "      <th>10753</th>\n",
       "      <td>Ukraine</td>\n",
       "      <td>0.890000</td>\n",
       "    </tr>\n",
       "  </tbody>\n",
       "</table>\n",
       "</div>"
      ],
      "text/plain": [
       "                 country  people_vaccinated_per_hundred\n",
       "88               Albania                       0.210000\n",
       "9459        Sierra Leone                       0.470000\n",
       "9813        South Africa                       0.490000\n",
       "4487            Honduras                       0.560000\n",
       "8078            Paraguay                       0.640000\n",
       "10396           Thailand                       0.710000\n",
       "4289           Guatemala                       0.770000\n",
       "3242   Equatorial Guinea                       0.790000\n",
       "5505               Japan                       0.870000\n",
       "10753            Ukraine                       0.890000"
      ]
     },
     "execution_count": 51,
     "metadata": {},
     "output_type": "execute_result"
    }
   ],
   "source": [
    "bottom_perc_vac = vaccination.sort_values(['people_vaccinated_per_hundred'], ascending=False).drop_duplicates(subset=['country'], keep='first').dropna(how='any').groupby('country').tail().tail(10).sort_values(by='people_vaccinated_per_hundred', ascending=True)\n",
    "bottom_perc_vac[['country','people_vaccinated_per_hundred']]"
   ]
  },
  {
   "cell_type": "markdown",
   "metadata": {},
   "source": [
    "#### Vaccination Rates of Various Countries Based on Total Vaccinations"
   ]
  },
  {
   "cell_type": "code",
   "execution_count": 52,
   "metadata": {},
   "outputs": [
    {
     "data": {
      "image/png": "[encoded data removed]",
      "text/plain": [
       "<Figure size 864x648 with 1 Axes>"
      ]
     },
     "metadata": {},
     "output_type": "display_data"
    }
   ],
   "source": [
    "# create a plot using sns\n",
    "\n",
    "# set style to whitegrid\n",
    "sns.axes_style(\"whitegrid\")\n",
    "# set graph size\n",
    "sns.set(rc={'figure.figsize':(12,9)})\n",
    "\n",
    "# determine countries to plot\n",
    "countries = ['United States','United Kingdom','Australia','India','China','France', 'Brazil', 'Gibraltar', 'Falkland Islands']\n",
    "\n",
    "# create line plot using date on the x axis and number of daily vaccines on y, with data being country that is in the \n",
    "#list sorted by date, and coloured by country\n",
    "graph = sns.lineplot(x=\"date\", y=\"daily_vaccinations\", data=vaccination[vaccination['country'].isin(countries)]\n",
    "                     .sort_values(by=\"date\"), hue='country')\n",
    "\n",
    "plt.title(\"Number of Vaccinations Per Day by Country\\n\", size=18)\n",
    "plt.xlabel(\"\\nDate\")\n",
    "plt.ylabel(\"Daily Vaccinations\\n\")\n",
    "plt.legend(title='Country')\n",
    "\n",
    "# show plot\n",
    "plt.show()"
   ]
  },
  {
   "cell_type": "markdown",
   "metadata": {},
   "source": [
    "#### Vaccination Rates of Various Countries Based on People Per Hundred"
   ]
  },
  {
   "cell_type": "code",
   "execution_count": 53,
   "metadata": {},
   "outputs": [
    {
     "data": {
      "image/png": "[encoded data removed]",
      "text/plain": [
       "<Figure size 864x648 with 1 Axes>"
      ]
     },
     "metadata": {},
     "output_type": "display_data"
    }
   ],
   "source": [
    "# create a plot using sns\n",
    "\n",
    "# set style to whitegrid\n",
    "sns.axes_style(\"whitegrid\")\n",
    "# set graph size\n",
    "sns.set(rc={'figure.figsize':(12,9)})\n",
    "\n",
    "# determine countries to plot\n",
    "countries = ['United States','United Kingdom','Australia','India','China','France', 'Brazil', 'Gibraltar', 'Falkland Islands']\n",
    "\n",
    "# create line plot using date on the x axis and number of daily vaccines on y, with data being country that is in the \n",
    "#list sorted by date, and coloured by country\n",
    "graph = sns.lineplot(x=\"date\", y=\"people_vaccinated_per_hundred\", data=vaccination[vaccination['country'].isin(countries)]\n",
    "                     .sort_values(by=\"date\"), hue='country')\n",
    "\n",
    "plt.title(\"Number of Vaccinations Per Hundred People Per Day by Country\\n\", size=18)\n",
    "plt.xlabel(\"\\nDate\")\n",
    "plt.ylabel(\"People Vaccinated per Hundred\\n\")\n",
    "plt.legend(title='Country')\n",
    "\n",
    "# show plot\n",
    "plt.show()"
   ]
  },
  {
   "cell_type": "markdown",
   "metadata": {},
   "source": [
    " "
   ]
  },
  {
   "cell_type": "markdown",
   "metadata": {},
   "source": [
    " "
   ]
  },
  {
   "cell_type": "markdown",
   "metadata": {},
   "source": [
    "## Confirmatory Analysis\n",
    "In order to undertake confirmatory analysis we stated a number of hypothesis' after data cleaning. They were as follows;\n",
    "1. America has administered the most doses\n",
    "2. The daily number of vaccinations per country has increased greater than linearly since day 1 of vaccine administration\n",
    "3. The number of people fully vaccinated lags 3 weeks behind the vaccination numbers due to the wait between first and second dose\n",
    "4. Smaller populations have vaccinated a higher percentage of their population\n",
    "5. The two most well know vaccines (Oxford and Pfizer) will be the most popular\n",
    "\n",
    "A number of these were shown within the exploratory analysis, but others will required further proof.\n"
   ]
  },
  {
   "cell_type": "markdown",
   "metadata": {},
   "source": [
    "### 3 Week Lag Between Full Vaccination"
   ]
  },
  {
   "cell_type": "code",
   "execution_count": 54,
   "metadata": {},
   "outputs": [],
   "source": [
    "# select country \n",
    "country1 = vaccination.loc[vaccination['country'] == 'United States']\n",
    "# take just columns wanted\n",
    "country1 = country1[['country', 'date', 'people_vaccinated', 'people_fully_vaccinated']]"
   ]
  },
  {
   "cell_type": "code",
   "execution_count": 55,
   "metadata": {},
   "outputs": [
    {
     "data": {
      "image/png": "[encoded data removed]",
      "text/plain": [
       "<Figure size 432x432 with 1 Axes>"
      ]
     },
     "metadata": {},
     "output_type": "display_data"
    }
   ],
   "source": [
    "# take the dates and categories to plot\n",
    "date1 = country1['date']\n",
    "cats1 = [country1['people_vaccinated'], country1['people_fully_vaccinated']]\n",
    " \n",
    "# set plot size\n",
    "plt.figure(figsize=(6, 6))\n",
    "\n",
    "# label plot\n",
    "plt.xticks(rotation='vertical')\n",
    "plt.title(\"United States People Vaccined and People Fully Vaccinated\\n\", size=18)\n",
    "plt.xlabel(\"\\nDate\")\n",
    "plt.ylabel(\"People Vaccinated\\n\")\n",
    "\n",
    "# plot\n",
    "plt.stackplot(date1, cats1, labels=['People Fully Vaccinated','People Vaccinated'])\n",
    "plt.legend(loc='upper left')\n",
    "plt.show()\n"
   ]
  },
  {
   "cell_type": "markdown",
   "metadata": {},
   "source": [
    "### Smaller populations have vaccinated a higher percentage of their population"
   ]
  },
  {
   "cell_type": "code",
   "execution_count": null,
   "metadata": {},
   "outputs": [],
   "source": []
  }
 ],
 "metadata": {
  "kernelspec": {
   "display_name": "Python 3",
   "language": "python",
   "name": "python3"
  },
  "language_info": {
   "codemirror_mode": {
    "name": "ipython",
    "version": 3
   },
   "file_extension": ".py",
   "mimetype": "text/x-python",
   "name": "python",
   "nbconvert_exporter": "python",
   "pygments_lexer": "ipython3",
   "version": "3.8.5"
  }
 },
 "nbformat": 4,
 "nbformat_minor": 4
}
