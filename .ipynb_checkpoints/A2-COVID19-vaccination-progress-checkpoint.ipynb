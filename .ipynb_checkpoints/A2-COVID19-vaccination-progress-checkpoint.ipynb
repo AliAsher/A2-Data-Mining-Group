{
 "cells": [
  {
   "cell_type": "markdown",
   "metadata": {},
   "source": [
    "# Group 16: SIT307 Data Mining Group Project"
   ]
  },
  {
   "cell_type": "markdown",
   "metadata": {},
   "source": [
    "Dataset Selected/used: <b>COVID-19 World Vaccination Progress</b>\n",
    "\n",
    "Found at: https://www.kaggle.com/gpreda/covid-world-vaccination-progress\n",
    "\n",
    "Collected by: <b>Gabriel Preda</b>\n",
    "\n",
    "Updated: <b>Daily</b>\n",
    "\n",
    "Date of download: <b>xx April 2021</b>"
   ]
  },
  {
   "cell_type": "markdown",
   "metadata": {},
   "source": [
    " "
   ]
  },
  {
   "cell_type": "markdown",
   "metadata": {},
   "source": [
    "Imported libraries used"
   ]
  },
  {
   "cell_type": "code",
   "execution_count": 1,
   "metadata": {},
   "outputs": [],
   "source": [
    "# import libraries used\n",
    "import numpy as np\n",
    "import pandas as pd\n",
    "pd.set_option('precision', 2)\n",
    "from pandas_profiling import ProfileReport\n",
    "import matplotlib\n",
    "import matplotlib.pyplot as plt\n",
    "%matplotlib inline\n",
    "import seaborn as sns\n",
    "from scipy import stats"
   ]
  },
  {
   "cell_type": "markdown",
   "metadata": {},
   "source": [
    " "
   ]
  },
  {
   "cell_type": "markdown",
   "metadata": {},
   "source": [
    "## Data Cleansing\n",
    "Get some information about the data set such as what are the columns, the data type in those columns and the number of columns and rows"
   ]
  },
  {
   "cell_type": "code",
   "execution_count": 2,
   "metadata": {},
   "outputs": [
    {
     "data": {
      "text/html": [
       "<div>\n",
       "<style scoped>\n",
       "    .dataframe tbody tr th:only-of-type {\n",
       "        vertical-align: middle;\n",
       "    }\n",
       "\n",
       "    .dataframe tbody tr th {\n",
       "        vertical-align: top;\n",
       "    }\n",
       "\n",
       "    .dataframe thead th {\n",
       "        text-align: right;\n",
       "    }\n",
       "</style>\n",
       "<table border=\"1\" class=\"dataframe\">\n",
       "  <thead>\n",
       "    <tr style=\"text-align: right;\">\n",
       "      <th></th>\n",
       "      <th>country</th>\n",
       "      <th>iso_code</th>\n",
       "      <th>date</th>\n",
       "      <th>total_vaccinations</th>\n",
       "      <th>people_vaccinated</th>\n",
       "      <th>people_fully_vaccinated</th>\n",
       "      <th>daily_vaccinations_raw</th>\n",
       "      <th>daily_vaccinations</th>\n",
       "      <th>total_vaccinations_per_hundred</th>\n",
       "      <th>people_vaccinated_per_hundred</th>\n",
       "      <th>people_fully_vaccinated_per_hundred</th>\n",
       "      <th>daily_vaccinations_per_million</th>\n",
       "      <th>vaccines</th>\n",
       "      <th>source_name</th>\n",
       "      <th>source_website</th>\n",
       "    </tr>\n",
       "  </thead>\n",
       "  <tbody>\n",
       "    <tr>\n",
       "      <th>0</th>\n",
       "      <td>Afghanistan</td>\n",
       "      <td>AFG</td>\n",
       "      <td>22/02/2021</td>\n",
       "      <td>0.0</td>\n",
       "      <td>0.0</td>\n",
       "      <td>NaN</td>\n",
       "      <td>NaN</td>\n",
       "      <td>NaN</td>\n",
       "      <td>0.0</td>\n",
       "      <td>0.0</td>\n",
       "      <td>NaN</td>\n",
       "      <td>NaN</td>\n",
       "      <td>Oxford/AstraZeneca</td>\n",
       "      <td>Government of Afghanistan</td>\n",
       "      <td>http://www.xinhuanet.com/english/asiapacific/2...</td>\n",
       "    </tr>\n",
       "    <tr>\n",
       "      <th>1</th>\n",
       "      <td>Afghanistan</td>\n",
       "      <td>AFG</td>\n",
       "      <td>23/02/2021</td>\n",
       "      <td>NaN</td>\n",
       "      <td>NaN</td>\n",
       "      <td>NaN</td>\n",
       "      <td>NaN</td>\n",
       "      <td>1367.0</td>\n",
       "      <td>NaN</td>\n",
       "      <td>NaN</td>\n",
       "      <td>NaN</td>\n",
       "      <td>35.0</td>\n",
       "      <td>Oxford/AstraZeneca</td>\n",
       "      <td>Government of Afghanistan</td>\n",
       "      <td>http://www.xinhuanet.com/english/asiapacific/2...</td>\n",
       "    </tr>\n",
       "    <tr>\n",
       "      <th>2</th>\n",
       "      <td>Afghanistan</td>\n",
       "      <td>AFG</td>\n",
       "      <td>24/02/2021</td>\n",
       "      <td>NaN</td>\n",
       "      <td>NaN</td>\n",
       "      <td>NaN</td>\n",
       "      <td>NaN</td>\n",
       "      <td>1367.0</td>\n",
       "      <td>NaN</td>\n",
       "      <td>NaN</td>\n",
       "      <td>NaN</td>\n",
       "      <td>35.0</td>\n",
       "      <td>Oxford/AstraZeneca</td>\n",
       "      <td>Government of Afghanistan</td>\n",
       "      <td>http://www.xinhuanet.com/english/asiapacific/2...</td>\n",
       "    </tr>\n",
       "    <tr>\n",
       "      <th>3</th>\n",
       "      <td>Afghanistan</td>\n",
       "      <td>AFG</td>\n",
       "      <td>25/02/2021</td>\n",
       "      <td>NaN</td>\n",
       "      <td>NaN</td>\n",
       "      <td>NaN</td>\n",
       "      <td>NaN</td>\n",
       "      <td>1367.0</td>\n",
       "      <td>NaN</td>\n",
       "      <td>NaN</td>\n",
       "      <td>NaN</td>\n",
       "      <td>35.0</td>\n",
       "      <td>Oxford/AstraZeneca</td>\n",
       "      <td>Government of Afghanistan</td>\n",
       "      <td>http://www.xinhuanet.com/english/asiapacific/2...</td>\n",
       "    </tr>\n",
       "    <tr>\n",
       "      <th>4</th>\n",
       "      <td>Afghanistan</td>\n",
       "      <td>AFG</td>\n",
       "      <td>26/02/2021</td>\n",
       "      <td>NaN</td>\n",
       "      <td>NaN</td>\n",
       "      <td>NaN</td>\n",
       "      <td>NaN</td>\n",
       "      <td>1367.0</td>\n",
       "      <td>NaN</td>\n",
       "      <td>NaN</td>\n",
       "      <td>NaN</td>\n",
       "      <td>35.0</td>\n",
       "      <td>Oxford/AstraZeneca</td>\n",
       "      <td>Government of Afghanistan</td>\n",
       "      <td>http://www.xinhuanet.com/english/asiapacific/2...</td>\n",
       "    </tr>\n",
       "  </tbody>\n",
       "</table>\n",
       "</div>"
      ],
      "text/plain": [
       "       country iso_code        date  total_vaccinations  people_vaccinated  \\\n",
       "0  Afghanistan      AFG  22/02/2021                 0.0                0.0   \n",
       "1  Afghanistan      AFG  23/02/2021                 NaN                NaN   \n",
       "2  Afghanistan      AFG  24/02/2021                 NaN                NaN   \n",
       "3  Afghanistan      AFG  25/02/2021                 NaN                NaN   \n",
       "4  Afghanistan      AFG  26/02/2021                 NaN                NaN   \n",
       "\n",
       "   people_fully_vaccinated  daily_vaccinations_raw  daily_vaccinations  \\\n",
       "0                      NaN                     NaN                 NaN   \n",
       "1                      NaN                     NaN              1367.0   \n",
       "2                      NaN                     NaN              1367.0   \n",
       "3                      NaN                     NaN              1367.0   \n",
       "4                      NaN                     NaN              1367.0   \n",
       "\n",
       "   total_vaccinations_per_hundred  people_vaccinated_per_hundred  \\\n",
       "0                             0.0                            0.0   \n",
       "1                             NaN                            NaN   \n",
       "2                             NaN                            NaN   \n",
       "3                             NaN                            NaN   \n",
       "4                             NaN                            NaN   \n",
       "\n",
       "   people_fully_vaccinated_per_hundred  daily_vaccinations_per_million  \\\n",
       "0                                  NaN                             NaN   \n",
       "1                                  NaN                            35.0   \n",
       "2                                  NaN                            35.0   \n",
       "3                                  NaN                            35.0   \n",
       "4                                  NaN                            35.0   \n",
       "\n",
       "             vaccines                source_name  \\\n",
       "0  Oxford/AstraZeneca  Government of Afghanistan   \n",
       "1  Oxford/AstraZeneca  Government of Afghanistan   \n",
       "2  Oxford/AstraZeneca  Government of Afghanistan   \n",
       "3  Oxford/AstraZeneca  Government of Afghanistan   \n",
       "4  Oxford/AstraZeneca  Government of Afghanistan   \n",
       "\n",
       "                                      source_website  \n",
       "0  http://www.xinhuanet.com/english/asiapacific/2...  \n",
       "1  http://www.xinhuanet.com/english/asiapacific/2...  \n",
       "2  http://www.xinhuanet.com/english/asiapacific/2...  \n",
       "3  http://www.xinhuanet.com/english/asiapacific/2...  \n",
       "4  http://www.xinhuanet.com/english/asiapacific/2...  "
      ]
     },
     "execution_count": 2,
     "metadata": {},
     "output_type": "execute_result"
    }
   ],
   "source": [
    "# read in CSV file to vaccination and preview head\n",
    "vaccination = pd.read_csv('data/country_vaccinations.csv')\n",
    "vaccination.head()"
   ]
  },
  {
   "cell_type": "code",
   "execution_count": 3,
   "metadata": {},
   "outputs": [
    {
     "data": {
      "text/plain": [
       "Index(['country', 'iso_code', 'date', 'total_vaccinations',\n",
       "       'people_vaccinated', 'people_fully_vaccinated',\n",
       "       'daily_vaccinations_raw', 'daily_vaccinations',\n",
       "       'total_vaccinations_per_hundred', 'people_vaccinated_per_hundred',\n",
       "       'people_fully_vaccinated_per_hundred', 'daily_vaccinations_per_million',\n",
       "       'vaccines', 'source_name', 'source_website'],\n",
       "      dtype='object')"
      ]
     },
     "execution_count": 3,
     "metadata": {},
     "output_type": "execute_result"
    }
   ],
   "source": [
    "# See what the column headings are\n",
    "vaccination.columns"
   ]
  },
  {
   "cell_type": "code",
   "execution_count": 4,
   "metadata": {},
   "outputs": [
    {
     "name": "stdout",
     "output_type": "stream",
     "text": [
      "<class 'pandas.core.frame.DataFrame'>\n",
      "RangeIndex: 8451 entries, 0 to 8450\n",
      "Data columns (total 15 columns):\n",
      " #   Column                               Non-Null Count  Dtype  \n",
      "---  ------                               --------------  -----  \n",
      " 0   country                              8451 non-null   object \n",
      " 1   iso_code                             8451 non-null   object \n",
      " 2   date                                 8451 non-null   object \n",
      " 3   total_vaccinations                   5231 non-null   float64\n",
      " 4   people_vaccinated                    4688 non-null   float64\n",
      " 5   people_fully_vaccinated              3186 non-null   float64\n",
      " 6   daily_vaccinations_raw               4415 non-null   float64\n",
      " 7   daily_vaccinations                   8260 non-null   float64\n",
      " 8   total_vaccinations_per_hundred       5231 non-null   float64\n",
      " 9   people_vaccinated_per_hundred        4688 non-null   float64\n",
      " 10  people_fully_vaccinated_per_hundred  3186 non-null   float64\n",
      " 11  daily_vaccinations_per_million       8260 non-null   float64\n",
      " 12  vaccines                             8451 non-null   object \n",
      " 13  source_name                          8451 non-null   object \n",
      " 14  source_website                       8451 non-null   object \n",
      "dtypes: float64(9), object(6)\n",
      "memory usage: 990.5+ KB\n"
     ]
    }
   ],
   "source": [
    "# and the data type stored in those columns\n",
    "vaccination.info()"
   ]
  },
  {
   "cell_type": "code",
   "execution_count": 5,
   "metadata": {},
   "outputs": [
    {
     "data": {
      "text/plain": [
       "(8451, 15)"
      ]
     },
     "execution_count": 5,
     "metadata": {},
     "output_type": "execute_result"
    }
   ],
   "source": [
    "# and the shape of the data set\n",
    "vaccination.shape"
   ]
  },
  {
   "cell_type": "markdown",
   "metadata": {},
   "source": [
    "Check categorical columns for spelling errors and misprints/typos:"
   ]
  },
  {
   "cell_type": "code",
   "execution_count": 6,
   "metadata": {},
   "outputs": [
    {
     "data": {
      "text/plain": [
       "array(['Afghanistan', 'Albania', 'Algeria', 'Andorra', 'Angola',\n",
       "       'Anguilla', 'Antigua and Barbuda', 'Argentina', 'Australia',\n",
       "       'Austria', 'Azerbaijan', 'Bahamas', 'Bahrain', 'Bangladesh',\n",
       "       'Barbados', 'Belarus', 'Belgium', 'Belize', 'Bermuda', 'Bolivia',\n",
       "       'Brazil', 'Bulgaria', 'Cambodia', 'Canada', 'Cayman Islands',\n",
       "       'Chile', 'China', 'Colombia', 'Costa Rica', \"Cote d'Ivoire\",\n",
       "       'Croatia', 'Cyprus', 'Czechia', 'Denmark', 'Dominica',\n",
       "       'Dominican Republic', 'Ecuador', 'Egypt', 'El Salvador', 'England',\n",
       "       'Equatorial Guinea', 'Estonia', 'Faeroe Islands',\n",
       "       'Falkland Islands', 'Finland', 'France', 'Germany', 'Ghana',\n",
       "       'Gibraltar', 'Greece', 'Greenland', 'Grenada', 'Guatemala',\n",
       "       'Guernsey', 'Guinea', 'Guyana', 'Honduras', 'Hong Kong', 'Hungary',\n",
       "       'Iceland', 'India', 'Indonesia', 'Iran', 'Ireland', 'Isle of Man',\n",
       "       'Israel', 'Italy', 'Jamaica', 'Japan', 'Jersey', 'Jordan',\n",
       "       'Kazakhstan', 'Kenya', 'Kuwait', 'Laos', 'Latvia', 'Lebanon',\n",
       "       'Liechtenstein', 'Lithuania', 'Luxembourg', 'Macao', 'Malawi',\n",
       "       'Malaysia', 'Maldives', 'Malta', 'Mauritius', 'Mexico', 'Moldova',\n",
       "       'Monaco', 'Mongolia', 'Montenegro', 'Montserrat', 'Morocco',\n",
       "       'Mozambique', 'Myanmar', 'Namibia', 'Nepal', 'Netherlands',\n",
       "       'New Zealand', 'Nigeria', 'North Macedonia', 'Northern Cyprus',\n",
       "       'Northern Ireland', 'Norway', 'Oman', 'Pakistan', 'Panama',\n",
       "       'Paraguay', 'Peru', 'Philippines', 'Poland', 'Portugal', 'Qatar',\n",
       "       'Romania', 'Russia', 'Rwanda', 'Saint Helena',\n",
       "       'Saint Kitts and Nevis', 'Saint Lucia',\n",
       "       'Saint Vincent and the Grenadines', 'San Marino', 'Saudi Arabia',\n",
       "       'Scotland', 'Senegal', 'Serbia', 'Seychelles', 'Sierra Leone',\n",
       "       'Singapore', 'Slovakia', 'Slovenia', 'South Africa', 'South Korea',\n",
       "       'Spain', 'Sri Lanka', 'Suriname', 'Sweden', 'Switzerland',\n",
       "       'Taiwan', 'Thailand', 'Togo', 'Trinidad and Tobago', 'Tunisia',\n",
       "       'Turkey', 'Turks and Caicos Islands', 'Uganda', 'Ukraine',\n",
       "       'United Arab Emirates', 'United Kingdom', 'United States',\n",
       "       'Uruguay', 'Venezuela', 'Vietnam', 'Wales', 'Zimbabwe'],\n",
       "      dtype=object)"
      ]
     },
     "execution_count": 6,
     "metadata": {},
     "output_type": "execute_result"
    }
   ],
   "source": [
    "# check the unique values of country\n",
    "vaccination.country.unique()"
   ]
  },
  {
   "cell_type": "code",
   "execution_count": 7,
   "metadata": {},
   "outputs": [
    {
     "data": {
      "text/plain": [
       "array(['AFG', 'ALB', 'DZA', 'AND', 'AGO', 'AIA', 'ATG', 'ARG', 'AUS',\n",
       "       'AUT', 'AZE', 'BHS', 'BHR', 'BGD', 'BRB', 'BLR', 'BEL', 'BLZ',\n",
       "       'BMU', 'BOL', 'BRA', 'BGR', 'KHM', 'CAN', 'CYM', 'CHL', 'CHN',\n",
       "       'COL', 'CRI', 'CIV', 'HRV', 'CYP', 'CZE', 'DNK', 'DMA', 'DOM',\n",
       "       'ECU', 'EGY', 'SLV', 'OWID_ENG', 'GNQ', 'EST', 'FRO', 'FLK', 'FIN',\n",
       "       'FRA', 'DEU', 'GHA', 'GIB', 'GRC', 'GRL', 'GRD', 'GTM', 'GGY',\n",
       "       'GIN', 'GUY', 'HND', 'HKG', 'HUN', 'ISL', 'IND', 'IDN', 'IRN',\n",
       "       'IRL', 'IMN', 'ISR', 'ITA', 'JAM', 'JPN', 'JEY', 'JOR', 'KAZ',\n",
       "       'KEN', 'KWT', 'LAO', 'LVA', 'LBN', 'LIE', 'LTU', 'LUX', 'MAC',\n",
       "       'MWI', 'MYS', 'MDV', 'MLT', 'MUS', 'MEX', 'MDA', 'MCO', 'MNG',\n",
       "       'MNE', 'MSR', 'MAR', 'MOZ', 'MMR', 'NAM', 'NPL', 'NLD', 'NZL',\n",
       "       'NGA', 'MKD', 'OWID_CYN', 'OWID_NIR', 'NOR', 'OMN', 'PAK', 'PAN',\n",
       "       'PRY', 'PER', 'PHL', 'POL', 'PRT', 'QAT', 'ROU', 'RUS', 'RWA',\n",
       "       'SHN', 'KNA', 'LCA', 'VCT', 'SMR', 'SAU', 'OWID_SCT', 'SEN', 'SRB',\n",
       "       'SYC', 'SLE', 'SGP', 'SVK', 'SVN', 'ZAF', 'KOR', 'ESP', 'LKA',\n",
       "       'SUR', 'SWE', 'CHE', 'TWN', 'THA', 'TGO', 'TTO', 'TUN', 'TUR',\n",
       "       'TCA', 'UGA', 'UKR', 'ARE', 'GBR', 'USA', 'URY', 'VEN', 'VNM',\n",
       "       'OWID_WLS', 'ZWE'], dtype=object)"
      ]
     },
     "execution_count": 7,
     "metadata": {},
     "output_type": "execute_result"
    }
   ],
   "source": [
    "# check the unique values of ISO code\n",
    "vaccination.iso_code.unique()"
   ]
  },
  {
   "cell_type": "code",
   "execution_count": 8,
   "metadata": {},
   "outputs": [
    {
     "data": {
      "text/plain": [
       "array(['Oxford/AstraZeneca', 'Pfizer/BioNTech', 'Sputnik V',\n",
       "       'Oxford/AstraZeneca, Sinopharm/Beijing, Sputnik V',\n",
       "       'Oxford/AstraZeneca, Pfizer/BioNTech',\n",
       "       'Moderna, Oxford/AstraZeneca, Pfizer/BioNTech', 'Sinovac',\n",
       "       'Oxford/AstraZeneca, Pfizer/BioNTech, Sinopharm/Beijing, Sputnik V',\n",
       "       'Oxford/AstraZeneca, Sinovac', 'Sinopharm/Beijing',\n",
       "       'Pfizer/BioNTech, Sinovac',\n",
       "       'Sinopharm/Beijing, Sinopharm/Wuhan, Sinovac',\n",
       "       'Moderna, Pfizer/BioNTech', 'Moderna',\n",
       "       'Moderna, Oxford/AstraZeneca',\n",
       "       'Moderna, Oxford/AstraZeneca, Pfizer/BioNTech, Sinopharm/Beijing, Sputnik V',\n",
       "       'Covaxin, Oxford/AstraZeneca',\n",
       "       'Pfizer/BioNTech, Sinopharm/Beijing',\n",
       "       'Sinopharm/Beijing, Sputnik V',\n",
       "       'Oxford/AstraZeneca, Pfizer/BioNTech, Sputnik V',\n",
       "       'Oxford/AstraZeneca, Sinopharm/Beijing',\n",
       "       'Oxford/AstraZeneca, Pfizer/BioNTech, Sinovac',\n",
       "       'EpiVacCorona, Sputnik V', 'Johnson&Johnson',\n",
       "       'Pfizer/BioNTech, Sputnik V',\n",
       "       'Oxford/AstraZeneca, Pfizer/BioNTech, Sinopharm/Beijing, Sinopharm/Wuhan, Sputnik V',\n",
       "       'Johnson&Johnson, Moderna, Pfizer/BioNTech'], dtype=object)"
      ]
     },
     "execution_count": 8,
     "metadata": {},
     "output_type": "execute_result"
    }
   ],
   "source": [
    "# check the unique values of vaccine used in the country\n",
    "vaccination.vaccines.unique()"
   ]
  },
  {
   "cell_type": "markdown",
   "metadata": {},
   "source": [
    "Source name and source website will not be used in data analysis, therefore there is no need to check for misprints"
   ]
  },
  {
   "cell_type": "markdown",
   "metadata": {},
   "source": [
    "No errors or misprints/typos found therefore no cleaning is required here.\n",
    "\n",
    "Check numerical columns for unreasonable minimum values:"
   ]
  },
  {
   "cell_type": "code",
   "execution_count": 9,
   "metadata": {},
   "outputs": [
    {
     "data": {
      "text/html": [
       "<div>\n",
       "<style scoped>\n",
       "    .dataframe tbody tr th:only-of-type {\n",
       "        vertical-align: middle;\n",
       "    }\n",
       "\n",
       "    .dataframe tbody tr th {\n",
       "        vertical-align: top;\n",
       "    }\n",
       "\n",
       "    .dataframe thead th {\n",
       "        text-align: right;\n",
       "    }\n",
       "</style>\n",
       "<table border=\"1\" class=\"dataframe\">\n",
       "  <thead>\n",
       "    <tr style=\"text-align: right;\">\n",
       "      <th></th>\n",
       "      <th>total_vaccinations</th>\n",
       "      <th>people_vaccinated</th>\n",
       "      <th>people_fully_vaccinated</th>\n",
       "      <th>daily_vaccinations_raw</th>\n",
       "      <th>daily_vaccinations</th>\n",
       "      <th>total_vaccinations_per_hundred</th>\n",
       "      <th>people_vaccinated_per_hundred</th>\n",
       "      <th>people_fully_vaccinated_per_hundred</th>\n",
       "      <th>daily_vaccinations_per_million</th>\n",
       "    </tr>\n",
       "  </thead>\n",
       "  <tbody>\n",
       "    <tr>\n",
       "      <th>count</th>\n",
       "      <td>5231.000000</td>\n",
       "      <td>4688.000000</td>\n",
       "      <td>3186.000000</td>\n",
       "      <td>4415.000000</td>\n",
       "      <td>8260.000000</td>\n",
       "      <td>5231.000000</td>\n",
       "      <td>4688.000000</td>\n",
       "      <td>3186.000000</td>\n",
       "      <td>8260.000000</td>\n",
       "    </tr>\n",
       "    <tr>\n",
       "      <th>mean</th>\n",
       "      <td>2792692.129421</td>\n",
       "      <td>2156748.130546</td>\n",
       "      <td>950346.089768</td>\n",
       "      <td>99310.352208</td>\n",
       "      <td>63461.179540</td>\n",
       "      <td>10.456412</td>\n",
       "      <td>7.859851</td>\n",
       "      <td>3.829357</td>\n",
       "      <td>2722.191889</td>\n",
       "    </tr>\n",
       "    <tr>\n",
       "      <th>std</th>\n",
       "      <td>10191138.729438</td>\n",
       "      <td>7169883.975902</td>\n",
       "      <td>3817420.599500</td>\n",
       "      <td>335984.658804</td>\n",
       "      <td>230293.608592</td>\n",
       "      <td>18.453447</td>\n",
       "      <td>12.320235</td>\n",
       "      <td>8.163778</td>\n",
       "      <td>4129.512041</td>\n",
       "    </tr>\n",
       "    <tr>\n",
       "      <th>min</th>\n",
       "      <td>0.000000</td>\n",
       "      <td>0.000000</td>\n",
       "      <td>1.000000</td>\n",
       "      <td>0.000000</td>\n",
       "      <td>1.000000</td>\n",
       "      <td>0.000000</td>\n",
       "      <td>0.000000</td>\n",
       "      <td>0.000000</td>\n",
       "      <td>0.000000</td>\n",
       "    </tr>\n",
       "    <tr>\n",
       "      <th>25%</th>\n",
       "      <td>42388.500000</td>\n",
       "      <td>39101.500000</td>\n",
       "      <td>20137.000000</td>\n",
       "      <td>2825.500000</td>\n",
       "      <td>1073.000000</td>\n",
       "      <td>0.820000</td>\n",
       "      <td>0.830000</td>\n",
       "      <td>0.440000</td>\n",
       "      <td>368.750000</td>\n",
       "    </tr>\n",
       "    <tr>\n",
       "      <th>50%</th>\n",
       "      <td>289210.000000</td>\n",
       "      <td>258811.000000</td>\n",
       "      <td>121351.500000</td>\n",
       "      <td>14152.000000</td>\n",
       "      <td>6158.500000</td>\n",
       "      <td>3.950000</td>\n",
       "      <td>3.295000</td>\n",
       "      <td>1.550000</td>\n",
       "      <td>1356.000000</td>\n",
       "    </tr>\n",
       "    <tr>\n",
       "      <th>75%</th>\n",
       "      <td>1367629.000000</td>\n",
       "      <td>1034796.000000</td>\n",
       "      <td>503932.750000</td>\n",
       "      <td>57538.500000</td>\n",
       "      <td>27990.000000</td>\n",
       "      <td>11.710000</td>\n",
       "      <td>8.920000</td>\n",
       "      <td>3.430000</td>\n",
       "      <td>3347.750000</td>\n",
       "    </tr>\n",
       "    <tr>\n",
       "      <th>max</th>\n",
       "      <td>140180735.000000</td>\n",
       "      <td>91707729.000000</td>\n",
       "      <td>50141769.000000</td>\n",
       "      <td>6124000.000000</td>\n",
       "      <td>3923000.000000</td>\n",
       "      <td>171.100000</td>\n",
       "      <td>91.850000</td>\n",
       "      <td>79.260000</td>\n",
       "      <td>54264.000000</td>\n",
       "    </tr>\n",
       "  </tbody>\n",
       "</table>\n",
       "</div>"
      ],
      "text/plain": [
       "       total_vaccinations  people_vaccinated  people_fully_vaccinated  \\\n",
       "count         5231.000000        4688.000000              3186.000000   \n",
       "mean       2792692.129421     2156748.130546            950346.089768   \n",
       "std       10191138.729438     7169883.975902           3817420.599500   \n",
       "min              0.000000           0.000000                 1.000000   \n",
       "25%          42388.500000       39101.500000             20137.000000   \n",
       "50%         289210.000000      258811.000000            121351.500000   \n",
       "75%        1367629.000000     1034796.000000            503932.750000   \n",
       "max      140180735.000000    91707729.000000          50141769.000000   \n",
       "\n",
       "       daily_vaccinations_raw  daily_vaccinations  \\\n",
       "count             4415.000000         8260.000000   \n",
       "mean             99310.352208        63461.179540   \n",
       "std             335984.658804       230293.608592   \n",
       "min                  0.000000            1.000000   \n",
       "25%               2825.500000         1073.000000   \n",
       "50%              14152.000000         6158.500000   \n",
       "75%              57538.500000        27990.000000   \n",
       "max            6124000.000000      3923000.000000   \n",
       "\n",
       "       total_vaccinations_per_hundred  people_vaccinated_per_hundred  \\\n",
       "count                     5231.000000                    4688.000000   \n",
       "mean                        10.456412                       7.859851   \n",
       "std                         18.453447                      12.320235   \n",
       "min                          0.000000                       0.000000   \n",
       "25%                          0.820000                       0.830000   \n",
       "50%                          3.950000                       3.295000   \n",
       "75%                         11.710000                       8.920000   \n",
       "max                        171.100000                      91.850000   \n",
       "\n",
       "       people_fully_vaccinated_per_hundred  daily_vaccinations_per_million  \n",
       "count                          3186.000000                     8260.000000  \n",
       "mean                              3.829357                     2722.191889  \n",
       "std                               8.163778                     4129.512041  \n",
       "min                               0.000000                        0.000000  \n",
       "25%                               0.440000                      368.750000  \n",
       "50%                               1.550000                     1356.000000  \n",
       "75%                               3.430000                     3347.750000  \n",
       "max                              79.260000                    54264.000000  "
      ]
     },
     "execution_count": 9,
     "metadata": {},
     "output_type": "execute_result"
    }
   ],
   "source": [
    "# set pandas to float format to show full numbers\n",
    "pd.set_option('float_format', '{:f}'.format)\n",
    "\n",
    "# descriptive statistical values showing mean and five number summary\n",
    "vaccination.describe()"
   ]
  },
  {
   "cell_type": "markdown",
   "metadata": {},
   "source": [
    "No negative values found and no unreasonable values such as over 100 people per 100 people fully vaccinated.\n",
    "\n",
    "<b>Note:</b> one country has 171 total vaccinations per hundred. While this seems incorrect, this column registers single doses and as people require 2 doses this 171 is correct. Over 200 would be an impossible value.\n",
    "\n",
    "Test the number of null values per column to see which ones have high missing value ratios. However, don't remove the row as the row could contain valuable information to a different column. Missing value removal will be done when the column wants to be used."
   ]
  },
  {
   "cell_type": "code",
   "execution_count": 10,
   "metadata": {},
   "outputs": [
    {
     "data": {
      "text/plain": [
       "country                                   0\n",
       "iso_code                                  0\n",
       "date                                      0\n",
       "total_vaccinations                     3220\n",
       "people_vaccinated                      3763\n",
       "people_fully_vaccinated                5265\n",
       "daily_vaccinations_raw                 4036\n",
       "daily_vaccinations                      191\n",
       "total_vaccinations_per_hundred         3220\n",
       "people_vaccinated_per_hundred          3763\n",
       "people_fully_vaccinated_per_hundred    5265\n",
       "daily_vaccinations_per_million          191\n",
       "vaccines                                  0\n",
       "source_name                               0\n",
       "source_website                            0\n",
       "dtype: int64"
      ]
     },
     "execution_count": 10,
     "metadata": {},
     "output_type": "execute_result"
    }
   ],
   "source": [
    "# get the count of null values in each column\n",
    "vaccination.isnull().sum()"
   ]
  },
  {
   "cell_type": "markdown",
   "metadata": {},
   "source": [
    "Transform date data type to date time instead of object. "
   ]
  },
  {
   "cell_type": "code",
   "execution_count": 11,
   "metadata": {},
   "outputs": [
    {
     "name": "stdout",
     "output_type": "stream",
     "text": [
      "<class 'pandas.core.frame.DataFrame'>\n",
      "RangeIndex: 8451 entries, 0 to 8450\n",
      "Data columns (total 15 columns):\n",
      " #   Column                               Non-Null Count  Dtype         \n",
      "---  ------                               --------------  -----         \n",
      " 0   country                              8451 non-null   object        \n",
      " 1   iso_code                             8451 non-null   object        \n",
      " 2   date                                 8451 non-null   datetime64[ns]\n",
      " 3   total_vaccinations                   5231 non-null   float64       \n",
      " 4   people_vaccinated                    4688 non-null   float64       \n",
      " 5   people_fully_vaccinated              3186 non-null   float64       \n",
      " 6   daily_vaccinations_raw               4415 non-null   float64       \n",
      " 7   daily_vaccinations                   8260 non-null   float64       \n",
      " 8   total_vaccinations_per_hundred       5231 non-null   float64       \n",
      " 9   people_vaccinated_per_hundred        4688 non-null   float64       \n",
      " 10  people_fully_vaccinated_per_hundred  3186 non-null   float64       \n",
      " 11  daily_vaccinations_per_million       8260 non-null   float64       \n",
      " 12  vaccines                             8451 non-null   object        \n",
      " 13  source_name                          8451 non-null   object        \n",
      " 14  source_website                       8451 non-null   object        \n",
      "dtypes: datetime64[ns](1), float64(9), object(5)\n",
      "memory usage: 990.5+ KB\n"
     ]
    }
   ],
   "source": [
    "# convert data format to day, month, year\n",
    "vaccination['date'] = pd.to_datetime(vaccination['date'], format=\"%d/%m/%Y\", errors='raise')\n",
    "\n",
    "# check data type of date is now date time\n",
    "vaccination.info()"
   ]
  },
  {
   "cell_type": "markdown",
   "metadata": {},
   "source": [
    "#### Z-Scores\n",
    "Check the numerical column Z-scores to determine outliers"
   ]
  },
  {
   "cell_type": "code",
   "execution_count": 12,
   "metadata": {},
   "outputs": [],
   "source": [
    "# take just numerical columns and determine Z-score in new data frame called z-scores\n",
    "z_score_cols = vaccination[['total_vaccinations', 'people_vaccinated', 'people_fully_vaccinated', 'daily_vaccinations_raw',\n",
    "                          'daily_vaccinations', 'total_vaccinations_per_hundred', 'people_vaccinated_per_hundred',\n",
    "                          'people_fully_vaccinated_per_hundred', 'daily_vaccinations_per_million']].copy()\n",
    "\n",
    "z_scores = pd.DataFrame(stats.zscore(z_score_cols, nan_policy='omit'))"
   ]
  },
  {
   "cell_type": "code",
   "execution_count": 13,
   "metadata": {},
   "outputs": [
    {
     "data": {
      "text/html": [
       "<div>\n",
       "<style scoped>\n",
       "    .dataframe tbody tr th:only-of-type {\n",
       "        vertical-align: middle;\n",
       "    }\n",
       "\n",
       "    .dataframe tbody tr th {\n",
       "        vertical-align: top;\n",
       "    }\n",
       "\n",
       "    .dataframe thead th {\n",
       "        text-align: right;\n",
       "    }\n",
       "</style>\n",
       "<table border=\"1\" class=\"dataframe\">\n",
       "  <thead>\n",
       "    <tr style=\"text-align: right;\">\n",
       "      <th></th>\n",
       "      <th>0</th>\n",
       "      <th>1</th>\n",
       "      <th>2</th>\n",
       "      <th>3</th>\n",
       "      <th>4</th>\n",
       "      <th>5</th>\n",
       "      <th>6</th>\n",
       "      <th>7</th>\n",
       "      <th>8</th>\n",
       "    </tr>\n",
       "  </thead>\n",
       "  <tbody>\n",
       "    <tr>\n",
       "      <th>count</th>\n",
       "      <td>5231.000000</td>\n",
       "      <td>4688.000000</td>\n",
       "      <td>3186.000000</td>\n",
       "      <td>4415.000000</td>\n",
       "      <td>8260.000000</td>\n",
       "      <td>5231.000000</td>\n",
       "      <td>4688.000000</td>\n",
       "      <td>3186.000000</td>\n",
       "      <td>8260.000000</td>\n",
       "    </tr>\n",
       "    <tr>\n",
       "      <th>mean</th>\n",
       "      <td>-0.000000</td>\n",
       "      <td>0.000000</td>\n",
       "      <td>0.000000</td>\n",
       "      <td>-0.000000</td>\n",
       "      <td>0.000000</td>\n",
       "      <td>-0.000000</td>\n",
       "      <td>-0.000000</td>\n",
       "      <td>0.000000</td>\n",
       "      <td>-0.000000</td>\n",
       "    </tr>\n",
       "    <tr>\n",
       "      <th>std</th>\n",
       "      <td>1.000096</td>\n",
       "      <td>1.000107</td>\n",
       "      <td>1.000157</td>\n",
       "      <td>1.000113</td>\n",
       "      <td>1.000061</td>\n",
       "      <td>1.000096</td>\n",
       "      <td>1.000107</td>\n",
       "      <td>1.000157</td>\n",
       "      <td>1.000061</td>\n",
       "    </tr>\n",
       "    <tr>\n",
       "      <th>min</th>\n",
       "      <td>-0.274058</td>\n",
       "      <td>-0.300839</td>\n",
       "      <td>-0.248989</td>\n",
       "      <td>-0.295614</td>\n",
       "      <td>-0.275579</td>\n",
       "      <td>-0.566691</td>\n",
       "      <td>-0.638031</td>\n",
       "      <td>-0.469140</td>\n",
       "      <td>-0.659244</td>\n",
       "    </tr>\n",
       "    <tr>\n",
       "      <th>25%</th>\n",
       "      <td>-0.269898</td>\n",
       "      <td>-0.295384</td>\n",
       "      <td>-0.243713</td>\n",
       "      <td>-0.287203</td>\n",
       "      <td>-0.270924</td>\n",
       "      <td>-0.522251</td>\n",
       "      <td>-0.570655</td>\n",
       "      <td>-0.415235</td>\n",
       "      <td>-0.569942</td>\n",
       "    </tr>\n",
       "    <tr>\n",
       "      <th>50%</th>\n",
       "      <td>-0.245676</td>\n",
       "      <td>-0.264738</td>\n",
       "      <td>-0.217195</td>\n",
       "      <td>-0.253488</td>\n",
       "      <td>-0.248840</td>\n",
       "      <td>-0.352619</td>\n",
       "      <td>-0.370556</td>\n",
       "      <td>-0.279247</td>\n",
       "      <td>-0.330856</td>\n",
       "    </tr>\n",
       "    <tr>\n",
       "      <th>75%</th>\n",
       "      <td>-0.139847</td>\n",
       "      <td>-0.156498</td>\n",
       "      <td>-0.116959</td>\n",
       "      <td>-0.124341</td>\n",
       "      <td>-0.154035</td>\n",
       "      <td>0.067939</td>\n",
       "      <td>0.086059</td>\n",
       "      <td>-0.048926</td>\n",
       "      <td>0.151494</td>\n",
       "    </tr>\n",
       "    <tr>\n",
       "      <th>max</th>\n",
       "      <td>13.482416</td>\n",
       "      <td>12.491211</td>\n",
       "      <td>12.888060</td>\n",
       "      <td>17.933474</td>\n",
       "      <td>16.760224</td>\n",
       "      <td>8.706175</td>\n",
       "      <td>6.817979</td>\n",
       "      <td>9.241124</td>\n",
       "      <td>12.482087</td>\n",
       "    </tr>\n",
       "  </tbody>\n",
       "</table>\n",
       "</div>"
      ],
      "text/plain": [
       "                0           1           2           3           4           5  \\\n",
       "count 5231.000000 4688.000000 3186.000000 4415.000000 8260.000000 5231.000000   \n",
       "mean    -0.000000    0.000000    0.000000   -0.000000    0.000000   -0.000000   \n",
       "std      1.000096    1.000107    1.000157    1.000113    1.000061    1.000096   \n",
       "min     -0.274058   -0.300839   -0.248989   -0.295614   -0.275579   -0.566691   \n",
       "25%     -0.269898   -0.295384   -0.243713   -0.287203   -0.270924   -0.522251   \n",
       "50%     -0.245676   -0.264738   -0.217195   -0.253488   -0.248840   -0.352619   \n",
       "75%     -0.139847   -0.156498   -0.116959   -0.124341   -0.154035    0.067939   \n",
       "max     13.482416   12.491211   12.888060   17.933474   16.760224    8.706175   \n",
       "\n",
       "                6           7           8  \n",
       "count 4688.000000 3186.000000 8260.000000  \n",
       "mean    -0.000000    0.000000   -0.000000  \n",
       "std      1.000107    1.000157    1.000061  \n",
       "min     -0.638031   -0.469140   -0.659244  \n",
       "25%     -0.570655   -0.415235   -0.569942  \n",
       "50%     -0.370556   -0.279247   -0.330856  \n",
       "75%      0.086059   -0.048926    0.151494  \n",
       "max      6.817979    9.241124   12.482087  "
      ]
     },
     "execution_count": 13,
     "metadata": {},
     "output_type": "execute_result"
    }
   ],
   "source": [
    "# display Z-Score descriptive statistics to determine average, max, min, lower and upper quartile of Z-scores\n",
    "z_scores.describe()"
   ]
  },
  {
   "cell_type": "code",
   "execution_count": 14,
   "metadata": {},
   "outputs": [
    {
     "data": {
      "text/plain": [
       "0     74\n",
       "1     92\n",
       "2     42\n",
       "3     81\n",
       "4    144\n",
       "5    123\n",
       "6    103\n",
       "7     87\n",
       "8    144\n",
       "dtype: int64"
      ]
     },
     "execution_count": 14,
     "metadata": {},
     "output_type": "execute_result"
    }
   ],
   "source": [
    "z_scores[z_scores > np.abs(3.0)].count()"
   ]
  },
  {
   "cell_type": "markdown",
   "metadata": {},
   "source": [
    "As there are a large number of high z scores (greater than 3) due to different countries vaccination capabilities at different stages of their role outs, no outliers will be removed as this is valuable data and would lose a large number of data records."
   ]
  },
  {
   "cell_type": "markdown",
   "metadata": {},
   "source": [
    "#### Duplicate Rows\n",
    "Duplicate rows were determined in order to remove these so as not to provide misleading analysis"
   ]
  },
  {
   "cell_type": "code",
   "execution_count": 15,
   "metadata": {},
   "outputs": [
    {
     "data": {
      "text/plain": [
       "0"
      ]
     },
     "execution_count": 15,
     "metadata": {},
     "output_type": "execute_result"
    }
   ],
   "source": [
    "# test for duplicate rows\n",
    "vaccination.duplicated().sum()"
   ]
  },
  {
   "cell_type": "markdown",
   "metadata": {},
   "source": [
    "No duplicate rows found"
   ]
  },
  {
   "cell_type": "markdown",
   "metadata": {},
   "source": [
    "#### Feature Selection\n",
    "Filter stratergy was used to remove columns with low information gain and duplication that would not be neccisary for any of our analysis"
   ]
  },
  {
   "cell_type": "code",
   "execution_count": 16,
   "metadata": {},
   "outputs": [],
   "source": [
    "# drop source name, source website, raw daily vaccinations and ISO codes from dataframe to leave a clean and smaller dataset\n",
    "vaccination = vaccination.drop(columns=['source_name', 'source_website', 'iso_code', 'daily_vaccinations_raw'])"
   ]
  },
  {
   "cell_type": "markdown",
   "metadata": {},
   "source": [
    " "
   ]
  },
  {
   "cell_type": "markdown",
   "metadata": {},
   "source": [
    "\n",
    "\n",
    "\n"
   ]
  },
  {
   "cell_type": "markdown",
   "metadata": {},
   "source": [
    "## Exploratory Data Analysis\n",
    "Exploring the data in different ways. First some correlations were identified then many experiments were performed but only select few have been included so as not to clog code file. The following questions were explored here: \n",
    "\n",
    "1. Which country has vaccinated the most people and what vaccine have they used?\n",
    "2. Which country has fully vaccinated the most people?\n",
    "3. The most vaccines administered in a single day, and by which country?\n",
    "4. Which country has adminisered at least one dose to the largest percentage of their population?\n",
    "5. What vaccines are used in which countries?\n",
    "6. Which vaccines is the most used around the globe?\n",
    "\n",
    "Some further exploring was done to find interesting patterns by looking at various top and bottom 10 countries in different categories such as total vaccinations and largest percentage of population vaccinated.\n",
    "\n",
    "Finally, a line graph was plotted to show the variance in vaccination rates of some different countries."
   ]
  },
  {
   "cell_type": "markdown",
   "metadata": {},
   "source": [
    "#### Pearson Correlation\n",
    "Pearson Correlation was used to determine correlation between different columns"
   ]
  },
  {
   "cell_type": "code",
   "execution_count": 17,
   "metadata": {},
   "outputs": [
    {
     "data": {
      "image/png": "[encoded data removed]",
      "text/plain": [
       "<Figure size 432x288 with 2 Axes>"
      ]
     },
     "metadata": {
      "needs_background": "light"
     },
     "output_type": "display_data"
    }
   ],
   "source": [
    "# determine pearson correlation and display as heat map\n",
    "corr = vaccination.corr(method='pearson')\n",
    "\n",
    "ax = sns.heatmap(\n",
    "    corr, \n",
    "    vmin=-1, vmax=1, center=0,\n",
    "    cmap=sns.diverging_palette(20, 220, n=200),\n",
    "    square=True\n",
    ")\n",
    "ax.set_xticklabels(\n",
    "    ax.get_xticklabels(),\n",
    "    rotation=45,\n",
    "    horizontalalignment='right'\n",
    ");\n",
    "\n",
    "# source from https://towardsdatascience.com/better-heatmaps-and-correlation-matrix-plots-in-python-41445d0f2bec"
   ]
  },
  {
   "cell_type": "markdown",
   "metadata": {},
   "source": [
    "Descriptive statistics were able to be used to determine some interesting information such as country who has administered the most vaccines, the highest number of fully vaccinated people, the most vaccines administered on a single day, the country that has administered at least one dose to the largest percentage of their population and the most used vaccine around the world."
   ]
  },
  {
   "cell_type": "markdown",
   "metadata": {},
   "source": [
    "#### Most Vaccines Administers"
   ]
  },
  {
   "cell_type": "code",
   "execution_count": 18,
   "metadata": {},
   "outputs": [
    {
     "data": {
      "text/plain": [
       "8243"
      ]
     },
     "execution_count": 18,
     "metadata": {},
     "output_type": "execute_result"
    }
   ],
   "source": [
    "# determine the index that contains the highest total vaccination value and display\n",
    "most_vacs = vaccination['total_vaccinations'].idxmax()\n",
    "most_vacs"
   ]
  },
  {
   "cell_type": "code",
   "execution_count": 19,
   "metadata": {},
   "outputs": [],
   "source": [
    "# show the country, date and number of people vaccinated based on the highest total vaccination\n",
    "country_most, date_recorded, total_vaccinations_most = vaccination.iloc[most_vacs][['country', 'date', 'total_vaccinations']]"
   ]
  },
  {
   "cell_type": "code",
   "execution_count": 21,
   "metadata": {},
   "outputs": [],
   "source": [
    "vaccines_used = vaccination.loc[vaccination['country'] == country_most, 'vaccines']"
   ]
  },
  {
   "cell_type": "code",
   "execution_count": 25,
   "metadata": {},
   "outputs": [
    {
     "name": "stdout",
     "output_type": "stream",
     "text": [
      "United States has administer the most vaccinations as of 27 Mar 2021 with a total of 140180735 using ['Johnson&Johnson, Moderna, Pfizer/BioNTech'] vaccines.\n"
     ]
    }
   ],
   "source": [
    "print(country_most, 'has administer the most vaccinations as of', date_recorded.strftime(\"%d %b %Y\"), 'with a total of', \n",
    "      int(total_vaccinations_most), 'using', vaccines_used.unique(), 'vaccines.')"
   ]
  },
  {
   "cell_type": "markdown",
   "metadata": {},
   "source": [
    "#### Fully Vaccinated the Most People"
   ]
  },
  {
   "cell_type": "code",
   "execution_count": 26,
   "metadata": {},
   "outputs": [
    {
     "data": {
      "text/plain": [
       "8243"
      ]
     },
     "execution_count": 26,
     "metadata": {},
     "output_type": "execute_result"
    }
   ],
   "source": [
    "# determine the index that contains the highest total vaccination value and display\n",
    "most_full_vacs = vaccination['people_fully_vaccinated'].idxmax()\n",
    "most_full_vacs"
   ]
  },
  {
   "cell_type": "code",
   "execution_count": 29,
   "metadata": {},
   "outputs": [
    {
     "name": "stdout",
     "output_type": "stream",
     "text": [
      "United States has the most fully vaccinated people as of 27 Mar 2021 with a total of 50141769\n"
     ]
    }
   ],
   "source": [
    "# show the country, date and number of people vaccinated based on the highest total vaccination\n",
    "country_fully, date_fully, people_full_vacc = vaccination.iloc[most_full_vacs][['country', 'date', 'people_fully_vaccinated']]\n",
    "print(country_fully, 'has the most fully vaccinated people as of', date_fully.strftime(\"%d %b %Y\"), 'with a total of', \n",
    "      int(people_full_vacc))"
   ]
  },
  {
   "cell_type": "markdown",
   "metadata": {},
   "source": [
    "#### Most Vaccines Administered in SIngle Day"
   ]
  },
  {
   "cell_type": "code",
   "execution_count": null,
   "metadata": {},
   "outputs": [],
   "source": []
  },
  {
   "cell_type": "markdown",
   "metadata": {},
   "source": [
    "#### Country That Has Administered at least One Dose to the Largest Percentage of Their Population"
   ]
  },
  {
   "cell_type": "code",
   "execution_count": null,
   "metadata": {},
   "outputs": [],
   "source": []
  },
  {
   "cell_type": "markdown",
   "metadata": {},
   "source": [
    "#### Most used vaccine"
   ]
  },
  {
   "cell_type": "code",
   "execution_count": 30,
   "metadata": {},
   "outputs": [
    {
     "data": {
      "text/plain": [
       "Index(['country', 'vaccines'], dtype='object')"
      ]
     },
     "execution_count": 30,
     "metadata": {},
     "output_type": "execute_result"
    }
   ],
   "source": [
    "# Most used vaccine\n",
    "# taking just the country and vaccine\n",
    "most_used_vac = vaccination[['country','vaccines']]\n",
    "\n",
    "# check worked correctly\n",
    "most_used_vac.columns"
   ]
  },
  {
   "cell_type": "code",
   "execution_count": 31,
   "metadata": {
    "scrolled": true
   },
   "outputs": [
    {
     "data": {
      "text/html": [
       "<div>\n",
       "<style scoped>\n",
       "    .dataframe tbody tr th:only-of-type {\n",
       "        vertical-align: middle;\n",
       "    }\n",
       "\n",
       "    .dataframe tbody tr th {\n",
       "        vertical-align: top;\n",
       "    }\n",
       "\n",
       "    .dataframe thead th {\n",
       "        text-align: right;\n",
       "    }\n",
       "</style>\n",
       "<table border=\"1\" class=\"dataframe\">\n",
       "  <thead>\n",
       "    <tr style=\"text-align: right;\">\n",
       "      <th></th>\n",
       "      <th>country</th>\n",
       "      <th>0</th>\n",
       "      <th>1</th>\n",
       "      <th>2</th>\n",
       "      <th>3</th>\n",
       "      <th>4</th>\n",
       "    </tr>\n",
       "  </thead>\n",
       "  <tbody>\n",
       "    <tr>\n",
       "      <th>0</th>\n",
       "      <td>Afghanistan</td>\n",
       "      <td>Oxford/AstraZeneca</td>\n",
       "      <td>None</td>\n",
       "      <td>None</td>\n",
       "      <td>None</td>\n",
       "      <td>None</td>\n",
       "    </tr>\n",
       "    <tr>\n",
       "      <th>1</th>\n",
       "      <td>Afghanistan</td>\n",
       "      <td>Oxford/AstraZeneca</td>\n",
       "      <td>None</td>\n",
       "      <td>None</td>\n",
       "      <td>None</td>\n",
       "      <td>None</td>\n",
       "    </tr>\n",
       "    <tr>\n",
       "      <th>2</th>\n",
       "      <td>Afghanistan</td>\n",
       "      <td>Oxford/AstraZeneca</td>\n",
       "      <td>None</td>\n",
       "      <td>None</td>\n",
       "      <td>None</td>\n",
       "      <td>None</td>\n",
       "    </tr>\n",
       "    <tr>\n",
       "      <th>3</th>\n",
       "      <td>Afghanistan</td>\n",
       "      <td>Oxford/AstraZeneca</td>\n",
       "      <td>None</td>\n",
       "      <td>None</td>\n",
       "      <td>None</td>\n",
       "      <td>None</td>\n",
       "    </tr>\n",
       "    <tr>\n",
       "      <th>4</th>\n",
       "      <td>Afghanistan</td>\n",
       "      <td>Oxford/AstraZeneca</td>\n",
       "      <td>None</td>\n",
       "      <td>None</td>\n",
       "      <td>None</td>\n",
       "      <td>None</td>\n",
       "    </tr>\n",
       "    <tr>\n",
       "      <th>...</th>\n",
       "      <td>...</td>\n",
       "      <td>...</td>\n",
       "      <td>...</td>\n",
       "      <td>...</td>\n",
       "      <td>...</td>\n",
       "      <td>...</td>\n",
       "    </tr>\n",
       "    <tr>\n",
       "      <th>8446</th>\n",
       "      <td>Zimbabwe</td>\n",
       "      <td>Sinopharm/Beijing</td>\n",
       "      <td>None</td>\n",
       "      <td>None</td>\n",
       "      <td>None</td>\n",
       "      <td>None</td>\n",
       "    </tr>\n",
       "    <tr>\n",
       "      <th>8447</th>\n",
       "      <td>Zimbabwe</td>\n",
       "      <td>Sinopharm/Beijing</td>\n",
       "      <td>None</td>\n",
       "      <td>None</td>\n",
       "      <td>None</td>\n",
       "      <td>None</td>\n",
       "    </tr>\n",
       "    <tr>\n",
       "      <th>8448</th>\n",
       "      <td>Zimbabwe</td>\n",
       "      <td>Sinopharm/Beijing</td>\n",
       "      <td>None</td>\n",
       "      <td>None</td>\n",
       "      <td>None</td>\n",
       "      <td>None</td>\n",
       "    </tr>\n",
       "    <tr>\n",
       "      <th>8449</th>\n",
       "      <td>Zimbabwe</td>\n",
       "      <td>Sinopharm/Beijing</td>\n",
       "      <td>None</td>\n",
       "      <td>None</td>\n",
       "      <td>None</td>\n",
       "      <td>None</td>\n",
       "    </tr>\n",
       "    <tr>\n",
       "      <th>8450</th>\n",
       "      <td>Zimbabwe</td>\n",
       "      <td>Sinopharm/Beijing</td>\n",
       "      <td>None</td>\n",
       "      <td>None</td>\n",
       "      <td>None</td>\n",
       "      <td>None</td>\n",
       "    </tr>\n",
       "  </tbody>\n",
       "</table>\n",
       "<p>8451 rows × 6 columns</p>\n",
       "</div>"
      ],
      "text/plain": [
       "          country                   0     1     2     3     4\n",
       "0     Afghanistan  Oxford/AstraZeneca  None  None  None  None\n",
       "1     Afghanistan  Oxford/AstraZeneca  None  None  None  None\n",
       "2     Afghanistan  Oxford/AstraZeneca  None  None  None  None\n",
       "3     Afghanistan  Oxford/AstraZeneca  None  None  None  None\n",
       "4     Afghanistan  Oxford/AstraZeneca  None  None  None  None\n",
       "...           ...                 ...   ...   ...   ...   ...\n",
       "8446     Zimbabwe   Sinopharm/Beijing  None  None  None  None\n",
       "8447     Zimbabwe   Sinopharm/Beijing  None  None  None  None\n",
       "8448     Zimbabwe   Sinopharm/Beijing  None  None  None  None\n",
       "8449     Zimbabwe   Sinopharm/Beijing  None  None  None  None\n",
       "8450     Zimbabwe   Sinopharm/Beijing  None  None  None  None\n",
       "\n",
       "[8451 rows x 6 columns]"
      ]
     },
     "execution_count": 31,
     "metadata": {},
     "output_type": "execute_result"
    }
   ],
   "source": [
    "# concat multiple vaccines contained by spliting at commas\n",
    "most_used_vac = pd.concat([most_used_vac['country'], most_used_vac['vaccines'].str.split(', ', expand=True)], axis=1)\n",
    "most_used_vac"
   ]
  },
  {
   "cell_type": "code",
   "execution_count": 32,
   "metadata": {},
   "outputs": [
    {
     "data": {
      "text/html": [
       "<div>\n",
       "<style scoped>\n",
       "    .dataframe tbody tr th:only-of-type {\n",
       "        vertical-align: middle;\n",
       "    }\n",
       "\n",
       "    .dataframe tbody tr th {\n",
       "        vertical-align: top;\n",
       "    }\n",
       "\n",
       "    .dataframe thead th {\n",
       "        text-align: right;\n",
       "    }\n",
       "</style>\n",
       "<table border=\"1\" class=\"dataframe\">\n",
       "  <thead>\n",
       "    <tr style=\"text-align: right;\">\n",
       "      <th></th>\n",
       "      <th>country</th>\n",
       "      <th>variable</th>\n",
       "      <th>value</th>\n",
       "    </tr>\n",
       "  </thead>\n",
       "  <tbody>\n",
       "    <tr>\n",
       "      <th>0</th>\n",
       "      <td>Afghanistan</td>\n",
       "      <td>0</td>\n",
       "      <td>Oxford/AstraZeneca</td>\n",
       "    </tr>\n",
       "    <tr>\n",
       "      <th>1</th>\n",
       "      <td>Afghanistan</td>\n",
       "      <td>0</td>\n",
       "      <td>Oxford/AstraZeneca</td>\n",
       "    </tr>\n",
       "    <tr>\n",
       "      <th>2</th>\n",
       "      <td>Afghanistan</td>\n",
       "      <td>0</td>\n",
       "      <td>Oxford/AstraZeneca</td>\n",
       "    </tr>\n",
       "    <tr>\n",
       "      <th>3</th>\n",
       "      <td>Afghanistan</td>\n",
       "      <td>0</td>\n",
       "      <td>Oxford/AstraZeneca</td>\n",
       "    </tr>\n",
       "    <tr>\n",
       "      <th>4</th>\n",
       "      <td>Afghanistan</td>\n",
       "      <td>0</td>\n",
       "      <td>Oxford/AstraZeneca</td>\n",
       "    </tr>\n",
       "    <tr>\n",
       "      <th>...</th>\n",
       "      <td>...</td>\n",
       "      <td>...</td>\n",
       "      <td>...</td>\n",
       "    </tr>\n",
       "    <tr>\n",
       "      <th>42250</th>\n",
       "      <td>Zimbabwe</td>\n",
       "      <td>4</td>\n",
       "      <td>None</td>\n",
       "    </tr>\n",
       "    <tr>\n",
       "      <th>42251</th>\n",
       "      <td>Zimbabwe</td>\n",
       "      <td>4</td>\n",
       "      <td>None</td>\n",
       "    </tr>\n",
       "    <tr>\n",
       "      <th>42252</th>\n",
       "      <td>Zimbabwe</td>\n",
       "      <td>4</td>\n",
       "      <td>None</td>\n",
       "    </tr>\n",
       "    <tr>\n",
       "      <th>42253</th>\n",
       "      <td>Zimbabwe</td>\n",
       "      <td>4</td>\n",
       "      <td>None</td>\n",
       "    </tr>\n",
       "    <tr>\n",
       "      <th>42254</th>\n",
       "      <td>Zimbabwe</td>\n",
       "      <td>4</td>\n",
       "      <td>None</td>\n",
       "    </tr>\n",
       "  </tbody>\n",
       "</table>\n",
       "<p>42255 rows × 3 columns</p>\n",
       "</div>"
      ],
      "text/plain": [
       "           country variable               value\n",
       "0      Afghanistan        0  Oxford/AstraZeneca\n",
       "1      Afghanistan        0  Oxford/AstraZeneca\n",
       "2      Afghanistan        0  Oxford/AstraZeneca\n",
       "3      Afghanistan        0  Oxford/AstraZeneca\n",
       "4      Afghanistan        0  Oxford/AstraZeneca\n",
       "...            ...      ...                 ...\n",
       "42250     Zimbabwe        4                None\n",
       "42251     Zimbabwe        4                None\n",
       "42252     Zimbabwe        4                None\n",
       "42253     Zimbabwe        4                None\n",
       "42254     Zimbabwe        4                None\n",
       "\n",
       "[42255 rows x 3 columns]"
      ]
     },
     "execution_count": 32,
     "metadata": {},
     "output_type": "execute_result"
    }
   ],
   "source": [
    "# melt the different columns into a single one with country\n",
    "most_used_vac = most_used_vac.melt(id_vars=['country'])\n",
    "most_used_vac"
   ]
  },
  {
   "cell_type": "code",
   "execution_count": 33,
   "metadata": {},
   "outputs": [
    {
     "data": {
      "text/plain": [
       "country        0\n",
       "value      25072\n",
       "dtype: int64"
      ]
     },
     "execution_count": 33,
     "metadata": {},
     "output_type": "execute_result"
    }
   ],
   "source": [
    "# remove variable column\n",
    "most_used_vac.drop('variable', axis=1, inplace=True)\n",
    "\n",
    "# check number of null values in dataframe\n",
    "most_used_vac.isnull().sum()"
   ]
  },
  {
   "cell_type": "code",
   "execution_count": 34,
   "metadata": {},
   "outputs": [
    {
     "data": {
      "text/html": [
       "<div>\n",
       "<style scoped>\n",
       "    .dataframe tbody tr th:only-of-type {\n",
       "        vertical-align: middle;\n",
       "    }\n",
       "\n",
       "    .dataframe tbody tr th {\n",
       "        vertical-align: top;\n",
       "    }\n",
       "\n",
       "    .dataframe thead th {\n",
       "        text-align: right;\n",
       "    }\n",
       "</style>\n",
       "<table border=\"1\" class=\"dataframe\">\n",
       "  <thead>\n",
       "    <tr style=\"text-align: right;\">\n",
       "      <th></th>\n",
       "      <th>country</th>\n",
       "      <th>vaccines</th>\n",
       "    </tr>\n",
       "  </thead>\n",
       "  <tbody>\n",
       "    <tr>\n",
       "      <th>0</th>\n",
       "      <td>Afghanistan</td>\n",
       "      <td>Oxford/AstraZeneca</td>\n",
       "    </tr>\n",
       "    <tr>\n",
       "      <th>1</th>\n",
       "      <td>Afghanistan</td>\n",
       "      <td>Oxford/AstraZeneca</td>\n",
       "    </tr>\n",
       "    <tr>\n",
       "      <th>2</th>\n",
       "      <td>Afghanistan</td>\n",
       "      <td>Oxford/AstraZeneca</td>\n",
       "    </tr>\n",
       "    <tr>\n",
       "      <th>3</th>\n",
       "      <td>Afghanistan</td>\n",
       "      <td>Oxford/AstraZeneca</td>\n",
       "    </tr>\n",
       "    <tr>\n",
       "      <th>4</th>\n",
       "      <td>Afghanistan</td>\n",
       "      <td>Oxford/AstraZeneca</td>\n",
       "    </tr>\n",
       "  </tbody>\n",
       "</table>\n",
       "</div>"
      ],
      "text/plain": [
       "       country            vaccines\n",
       "0  Afghanistan  Oxford/AstraZeneca\n",
       "1  Afghanistan  Oxford/AstraZeneca\n",
       "2  Afghanistan  Oxford/AstraZeneca\n",
       "3  Afghanistan  Oxford/AstraZeneca\n",
       "4  Afghanistan  Oxford/AstraZeneca"
      ]
     },
     "execution_count": 34,
     "metadata": {},
     "output_type": "execute_result"
    }
   ],
   "source": [
    "# show columns and head\n",
    "most_used_vac.columns = ['country','vaccines']\n",
    "most_used_vac.head()"
   ]
  },
  {
   "cell_type": "code",
   "execution_count": 35,
   "metadata": {},
   "outputs": [
    {
     "name": "stdout",
     "output_type": "stream",
     "text": [
      "11\n"
     ]
    },
    {
     "data": {
      "text/plain": [
       "array(['Oxford/AstraZeneca', 'Pfizer/BioNTech', 'Sputnik V', 'Moderna',\n",
       "       'Sinovac', 'Sinopharm/Beijing', 'Covaxin', 'EpiVacCorona',\n",
       "       'Johnson&Johnson', None, 'Sinopharm/Wuhan'], dtype=object)"
      ]
     },
     "execution_count": 35,
     "metadata": {},
     "output_type": "execute_result"
    }
   ],
   "source": [
    "# display the number of unique vaccine entries and what they are\n",
    "print(len(most_used_vac.vaccines.unique()))\n",
    "most_used_vac.vaccines.unique()"
   ]
  },
  {
   "cell_type": "code",
   "execution_count": 36,
   "metadata": {},
   "outputs": [
    {
     "name": "stdout",
     "output_type": "stream",
     "text": [
      "<class 'pandas.core.frame.DataFrame'>\n",
      "RangeIndex: 42255 entries, 0 to 42254\n",
      "Data columns (total 2 columns):\n",
      " #   Column    Non-Null Count  Dtype \n",
      "---  ------    --------------  ----- \n",
      " 0   country   42255 non-null  object\n",
      " 1   vaccines  17183 non-null  object\n",
      "dtypes: object(2)\n",
      "memory usage: 660.4+ KB\n"
     ]
    }
   ],
   "source": [
    "# get information from data frame\n",
    "most_used_vac.info()"
   ]
  },
  {
   "cell_type": "code",
   "execution_count": 37,
   "metadata": {},
   "outputs": [
    {
     "data": {
      "text/plain": [
       "country     0\n",
       "vaccines    0\n",
       "dtype: int64"
      ]
     },
     "execution_count": 37,
     "metadata": {},
     "output_type": "execute_result"
    }
   ],
   "source": [
    "# drop all rows containing null values as any country that only uses one\n",
    "# vaccine will have many NA values\n",
    "most_used_vac = most_used_vac.dropna(axis=0)\n",
    "\n",
    "# check all null values been removed\n",
    "most_used_vac.isnull().sum()"
   ]
  },
  {
   "cell_type": "code",
   "execution_count": 38,
   "metadata": {},
   "outputs": [
    {
     "name": "stdout",
     "output_type": "stream",
     "text": [
      "10\n"
     ]
    }
   ],
   "source": [
    "# check unique vaccines after none has been removed\n",
    "print(len(most_used_vac.vaccines.unique()))"
   ]
  },
  {
   "cell_type": "code",
   "execution_count": 39,
   "metadata": {},
   "outputs": [
    {
     "data": {
      "text/html": [
       "<div>\n",
       "<style scoped>\n",
       "    .dataframe tbody tr th:only-of-type {\n",
       "        vertical-align: middle;\n",
       "    }\n",
       "\n",
       "    .dataframe tbody tr th {\n",
       "        vertical-align: top;\n",
       "    }\n",
       "\n",
       "    .dataframe thead th {\n",
       "        text-align: right;\n",
       "    }\n",
       "</style>\n",
       "<table border=\"1\" class=\"dataframe\">\n",
       "  <thead>\n",
       "    <tr style=\"text-align: right;\">\n",
       "      <th></th>\n",
       "      <th>unique</th>\n",
       "    </tr>\n",
       "    <tr>\n",
       "      <th>vaccines</th>\n",
       "      <th></th>\n",
       "    </tr>\n",
       "  </thead>\n",
       "  <tbody>\n",
       "    <tr>\n",
       "      <th>Covaxin</th>\n",
       "      <td>[India]</td>\n",
       "    </tr>\n",
       "    <tr>\n",
       "      <th>EpiVacCorona</th>\n",
       "      <td>[Russia]</td>\n",
       "    </tr>\n",
       "    <tr>\n",
       "      <th>Johnson&amp;Johnson</th>\n",
       "      <td>[South Africa, United States]</td>\n",
       "    </tr>\n",
       "    <tr>\n",
       "      <th>Moderna</th>\n",
       "      <td>[Austria, Belgium, Bulgaria, Canada, Czechia, ...</td>\n",
       "    </tr>\n",
       "    <tr>\n",
       "      <th>Oxford/AstraZeneca</th>\n",
       "      <td>[Afghanistan, Angola, Anguilla, Antigua and Ba...</td>\n",
       "    </tr>\n",
       "    <tr>\n",
       "      <th>Pfizer/BioNTech</th>\n",
       "      <td>[Albania, Andorra, Bermuda, Cayman Islands, Ch...</td>\n",
       "    </tr>\n",
       "    <tr>\n",
       "      <th>Sinopharm/Beijing</th>\n",
       "      <td>[Cambodia, China, Egypt, Equatorial Guinea, La...</td>\n",
       "    </tr>\n",
       "    <tr>\n",
       "      <th>Sinopharm/Wuhan</th>\n",
       "      <td>[China, United Arab Emirates]</td>\n",
       "    </tr>\n",
       "    <tr>\n",
       "      <th>Sinovac</th>\n",
       "      <td>[Azerbaijan, Indonesia, Brazil, Chile, Colombi...</td>\n",
       "    </tr>\n",
       "    <tr>\n",
       "      <th>Sputnik V</th>\n",
       "      <td>[Algeria, Belarus, Bolivia, Guinea, Iran, Kaza...</td>\n",
       "    </tr>\n",
       "  </tbody>\n",
       "</table>\n",
       "</div>"
      ],
      "text/plain": [
       "                                                               unique\n",
       "vaccines                                                             \n",
       "Covaxin                                                       [India]\n",
       "EpiVacCorona                                                 [Russia]\n",
       "Johnson&Johnson                         [South Africa, United States]\n",
       "Moderna             [Austria, Belgium, Bulgaria, Canada, Czechia, ...\n",
       "Oxford/AstraZeneca  [Afghanistan, Angola, Anguilla, Antigua and Ba...\n",
       "Pfizer/BioNTech     [Albania, Andorra, Bermuda, Cayman Islands, Ch...\n",
       "Sinopharm/Beijing   [Cambodia, China, Egypt, Equatorial Guinea, La...\n",
       "Sinopharm/Wuhan                         [China, United Arab Emirates]\n",
       "Sinovac             [Azerbaijan, Indonesia, Brazil, Chile, Colombi...\n",
       "Sputnik V           [Algeria, Belarus, Bolivia, Guinea, Iran, Kaza..."
      ]
     },
     "execution_count": 39,
     "metadata": {},
     "output_type": "execute_result"
    }
   ],
   "source": [
    "# create a summary grouping countries by unique vaccines\n",
    "summary = most_used_vac.groupby('vaccines')['country'].agg(['unique'])\n",
    "# display summary\n",
    "summary"
   ]
  },
  {
   "cell_type": "code",
   "execution_count": 40,
   "metadata": {},
   "outputs": [
    {
     "data": {
      "text/html": [
       "<div>\n",
       "<style scoped>\n",
       "    .dataframe tbody tr th:only-of-type {\n",
       "        vertical-align: middle;\n",
       "    }\n",
       "\n",
       "    .dataframe tbody tr th {\n",
       "        vertical-align: top;\n",
       "    }\n",
       "\n",
       "    .dataframe thead th {\n",
       "        text-align: right;\n",
       "    }\n",
       "</style>\n",
       "<table border=\"1\" class=\"dataframe\">\n",
       "  <thead>\n",
       "    <tr style=\"text-align: right;\">\n",
       "      <th></th>\n",
       "      <th>unique</th>\n",
       "      <th>nCountry</th>\n",
       "    </tr>\n",
       "    <tr>\n",
       "      <th>vaccines</th>\n",
       "      <th></th>\n",
       "      <th></th>\n",
       "    </tr>\n",
       "  </thead>\n",
       "  <tbody>\n",
       "    <tr>\n",
       "      <th>Covaxin</th>\n",
       "      <td>[India]</td>\n",
       "      <td>1</td>\n",
       "    </tr>\n",
       "    <tr>\n",
       "      <th>EpiVacCorona</th>\n",
       "      <td>[Russia]</td>\n",
       "      <td>1</td>\n",
       "    </tr>\n",
       "    <tr>\n",
       "      <th>Johnson&amp;Johnson</th>\n",
       "      <td>[South Africa, United States]</td>\n",
       "      <td>2</td>\n",
       "    </tr>\n",
       "    <tr>\n",
       "      <th>Moderna</th>\n",
       "      <td>[Austria, Belgium, Bulgaria, Canada, Czechia, ...</td>\n",
       "      <td>34</td>\n",
       "    </tr>\n",
       "    <tr>\n",
       "      <th>Oxford/AstraZeneca</th>\n",
       "      <td>[Afghanistan, Angola, Anguilla, Antigua and Ba...</td>\n",
       "      <td>92</td>\n",
       "    </tr>\n",
       "    <tr>\n",
       "      <th>Pfizer/BioNTech</th>\n",
       "      <td>[Albania, Andorra, Bermuda, Cayman Islands, Ch...</td>\n",
       "      <td>80</td>\n",
       "    </tr>\n",
       "    <tr>\n",
       "      <th>Sinopharm/Beijing</th>\n",
       "      <td>[Cambodia, China, Egypt, Equatorial Guinea, La...</td>\n",
       "      <td>21</td>\n",
       "    </tr>\n",
       "    <tr>\n",
       "      <th>Sinopharm/Wuhan</th>\n",
       "      <td>[China, United Arab Emirates]</td>\n",
       "      <td>2</td>\n",
       "    </tr>\n",
       "    <tr>\n",
       "      <th>Sinovac</th>\n",
       "      <td>[Azerbaijan, Indonesia, Brazil, Chile, Colombi...</td>\n",
       "      <td>14</td>\n",
       "    </tr>\n",
       "    <tr>\n",
       "      <th>Sputnik V</th>\n",
       "      <td>[Algeria, Belarus, Bolivia, Guinea, Iran, Kaza...</td>\n",
       "      <td>20</td>\n",
       "    </tr>\n",
       "  </tbody>\n",
       "</table>\n",
       "</div>"
      ],
      "text/plain": [
       "                                                               unique  \\\n",
       "vaccines                                                                \n",
       "Covaxin                                                       [India]   \n",
       "EpiVacCorona                                                 [Russia]   \n",
       "Johnson&Johnson                         [South Africa, United States]   \n",
       "Moderna             [Austria, Belgium, Bulgaria, Canada, Czechia, ...   \n",
       "Oxford/AstraZeneca  [Afghanistan, Angola, Anguilla, Antigua and Ba...   \n",
       "Pfizer/BioNTech     [Albania, Andorra, Bermuda, Cayman Islands, Ch...   \n",
       "Sinopharm/Beijing   [Cambodia, China, Egypt, Equatorial Guinea, La...   \n",
       "Sinopharm/Wuhan                         [China, United Arab Emirates]   \n",
       "Sinovac             [Azerbaijan, Indonesia, Brazil, Chile, Colombi...   \n",
       "Sputnik V           [Algeria, Belarus, Bolivia, Guinea, Iran, Kaza...   \n",
       "\n",
       "                    nCountry  \n",
       "vaccines                      \n",
       "Covaxin                    1  \n",
       "EpiVacCorona               1  \n",
       "Johnson&Johnson            2  \n",
       "Moderna                   34  \n",
       "Oxford/AstraZeneca        92  \n",
       "Pfizer/BioNTech           80  \n",
       "Sinopharm/Beijing         21  \n",
       "Sinopharm/Wuhan            2  \n",
       "Sinovac                   14  \n",
       "Sputnik V                 20  "
      ]
     },
     "execution_count": 40,
     "metadata": {},
     "output_type": "execute_result"
    }
   ],
   "source": [
    "# add a number of countries column to data frame\n",
    "summary['nCountry'] = summary.unique.str.len()\n",
    "# display summary\n",
    "summary"
   ]
  },
  {
   "cell_type": "code",
   "execution_count": 41,
   "metadata": {},
   "outputs": [
    {
     "data": {
      "text/plain": [
       "267"
      ]
     },
     "execution_count": 41,
     "metadata": {},
     "output_type": "execute_result"
    }
   ],
   "source": [
    "# display number of countries identified\n",
    "summary.nCountry.sum()"
   ]
  },
  {
   "cell_type": "code",
   "execution_count": 42,
   "metadata": {},
   "outputs": [
    {
     "data": {
      "text/html": [
       "<div>\n",
       "<style scoped>\n",
       "    .dataframe tbody tr th:only-of-type {\n",
       "        vertical-align: middle;\n",
       "    }\n",
       "\n",
       "    .dataframe tbody tr th {\n",
       "        vertical-align: top;\n",
       "    }\n",
       "\n",
       "    .dataframe thead th {\n",
       "        text-align: right;\n",
       "    }\n",
       "</style>\n",
       "<table border=\"1\" class=\"dataframe\">\n",
       "  <thead>\n",
       "    <tr style=\"text-align: right;\">\n",
       "      <th></th>\n",
       "      <th>unique</th>\n",
       "      <th>nCountry</th>\n",
       "      <th>pCountry</th>\n",
       "    </tr>\n",
       "    <tr>\n",
       "      <th>vaccines</th>\n",
       "      <th></th>\n",
       "      <th></th>\n",
       "      <th></th>\n",
       "    </tr>\n",
       "  </thead>\n",
       "  <tbody>\n",
       "    <tr>\n",
       "      <th>Covaxin</th>\n",
       "      <td>[India]</td>\n",
       "      <td>1</td>\n",
       "      <td>0.374532</td>\n",
       "    </tr>\n",
       "    <tr>\n",
       "      <th>EpiVacCorona</th>\n",
       "      <td>[Russia]</td>\n",
       "      <td>1</td>\n",
       "      <td>0.374532</td>\n",
       "    </tr>\n",
       "    <tr>\n",
       "      <th>Johnson&amp;Johnson</th>\n",
       "      <td>[South Africa, United States]</td>\n",
       "      <td>2</td>\n",
       "      <td>0.749064</td>\n",
       "    </tr>\n",
       "    <tr>\n",
       "      <th>Moderna</th>\n",
       "      <td>[Austria, Belgium, Bulgaria, Canada, Czechia, ...</td>\n",
       "      <td>34</td>\n",
       "      <td>12.734082</td>\n",
       "    </tr>\n",
       "    <tr>\n",
       "      <th>Oxford/AstraZeneca</th>\n",
       "      <td>[Afghanistan, Angola, Anguilla, Antigua and Ba...</td>\n",
       "      <td>92</td>\n",
       "      <td>34.456929</td>\n",
       "    </tr>\n",
       "    <tr>\n",
       "      <th>Pfizer/BioNTech</th>\n",
       "      <td>[Albania, Andorra, Bermuda, Cayman Islands, Ch...</td>\n",
       "      <td>80</td>\n",
       "      <td>29.962547</td>\n",
       "    </tr>\n",
       "    <tr>\n",
       "      <th>Sinopharm/Beijing</th>\n",
       "      <td>[Cambodia, China, Egypt, Equatorial Guinea, La...</td>\n",
       "      <td>21</td>\n",
       "      <td>7.865169</td>\n",
       "    </tr>\n",
       "    <tr>\n",
       "      <th>Sinopharm/Wuhan</th>\n",
       "      <td>[China, United Arab Emirates]</td>\n",
       "      <td>2</td>\n",
       "      <td>0.749064</td>\n",
       "    </tr>\n",
       "    <tr>\n",
       "      <th>Sinovac</th>\n",
       "      <td>[Azerbaijan, Indonesia, Brazil, Chile, Colombi...</td>\n",
       "      <td>14</td>\n",
       "      <td>5.243446</td>\n",
       "    </tr>\n",
       "    <tr>\n",
       "      <th>Sputnik V</th>\n",
       "      <td>[Algeria, Belarus, Bolivia, Guinea, Iran, Kaza...</td>\n",
       "      <td>20</td>\n",
       "      <td>7.490637</td>\n",
       "    </tr>\n",
       "  </tbody>\n",
       "</table>\n",
       "</div>"
      ],
      "text/plain": [
       "                                                               unique  \\\n",
       "vaccines                                                                \n",
       "Covaxin                                                       [India]   \n",
       "EpiVacCorona                                                 [Russia]   \n",
       "Johnson&Johnson                         [South Africa, United States]   \n",
       "Moderna             [Austria, Belgium, Bulgaria, Canada, Czechia, ...   \n",
       "Oxford/AstraZeneca  [Afghanistan, Angola, Anguilla, Antigua and Ba...   \n",
       "Pfizer/BioNTech     [Albania, Andorra, Bermuda, Cayman Islands, Ch...   \n",
       "Sinopharm/Beijing   [Cambodia, China, Egypt, Equatorial Guinea, La...   \n",
       "Sinopharm/Wuhan                         [China, United Arab Emirates]   \n",
       "Sinovac             [Azerbaijan, Indonesia, Brazil, Chile, Colombi...   \n",
       "Sputnik V           [Algeria, Belarus, Bolivia, Guinea, Iran, Kaza...   \n",
       "\n",
       "                    nCountry  pCountry  \n",
       "vaccines                                \n",
       "Covaxin                    1  0.374532  \n",
       "EpiVacCorona               1  0.374532  \n",
       "Johnson&Johnson            2  0.749064  \n",
       "Moderna                   34 12.734082  \n",
       "Oxford/AstraZeneca        92 34.456929  \n",
       "Pfizer/BioNTech           80 29.962547  \n",
       "Sinopharm/Beijing         21  7.865169  \n",
       "Sinopharm/Wuhan            2  0.749064  \n",
       "Sinovac                   14  5.243446  \n",
       "Sputnik V                 20  7.490637  "
      ]
     },
     "execution_count": 42,
     "metadata": {},
     "output_type": "execute_result"
    }
   ],
   "source": [
    "# work out the percentage of countries that use each vaccine and add new column\n",
    "summary = summary.assign(pCountry = lambda x: ((x['nCountry'])/summary.nCountry.sum()) * 100)\n",
    "# display\n",
    "summary"
   ]
  },
  {
   "cell_type": "code",
   "execution_count": 43,
   "metadata": {},
   "outputs": [
    {
     "data": {
      "text/html": [
       "<div>\n",
       "<style scoped>\n",
       "    .dataframe tbody tr th:only-of-type {\n",
       "        vertical-align: middle;\n",
       "    }\n",
       "\n",
       "    .dataframe tbody tr th {\n",
       "        vertical-align: top;\n",
       "    }\n",
       "\n",
       "    .dataframe thead th {\n",
       "        text-align: right;\n",
       "    }\n",
       "</style>\n",
       "<table border=\"1\" class=\"dataframe\">\n",
       "  <thead>\n",
       "    <tr style=\"text-align: right;\">\n",
       "      <th></th>\n",
       "      <th>unique</th>\n",
       "      <th>nCountry</th>\n",
       "      <th>pCountry</th>\n",
       "    </tr>\n",
       "    <tr>\n",
       "      <th>vaccines</th>\n",
       "      <th></th>\n",
       "      <th></th>\n",
       "      <th></th>\n",
       "    </tr>\n",
       "  </thead>\n",
       "  <tbody>\n",
       "    <tr>\n",
       "      <th>Oxford/AstraZeneca</th>\n",
       "      <td>[Afghanistan, Angola, Anguilla, Antigua and Ba...</td>\n",
       "      <td>92</td>\n",
       "      <td>34.456929</td>\n",
       "    </tr>\n",
       "    <tr>\n",
       "      <th>Pfizer/BioNTech</th>\n",
       "      <td>[Albania, Andorra, Bermuda, Cayman Islands, Ch...</td>\n",
       "      <td>80</td>\n",
       "      <td>29.962547</td>\n",
       "    </tr>\n",
       "    <tr>\n",
       "      <th>Moderna</th>\n",
       "      <td>[Austria, Belgium, Bulgaria, Canada, Czechia, ...</td>\n",
       "      <td>34</td>\n",
       "      <td>12.734082</td>\n",
       "    </tr>\n",
       "    <tr>\n",
       "      <th>Sinopharm/Beijing</th>\n",
       "      <td>[Cambodia, China, Egypt, Equatorial Guinea, La...</td>\n",
       "      <td>21</td>\n",
       "      <td>7.865169</td>\n",
       "    </tr>\n",
       "    <tr>\n",
       "      <th>Sputnik V</th>\n",
       "      <td>[Algeria, Belarus, Bolivia, Guinea, Iran, Kaza...</td>\n",
       "      <td>20</td>\n",
       "      <td>7.490637</td>\n",
       "    </tr>\n",
       "    <tr>\n",
       "      <th>Sinovac</th>\n",
       "      <td>[Azerbaijan, Indonesia, Brazil, Chile, Colombi...</td>\n",
       "      <td>14</td>\n",
       "      <td>5.243446</td>\n",
       "    </tr>\n",
       "    <tr>\n",
       "      <th>Johnson&amp;Johnson</th>\n",
       "      <td>[South Africa, United States]</td>\n",
       "      <td>2</td>\n",
       "      <td>0.749064</td>\n",
       "    </tr>\n",
       "    <tr>\n",
       "      <th>Sinopharm/Wuhan</th>\n",
       "      <td>[China, United Arab Emirates]</td>\n",
       "      <td>2</td>\n",
       "      <td>0.749064</td>\n",
       "    </tr>\n",
       "    <tr>\n",
       "      <th>Covaxin</th>\n",
       "      <td>[India]</td>\n",
       "      <td>1</td>\n",
       "      <td>0.374532</td>\n",
       "    </tr>\n",
       "    <tr>\n",
       "      <th>EpiVacCorona</th>\n",
       "      <td>[Russia]</td>\n",
       "      <td>1</td>\n",
       "      <td>0.374532</td>\n",
       "    </tr>\n",
       "  </tbody>\n",
       "</table>\n",
       "</div>"
      ],
      "text/plain": [
       "                                                               unique  \\\n",
       "vaccines                                                                \n",
       "Oxford/AstraZeneca  [Afghanistan, Angola, Anguilla, Antigua and Ba...   \n",
       "Pfizer/BioNTech     [Albania, Andorra, Bermuda, Cayman Islands, Ch...   \n",
       "Moderna             [Austria, Belgium, Bulgaria, Canada, Czechia, ...   \n",
       "Sinopharm/Beijing   [Cambodia, China, Egypt, Equatorial Guinea, La...   \n",
       "Sputnik V           [Algeria, Belarus, Bolivia, Guinea, Iran, Kaza...   \n",
       "Sinovac             [Azerbaijan, Indonesia, Brazil, Chile, Colombi...   \n",
       "Johnson&Johnson                         [South Africa, United States]   \n",
       "Sinopharm/Wuhan                         [China, United Arab Emirates]   \n",
       "Covaxin                                                       [India]   \n",
       "EpiVacCorona                                                 [Russia]   \n",
       "\n",
       "                    nCountry  pCountry  \n",
       "vaccines                                \n",
       "Oxford/AstraZeneca        92 34.456929  \n",
       "Pfizer/BioNTech           80 29.962547  \n",
       "Moderna                   34 12.734082  \n",
       "Sinopharm/Beijing         21  7.865169  \n",
       "Sputnik V                 20  7.490637  \n",
       "Sinovac                   14  5.243446  \n",
       "Johnson&Johnson            2  0.749064  \n",
       "Sinopharm/Wuhan            2  0.749064  \n",
       "Covaxin                    1  0.374532  \n",
       "EpiVacCorona               1  0.374532  "
      ]
     },
     "execution_count": 43,
     "metadata": {},
     "output_type": "execute_result"
    }
   ],
   "source": [
    "# sort summary with most used vaccine first\n",
    "summary.sort_values('nCountry', ascending=False)"
   ]
  },
  {
   "cell_type": "code",
   "execution_count": 44,
   "metadata": {},
   "outputs": [
    {
     "data": {
      "image/png": "[encoded data removed]",
      "text/plain": [
       "<Figure size 720x504 with 1 Axes>"
      ]
     },
     "metadata": {},
     "output_type": "display_data"
    }
   ],
   "source": [
    "# create a pie chart to show the use of each vaccine\n",
    "plt.style.use('fivethirtyeight')\n",
    "plt.figure(figsize=(10,7))\n",
    "labels = summary.index\n",
    "\n",
    "plt.pie(summary.pCountry, labels=labels, explode=[0.05, 0.05, 0.05, 0.05, 0.05, 0.05, 0.05, 0.05, 0.05, 0.05], \n",
    "        wedgeprops={'edgecolor':'black', 'width':0.6}, startangle=180, autopct='%1.1F%%', radius=2)\n",
    "\n",
    "plt.legend(loc='right')\n",
    "plt.show()"
   ]
  },
  {
   "cell_type": "code",
   "execution_count": 45,
   "metadata": {},
   "outputs": [
    {
     "data": {
      "image/png": "[encoded data removed]",
      "text/plain": [
       "<Figure size 864x576 with 1 Axes>"
      ]
     },
     "metadata": {},
     "output_type": "display_data"
    }
   ],
   "source": [
    "# create a horisontal bar graph to show the number of countries using a given vaccine\n",
    "summary = summary.sort_values('nCountry')\n",
    "\n",
    "plt.figure(figsize=(12,8))\n",
    "plt.title(\"Vaccines distribution by countries\")\n",
    "plt.style.use('fivethirtyeight')\n",
    "plt.xlabel('Number of countries')\n",
    "plt.xticks(np.arange(0,110,10))\n",
    "\n",
    "plt.barh(summary.index, summary.nCountry)\n",
    "plt.show()"
   ]
  },
  {
   "cell_type": "markdown",
   "metadata": {},
   "source": [
    "#### Top 10 Total Vaccinations"
   ]
  },
  {
   "cell_type": "code",
   "execution_count": null,
   "metadata": {},
   "outputs": [],
   "source": []
  },
  {
   "cell_type": "markdown",
   "metadata": {},
   "source": [
    "#### Bottom 10 Total Vaccinations"
   ]
  },
  {
   "cell_type": "code",
   "execution_count": null,
   "metadata": {},
   "outputs": [],
   "source": []
  },
  {
   "cell_type": "markdown",
   "metadata": {},
   "source": [
    "#### Top 10 Percentage of Population Vaccinated"
   ]
  },
  {
   "cell_type": "code",
   "execution_count": null,
   "metadata": {},
   "outputs": [],
   "source": []
  },
  {
   "cell_type": "markdown",
   "metadata": {},
   "source": [
    "#### Bottom 10 Percentage of Population Vaccinated"
   ]
  },
  {
   "cell_type": "code",
   "execution_count": null,
   "metadata": {},
   "outputs": [],
   "source": []
  },
  {
   "cell_type": "markdown",
   "metadata": {},
   "source": [
    "#### Vaccination Rates of Various Countries"
   ]
  },
  {
   "cell_type": "code",
   "execution_count": 80,
   "metadata": {},
   "outputs": [
    {
     "name": "stdout",
     "output_type": "stream",
     "text": [
      "            country       date  daily_vaccinations\n",
      "361       Australia 2021-02-15                 nan\n",
      "362       Australia 2021-02-16                 nan\n",
      "363       Australia 2021-02-17                 nan\n",
      "364       Australia 2021-02-18                 nan\n",
      "365       Australia 2021-02-19                 nan\n",
      "...             ...        ...                 ...\n",
      "8239  United States 2021-03-23      2497025.000000\n",
      "8240  United States 2021-03-24      2490889.000000\n",
      "8241  United States 2021-03-25      2510755.000000\n",
      "8242  United States 2021-03-26      2624410.000000\n",
      "8243  United States 2021-03-27      2677034.000000\n",
      "\n",
      "[405 rows x 3 columns]\n"
     ]
    }
   ],
   "source": [
    "# select certain countries to plot in new data frame\n",
    "vac_rates = vaccination[vaccination['country'].isin(['United States', 'United Kingdom', 'Australia', 'France', 'India', 'China'])]\n",
    "vac_rates = vac_rates[['country', 'date', 'daily_vaccinations']]\n",
    "print(vac_rates)\n",
    "\n"
   ]
  },
  {
   "cell_type": "code",
   "execution_count": 106,
   "metadata": {},
   "outputs": [
    {
     "data": {
      "image/png": "[encoded data removed]",
      "text/plain": [
       "<Figure size 842.4x595.44 with 1 Axes>"
      ]
     },
     "metadata": {},
     "output_type": "display_data"
    }
   ],
   "source": [
    "# create plot\n",
    "sns.axes_style(\"whitegrid\")\n",
    "sns.set(rc={'figure.figsize':(12,9)})\n",
    "\n",
    "\n",
    "\n",
    "graph = sns.lineplot(data=vaccination[vaccination['country'].isin(['United States','United Kingdom','Australia','India','China','France'])]\n",
    "                     .sort_values(by=\"date\"), x=\"date\", y=\"daily_vaccinations\", hue='country')\n",
    "\n",
    "\n",
    "plt.xticks(rotation = 90)\n",
    "\n",
    "\n",
    "plt.show()"
   ]
  },
  {
   "cell_type": "markdown",
   "metadata": {},
   "source": [
    " "
   ]
  },
  {
   "cell_type": "markdown",
   "metadata": {},
   "source": [
    " "
   ]
  },
  {
   "cell_type": "markdown",
   "metadata": {},
   "source": [
    "## Confirmatory Analysis\n"
   ]
  }
 ],
 "metadata": {
  "kernelspec": {
   "display_name": "Python 3",
   "language": "python",
   "name": "python3"
  },
  "language_info": {
   "codemirror_mode": {
    "name": "ipython",
    "version": 3
   },
   "file_extension": ".py",
   "mimetype": "text/x-python",
   "name": "python",
   "nbconvert_exporter": "python",
   "pygments_lexer": "ipython3",
   "version": "3.8.5"
  }
 },
 "nbformat": 4,
 "nbformat_minor": 4
}
