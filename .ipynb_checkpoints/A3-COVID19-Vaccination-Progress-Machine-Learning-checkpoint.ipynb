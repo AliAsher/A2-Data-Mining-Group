{
 "cells": [
  {
   "cell_type": "markdown",
   "metadata": {},
   "source": [
    "# Group 16: SIT307 Machine Learning Group Project (Assignment 3)"
   ]
  },
  {
   "cell_type": "markdown",
   "metadata": {},
   "source": [
    "<br>\n",
    "Dataset Selected: <b>COVID-19 World Vaccination Progress</b>\n",
    "\n",
    "Found at: https://www.kaggle.com/gpreda/covid-world-vaccination-progress\n",
    "\n",
    "Collected by: <b>Gabriel Preda</b>\n",
    "\n",
    "Updated: <b>Daily</b>\n",
    "\n",
    "Date of download used: <b>6th May 2021</b>\n",
    "\n",
    "<br><br>\n",
    "<b>Supplementary data sets found at:</b>\n",
    "\n",
    "https://www.kaggle.com/tanuprabhu/population-by-country-2020\n",
    "\n",
    "https://data.worldbank.org/indicator/NY.GDP.MKTP.CD"
   ]
  },
  {
   "cell_type": "markdown",
   "metadata": {},
   "source": [
    "#### Import libraries used"
   ]
  },
  {
   "cell_type": "code",
   "execution_count": 212,
   "metadata": {},
   "outputs": [],
   "source": [
    "# import libraries used\n",
    "import numpy as np\n",
    "import pandas as pd\n",
    "pd.set_option('precision', 2)\n",
    "import matplotlib\n",
    "import matplotlib.pyplot as plt\n",
    "%matplotlib inline\n",
    "from scipy import stats\n",
    "from sklearn.linear_model import LinearRegression\n",
    "from sklearn.model_selection import train_test_split\n",
    "from datetime import datetime\n",
    "import datetime as dt"
   ]
  },
  {
   "cell_type": "markdown",
   "metadata": {},
   "source": [
    "### Functions Used in this Notebook"
   ]
  },
  {
   "cell_type": "code",
   "execution_count": 213,
   "metadata": {},
   "outputs": [],
   "source": [
    "\"\"\" \n",
    "    Funtion that calculates mean squared error\n",
    "    Requires:\n",
    "        predictions made by model\n",
    "        Ytest correct outcomes\n",
    "\"\"\"\n",
    "def MSE(predictions, Ytest):\n",
    "    return np.mean((predictions - Ytest) ** 2)"
   ]
  },
  {
   "cell_type": "code",
   "execution_count": 214,
   "metadata": {},
   "outputs": [],
   "source": [
    "\"\"\" \n",
    "    Funtion to convert date in string format to ordinal\n",
    "    Requires:\n",
    "        a date in string format (DD/MM/YYYY)\n",
    "\"\"\"\n",
    "def date_to_ordinal(date):\n",
    "    return datetime.strptime(date, '%d/%m/%Y').date().toordinal()"
   ]
  },
  {
   "cell_type": "code",
   "execution_count": 215,
   "metadata": {},
   "outputs": [],
   "source": [
    "\"\"\" \n",
    "    Funtion to convert date column in string/object format to ordinal\n",
    "    Requires:\n",
    "        a date column in a dataframe\n",
    "\"\"\"\n",
    "\n",
    "def date_to_ordinal_df(df):\n",
    "    df['date'] = pd.to_datetime(df['date'])\n",
    "    df['date'] = df['date'].map(dt.datetime.toordinal)\n",
    "    return df"
   ]
  },
  {
   "cell_type": "code",
   "execution_count": 216,
   "metadata": {},
   "outputs": [],
   "source": [
    "\"\"\" \n",
    "    Funtion to convert ordinal number to date format\n",
    "    Requires:\n",
    "        an ordinal number (int)\n",
    "\"\"\"\n",
    "def ordinal_to_datetime(ordinal):\n",
    "    ordinal_to_datetime = int(ordinal)\n",
    "    ordinal_to_datetime = dt.date.fromordinal(abs(ordinal_to_datetime))\n",
    "    return ordinal_to_datetime"
   ]
  },
  {
   "cell_type": "code",
   "execution_count": 217,
   "metadata": {},
   "outputs": [],
   "source": [
    "\"\"\" \n",
    "    Funtion to convert date column in ordianl format to date\n",
    "    Requires:\n",
    "        a date column in a dataframe in ordinal (ints)\n",
    "\"\"\"\n",
    "def ordinal_to_datetime_arr(arr):\n",
    "    new_arr = []\n",
    "    for num in arr:\n",
    "        num = int(num)\n",
    "        new_arr.append(dt.date.fromordinal(abs(num)))\n",
    "    return new_arr"
   ]
  },
  {
   "cell_type": "code",
   "execution_count": 218,
   "metadata": {},
   "outputs": [],
   "source": [
    "\"\"\" \n",
    "    Funtion that plots linear regression and real data\n",
    "    Requires:\n",
    "        X data set\n",
    "        Y data set\n",
    "        X test data set\n",
    "        predictions made by model\n",
    "\"\"\"\n",
    "def plot_LR(X, Y, Xtest, predictions):\n",
    "    # Plot outputs\n",
    "    plt.scatter(X, Y,  color='red', s=5)\n",
    "    plt.plot(Xtest, predictions, color='blue', linewidth=3)\n",
    "    plt.xticks(rotation=90)\n",
    "\n",
    "    # show plot\n",
    "    plt.show()"
   ]
  },
  {
   "cell_type": "markdown",
   "metadata": {},
   "source": [
    "## Kelly's Section\n",
    "\n",
    "### Prediction of What Date a Country Will Have Vaccinated a Provided Percentage of Their Population\n",
    "\n",
    "Implementing univariant linear regression on people fully vaccinated per hundred by date for different countries. Providing a country and a target percentage, this section will determine what date the country provided will achieve the target percentage of population vaccinated.\n",
    "<br>"
   ]
  },
  {
   "cell_type": "code",
   "execution_count": 219,
   "metadata": {},
   "outputs": [],
   "source": [
    "vaccination = pd.read_csv('data/cleaned_vaccination.csv')"
   ]
  },
  {
   "cell_type": "code",
   "execution_count": 220,
   "metadata": {},
   "outputs": [
    {
     "name": "stdout",
     "output_type": "stream",
     "text": [
      "(15344, 3)\n"
     ]
    }
   ],
   "source": [
    "# take only the columns of interest\n",
    "vaccination_1 = vaccination[['country', 'date', 'people_fully_vaccinated_per_hundred']]\n",
    "\n",
    "# show this shape\n",
    "print(vaccination_1.shape)"
   ]
  },
  {
   "cell_type": "code",
   "execution_count": 221,
   "metadata": {},
   "outputs": [
    {
     "name": "stdout",
     "output_type": "stream",
     "text": [
      "(6343, 3)\n"
     ]
    }
   ],
   "source": [
    "# drop all na rows where no data for people fully vaccinated per hundred\n",
    "vaccination_1 = vaccination_1[vaccination_1['people_fully_vaccinated_per_hundred'].notna()]\n",
    "\n",
    "# change date object to ordinal to be used in linear regression\n",
    "date_to_ordinal_df(vaccination_1)\n",
    "\n",
    "# print the new shape\n",
    "print(vaccination_1.shape)"
   ]
  },
  {
   "cell_type": "code",
   "execution_count": 222,
   "metadata": {},
   "outputs": [],
   "source": [
    "\"\"\" \n",
    "    Function to find a date of the given target percentage for the population fully vaccinated\n",
    "    Requires:\n",
    "        -the pandas dataframe being worked on\n",
    "        -a valid country in string format, and\n",
    "        -target percentage\n",
    "\"\"\"\n",
    "\n",
    "def date_to_be_target_percentage(df, country, percentage, plot):\n",
    "    # try except to catch countries with no data in people_fully_vaccinated_per_hundred\n",
    "    try:\n",
    "        # create a linear regression model\n",
    "        LR = LinearRegression()\n",
    "    \n",
    "        # take only the portion of the data frame that relates to a specific country\n",
    "        df = df[df['country'] == country]\n",
    "    \n",
    "        # get X and Y variables\n",
    "        X = np.array(df['date']).reshape((-1, 1))\n",
    "        Y = np.array(df['people_fully_vaccinated_per_hundred'])\n",
    "    \n",
    "        # Split the training and test data using 30% for testing\n",
    "        Xtrain, Xtest, Ytrain, Ytest = train_test_split(X, Y, test_size=0.3, random_state=19)\n",
    "    \n",
    "        # train the model\n",
    "        LR.fit(Xtrain, Ytrain)\n",
    "    \n",
    "        # test on test set\n",
    "        predictions = LR.predict(Xtest)\n",
    "\n",
    "        # calculate the mean square error\n",
    "        mse = MSE(predictions, Ytest)\n",
    "        \n",
    "        determin_date = (LR.intercept_ - percentage )/LR.coef_\n",
    "        \n",
    "        if plot:\n",
    "            # Plot LR\n",
    "            plot_LR(ordinal_to_datetime_arr(X), Y, ordinal_to_datetime_arr(Xtest), predictions)\n",
    "    \n",
    "        # return the date of the target percentage for the fully vaccinated of country population\n",
    "        # the mean squared error, the Y intercept and the slope\n",
    "        return determin_date, mse, LR.intercept_, LR.coef_\n",
    "    \n",
    "    except:\n",
    "        # if country doesnt have this data let the user know\n",
    "        print(country, \"has no data for people_fully_vaccinated_per_hundred.\")\n",
    "        return False, False, False, False"
   ]
  },
  {
   "cell_type": "code",
   "execution_count": 223,
   "metadata": {},
   "outputs": [
    {
     "data": {
      "image/png": "[encoded data removed]",
      "text/plain": [
       "<Figure size 432x288 with 1 Axes>"
      ]
     },
     "metadata": {
      "needs_background": "light"
     },
     "output_type": "display_data"
    },
    {
     "name": "stdout",
     "output_type": "stream",
     "text": [
      "We predict that 85% of the United States population will be fully immunized by 2021-11-13.\n"
     ]
    }
   ],
   "source": [
    "# determine a country to investigate\n",
    "country_for_perc = 'United States'\n",
    "\n",
    "# determine a date\n",
    "target_percentage_of_immunization = 85\n",
    "\n",
    "# call function with the dataset, country and target_percentage_of_immunization\n",
    "# store returned values to be printed\n",
    "date, mse, y_intercept, slope = date_to_be_target_percentage(vaccination_1, country_for_perc, target_percentage_of_immunization, True)\n",
    "print(\"We predict that {0}% of the {1} population will be fully immunized by {2}.\".format(target_percentage_of_immunization, country_for_perc, ordinal_to_datetime(date)))"
   ]
  },
  {
   "cell_type": "markdown",
   "metadata": {},
   "source": [
    "<br>"
   ]
  },
  {
   "cell_type": "markdown",
   "metadata": {},
   "source": [
    "## Sean's Section\n",
    "\n",
    "### Prediction of What Percentage of a Countries Population Will Be Vaccinated by a Given Date\n",
    "\n",
    "Implementing univariant linear regression on people fully vaccinated per hundred by date for different countries. Providing a country and a date, this section will determine what percentage of the countries population will be fully vaccinated by the provided date. If the date provided gives a value of over 100% (the country has fully vaccinated their population before this date), a further machine learning model will be called to determine what date they are predicted to achieve 100% vaccination.\n",
    "<br><br>\n",
    "Some countries don't provide data in the people_fully_vaccinated_per_hundred column. When this is the case the function will return this fact. If this is the case, there is a second machine learning model further down which uses total_vaccinations_per_hundred to determine how many vaccinations have been administered scaled to the population (maximum of 200% for 2 doses for each person)."
   ]
  },
  {
   "cell_type": "code",
   "execution_count": 258,
   "metadata": {},
   "outputs": [],
   "source": [
    "# read in cleaned dataset to new data frame\n",
    "vaccination = pd.read_csv('data/cleaned_vaccination.csv')"
   ]
  },
  {
   "cell_type": "code",
   "execution_count": 259,
   "metadata": {},
   "outputs": [
    {
     "name": "stdout",
     "output_type": "stream",
     "text": [
      "(15344, 3)\n"
     ]
    }
   ],
   "source": [
    "# take only the columns of interest\n",
    "vaccination_2 = vaccination[['country', 'date', 'people_fully_vaccinated_per_hundred']]\n",
    "\n",
    "# show this shape\n",
    "print(vaccination_2.shape)"
   ]
  },
  {
   "cell_type": "code",
   "execution_count": 260,
   "metadata": {},
   "outputs": [
    {
     "name": "stdout",
     "output_type": "stream",
     "text": [
      "(6343, 3)\n"
     ]
    }
   ],
   "source": [
    "# drop all na rows where no data for people fully vaccinated per hundred\n",
    "vaccination_2 = vaccination_2[vaccination_2['people_fully_vaccinated_per_hundred'].notna()]\n",
    "\n",
    "# print the new shape\n",
    "print(vaccination_2.shape)"
   ]
  },
  {
   "cell_type": "code",
   "execution_count": 261,
   "metadata": {},
   "outputs": [],
   "source": [
    "# change date object to date time and then ordinal to be used in linear regression\n",
    "vaccination_2['date'] = pd.to_datetime(vaccination_2['date'])\n",
    "vaccination_2['date'] = vaccination_2['date'].map(dt.datetime.toordinal)"
   ]
  },
  {
   "cell_type": "code",
   "execution_count": 262,
   "metadata": {},
   "outputs": [],
   "source": [
    "\"\"\" \n",
    "    Funtion to determine the percentage of the given countries population fully vaccinated at the provided date\n",
    "    Requires:\n",
    "        the pandas dataframe being worked on\n",
    "        a valid country in string format, and\n",
    "        a date in string format (DD/MM/YYYY)\n",
    "\"\"\"\n",
    "def perc_fully_vaccinated_at_date(df, country, date, plot):\n",
    "    # try except to catch countries with no data in people_fully_vaccinated_per_hundred\n",
    "    try:\n",
    "        # create a linear regression model\n",
    "        LR = LinearRegression()\n",
    "    \n",
    "        #change date passed to datetime then ordinal data\n",
    "        date = date_to_ordinal(date)\n",
    "    \n",
    "        # take only the portion of the data frame that relates to a specific country\n",
    "        df = df[df['country'] == country]\n",
    "    \n",
    "        # get X and Y variables\n",
    "        X = np.array(df['date']).reshape((-1, 1))\n",
    "        Y = np.array(df['people_fully_vaccinated_per_hundred'])\n",
    "    \n",
    "        # Split the training and test data using 30% for testing\n",
    "        Xtrain, Xtest, Ytrain, Ytest = train_test_split(X, Y, test_size=0.3, random_state=19)\n",
    "    \n",
    "        # train the model\n",
    "        LR.fit(Xtrain, Ytrain)\n",
    "    \n",
    "        # test on test set\n",
    "        predictions = LR.predict(Xtest)\n",
    "\n",
    "        # calculate the mean square error\n",
    "        mse = MSE(predictions, Ytest)\n",
    "        \n",
    "        if plot:\n",
    "            # Plot LR\n",
    "            plot_LR(ordinal_to_datetime_arr(X), Y, ordinal_to_datetime_arr(Xtest), predictions)\n",
    "    \n",
    "        # return the percentage of population fully vaccinated at the given date,\n",
    "        # the mean squared error, the Y intercept and the slope\n",
    "        return (LR.intercept_ + LR.coef_ * date), mse, LR.intercept_, LR.coef_\n",
    "    \n",
    "    except:\n",
    "        # if country doesnt have this data let the user know\n",
    "        print(\"{0} has no data for people_fully_vaccinated_per_hundred\".format(country))\n",
    "        return False, False, False, False"
   ]
  },
  {
   "cell_type": "code",
   "execution_count": 265,
   "metadata": {},
   "outputs": [
    {
     "data": {
      "image/png": "[encoded data removed]",
      "text/plain": [
       "<Figure size 432x288 with 1 Axes>"
      ]
     },
     "metadata": {
      "needs_background": "light"
     },
     "output_type": "display_data"
    },
    {
     "name": "stdout",
     "output_type": "stream",
     "text": [
      "United States will have fully vaccined 78.7% of their population by the date 23/10/2021 based on current tracking.\n"
     ]
    }
   ],
   "source": [
    "# determine a country to investigate\n",
    "country_perc_full = 'United States'\n",
    "# determine a date\n",
    "date_perc_full = '23/10/2021'\n",
    "\n",
    "# call function with the dataset, country and date\n",
    "# store returned values to be printed\n",
    "perc_at_date, mse_perc, y_intercept, slope = perc_fully_vaccinated_at_date(vaccination_2, country_perc_full, date_perc_full, True)\n",
    "\n",
    "if perc_at_date == False:\n",
    "    pass\n",
    "else:\n",
    "    # show the MSE to determine how accurate the model is\n",
    "    #print(\"The mean squared error of this model is {0}.\".format(mse_perc))\n",
    "    #print()\n",
    "    \n",
    "    # check if country is full vaccinated and tell user that, or print where the country will be at\n",
    "    if perc_at_date > 100:\n",
    "        date_100, mse_date, y_intercept, slope = date_to_be_target_percentage(vaccination_2, country_perc_full, 100, False)\n",
    "        print(\"It is predicted the {0} will have fully vaccinate their population by {1}.\".format(country_perc_full, ordinal_to_datetime(date_100)))\n",
    "    else:\n",
    "        # print data\n",
    "        print(\"{0} will have fully vaccined {1}% of their population by the date {2} based on current tracking.\".format(country_perc_full, str(round(perc_at_date[0], 2)), date_perc_full))"
   ]
  },
  {
   "cell_type": "markdown",
   "metadata": {},
   "source": [
    "### For Countries Without people_fully_vaccinated_per_hundred Data\n",
    "<br>\n",
    "Calculating total number of vaccinations administered at a given date.\n",
    "<br><br>\n",
    "This is for countries that don't have data in the dataset for people_fully_vaccinated_per_hundred, so we will use the total number of vaccines administered to get a guide as to how many people may have been vaccinated (2 doses per each member of population so up to 200%)"
   ]
  },
  {
   "cell_type": "code",
   "execution_count": 230,
   "metadata": {},
   "outputs": [],
   "source": [
    "# read in cleaned dataset to new data frame\n",
    "vaccination = pd.read_csv('data/cleaned_vaccination.csv')"
   ]
  },
  {
   "cell_type": "code",
   "execution_count": 231,
   "metadata": {},
   "outputs": [
    {
     "name": "stdout",
     "output_type": "stream",
     "text": [
      "(15344, 3)\n"
     ]
    }
   ],
   "source": [
    "# take only the columns of interest\n",
    "vaccination_3 = vaccination[['country', 'date', 'total_vaccinations_per_hundred']]\n",
    "# show this shape\n",
    "print(vaccination_3.shape)"
   ]
  },
  {
   "cell_type": "code",
   "execution_count": 232,
   "metadata": {},
   "outputs": [
    {
     "name": "stdout",
     "output_type": "stream",
     "text": [
      "(9232, 3)\n"
     ]
    }
   ],
   "source": [
    "# drop all na rows where no data for people fully vaccinated per hundred\n",
    "vaccination_3 = vaccination_3[vaccination_3['total_vaccinations_per_hundred'].notna()]\n",
    "# print the new shape\n",
    "print(vaccination_3.shape)"
   ]
  },
  {
   "cell_type": "code",
   "execution_count": 233,
   "metadata": {},
   "outputs": [],
   "source": [
    "# change date object to date time and then ordinal to be used in linear regression\n",
    "vaccination_3['date'] = pd.to_datetime(vaccination_3['date'])\n",
    "vaccination_3['date'] = vaccination_3['date'].map(dt.datetime.toordinal)"
   ]
  },
  {
   "cell_type": "code",
   "execution_count": 234,
   "metadata": {},
   "outputs": [],
   "source": [
    "\"\"\" \n",
    "    Funtion to determine the total vaccinates provided by the given country at the provided date\n",
    "    Requires:\n",
    "        the pandas dataframe being worked on\n",
    "        a valid country in string format, and\n",
    "        a date in string format (DD/MM/YYYY)\n",
    "\"\"\"\n",
    "def perc_people_vaccinated_at_date(df, country, date, plot):\n",
    "    # try except to catch countries with no data in people_fully_vaccinated_per_hundred\n",
    "    try:\n",
    "        # create a linear regression model\n",
    "        LR = LinearRegression()\n",
    "    \n",
    "        #change date passed to datetime then ordinal data\n",
    "        date = date_to_ordinal(date)\n",
    "    \n",
    "        # take only the portion of the data frame that relates to a specific country\n",
    "        df = df[df['country'] == country]\n",
    "    \n",
    "        # get X and Y variables\n",
    "        X = np.array(df['date']).reshape((-1, 1))\n",
    "        Y = np.array(df['total_vaccinations_per_hundred'])\n",
    "    \n",
    "        # Split the training and test data using 30% for testing\n",
    "        Xtrain, Xtest, Ytrain, Ytest = train_test_split(X, Y, test_size=0.3, random_state=19)\n",
    "    \n",
    "        # train the model\n",
    "        LR.fit(Xtrain, Ytrain)\n",
    "    \n",
    "        # test on test set\n",
    "        predictions = LR.predict(Xtest)\n",
    "\n",
    "        # calculate the mean square error\n",
    "        mse = MSE(predictions, Ytest)\n",
    "        \n",
    "        if plot:\n",
    "            # Plot LR\n",
    "            plot_LR(ordinal_to_datetime_arr(X), Y, ordinal_to_datetime_arr(Xtest), predictions)\n",
    "    \n",
    "        # return the percentage of population fully vaccinated at the given date,\n",
    "        # the mean squared error, the Y intercept and the slope\n",
    "        return (LR.intercept_ + LR.coef_ * date), mse, LR.intercept_, LR.coef_\n",
    "    \n",
    "    except:\n",
    "        # if country doesnt have this data let the user know\n",
    "        print(country, \"has no data for total_vaccinations_per_hundred.\")\n",
    "        return False, False, False, False"
   ]
  },
  {
   "cell_type": "code",
   "execution_count": 235,
   "metadata": {},
   "outputs": [
    {
     "data": {
      "image/png": "[encoded data removed]",
      "text/plain": [
       "<Figure size 432x288 with 1 Axes>"
      ]
     },
     "metadata": {
      "needs_background": "light"
     },
     "output_type": "display_data"
    },
    {
     "name": "stdout",
     "output_type": "stream",
     "text": [
      "The mean squared error of this model is 0.9690784609297088.\n",
      "\n",
      "Australia will have administered 35.37% of vaccines required to their population by the date 22/12/2021 based on current tracking (200% required for 2 doses for each person).\n"
     ]
    }
   ],
   "source": [
    "# determine a country to investigate\n",
    "country_perc_ppl = 'Australia'\n",
    "# determine a date\n",
    "date_perc_ppl = '22/12/2021'\n",
    "\n",
    "\n",
    "# call function with the dataset, country and date\n",
    "# store returned values to be printed\n",
    "total_at_date, mse_tot_ppl, y_intercept, slope = perc_people_vaccinated_at_date(vaccination_3, country_perc_ppl, date_perc_ppl, True)\n",
    "    \n",
    "if total_at_date == False:\n",
    "    pass\n",
    "else:\n",
    "    # show the MSE to determine how accurate the model is\n",
    "    print(\"The mean squared error of this model is {0}.\".format(mse_tot_ppl))\n",
    "    print()\n",
    "    \n",
    "    # check if country is full vaccinated and tell user that, or print where the country will be at\n",
    "    if total_at_date > 200:\n",
    "        print(\"{0} is predicted to have administered over 200% of vaccinations to their population by {1}\".format(country_perc_ppl, date_perc_ppl))\n",
    "    else:\n",
    "        # check if country is full vaccinated and tell user that, or print where the country will be at\n",
    "        print(\"{0} will have administered {1}% of vaccines required to their population by the date {2} based on current tracking (200% required for 2 doses for each person).\".format(country_perc_ppl, str(round(total_at_date[0], 2)), date_perc_ppl))"
   ]
  },
  {
   "cell_type": "markdown",
   "metadata": {},
   "source": [
    "<br>"
   ]
  },
  {
   "cell_type": "markdown",
   "metadata": {},
   "source": [
    "## Patrick's Section\n",
    "\n",
    "### Prediction of How Many People a Country Will Have Vaccinated by a Provided Date\n",
    "\n",
    "Implementing univariant linear regression on people_vaccinated by date for different countries. Providing a country and a date, this section will determine how many people the country provided will have vaccinated by the given date.\n",
    "<br>"
   ]
  },
  {
   "cell_type": "code",
   "execution_count": 236,
   "metadata": {},
   "outputs": [],
   "source": [
    "vaccination = pd.read_csv('data/cleaned_vaccination.csv')\n",
    "country_pop = pd.read_csv('data/population_by_country_2020.csv')"
   ]
  },
  {
   "cell_type": "code",
   "execution_count": 237,
   "metadata": {},
   "outputs": [
    {
     "name": "stdout",
     "output_type": "stream",
     "text": [
      "(15344, 3)\n",
      "(235, 2)\n"
     ]
    }
   ],
   "source": [
    "# take only the columns of interest\n",
    "vaccination_4 = vaccination[['country', 'date', 'people_vaccinated']]\n",
    "country_pop = country_pop[['Country (or dependency)','Population (2020)']]\n",
    "\n",
    "# show this shape\n",
    "print(vaccination_4.shape)\n",
    "print(country_pop.shape)"
   ]
  },
  {
   "cell_type": "code",
   "execution_count": 238,
   "metadata": {},
   "outputs": [
    {
     "name": "stdout",
     "output_type": "stream",
     "text": [
      "(8565, 3)\n"
     ]
    }
   ],
   "source": [
    "# drop all na rows where no data for people fully vaccinated per hundred\n",
    "vaccination_4 = vaccination_4[vaccination_4['people_vaccinated'].notna()]\n",
    "\n",
    "# print the new shape\n",
    "print(vaccination_4.shape)"
   ]
  },
  {
   "cell_type": "code",
   "execution_count": 239,
   "metadata": {},
   "outputs": [],
   "source": [
    "# change date object to date time and then ordinal to be used in linear regression\n",
    "vaccination_4['date'] = pd.to_datetime(vaccination_4['date'])\n",
    "vaccination_4['date'] = vaccination_4['date'].map(dt.datetime.toordinal)"
   ]
  },
  {
   "cell_type": "code",
   "execution_count": 240,
   "metadata": {},
   "outputs": [],
   "source": [
    "\"\"\" \n",
    "    Funtion to determine the number of the given countries population vaccinated at the provided date\n",
    "    Requires:\n",
    "        the pandas dataframe being worked on\n",
    "        a valid country in string format, and\n",
    "        a date in string format (DD/MM/YYYY)\n",
    "\"\"\"\n",
    "def numbers_vaccinated_at_date(df, country, date, plot):\n",
    "    # try except to catch countries with no data in people_fully_vaccinated_per_hundred\n",
    "    try:\n",
    "        # create a linear regression model\n",
    "        LR = LinearRegression()\n",
    "    \n",
    "        #change date passed to datetime then ordinal data\n",
    "        date = date_to_ordinal(date)\n",
    "    \n",
    "        # take only the portion of the data frame that relates to a specific country\n",
    "        df = df[df['country'] == country]\n",
    "    \n",
    "        # get X and Y variables\n",
    "        X = np.array(df['date']).reshape((-1, 1))\n",
    "        Y = np.array(df['people_vaccinated'])\n",
    "    \n",
    "        # Split the training and test data using 30% for testing\n",
    "        Xtrain, Xtest, Ytrain, Ytest = train_test_split(X, Y, test_size=0.3, random_state=19)\n",
    "    \n",
    "        # train the model\n",
    "        LR.fit(Xtrain, Ytrain)\n",
    "    \n",
    "        # test on test set\n",
    "        predictions = LR.predict(Xtest)\n",
    "\n",
    "        # calculate the mean square error\n",
    "        mse = MSE(predictions, Ytest)\n",
    "        \n",
    "        if plot:\n",
    "            # Plot LR\n",
    "            plot_LR(ordinal_to_datetime_arr(X), Y, ordinal_to_datetime_arr(Xtest), predictions)\n",
    "    \n",
    "        # return the number of people vaccinated at the given date,\n",
    "        # the mean squared error, the Y intercept and the slope\n",
    "        return (LR.intercept_ + LR.coef_ * date), mse, LR.intercept_, LR.coef_\n",
    "    \n",
    "    except:\n",
    "        # if country doesnt have this data let the user know\n",
    "        print(\"{0} has no data for people_vaccinated\".format(country))\n",
    "        return False, False, False, False"
   ]
  },
  {
   "cell_type": "code",
   "execution_count": 286,
   "metadata": {
    "scrolled": false
   },
   "outputs": [
    {
     "data": {
      "image/png": "[encoded data removed]",
      "text/plain": [
       "<Figure size 432x288 with 1 Axes>"
      ]
     },
     "metadata": {
      "needs_background": "light"
     },
     "output_type": "display_data"
    },
    {
     "name": "stdout",
     "output_type": "stream",
     "text": [
      "United States will have 310082683 people fully vaccined by the date 23/09/2021 based on current tracking.\n"
     ]
    }
   ],
   "source": [
    "# determine a country to investigate\n",
    "country_num = 'United States'\n",
    "# determine a date\n",
    "date_num = '23/09/2021'\n",
    "\n",
    "# call function with the dataset, country and date\n",
    "# store returned values to be printed\n",
    "pop_at_date, mse_num, y_intercept, slope = numbers_vaccinated_at_date(vaccination_4, country_num, date_num, True)\n",
    "\n",
    "if pop_at_date == False:\n",
    "    pass\n",
    "else:\n",
    "    # show the MSE to determine how accurate the model is\n",
    "    #print(\"The mean squared error of this model is {0}.\".format(mse_num))\n",
    "    #print()\n",
    "    \n",
    "    population = country_pop.loc[country_pop['Country (or dependency)'] == country_num].iat[0,1]\n",
    "    \n",
    "    # check if country is full vaccinated and tell user that, or print where the country will be at\n",
    "    if pop_at_date >= population:\n",
    "        print(\"{0} with a population of {1} will be full vaccinated at this date:{2}\".format(country_num, round(population), date_num))\n",
    "        #date_target, mse_target, y_intercept, slope = date_to_be_target_percentage(vaccination_4, country_num, 100, False)\n",
    "        #print(\"It is predicted the {0} will fully vaccinate their population on {1}.\".format(country, ordinal_to_datetime(date_target)))\n",
    "    else:\n",
    "        # print data\n",
    "        print(\"{0} will have {1} people fully vaccined by the date {2} based on current tracking.\".format(country_num, str(round(pop_at_date[0])), date_num))"
   ]
  },
  {
   "cell_type": "markdown",
   "metadata": {},
   "source": [
    "<br>"
   ]
  },
  {
   "cell_type": "markdown",
   "metadata": {},
   "source": [
    "## Muz's Section\n",
    "\n",
    "### Prediction of Percentage of the Worlds Population Will Have Been Vaccinated by a Provided Date\n",
    "\n",
    "Implementing univariant linear regression on people_fully_vaccinated by date for the world. Providing a date, this section will determine what percentage of the worlds population will be fully vaccined by the given date.\n",
    "<br>"
   ]
  },
  {
   "cell_type": "code",
   "execution_count": 242,
   "metadata": {},
   "outputs": [],
   "source": [
    "# read in cleaned dataset to new data frame\n",
    "vaccination_5 = pd.read_csv('data/cleaned_vaccination.csv')\n",
    "worldwide_pop = pd.read_csv('data/population_by_country_2020.csv')"
   ]
  },
  {
   "cell_type": "code",
   "execution_count": 266,
   "metadata": {},
   "outputs": [
    {
     "name": "stdout",
     "output_type": "stream",
     "text": [
      "(15344, 2)\n",
      "(235, 1)\n"
     ]
    }
   ],
   "source": [
    "# take only the columns of interest\n",
    "vaccination_5 = vaccination[['date', 'people_fully_vaccinated']]\n",
    "worldwide_pop = worldwide_pop[['Population (2020)']]\n",
    "\n",
    "# show this shape\n",
    "print(vaccination_5.shape)\n",
    "print(worldwide_pop.shape)"
   ]
  },
  {
   "cell_type": "code",
   "execution_count": 267,
   "metadata": {},
   "outputs": [
    {
     "name": "stdout",
     "output_type": "stream",
     "text": [
      "(6343, 2)\n",
      "(235, 1)\n"
     ]
    }
   ],
   "source": [
    "# drop all na rows where no data for people fully vaccinated per hundred\n",
    "vaccination_5 = vaccination_5[vaccination_5['people_fully_vaccinated'].notna()]\n",
    "worldwide_pop = worldwide_pop[worldwide_pop['Population (2020)'].notna()]\n",
    "\n",
    "# print the new shape\n",
    "print(vaccination_5.shape)\n",
    "print(worldwide_pop.shape)"
   ]
  },
  {
   "cell_type": "code",
   "execution_count": 245,
   "metadata": {},
   "outputs": [],
   "source": [
    "# change date object to date time and then ordinal to be used in linear regression\n",
    "vaccination_5['date'] = pd.to_datetime(vaccination_5['date'])\n",
    "vaccination_5['date'] = vaccination_5['date'].map(dt.datetime.toordinal)"
   ]
  },
  {
   "cell_type": "code",
   "execution_count": 246,
   "metadata": {},
   "outputs": [],
   "source": [
    "# take the number of people worldwide that are fully vaccinated on a given day\n",
    "world_total_vac_by_date = vaccination_5.groupby(['date']).people_fully_vaccinated.sum().reset_index()"
   ]
  },
  {
   "cell_type": "code",
   "execution_count": 247,
   "metadata": {},
   "outputs": [],
   "source": [
    "# determine the worlds population\n",
    "orld_pop = worldwide_pop['Population (2020)'].sum()"
   ]
  },
  {
   "cell_type": "code",
   "execution_count": 268,
   "metadata": {},
   "outputs": [
    {
     "name": "stdout",
     "output_type": "stream",
     "text": [
      "879013869349743.1\n"
     ]
    },
    {
     "data": {
      "image/png": "[encoded data removed]",
      "text/plain": [
       "<Figure size 432x288 with 1 Axes>"
      ]
     },
     "metadata": {
      "needs_background": "light"
     },
     "output_type": "display_data"
    }
   ],
   "source": [
    "# setup linear regression\n",
    "LR_world = LinearRegression()\n",
    "\n",
    "# get X and Y variables\n",
    "X = np.array(world_total_vac_by_date['date']).reshape((-1, 1))\n",
    "Y = np.array(world_total_vac_by_date['people_fully_vaccinated'])\n",
    "    \n",
    "# Split the training and test data using 30% for testing\n",
    "Xtrain, Xtest, Ytrain, Ytest = train_test_split(X, Y, test_size=0.3, random_state=19)\n",
    "    \n",
    "# train the model\n",
    "LR_world.fit(Xtrain, Ytrain)\n",
    "\n",
    "# test on test set\n",
    "predictions = LR_world.predict(Xtest)\n",
    "\n",
    "# calculate the mean square error\n",
    "mse = MSE(predictions, Ytest)\n",
    "\n",
    "print(mse)\n",
    "\n",
    "# Plot LR\n",
    "plot_LR(ordinal_to_datetime_arr(X), Y, ordinal_to_datetime_arr(Xtest), predictions)"
   ]
  },
  {
   "cell_type": "code",
   "execution_count": 284,
   "metadata": {},
   "outputs": [
    {
     "name": "stdout",
     "output_type": "stream",
     "text": [
      "The total percentage of the worlds population fully vaccinated by 05/05/2022 is 11.91%, which is 929792334 people \n"
     ]
    }
   ],
   "source": [
    "# date to find out the predicted percentage of the worlds population that are fully vaccinated by\n",
    "date_world_str = \"05/05/2022\"\n",
    "\n",
    "# change date to ordinal data.\n",
    "date_world = date_to_ordinal(date_world_str)\n",
    "\n",
    "# using the linear regression model determined, work out how many people will be fully vaccinated by this date\n",
    "world_pop_vac_by = LR_world.intercept_ + LR_world.coef_ * date_world\n",
    "\n",
    "# determine this as a percentage of the population\n",
    "percentage_of_people_fully_vaccinated = ((world_pop_vac_by/world_pop)*100)\n",
    "\n",
    "# print the total number of people vaccinated by this date and as a percentage of the worlds population\n",
    "print (\"The total percentage of the worlds population fully vaccinated by {0} is {1}%, which is {2} people \".format(date_world_str, str(round(percentage_of_people_fully_vaccinated[0], 2)), str(round(world_pop_vac_by[0]))))"
   ]
  },
  {
   "cell_type": "markdown",
   "metadata": {},
   "source": [
    "### Asher's Section\n",
    "\n",
    "Section for Asher to implement, test and apply machine learning."
   ]
  },
  {
   "cell_type": "code",
   "execution_count": 250,
   "metadata": {},
   "outputs": [],
   "source": [
    "vaccination_6 = pd.read_csv('data/cleaned_vaccination.csv')"
   ]
  },
  {
   "cell_type": "code",
   "execution_count": null,
   "metadata": {},
   "outputs": [],
   "source": []
  },
  {
   "cell_type": "code",
   "execution_count": null,
   "metadata": {},
   "outputs": [],
   "source": []
  },
  {
   "cell_type": "code",
   "execution_count": null,
   "metadata": {},
   "outputs": [],
   "source": []
  },
  {
   "cell_type": "code",
   "execution_count": null,
   "metadata": {},
   "outputs": [],
   "source": []
  },
  {
   "cell_type": "code",
   "execution_count": null,
   "metadata": {},
   "outputs": [],
   "source": []
  },
  {
   "cell_type": "markdown",
   "metadata": {},
   "source": [
    "### Tung's Section\n",
    "\n",
    "Section for Tung to implement, test and apply machine learning."
   ]
  },
  {
   "cell_type": "code",
   "execution_count": 251,
   "metadata": {},
   "outputs": [],
   "source": [
    "vaccination = pd.read_csv('data/cleaned_vaccination.csv')\n",
    "country_pop = pd.read_csv('data/population_by_country_2020.csv')\n",
    "country_gdp = pd.read_csv('data/API_NY.GDP.MKTP.CD_DS2_en_csv_v2_2163564.csv')"
   ]
  },
  {
   "cell_type": "code",
   "execution_count": 252,
   "metadata": {},
   "outputs": [
    {
     "name": "stdout",
     "output_type": "stream",
     "text": [
      "(15344, 3)\n",
      "(235, 2)\n",
      "(264, 2)\n"
     ]
    }
   ],
   "source": [
    "# take only the columns of interest\n",
    "vaccination_5 = vaccination[['country', 'date', 'people_fully_vaccinated_per_hundred']]\n",
    "country_pop = country_pop[['Country (or dependency)','Population (2020)']]\n",
    "country_gdp = country_gdp[['Country Name','2019']]\n",
    "# show this shape\n",
    "print(vaccination_5.shape)\n",
    "print(country_pop.shape)\n",
    "print(country_gdp.shape)"
   ]
  },
  {
   "cell_type": "code",
   "execution_count": 253,
   "metadata": {},
   "outputs": [
    {
     "name": "stdout",
     "output_type": "stream",
     "text": [
      "(12625, 7)\n",
      "Index(['country', 'date', 'people_fully_vaccinated_per_hundred',\n",
      "       'Country (or dependency)', 'Population (2020)', 'Country Name', '2019'],\n",
      "      dtype='object')\n"
     ]
    }
   ],
   "source": [
    "#merge tables for easier calculation\n",
    "tung_df = pd.merge(left = vaccination_5, right = country_pop, left_on = 'country', right_on='Country (or dependency)' )\n",
    "tung_df = pd.merge(left = tung_df, right = country_gdp, left_on = 'country', right_on = 'Country Name')\n",
    "print(tung_df.shape)\n",
    "print(tung_df.columns)"
   ]
  },
  {
   "cell_type": "code",
   "execution_count": 254,
   "metadata": {},
   "outputs": [
    {
     "name": "stdout",
     "output_type": "stream",
     "text": [
      "(5335, 5)\n",
      "Index(['country', 'date', 'people_fully_vaccinated_per_hundred',\n",
      "       'Population (2020)', '2019'],\n",
      "      dtype='object')\n"
     ]
    }
   ],
   "source": [
    "#clear extra columns and na values for people_fully_vaccinated_per_hundred\n",
    "tung_df = tung_df.drop(['Country (or dependency)', 'Country Name'], axis=1)\n",
    "tung_df = tung_df[tung_df['people_fully_vaccinated_per_hundred'].notna()]\n",
    "print(tung_df.shape)\n",
    "print(tung_df.columns)"
   ]
  },
  {
   "cell_type": "code",
   "execution_count": 255,
   "metadata": {},
   "outputs": [],
   "source": [
    "# change date object to date time and then ordinal to be used in linear regression\n",
    "tung_df['date'] = pd.to_datetime(tung_df['date'])\n",
    "tung_df['date'] = tung_df['date'].map(dt.datetime.toordinal)"
   ]
  },
  {
   "cell_type": "markdown",
   "metadata": {},
   "source": [
    "<br>"
   ]
  },
  {
   "cell_type": "code",
   "execution_count": 256,
   "metadata": {},
   "outputs": [],
   "source": [
    "\"\"\" \n",
    "    Function to predict the number of people in a given country being vaccinated for a given time, vaccination percentage, gdp \n",
    "        (multivariant regression using date, people fully vaccinated per hundred and gdp vs population)\n",
    "        a valid country in string format, and\n",
    "        a date in string format (DD/MM/YYYY)\n",
    "        a gdp value in decimal format\n",
    "        a boolean value for plot visualization\n",
    "\"\"\"\n",
    "def vaccinated_people_by_date_gdp(df, country, date, percentage, gdp, plot):\n",
    "    # try except to catch countries with no data in people_fully_vaccinated_per_hundred\n",
    "#     try:\n",
    "        # create a linear regression model\n",
    "        LR = LinearRegression()\n",
    "    \n",
    "        #change date passed to datetime then ordinal data\n",
    "        date = date_to_ordinal(date)\n",
    "    \n",
    "        # take only the portion of the data frame that relates to a specific country\n",
    "        df = df[df['country'] == country]\n",
    "    \n",
    "        # get X and Y variables\n",
    "        X = df[['date', 'people_fully_vaccinated_per_hundred', '2019']]\n",
    "        Y = df['Population (2020)']\n",
    "    \n",
    "        # Split the training and test data using 30% for testing\n",
    "        Xtrain, Xtest, Ytrain, Ytest = train_test_split(X, Y, test_size=0.3, random_state=19)\n",
    "    \n",
    "        # train the model\n",
    "        LR.fit(Xtrain, Ytrain)\n",
    "    \n",
    "        # test on test set\n",
    "        predictions = LR.predict(Xtest)\n",
    "\n",
    "        # calculate the mean square error\n",
    "        mse = MSE(predictions, Ytest)\n",
    "        \n",
    "#         if plot:\n",
    "#             # Plot LR\n",
    "#             plot_LR(ordinal_to_datetime_arr(X), Y, ordinal_to_datetime_arr(Xtest), predictions)\n",
    "    \n",
    "        # return the number of people vaccinated at the given date,\n",
    "        # the mean squared error, the Y intercept and the slope\n",
    "        return LR.predict([[date ,percentage,gdp]])\n",
    "    \n",
    "#     except:\n",
    "#         # if country doesnt have this data let the user know\n",
    "#         print(\"{0} has no data for people_vaccinated\".format(country))\n",
    "#         return False"
   ]
  },
  {
   "cell_type": "code",
   "execution_count": 257,
   "metadata": {},
   "outputs": [
    {
     "name": "stdout",
     "output_type": "stream",
     "text": [
      "[3.3134105e+08]\n"
     ]
    }
   ],
   "source": [
    "# determine a country to investigate\n",
    "country_num = 'United States'\n",
    "# determine a date\n",
    "date_num = '23/09/2021'\n",
    "# determine the current percentage of vaccination\n",
    "percent_num = 0.02\n",
    "#determine the current gdp\n",
    "gdp_num = 72436777342\n",
    "\n",
    "prediction = vaccinated_people_by_date_gdp(tung_df, country_num, date_num, percent_num, gdp_num, True)\n",
    "print(prediction)"
   ]
  },
  {
   "cell_type": "code",
   "execution_count": null,
   "metadata": {},
   "outputs": [],
   "source": []
  }
 ],
 "metadata": {
  "kernelspec": {
   "display_name": "Python 3",
   "language": "python",
   "name": "python3"
  },
  "language_info": {
   "codemirror_mode": {
    "name": "ipython",
    "version": 3
   },
   "file_extension": ".py",
   "mimetype": "text/x-python",
   "name": "python",
   "nbconvert_exporter": "python",
   "pygments_lexer": "ipython3",
   "version": "3.8.5"
  }
 },
 "nbformat": 4,
 "nbformat_minor": 4
}
