{
 "cells": [
  {
   "cell_type": "code",
   "execution_count": 1,
   "metadata": {},
   "outputs": [],
   "source": [
    "import pandas as pd\n",
    "import numpy\n",
    "import matplotlib.pyplot as plt\n",
    "from scipy import stats"
   ]
  },
  {
   "cell_type": "code",
   "execution_count": 2,
   "metadata": {},
   "outputs": [],
   "source": [
    "# Import vaccination progress, country & population 2020 and country & GDP219 with specific columns\n",
    "df_vacc_raw = pd.read_csv('data/country_vaccinations.csv', usecols=['country','iso_code','people_vaccinated_per_hundred'])\n",
    "df_popu_raw = pd.read_csv('data/population_by_country_2020.csv', usecols=['Country (or dependency)','Population (2020)'], dtype={'Population (2020)':str})\n",
    "df_gdp_raw = pd.read_csv('data/API_NY.GDP.MKTP.CD_DS2_en_csv_v2_2163564.csv', usecols=['Country Name','Country Code','2019'], dtype={'2019':str})"
   ]
  },
  {
   "cell_type": "code",
   "execution_count": 3,
   "metadata": {},
   "outputs": [],
   "source": [
    "# Rename columns\n",
    "df_popu_raw.rename(columns={'Country (or dependency)':'country','Population (2020)':'population'}, inplace=True)\n",
    "df_gdp_raw.rename(columns={'Country Name':'country','Country Code':'iso_code','2019':'GDP2019'}, inplace=True)"
   ]
  },
  {
   "cell_type": "code",
   "execution_count": 4,
   "metadata": {},
   "outputs": [],
   "source": [
    "# Reset index as country column and rename the Czechia index for merge\n",
    "df_popu_raw.set_index('country', inplace=True)\n",
    "df_popu_raw.rename(index={'Czech Republic (Czechia)':'Czechia'}, inplace=True)"
   ]
  },
  {
   "cell_type": "code",
   "execution_count": 5,
   "metadata": {},
   "outputs": [],
   "source": [
    "# Data sorted by max value of the people_vaccinated_per_hundred and then dropped nan values\n",
    "df_vacc = df_vacc_raw.groupby(['country','iso_code']).max()\n",
    "df_vacc.dropna(inplace=True)"
   ]
  },
  {
   "cell_type": "code",
   "execution_count": 6,
   "metadata": {},
   "outputs": [],
   "source": [
    "# Merged vaccination and country & population dataframe\n",
    "vacc_pop = pd.merge(df_vacc, df_popu_raw, left_index=True, right_index=True, how='left')\n",
    "\n",
    "# Reset the country as column of the dataframe merged vaccination and population\n",
    "# merge the vaccination & population dataframe and GDP dataframe baesd on the iso_code\n",
    "vacc_pop.reset_index(inplace=True)\n",
    "vacc_pop_GDP = pd.merge(vacc_pop, df_gdp_raw, left_on='iso_code', right_on='iso_code', how='left')"
   ]
  },
  {
   "cell_type": "code",
   "execution_count": 7,
   "metadata": {},
   "outputs": [
    {
     "name": "stdout",
     "output_type": "stream",
     "text": [
      "<class 'pandas.core.frame.DataFrame'>\n",
      "Int64Index: 138 entries, 0 to 166\n",
      "Data columns (total 6 columns):\n",
      " #   Column                         Non-Null Count  Dtype  \n",
      "---  ------                         --------------  -----  \n",
      " 0   country_x                      138 non-null    object \n",
      " 1   iso_code                       138 non-null    object \n",
      " 2   people_vaccinated_per_hundred  138 non-null    float64\n",
      " 3   population                     138 non-null    float64\n",
      " 4   country_y                      138 non-null    object \n",
      " 5   GDP2019                        138 non-null    float64\n",
      "dtypes: float64(3), object(3)\n",
      "memory usage: 7.5+ KB\n"
     ]
    }
   ],
   "source": [
    "# Dropped nan values\n",
    "vacc_pop_GDP.dropna(inplace=True)\n",
    "#vacc_pop_GDP.isnull().sum()\n",
    "# Changed datatype of population and GDP2019 for analysis\n",
    "vacc_pop_GDP = vacc_pop_GDP.astype({'population':'float64', 'GDP2019':'float64'})\n",
    "vacc_pop_GDP.info()"
   ]
  },
  {
   "cell_type": "code",
   "execution_count": 8,
   "metadata": {},
   "outputs": [
    {
     "data": {
      "text/plain": [
       "Text(0.5, 0, 'GDP2019')"
      ]
     },
     "execution_count": 8,
     "metadata": {},
     "output_type": "execute_result"
    },
    {
     "data": {
      "image/png": "[encoded data removed]",
      "text/plain": [
       "<Figure size 1080x432 with 2 Axes>"
      ]
     },
     "metadata": {
      "needs_background": "light"
     },
     "output_type": "display_data"
    }
   ],
   "source": [
    "# variables\n",
    "x = vacc_pop_GDP['population']\n",
    "x1 = vacc_pop_GDP['GDP2019']\n",
    "y = vacc_pop_GDP['people_vaccinated_per_hundred']\n",
    "\n",
    "# get a line of linear regression\n",
    "slope, intercept, r, p, std_err = stats.linregress(x, y)\n",
    "def myfunc(x):\n",
    "  return slope * x + intercept\n",
    "mymodel = list(map(myfunc, x))\n",
    "\n",
    "# draw plots\n",
    "fig = plt.figure(figsize=(15,6))\n",
    "\n",
    "plt.subplot(221)\n",
    "plt.scatter(x,y)\n",
    "plt.plot(x, mymodel, 'g')\n",
    "plt.xlabel(\"Population count\")\n",
    "plt.ylabel(\"percentage of population vaccinated\")\n",
    "\n",
    "plt.subplot(222)\n",
    "plt.scatter(x1,y)\n",
    "plt.plot(x1, mymodel, 'g')\n",
    "plt.xlabel(\"GDP2019\")"
   ]
  },
  {
   "cell_type": "code",
   "execution_count": null,
   "metadata": {},
   "outputs": [],
   "source": []
  }
 ],
 "metadata": {
  "kernelspec": {
   "display_name": "Python 3",
   "language": "python",
   "name": "python3"
  },
  "language_info": {
   "codemirror_mode": {
    "name": "ipython",
    "version": 3
   },
   "file_extension": ".py",
   "mimetype": "text/x-python",
   "name": "python",
   "nbconvert_exporter": "python",
   "pygments_lexer": "ipython3",
   "version": "3.8.5"
  }
 },
 "nbformat": 4,
 "nbformat_minor": 4
}
