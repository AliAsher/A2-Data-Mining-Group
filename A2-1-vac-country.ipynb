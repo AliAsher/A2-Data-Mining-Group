{
 "cells": [
  {
   "cell_type": "markdown",
   "metadata": {},
   "source": [
    "1. Importing vaccine country file\n",
    "2. Dividing the vaccine list individually into a column\n",
    "3. Combining type of vaccines into one column\n",
    "4. Calculate the number of countries based on the vaccine and draw a graph"
   ]
  },
  {
   "cell_type": "code",
   "execution_count": 311,
   "metadata": {},
   "outputs": [],
   "source": [
    "import pandas as pd\n",
    "pd.set_option('precision', 2)\n",
    "\n",
    "import numpy as np\n",
    "import matplotlib\n",
    "import matplotlib.pyplot as plt\n",
    "%matplotlib inline"
   ]
  },
  {
   "cell_type": "code",
   "execution_count": 312,
   "metadata": {},
   "outputs": [
    {
     "name": "stdout",
     "output_type": "stream",
     "text": [
      "<class 'pandas.core.frame.DataFrame'>\n",
      "RangeIndex: 8451 entries, 0 to 8450\n",
      "Data columns (total 15 columns):\n",
      " #   Column                               Non-Null Count  Dtype  \n",
      "---  ------                               --------------  -----  \n",
      " 0   country                              8451 non-null   object \n",
      " 1   iso_code                             8451 non-null   object \n",
      " 2   date                                 8451 non-null   object \n",
      " 3   total_vaccinations                   5231 non-null   float64\n",
      " 4   people_vaccinated                    4688 non-null   float64\n",
      " 5   people_fully_vaccinated              3186 non-null   float64\n",
      " 6   daily_vaccinations_raw               4415 non-null   float64\n",
      " 7   daily_vaccinations                   8260 non-null   float64\n",
      " 8   total_vaccinations_per_hundred       5231 non-null   float64\n",
      " 9   people_vaccinated_per_hundred        4688 non-null   float64\n",
      " 10  people_fully_vaccinated_per_hundred  3186 non-null   float64\n",
      " 11  daily_vaccinations_per_million       8260 non-null   float64\n",
      " 12  vaccines                             8451 non-null   object \n",
      " 13  source_name                          8451 non-null   object \n",
      " 14  source_website                       8451 non-null   object \n",
      "dtypes: float64(9), object(6)\n",
      "memory usage: 990.5+ KB\n"
     ]
    },
    {
     "data": {
      "text/plain": [
       "Index(['country', 'iso_code', 'date', 'total_vaccinations',\n",
       "       'people_vaccinated', 'people_fully_vaccinated',\n",
       "       'daily_vaccinations_raw', 'daily_vaccinations',\n",
       "       'total_vaccinations_per_hundred', 'people_vaccinated_per_hundred',\n",
       "       'people_fully_vaccinated_per_hundred', 'daily_vaccinations_per_million',\n",
       "       'vaccines', 'source_name', 'source_website'],\n",
       "      dtype='object')"
      ]
     },
     "execution_count": 312,
     "metadata": {},
     "output_type": "execute_result"
    }
   ],
   "source": [
    "raw = pd.read_csv('data/country_vaccinations.csv')\n",
    "raw.info()\n",
    "raw.columns"
   ]
  },
  {
   "cell_type": "code",
   "execution_count": 313,
   "metadata": {},
   "outputs": [
    {
     "data": {
      "text/html": [
       "<div>\n",
       "<style scoped>\n",
       "    .dataframe tbody tr th:only-of-type {\n",
       "        vertical-align: middle;\n",
       "    }\n",
       "\n",
       "    .dataframe tbody tr th {\n",
       "        vertical-align: top;\n",
       "    }\n",
       "\n",
       "    .dataframe thead th {\n",
       "        text-align: right;\n",
       "    }\n",
       "</style>\n",
       "<table border=\"1\" class=\"dataframe\">\n",
       "  <thead>\n",
       "    <tr style=\"text-align: right;\">\n",
       "      <th></th>\n",
       "      <th>country</th>\n",
       "      <th>vaccines</th>\n",
       "    </tr>\n",
       "  </thead>\n",
       "  <tbody>\n",
       "    <tr>\n",
       "      <th>0</th>\n",
       "      <td>Afghanistan</td>\n",
       "      <td>Oxford/AstraZeneca</td>\n",
       "    </tr>\n",
       "    <tr>\n",
       "      <th>1</th>\n",
       "      <td>Afghanistan</td>\n",
       "      <td>Oxford/AstraZeneca</td>\n",
       "    </tr>\n",
       "    <tr>\n",
       "      <th>2</th>\n",
       "      <td>Afghanistan</td>\n",
       "      <td>Oxford/AstraZeneca</td>\n",
       "    </tr>\n",
       "    <tr>\n",
       "      <th>3</th>\n",
       "      <td>Afghanistan</td>\n",
       "      <td>Oxford/AstraZeneca</td>\n",
       "    </tr>\n",
       "    <tr>\n",
       "      <th>4</th>\n",
       "      <td>Afghanistan</td>\n",
       "      <td>Oxford/AstraZeneca</td>\n",
       "    </tr>\n",
       "    <tr>\n",
       "      <th>...</th>\n",
       "      <td>...</td>\n",
       "      <td>...</td>\n",
       "    </tr>\n",
       "    <tr>\n",
       "      <th>8446</th>\n",
       "      <td>Zimbabwe</td>\n",
       "      <td>Sinopharm/Beijing</td>\n",
       "    </tr>\n",
       "    <tr>\n",
       "      <th>8447</th>\n",
       "      <td>Zimbabwe</td>\n",
       "      <td>Sinopharm/Beijing</td>\n",
       "    </tr>\n",
       "    <tr>\n",
       "      <th>8448</th>\n",
       "      <td>Zimbabwe</td>\n",
       "      <td>Sinopharm/Beijing</td>\n",
       "    </tr>\n",
       "    <tr>\n",
       "      <th>8449</th>\n",
       "      <td>Zimbabwe</td>\n",
       "      <td>Sinopharm/Beijing</td>\n",
       "    </tr>\n",
       "    <tr>\n",
       "      <th>8450</th>\n",
       "      <td>Zimbabwe</td>\n",
       "      <td>Sinopharm/Beijing</td>\n",
       "    </tr>\n",
       "  </tbody>\n",
       "</table>\n",
       "<p>8451 rows × 2 columns</p>\n",
       "</div>"
      ],
      "text/plain": [
       "          country            vaccines\n",
       "0     Afghanistan  Oxford/AstraZeneca\n",
       "1     Afghanistan  Oxford/AstraZeneca\n",
       "2     Afghanistan  Oxford/AstraZeneca\n",
       "3     Afghanistan  Oxford/AstraZeneca\n",
       "4     Afghanistan  Oxford/AstraZeneca\n",
       "...           ...                 ...\n",
       "8446     Zimbabwe   Sinopharm/Beijing\n",
       "8447     Zimbabwe   Sinopharm/Beijing\n",
       "8448     Zimbabwe   Sinopharm/Beijing\n",
       "8449     Zimbabwe   Sinopharm/Beijing\n",
       "8450     Zimbabwe   Sinopharm/Beijing\n",
       "\n",
       "[8451 rows x 2 columns]"
      ]
     },
     "execution_count": 313,
     "metadata": {},
     "output_type": "execute_result"
    }
   ],
   "source": [
    "df = raw[['country','vaccines']]\n",
    "df"
   ]
  },
  {
   "cell_type": "code",
   "execution_count": 314,
   "metadata": {},
   "outputs": [
    {
     "data": {
      "text/plain": [
       "Index(['country', 'vaccines'], dtype='object')"
      ]
     },
     "execution_count": 314,
     "metadata": {},
     "output_type": "execute_result"
    }
   ],
   "source": [
    "df.columns"
   ]
  },
  {
   "cell_type": "code",
   "execution_count": 315,
   "metadata": {},
   "outputs": [
    {
     "data": {
      "text/html": [
       "<div>\n",
       "<style scoped>\n",
       "    .dataframe tbody tr th:only-of-type {\n",
       "        vertical-align: middle;\n",
       "    }\n",
       "\n",
       "    .dataframe tbody tr th {\n",
       "        vertical-align: top;\n",
       "    }\n",
       "\n",
       "    .dataframe thead th {\n",
       "        text-align: right;\n",
       "    }\n",
       "</style>\n",
       "<table border=\"1\" class=\"dataframe\">\n",
       "  <thead>\n",
       "    <tr style=\"text-align: right;\">\n",
       "      <th></th>\n",
       "      <th>country</th>\n",
       "      <th>0</th>\n",
       "      <th>1</th>\n",
       "      <th>2</th>\n",
       "      <th>3</th>\n",
       "      <th>4</th>\n",
       "    </tr>\n",
       "  </thead>\n",
       "  <tbody>\n",
       "    <tr>\n",
       "      <th>0</th>\n",
       "      <td>Afghanistan</td>\n",
       "      <td>Oxford/AstraZeneca</td>\n",
       "      <td>None</td>\n",
       "      <td>None</td>\n",
       "      <td>None</td>\n",
       "      <td>None</td>\n",
       "    </tr>\n",
       "    <tr>\n",
       "      <th>1</th>\n",
       "      <td>Afghanistan</td>\n",
       "      <td>Oxford/AstraZeneca</td>\n",
       "      <td>None</td>\n",
       "      <td>None</td>\n",
       "      <td>None</td>\n",
       "      <td>None</td>\n",
       "    </tr>\n",
       "    <tr>\n",
       "      <th>2</th>\n",
       "      <td>Afghanistan</td>\n",
       "      <td>Oxford/AstraZeneca</td>\n",
       "      <td>None</td>\n",
       "      <td>None</td>\n",
       "      <td>None</td>\n",
       "      <td>None</td>\n",
       "    </tr>\n",
       "    <tr>\n",
       "      <th>3</th>\n",
       "      <td>Afghanistan</td>\n",
       "      <td>Oxford/AstraZeneca</td>\n",
       "      <td>None</td>\n",
       "      <td>None</td>\n",
       "      <td>None</td>\n",
       "      <td>None</td>\n",
       "    </tr>\n",
       "    <tr>\n",
       "      <th>4</th>\n",
       "      <td>Afghanistan</td>\n",
       "      <td>Oxford/AstraZeneca</td>\n",
       "      <td>None</td>\n",
       "      <td>None</td>\n",
       "      <td>None</td>\n",
       "      <td>None</td>\n",
       "    </tr>\n",
       "    <tr>\n",
       "      <th>...</th>\n",
       "      <td>...</td>\n",
       "      <td>...</td>\n",
       "      <td>...</td>\n",
       "      <td>...</td>\n",
       "      <td>...</td>\n",
       "      <td>...</td>\n",
       "    </tr>\n",
       "    <tr>\n",
       "      <th>8446</th>\n",
       "      <td>Zimbabwe</td>\n",
       "      <td>Sinopharm/Beijing</td>\n",
       "      <td>None</td>\n",
       "      <td>None</td>\n",
       "      <td>None</td>\n",
       "      <td>None</td>\n",
       "    </tr>\n",
       "    <tr>\n",
       "      <th>8447</th>\n",
       "      <td>Zimbabwe</td>\n",
       "      <td>Sinopharm/Beijing</td>\n",
       "      <td>None</td>\n",
       "      <td>None</td>\n",
       "      <td>None</td>\n",
       "      <td>None</td>\n",
       "    </tr>\n",
       "    <tr>\n",
       "      <th>8448</th>\n",
       "      <td>Zimbabwe</td>\n",
       "      <td>Sinopharm/Beijing</td>\n",
       "      <td>None</td>\n",
       "      <td>None</td>\n",
       "      <td>None</td>\n",
       "      <td>None</td>\n",
       "    </tr>\n",
       "    <tr>\n",
       "      <th>8449</th>\n",
       "      <td>Zimbabwe</td>\n",
       "      <td>Sinopharm/Beijing</td>\n",
       "      <td>None</td>\n",
       "      <td>None</td>\n",
       "      <td>None</td>\n",
       "      <td>None</td>\n",
       "    </tr>\n",
       "    <tr>\n",
       "      <th>8450</th>\n",
       "      <td>Zimbabwe</td>\n",
       "      <td>Sinopharm/Beijing</td>\n",
       "      <td>None</td>\n",
       "      <td>None</td>\n",
       "      <td>None</td>\n",
       "      <td>None</td>\n",
       "    </tr>\n",
       "  </tbody>\n",
       "</table>\n",
       "<p>8451 rows × 6 columns</p>\n",
       "</div>"
      ],
      "text/plain": [
       "          country                   0     1     2     3     4\n",
       "0     Afghanistan  Oxford/AstraZeneca  None  None  None  None\n",
       "1     Afghanistan  Oxford/AstraZeneca  None  None  None  None\n",
       "2     Afghanistan  Oxford/AstraZeneca  None  None  None  None\n",
       "3     Afghanistan  Oxford/AstraZeneca  None  None  None  None\n",
       "4     Afghanistan  Oxford/AstraZeneca  None  None  None  None\n",
       "...           ...                 ...   ...   ...   ...   ...\n",
       "8446     Zimbabwe   Sinopharm/Beijing  None  None  None  None\n",
       "8447     Zimbabwe   Sinopharm/Beijing  None  None  None  None\n",
       "8448     Zimbabwe   Sinopharm/Beijing  None  None  None  None\n",
       "8449     Zimbabwe   Sinopharm/Beijing  None  None  None  None\n",
       "8450     Zimbabwe   Sinopharm/Beijing  None  None  None  None\n",
       "\n",
       "[8451 rows x 6 columns]"
      ]
     },
     "execution_count": 315,
     "metadata": {},
     "output_type": "execute_result"
    }
   ],
   "source": [
    "dfcleancsv = pd.concat([df['country'], df['vaccines'].str.split(', ', expand=True)], axis=1)\n",
    "dfcleancsv"
   ]
  },
  {
   "cell_type": "code",
   "execution_count": 316,
   "metadata": {},
   "outputs": [],
   "source": [
    "dfcleancsv.to_csv('data/test.csv')"
   ]
  },
  {
   "cell_type": "code",
   "execution_count": 317,
   "metadata": {},
   "outputs": [
    {
     "data": {
      "text/html": [
       "<div>\n",
       "<style scoped>\n",
       "    .dataframe tbody tr th:only-of-type {\n",
       "        vertical-align: middle;\n",
       "    }\n",
       "\n",
       "    .dataframe tbody tr th {\n",
       "        vertical-align: top;\n",
       "    }\n",
       "\n",
       "    .dataframe thead th {\n",
       "        text-align: right;\n",
       "    }\n",
       "</style>\n",
       "<table border=\"1\" class=\"dataframe\">\n",
       "  <thead>\n",
       "    <tr style=\"text-align: right;\">\n",
       "      <th></th>\n",
       "      <th>country</th>\n",
       "      <th>variable</th>\n",
       "      <th>value</th>\n",
       "    </tr>\n",
       "  </thead>\n",
       "  <tbody>\n",
       "    <tr>\n",
       "      <th>0</th>\n",
       "      <td>Afghanistan</td>\n",
       "      <td>0</td>\n",
       "      <td>Oxford/AstraZeneca</td>\n",
       "    </tr>\n",
       "    <tr>\n",
       "      <th>1</th>\n",
       "      <td>Afghanistan</td>\n",
       "      <td>0</td>\n",
       "      <td>Oxford/AstraZeneca</td>\n",
       "    </tr>\n",
       "    <tr>\n",
       "      <th>2</th>\n",
       "      <td>Afghanistan</td>\n",
       "      <td>0</td>\n",
       "      <td>Oxford/AstraZeneca</td>\n",
       "    </tr>\n",
       "    <tr>\n",
       "      <th>3</th>\n",
       "      <td>Afghanistan</td>\n",
       "      <td>0</td>\n",
       "      <td>Oxford/AstraZeneca</td>\n",
       "    </tr>\n",
       "    <tr>\n",
       "      <th>4</th>\n",
       "      <td>Afghanistan</td>\n",
       "      <td>0</td>\n",
       "      <td>Oxford/AstraZeneca</td>\n",
       "    </tr>\n",
       "    <tr>\n",
       "      <th>...</th>\n",
       "      <td>...</td>\n",
       "      <td>...</td>\n",
       "      <td>...</td>\n",
       "    </tr>\n",
       "    <tr>\n",
       "      <th>42250</th>\n",
       "      <td>Zimbabwe</td>\n",
       "      <td>4</td>\n",
       "      <td>None</td>\n",
       "    </tr>\n",
       "    <tr>\n",
       "      <th>42251</th>\n",
       "      <td>Zimbabwe</td>\n",
       "      <td>4</td>\n",
       "      <td>None</td>\n",
       "    </tr>\n",
       "    <tr>\n",
       "      <th>42252</th>\n",
       "      <td>Zimbabwe</td>\n",
       "      <td>4</td>\n",
       "      <td>None</td>\n",
       "    </tr>\n",
       "    <tr>\n",
       "      <th>42253</th>\n",
       "      <td>Zimbabwe</td>\n",
       "      <td>4</td>\n",
       "      <td>None</td>\n",
       "    </tr>\n",
       "    <tr>\n",
       "      <th>42254</th>\n",
       "      <td>Zimbabwe</td>\n",
       "      <td>4</td>\n",
       "      <td>None</td>\n",
       "    </tr>\n",
       "  </tbody>\n",
       "</table>\n",
       "<p>42255 rows × 3 columns</p>\n",
       "</div>"
      ],
      "text/plain": [
       "           country variable               value\n",
       "0      Afghanistan        0  Oxford/AstraZeneca\n",
       "1      Afghanistan        0  Oxford/AstraZeneca\n",
       "2      Afghanistan        0  Oxford/AstraZeneca\n",
       "3      Afghanistan        0  Oxford/AstraZeneca\n",
       "4      Afghanistan        0  Oxford/AstraZeneca\n",
       "...            ...      ...                 ...\n",
       "42250     Zimbabwe        4                None\n",
       "42251     Zimbabwe        4                None\n",
       "42252     Zimbabwe        4                None\n",
       "42253     Zimbabwe        4                None\n",
       "42254     Zimbabwe        4                None\n",
       "\n",
       "[42255 rows x 3 columns]"
      ]
     },
     "execution_count": 317,
     "metadata": {},
     "output_type": "execute_result"
    }
   ],
   "source": [
    "vac_country=dfcleancsv.melt(id_vars=['country'])\n",
    "vac_country"
   ]
  },
  {
   "cell_type": "code",
   "execution_count": 318,
   "metadata": {},
   "outputs": [
    {
     "data": {
      "text/plain": [
       "country        0\n",
       "value      25072\n",
       "dtype: int64"
      ]
     },
     "execution_count": 318,
     "metadata": {},
     "output_type": "execute_result"
    }
   ],
   "source": [
    "vac_country.drop('variable', axis=1, inplace=True)\n",
    "vac_country.isnull().sum()"
   ]
  },
  {
   "cell_type": "code",
   "execution_count": 319,
   "metadata": {},
   "outputs": [
    {
     "data": {
      "text/html": [
       "<div>\n",
       "<style scoped>\n",
       "    .dataframe tbody tr th:only-of-type {\n",
       "        vertical-align: middle;\n",
       "    }\n",
       "\n",
       "    .dataframe tbody tr th {\n",
       "        vertical-align: top;\n",
       "    }\n",
       "\n",
       "    .dataframe thead th {\n",
       "        text-align: right;\n",
       "    }\n",
       "</style>\n",
       "<table border=\"1\" class=\"dataframe\">\n",
       "  <thead>\n",
       "    <tr style=\"text-align: right;\">\n",
       "      <th></th>\n",
       "      <th>country</th>\n",
       "      <th>vaccines</th>\n",
       "    </tr>\n",
       "  </thead>\n",
       "  <tbody>\n",
       "    <tr>\n",
       "      <th>0</th>\n",
       "      <td>Afghanistan</td>\n",
       "      <td>Oxford/AstraZeneca</td>\n",
       "    </tr>\n",
       "    <tr>\n",
       "      <th>1</th>\n",
       "      <td>Afghanistan</td>\n",
       "      <td>Oxford/AstraZeneca</td>\n",
       "    </tr>\n",
       "    <tr>\n",
       "      <th>2</th>\n",
       "      <td>Afghanistan</td>\n",
       "      <td>Oxford/AstraZeneca</td>\n",
       "    </tr>\n",
       "    <tr>\n",
       "      <th>3</th>\n",
       "      <td>Afghanistan</td>\n",
       "      <td>Oxford/AstraZeneca</td>\n",
       "    </tr>\n",
       "    <tr>\n",
       "      <th>4</th>\n",
       "      <td>Afghanistan</td>\n",
       "      <td>Oxford/AstraZeneca</td>\n",
       "    </tr>\n",
       "  </tbody>\n",
       "</table>\n",
       "</div>"
      ],
      "text/plain": [
       "       country            vaccines\n",
       "0  Afghanistan  Oxford/AstraZeneca\n",
       "1  Afghanistan  Oxford/AstraZeneca\n",
       "2  Afghanistan  Oxford/AstraZeneca\n",
       "3  Afghanistan  Oxford/AstraZeneca\n",
       "4  Afghanistan  Oxford/AstraZeneca"
      ]
     },
     "execution_count": 319,
     "metadata": {},
     "output_type": "execute_result"
    }
   ],
   "source": [
    "vac_country.columns = ['country','vaccines']\n",
    "vac_country.head()"
   ]
  },
  {
   "cell_type": "code",
   "execution_count": 320,
   "metadata": {},
   "outputs": [
    {
     "name": "stdout",
     "output_type": "stream",
     "text": [
      "11\n"
     ]
    },
    {
     "data": {
      "text/plain": [
       "array(['Oxford/AstraZeneca', 'Pfizer/BioNTech', 'Sputnik V', 'Moderna',\n",
       "       'Sinovac', 'Sinopharm/Beijing', 'Covaxin', 'EpiVacCorona',\n",
       "       'Johnson&Johnson', None, 'Sinopharm/Wuhan'], dtype=object)"
      ]
     },
     "execution_count": 320,
     "metadata": {},
     "output_type": "execute_result"
    }
   ],
   "source": [
    "print(len(vac_country.vaccines.unique()))\n",
    "vac_country.vaccines.unique()"
   ]
  },
  {
   "cell_type": "code",
   "execution_count": 321,
   "metadata": {},
   "outputs": [
    {
     "name": "stdout",
     "output_type": "stream",
     "text": [
      "<class 'pandas.core.frame.DataFrame'>\n",
      "RangeIndex: 42255 entries, 0 to 42254\n",
      "Data columns (total 2 columns):\n",
      " #   Column    Non-Null Count  Dtype \n",
      "---  ------    --------------  ----- \n",
      " 0   country   42255 non-null  object\n",
      " 1   vaccines  17183 non-null  object\n",
      "dtypes: object(2)\n",
      "memory usage: 660.4+ KB\n"
     ]
    }
   ],
   "source": [
    "vac_country.info()"
   ]
  },
  {
   "cell_type": "code",
   "execution_count": 322,
   "metadata": {},
   "outputs": [
    {
     "data": {
      "text/plain": [
       "country     0\n",
       "vaccines    0\n",
       "dtype: int64"
      ]
     },
     "execution_count": 322,
     "metadata": {},
     "output_type": "execute_result"
    }
   ],
   "source": [
    "vac_country = vac_country.dropna(axis=0)\n",
    "vac_country.isnull().sum()"
   ]
  },
  {
   "cell_type": "code",
   "execution_count": 323,
   "metadata": {},
   "outputs": [
    {
     "name": "stdout",
     "output_type": "stream",
     "text": [
      "10\n"
     ]
    }
   ],
   "source": [
    "print(len(vac_country.vaccines.unique()))"
   ]
  },
  {
   "cell_type": "code",
   "execution_count": 324,
   "metadata": {},
   "outputs": [
    {
     "data": {
      "text/html": [
       "<div>\n",
       "<style scoped>\n",
       "    .dataframe tbody tr th:only-of-type {\n",
       "        vertical-align: middle;\n",
       "    }\n",
       "\n",
       "    .dataframe tbody tr th {\n",
       "        vertical-align: top;\n",
       "    }\n",
       "\n",
       "    .dataframe thead th {\n",
       "        text-align: right;\n",
       "    }\n",
       "</style>\n",
       "<table border=\"1\" class=\"dataframe\">\n",
       "  <thead>\n",
       "    <tr style=\"text-align: right;\">\n",
       "      <th></th>\n",
       "      <th>unique</th>\n",
       "    </tr>\n",
       "    <tr>\n",
       "      <th>vaccines</th>\n",
       "      <th></th>\n",
       "    </tr>\n",
       "  </thead>\n",
       "  <tbody>\n",
       "    <tr>\n",
       "      <th>Covaxin</th>\n",
       "      <td>[India]</td>\n",
       "    </tr>\n",
       "    <tr>\n",
       "      <th>EpiVacCorona</th>\n",
       "      <td>[Russia]</td>\n",
       "    </tr>\n",
       "    <tr>\n",
       "      <th>Johnson&amp;Johnson</th>\n",
       "      <td>[South Africa, United States]</td>\n",
       "    </tr>\n",
       "    <tr>\n",
       "      <th>Moderna</th>\n",
       "      <td>[Austria, Belgium, Bulgaria, Canada, Czechia, ...</td>\n",
       "    </tr>\n",
       "    <tr>\n",
       "      <th>Oxford/AstraZeneca</th>\n",
       "      <td>[Afghanistan, Angola, Anguilla, Antigua and Ba...</td>\n",
       "    </tr>\n",
       "    <tr>\n",
       "      <th>Pfizer/BioNTech</th>\n",
       "      <td>[Albania, Andorra, Bermuda, Cayman Islands, Ch...</td>\n",
       "    </tr>\n",
       "    <tr>\n",
       "      <th>Sinopharm/Beijing</th>\n",
       "      <td>[Cambodia, China, Egypt, Equatorial Guinea, La...</td>\n",
       "    </tr>\n",
       "    <tr>\n",
       "      <th>Sinopharm/Wuhan</th>\n",
       "      <td>[China, United Arab Emirates]</td>\n",
       "    </tr>\n",
       "    <tr>\n",
       "      <th>Sinovac</th>\n",
       "      <td>[Azerbaijan, Indonesia, Brazil, Chile, Colombi...</td>\n",
       "    </tr>\n",
       "    <tr>\n",
       "      <th>Sputnik V</th>\n",
       "      <td>[Algeria, Belarus, Bolivia, Guinea, Iran, Kaza...</td>\n",
       "    </tr>\n",
       "  </tbody>\n",
       "</table>\n",
       "</div>"
      ],
      "text/plain": [
       "                                                               unique\n",
       "vaccines                                                             \n",
       "Covaxin                                                       [India]\n",
       "EpiVacCorona                                                 [Russia]\n",
       "Johnson&Johnson                         [South Africa, United States]\n",
       "Moderna             [Austria, Belgium, Bulgaria, Canada, Czechia, ...\n",
       "Oxford/AstraZeneca  [Afghanistan, Angola, Anguilla, Antigua and Ba...\n",
       "Pfizer/BioNTech     [Albania, Andorra, Bermuda, Cayman Islands, Ch...\n",
       "Sinopharm/Beijing   [Cambodia, China, Egypt, Equatorial Guinea, La...\n",
       "Sinopharm/Wuhan                         [China, United Arab Emirates]\n",
       "Sinovac             [Azerbaijan, Indonesia, Brazil, Chile, Colombi...\n",
       "Sputnik V           [Algeria, Belarus, Bolivia, Guinea, Iran, Kaza..."
      ]
     },
     "execution_count": 324,
     "metadata": {},
     "output_type": "execute_result"
    }
   ],
   "source": [
    "summary = vac_country.groupby('vaccines')['country'].agg(['unique'])\n",
    "summary"
   ]
  },
  {
   "cell_type": "code",
   "execution_count": 325,
   "metadata": {},
   "outputs": [
    {
     "data": {
      "text/html": [
       "<div>\n",
       "<style scoped>\n",
       "    .dataframe tbody tr th:only-of-type {\n",
       "        vertical-align: middle;\n",
       "    }\n",
       "\n",
       "    .dataframe tbody tr th {\n",
       "        vertical-align: top;\n",
       "    }\n",
       "\n",
       "    .dataframe thead th {\n",
       "        text-align: right;\n",
       "    }\n",
       "</style>\n",
       "<table border=\"1\" class=\"dataframe\">\n",
       "  <thead>\n",
       "    <tr style=\"text-align: right;\">\n",
       "      <th></th>\n",
       "      <th>unique</th>\n",
       "      <th>nCountry</th>\n",
       "    </tr>\n",
       "    <tr>\n",
       "      <th>vaccines</th>\n",
       "      <th></th>\n",
       "      <th></th>\n",
       "    </tr>\n",
       "  </thead>\n",
       "  <tbody>\n",
       "    <tr>\n",
       "      <th>Covaxin</th>\n",
       "      <td>[India]</td>\n",
       "      <td>1</td>\n",
       "    </tr>\n",
       "    <tr>\n",
       "      <th>EpiVacCorona</th>\n",
       "      <td>[Russia]</td>\n",
       "      <td>1</td>\n",
       "    </tr>\n",
       "    <tr>\n",
       "      <th>Johnson&amp;Johnson</th>\n",
       "      <td>[South Africa, United States]</td>\n",
       "      <td>2</td>\n",
       "    </tr>\n",
       "    <tr>\n",
       "      <th>Moderna</th>\n",
       "      <td>[Austria, Belgium, Bulgaria, Canada, Czechia, ...</td>\n",
       "      <td>34</td>\n",
       "    </tr>\n",
       "    <tr>\n",
       "      <th>Oxford/AstraZeneca</th>\n",
       "      <td>[Afghanistan, Angola, Anguilla, Antigua and Ba...</td>\n",
       "      <td>92</td>\n",
       "    </tr>\n",
       "    <tr>\n",
       "      <th>Pfizer/BioNTech</th>\n",
       "      <td>[Albania, Andorra, Bermuda, Cayman Islands, Ch...</td>\n",
       "      <td>80</td>\n",
       "    </tr>\n",
       "    <tr>\n",
       "      <th>Sinopharm/Beijing</th>\n",
       "      <td>[Cambodia, China, Egypt, Equatorial Guinea, La...</td>\n",
       "      <td>21</td>\n",
       "    </tr>\n",
       "    <tr>\n",
       "      <th>Sinopharm/Wuhan</th>\n",
       "      <td>[China, United Arab Emirates]</td>\n",
       "      <td>2</td>\n",
       "    </tr>\n",
       "    <tr>\n",
       "      <th>Sinovac</th>\n",
       "      <td>[Azerbaijan, Indonesia, Brazil, Chile, Colombi...</td>\n",
       "      <td>14</td>\n",
       "    </tr>\n",
       "    <tr>\n",
       "      <th>Sputnik V</th>\n",
       "      <td>[Algeria, Belarus, Bolivia, Guinea, Iran, Kaza...</td>\n",
       "      <td>20</td>\n",
       "    </tr>\n",
       "  </tbody>\n",
       "</table>\n",
       "</div>"
      ],
      "text/plain": [
       "                                                               unique  \\\n",
       "vaccines                                                                \n",
       "Covaxin                                                       [India]   \n",
       "EpiVacCorona                                                 [Russia]   \n",
       "Johnson&Johnson                         [South Africa, United States]   \n",
       "Moderna             [Austria, Belgium, Bulgaria, Canada, Czechia, ...   \n",
       "Oxford/AstraZeneca  [Afghanistan, Angola, Anguilla, Antigua and Ba...   \n",
       "Pfizer/BioNTech     [Albania, Andorra, Bermuda, Cayman Islands, Ch...   \n",
       "Sinopharm/Beijing   [Cambodia, China, Egypt, Equatorial Guinea, La...   \n",
       "Sinopharm/Wuhan                         [China, United Arab Emirates]   \n",
       "Sinovac             [Azerbaijan, Indonesia, Brazil, Chile, Colombi...   \n",
       "Sputnik V           [Algeria, Belarus, Bolivia, Guinea, Iran, Kaza...   \n",
       "\n",
       "                    nCountry  \n",
       "vaccines                      \n",
       "Covaxin                    1  \n",
       "EpiVacCorona               1  \n",
       "Johnson&Johnson            2  \n",
       "Moderna                   34  \n",
       "Oxford/AstraZeneca        92  \n",
       "Pfizer/BioNTech           80  \n",
       "Sinopharm/Beijing         21  \n",
       "Sinopharm/Wuhan            2  \n",
       "Sinovac                   14  \n",
       "Sputnik V                 20  "
      ]
     },
     "execution_count": 325,
     "metadata": {},
     "output_type": "execute_result"
    }
   ],
   "source": [
    "summary['nCountry'] = summary2.unique.str.len()\n",
    "summary"
   ]
  },
  {
   "cell_type": "code",
   "execution_count": 326,
   "metadata": {},
   "outputs": [
    {
     "data": {
      "text/plain": [
       "267"
      ]
     },
     "execution_count": 326,
     "metadata": {},
     "output_type": "execute_result"
    }
   ],
   "source": [
    "summary.nCountry.sum()"
   ]
  },
  {
   "cell_type": "code",
   "execution_count": 327,
   "metadata": {},
   "outputs": [
    {
     "data": {
      "text/html": [
       "<div>\n",
       "<style scoped>\n",
       "    .dataframe tbody tr th:only-of-type {\n",
       "        vertical-align: middle;\n",
       "    }\n",
       "\n",
       "    .dataframe tbody tr th {\n",
       "        vertical-align: top;\n",
       "    }\n",
       "\n",
       "    .dataframe thead th {\n",
       "        text-align: right;\n",
       "    }\n",
       "</style>\n",
       "<table border=\"1\" class=\"dataframe\">\n",
       "  <thead>\n",
       "    <tr style=\"text-align: right;\">\n",
       "      <th></th>\n",
       "      <th>unique</th>\n",
       "      <th>nCountry</th>\n",
       "      <th>pCountry</th>\n",
       "    </tr>\n",
       "    <tr>\n",
       "      <th>vaccines</th>\n",
       "      <th></th>\n",
       "      <th></th>\n",
       "      <th></th>\n",
       "    </tr>\n",
       "  </thead>\n",
       "  <tbody>\n",
       "    <tr>\n",
       "      <th>Covaxin</th>\n",
       "      <td>[India]</td>\n",
       "      <td>1</td>\n",
       "      <td>0.37</td>\n",
       "    </tr>\n",
       "    <tr>\n",
       "      <th>EpiVacCorona</th>\n",
       "      <td>[Russia]</td>\n",
       "      <td>1</td>\n",
       "      <td>0.37</td>\n",
       "    </tr>\n",
       "    <tr>\n",
       "      <th>Johnson&amp;Johnson</th>\n",
       "      <td>[South Africa, United States]</td>\n",
       "      <td>2</td>\n",
       "      <td>0.75</td>\n",
       "    </tr>\n",
       "    <tr>\n",
       "      <th>Moderna</th>\n",
       "      <td>[Austria, Belgium, Bulgaria, Canada, Czechia, ...</td>\n",
       "      <td>34</td>\n",
       "      <td>12.73</td>\n",
       "    </tr>\n",
       "    <tr>\n",
       "      <th>Oxford/AstraZeneca</th>\n",
       "      <td>[Afghanistan, Angola, Anguilla, Antigua and Ba...</td>\n",
       "      <td>92</td>\n",
       "      <td>34.46</td>\n",
       "    </tr>\n",
       "    <tr>\n",
       "      <th>Pfizer/BioNTech</th>\n",
       "      <td>[Albania, Andorra, Bermuda, Cayman Islands, Ch...</td>\n",
       "      <td>80</td>\n",
       "      <td>29.96</td>\n",
       "    </tr>\n",
       "    <tr>\n",
       "      <th>Sinopharm/Beijing</th>\n",
       "      <td>[Cambodia, China, Egypt, Equatorial Guinea, La...</td>\n",
       "      <td>21</td>\n",
       "      <td>7.87</td>\n",
       "    </tr>\n",
       "    <tr>\n",
       "      <th>Sinopharm/Wuhan</th>\n",
       "      <td>[China, United Arab Emirates]</td>\n",
       "      <td>2</td>\n",
       "      <td>0.75</td>\n",
       "    </tr>\n",
       "    <tr>\n",
       "      <th>Sinovac</th>\n",
       "      <td>[Azerbaijan, Indonesia, Brazil, Chile, Colombi...</td>\n",
       "      <td>14</td>\n",
       "      <td>5.24</td>\n",
       "    </tr>\n",
       "    <tr>\n",
       "      <th>Sputnik V</th>\n",
       "      <td>[Algeria, Belarus, Bolivia, Guinea, Iran, Kaza...</td>\n",
       "      <td>20</td>\n",
       "      <td>7.49</td>\n",
       "    </tr>\n",
       "  </tbody>\n",
       "</table>\n",
       "</div>"
      ],
      "text/plain": [
       "                                                               unique  \\\n",
       "vaccines                                                                \n",
       "Covaxin                                                       [India]   \n",
       "EpiVacCorona                                                 [Russia]   \n",
       "Johnson&Johnson                         [South Africa, United States]   \n",
       "Moderna             [Austria, Belgium, Bulgaria, Canada, Czechia, ...   \n",
       "Oxford/AstraZeneca  [Afghanistan, Angola, Anguilla, Antigua and Ba...   \n",
       "Pfizer/BioNTech     [Albania, Andorra, Bermuda, Cayman Islands, Ch...   \n",
       "Sinopharm/Beijing   [Cambodia, China, Egypt, Equatorial Guinea, La...   \n",
       "Sinopharm/Wuhan                         [China, United Arab Emirates]   \n",
       "Sinovac             [Azerbaijan, Indonesia, Brazil, Chile, Colombi...   \n",
       "Sputnik V           [Algeria, Belarus, Bolivia, Guinea, Iran, Kaza...   \n",
       "\n",
       "                    nCountry  pCountry  \n",
       "vaccines                                \n",
       "Covaxin                    1      0.37  \n",
       "EpiVacCorona               1      0.37  \n",
       "Johnson&Johnson            2      0.75  \n",
       "Moderna                   34     12.73  \n",
       "Oxford/AstraZeneca        92     34.46  \n",
       "Pfizer/BioNTech           80     29.96  \n",
       "Sinopharm/Beijing         21      7.87  \n",
       "Sinopharm/Wuhan            2      0.75  \n",
       "Sinovac                   14      5.24  \n",
       "Sputnik V                 20      7.49  "
      ]
     },
     "execution_count": 327,
     "metadata": {},
     "output_type": "execute_result"
    }
   ],
   "source": [
    "summary = summary.assign(pCountry = lambda x: ((x['nCountry'])/267) * 100)\n",
    "summary"
   ]
  },
  {
   "cell_type": "code",
   "execution_count": 328,
   "metadata": {},
   "outputs": [
    {
     "data": {
      "text/plain": [
       "vaccines\n",
       "Oxford/AstraZeneca    92\n",
       "Pfizer/BioNTech       80\n",
       "Moderna               34\n",
       "Sinopharm/Beijing     21\n",
       "Sputnik V             20\n",
       "Sinovac               14\n",
       "Sinopharm/Wuhan        2\n",
       "Johnson&Johnson        2\n",
       "EpiVacCorona           1\n",
       "Covaxin                1\n",
       "Name: nCountry, dtype: int64"
      ]
     },
     "execution_count": 328,
     "metadata": {},
     "output_type": "execute_result"
    }
   ],
   "source": [
    "summary.nCountry.sort_values(ascending=False)"
   ]
  },
  {
   "cell_type": "code",
   "execution_count": 334,
   "metadata": {},
   "outputs": [
    {
     "data": {
      "text/html": [
       "<div>\n",
       "<style scoped>\n",
       "    .dataframe tbody tr th:only-of-type {\n",
       "        vertical-align: middle;\n",
       "    }\n",
       "\n",
       "    .dataframe tbody tr th {\n",
       "        vertical-align: top;\n",
       "    }\n",
       "\n",
       "    .dataframe thead th {\n",
       "        text-align: right;\n",
       "    }\n",
       "</style>\n",
       "<table border=\"1\" class=\"dataframe\">\n",
       "  <thead>\n",
       "    <tr style=\"text-align: right;\">\n",
       "      <th></th>\n",
       "      <th>unique</th>\n",
       "      <th>nCountry</th>\n",
       "      <th>pCountry</th>\n",
       "    </tr>\n",
       "    <tr>\n",
       "      <th>vaccines</th>\n",
       "      <th></th>\n",
       "      <th></th>\n",
       "      <th></th>\n",
       "    </tr>\n",
       "  </thead>\n",
       "  <tbody>\n",
       "    <tr>\n",
       "      <th>Oxford/AstraZeneca</th>\n",
       "      <td>[Afghanistan, Angola, Anguilla, Antigua and Ba...</td>\n",
       "      <td>92</td>\n",
       "      <td>34.46</td>\n",
       "    </tr>\n",
       "    <tr>\n",
       "      <th>Pfizer/BioNTech</th>\n",
       "      <td>[Albania, Andorra, Bermuda, Cayman Islands, Ch...</td>\n",
       "      <td>80</td>\n",
       "      <td>29.96</td>\n",
       "    </tr>\n",
       "    <tr>\n",
       "      <th>Moderna</th>\n",
       "      <td>[Austria, Belgium, Bulgaria, Canada, Czechia, ...</td>\n",
       "      <td>34</td>\n",
       "      <td>12.73</td>\n",
       "    </tr>\n",
       "    <tr>\n",
       "      <th>Sinopharm/Beijing</th>\n",
       "      <td>[Cambodia, China, Egypt, Equatorial Guinea, La...</td>\n",
       "      <td>21</td>\n",
       "      <td>7.87</td>\n",
       "    </tr>\n",
       "    <tr>\n",
       "      <th>Sputnik V</th>\n",
       "      <td>[Algeria, Belarus, Bolivia, Guinea, Iran, Kaza...</td>\n",
       "      <td>20</td>\n",
       "      <td>7.49</td>\n",
       "    </tr>\n",
       "    <tr>\n",
       "      <th>Sinovac</th>\n",
       "      <td>[Azerbaijan, Indonesia, Brazil, Chile, Colombi...</td>\n",
       "      <td>14</td>\n",
       "      <td>5.24</td>\n",
       "    </tr>\n",
       "    <tr>\n",
       "      <th>Johnson&amp;Johnson</th>\n",
       "      <td>[South Africa, United States]</td>\n",
       "      <td>2</td>\n",
       "      <td>0.75</td>\n",
       "    </tr>\n",
       "    <tr>\n",
       "      <th>Sinopharm/Wuhan</th>\n",
       "      <td>[China, United Arab Emirates]</td>\n",
       "      <td>2</td>\n",
       "      <td>0.75</td>\n",
       "    </tr>\n",
       "    <tr>\n",
       "      <th>Covaxin</th>\n",
       "      <td>[India]</td>\n",
       "      <td>1</td>\n",
       "      <td>0.37</td>\n",
       "    </tr>\n",
       "    <tr>\n",
       "      <th>EpiVacCorona</th>\n",
       "      <td>[Russia]</td>\n",
       "      <td>1</td>\n",
       "      <td>0.37</td>\n",
       "    </tr>\n",
       "  </tbody>\n",
       "</table>\n",
       "</div>"
      ],
      "text/plain": [
       "                                                               unique  \\\n",
       "vaccines                                                                \n",
       "Oxford/AstraZeneca  [Afghanistan, Angola, Anguilla, Antigua and Ba...   \n",
       "Pfizer/BioNTech     [Albania, Andorra, Bermuda, Cayman Islands, Ch...   \n",
       "Moderna             [Austria, Belgium, Bulgaria, Canada, Czechia, ...   \n",
       "Sinopharm/Beijing   [Cambodia, China, Egypt, Equatorial Guinea, La...   \n",
       "Sputnik V           [Algeria, Belarus, Bolivia, Guinea, Iran, Kaza...   \n",
       "Sinovac             [Azerbaijan, Indonesia, Brazil, Chile, Colombi...   \n",
       "Johnson&Johnson                         [South Africa, United States]   \n",
       "Sinopharm/Wuhan                         [China, United Arab Emirates]   \n",
       "Covaxin                                                       [India]   \n",
       "EpiVacCorona                                                 [Russia]   \n",
       "\n",
       "                    nCountry  pCountry  \n",
       "vaccines                                \n",
       "Oxford/AstraZeneca        92     34.46  \n",
       "Pfizer/BioNTech           80     29.96  \n",
       "Moderna                   34     12.73  \n",
       "Sinopharm/Beijing         21      7.87  \n",
       "Sputnik V                 20      7.49  \n",
       "Sinovac                   14      5.24  \n",
       "Johnson&Johnson            2      0.75  \n",
       "Sinopharm/Wuhan            2      0.75  \n",
       "Covaxin                    1      0.37  \n",
       "EpiVacCorona               1      0.37  "
      ]
     },
     "execution_count": 334,
     "metadata": {},
     "output_type": "execute_result"
    }
   ],
   "source": [
    "summary.sort_values('nCountry', ascending=False)"
   ]
  },
  {
   "cell_type": "code",
   "execution_count": 335,
   "metadata": {},
   "outputs": [
    {
     "data": {
      "image/png": "[encoded data removed]",
      "text/plain": [
       "<Figure size 864x576 with 1 Axes>"
      ]
     },
     "metadata": {},
     "output_type": "display_data"
    }
   ],
   "source": [
    "plt.style.use('fivethirtyeight')\n",
    "plt.figure(figsize=(12,8))\n",
    "labels = summary2.index\n",
    "\n",
    "plt.pie(summary2.pCountry, labels=labels, explode=[0.05, 0.05, 0.05, 0.05, 0.05, 0.05, 0.05, 0.05, 0.05, 0.05], \n",
    "        wedgeprops={'edgecolor':'black', 'width':0.6}, startangle=180, autopct='%1.1F%%', radius=2)\n",
    "\n",
    "plt.legend(loc='right')\n",
    "plt.show()"
   ]
  },
  {
   "cell_type": "code",
   "execution_count": 344,
   "metadata": {},
   "outputs": [
    {
     "data": {
      "image/png": "[encoded data removed]",
      "text/plain": [
       "<Figure size 864x576 with 1 Axes>"
      ]
     },
     "metadata": {},
     "output_type": "display_data"
    }
   ],
   "source": [
    "plt.figure(figsize=(12,8))\n",
    "plt.title(\"Vaccines distribution by countries\")\n",
    "plt.style.use('fivethirtyeight')\n",
    "plt.xlabel('Number of countries')\n",
    "plt.xticks(np.arange(0,110,10))\n",
    "\n",
    "plt.barh(summary.index, summary.nCountry.sort_values())\n",
    "plt.show()"
   ]
  },
  {
   "cell_type": "code",
   "execution_count": null,
   "metadata": {},
   "outputs": [],
   "source": []
  }
 ],
 "metadata": {
  "kernelspec": {
   "display_name": "Python 3",
   "language": "python",
   "name": "python3"
  },
  "language_info": {
   "codemirror_mode": {
    "name": "ipython",
    "version": 3
   },
   "file_extension": ".py",
   "mimetype": "text/x-python",
   "name": "python",
   "nbconvert_exporter": "python",
   "pygments_lexer": "ipython3",
   "version": "3.8.5"
  }
 },
 "nbformat": 4,
 "nbformat_minor": 4
}
