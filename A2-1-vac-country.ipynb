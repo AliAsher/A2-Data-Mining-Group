{
 "cells": [
  {
   "cell_type": "markdown",
   "metadata": {},
   "source": [
    "1. Importing vaccine country file\n",
    "2. Dividing the vaccine list individually into a column\n",
    "3. Combining type of vaccines into one column\n",
    "4. Calculate the number of countries based on the vaccine and draw a graph"
   ]
  },
  {
   "cell_type": "code",
<<<<<<< HEAD
   "execution_count": 36,
=======
   "execution_count": 33,
>>>>>>> a31d03f1f081a0d69f6e28b482fe16a945e71bdb
   "metadata": {},
   "outputs": [],
   "source": [
    "import pandas as pd\n",
    "pd.set_option('precision', 2)\n",
    "\n",
    "import numpy as np\n",
    "import matplotlib\n",
    "import matplotlib.pyplot as plt\n",
    "%matplotlib inline"
   ]
  },
  {
   "cell_type": "code",
<<<<<<< HEAD
   "execution_count": 37,
=======
   "execution_count": 34,
>>>>>>> a31d03f1f081a0d69f6e28b482fe16a945e71bdb
   "metadata": {},
   "outputs": [
    {
     "name": "stdout",
     "output_type": "stream",
     "text": [
      "<class 'pandas.core.frame.DataFrame'>\n",
      "RangeIndex: 8451 entries, 0 to 8450\n",
      "Data columns (total 15 columns):\n",
      " #   Column                               Non-Null Count  Dtype  \n",
      "---  ------                               --------------  -----  \n",
      " 0   country                              8451 non-null   object \n",
      " 1   iso_code                             8451 non-null   object \n",
      " 2   date                                 8451 non-null   object \n",
      " 3   total_vaccinations                   5231 non-null   float64\n",
      " 4   people_vaccinated                    4688 non-null   float64\n",
      " 5   people_fully_vaccinated              3186 non-null   float64\n",
      " 6   daily_vaccinations_raw               4415 non-null   float64\n",
      " 7   daily_vaccinations                   8260 non-null   float64\n",
      " 8   total_vaccinations_per_hundred       5231 non-null   float64\n",
      " 9   people_vaccinated_per_hundred        4688 non-null   float64\n",
      " 10  people_fully_vaccinated_per_hundred  3186 non-null   float64\n",
      " 11  daily_vaccinations_per_million       8260 non-null   float64\n",
      " 12  vaccines                             8451 non-null   object \n",
      " 13  source_name                          8451 non-null   object \n",
      " 14  source_website                       8451 non-null   object \n",
      "dtypes: float64(9), object(6)\n",
      "memory usage: 990.5+ KB\n"
     ]
    },
    {
     "data": {
      "text/plain": [
       "Index(['country', 'iso_code', 'date', 'total_vaccinations',\n",
       "       'people_vaccinated', 'people_fully_vaccinated',\n",
       "       'daily_vaccinations_raw', 'daily_vaccinations',\n",
       "       'total_vaccinations_per_hundred', 'people_vaccinated_per_hundred',\n",
       "       'people_fully_vaccinated_per_hundred', 'daily_vaccinations_per_million',\n",
       "       'vaccines', 'source_name', 'source_website'],\n",
       "      dtype='object')"
      ]
     },
<<<<<<< HEAD
     "execution_count": 37,
=======
     "execution_count": 34,
>>>>>>> a31d03f1f081a0d69f6e28b482fe16a945e71bdb
     "metadata": {},
     "output_type": "execute_result"
    }
   ],
   "source": [
    "raw = pd.read_csv('data/country_vaccinations.csv')\n",
    "raw.info()\n",
    "raw.columns"
   ]
  },
  {
   "cell_type": "code",
<<<<<<< HEAD
   "execution_count": 38,
=======
   "execution_count": 35,
>>>>>>> a31d03f1f081a0d69f6e28b482fe16a945e71bdb
   "metadata": {},
   "outputs": [
    {
     "data": {
      "text/html": [
       "<div>\n",
       "<style scoped>\n",
       "    .dataframe tbody tr th:only-of-type {\n",
       "        vertical-align: middle;\n",
       "    }\n",
       "\n",
       "    .dataframe tbody tr th {\n",
       "        vertical-align: top;\n",
       "    }\n",
       "\n",
       "    .dataframe thead th {\n",
       "        text-align: right;\n",
       "    }\n",
       "</style>\n",
       "<table border=\"1\" class=\"dataframe\">\n",
       "  <thead>\n",
       "    <tr style=\"text-align: right;\">\n",
       "      <th></th>\n",
       "      <th>country</th>\n",
       "      <th>vaccines</th>\n",
       "    </tr>\n",
       "  </thead>\n",
       "  <tbody>\n",
       "    <tr>\n",
       "      <th>0</th>\n",
       "      <td>Afghanistan</td>\n",
       "      <td>Oxford/AstraZeneca</td>\n",
       "    </tr>\n",
       "    <tr>\n",
       "      <th>1</th>\n",
       "      <td>Afghanistan</td>\n",
       "      <td>Oxford/AstraZeneca</td>\n",
       "    </tr>\n",
       "    <tr>\n",
       "      <th>2</th>\n",
       "      <td>Afghanistan</td>\n",
       "      <td>Oxford/AstraZeneca</td>\n",
       "    </tr>\n",
       "    <tr>\n",
       "      <th>3</th>\n",
       "      <td>Afghanistan</td>\n",
       "      <td>Oxford/AstraZeneca</td>\n",
       "    </tr>\n",
       "    <tr>\n",
       "      <th>4</th>\n",
       "      <td>Afghanistan</td>\n",
       "      <td>Oxford/AstraZeneca</td>\n",
       "    </tr>\n",
       "    <tr>\n",
       "      <th>...</th>\n",
       "      <td>...</td>\n",
       "      <td>...</td>\n",
       "    </tr>\n",
       "    <tr>\n",
       "      <th>8446</th>\n",
       "      <td>Zimbabwe</td>\n",
       "      <td>Sinopharm/Beijing</td>\n",
       "    </tr>\n",
       "    <tr>\n",
       "      <th>8447</th>\n",
       "      <td>Zimbabwe</td>\n",
       "      <td>Sinopharm/Beijing</td>\n",
       "    </tr>\n",
       "    <tr>\n",
       "      <th>8448</th>\n",
       "      <td>Zimbabwe</td>\n",
       "      <td>Sinopharm/Beijing</td>\n",
       "    </tr>\n",
       "    <tr>\n",
       "      <th>8449</th>\n",
       "      <td>Zimbabwe</td>\n",
       "      <td>Sinopharm/Beijing</td>\n",
       "    </tr>\n",
       "    <tr>\n",
       "      <th>8450</th>\n",
       "      <td>Zimbabwe</td>\n",
       "      <td>Sinopharm/Beijing</td>\n",
       "    </tr>\n",
       "  </tbody>\n",
       "</table>\n",
       "<p>8451 rows × 2 columns</p>\n",
       "</div>"
      ],
      "text/plain": [
       "          country            vaccines\n",
       "0     Afghanistan  Oxford/AstraZeneca\n",
       "1     Afghanistan  Oxford/AstraZeneca\n",
       "2     Afghanistan  Oxford/AstraZeneca\n",
       "3     Afghanistan  Oxford/AstraZeneca\n",
       "4     Afghanistan  Oxford/AstraZeneca\n",
       "...           ...                 ...\n",
       "8446     Zimbabwe   Sinopharm/Beijing\n",
       "8447     Zimbabwe   Sinopharm/Beijing\n",
       "8448     Zimbabwe   Sinopharm/Beijing\n",
       "8449     Zimbabwe   Sinopharm/Beijing\n",
       "8450     Zimbabwe   Sinopharm/Beijing\n",
       "\n",
       "[8451 rows x 2 columns]"
      ]
     },
<<<<<<< HEAD
     "execution_count": 38,
=======
     "execution_count": 35,
>>>>>>> a31d03f1f081a0d69f6e28b482fe16a945e71bdb
     "metadata": {},
     "output_type": "execute_result"
    }
   ],
   "source": [
    "df = raw[['country','vaccines']]\n",
    "df"
   ]
  },
  {
   "cell_type": "code",
<<<<<<< HEAD
   "execution_count": 39,
=======
   "execution_count": 36,
>>>>>>> a31d03f1f081a0d69f6e28b482fe16a945e71bdb
   "metadata": {},
   "outputs": [
    {
     "data": {
      "text/plain": [
       "Index(['country', 'vaccines'], dtype='object')"
      ]
     },
<<<<<<< HEAD
     "execution_count": 39,
=======
     "execution_count": 36,
>>>>>>> a31d03f1f081a0d69f6e28b482fe16a945e71bdb
     "metadata": {},
     "output_type": "execute_result"
    }
   ],
   "source": [
    "df.columns"
   ]
  },
  {
   "cell_type": "code",
<<<<<<< HEAD
   "execution_count": 40,
=======
   "execution_count": 37,
>>>>>>> a31d03f1f081a0d69f6e28b482fe16a945e71bdb
   "metadata": {},
   "outputs": [
    {
     "data": {
      "text/html": [
       "<div>\n",
       "<style scoped>\n",
       "    .dataframe tbody tr th:only-of-type {\n",
       "        vertical-align: middle;\n",
       "    }\n",
       "\n",
       "    .dataframe tbody tr th {\n",
       "        vertical-align: top;\n",
       "    }\n",
       "\n",
       "    .dataframe thead th {\n",
       "        text-align: right;\n",
       "    }\n",
       "</style>\n",
       "<table border=\"1\" class=\"dataframe\">\n",
       "  <thead>\n",
       "    <tr style=\"text-align: right;\">\n",
       "      <th></th>\n",
       "      <th>country</th>\n",
       "      <th>0</th>\n",
       "      <th>1</th>\n",
       "      <th>2</th>\n",
       "      <th>3</th>\n",
       "      <th>4</th>\n",
       "    </tr>\n",
       "  </thead>\n",
       "  <tbody>\n",
       "    <tr>\n",
       "      <th>0</th>\n",
       "      <td>Afghanistan</td>\n",
       "      <td>Oxford/AstraZeneca</td>\n",
       "      <td>None</td>\n",
       "      <td>None</td>\n",
       "      <td>None</td>\n",
       "      <td>None</td>\n",
       "    </tr>\n",
       "    <tr>\n",
       "      <th>1</th>\n",
       "      <td>Afghanistan</td>\n",
       "      <td>Oxford/AstraZeneca</td>\n",
       "      <td>None</td>\n",
       "      <td>None</td>\n",
       "      <td>None</td>\n",
       "      <td>None</td>\n",
       "    </tr>\n",
       "    <tr>\n",
       "      <th>2</th>\n",
       "      <td>Afghanistan</td>\n",
       "      <td>Oxford/AstraZeneca</td>\n",
       "      <td>None</td>\n",
       "      <td>None</td>\n",
       "      <td>None</td>\n",
       "      <td>None</td>\n",
       "    </tr>\n",
       "    <tr>\n",
       "      <th>3</th>\n",
       "      <td>Afghanistan</td>\n",
       "      <td>Oxford/AstraZeneca</td>\n",
       "      <td>None</td>\n",
       "      <td>None</td>\n",
       "      <td>None</td>\n",
       "      <td>None</td>\n",
       "    </tr>\n",
       "    <tr>\n",
       "      <th>4</th>\n",
       "      <td>Afghanistan</td>\n",
       "      <td>Oxford/AstraZeneca</td>\n",
       "      <td>None</td>\n",
       "      <td>None</td>\n",
       "      <td>None</td>\n",
       "      <td>None</td>\n",
       "    </tr>\n",
       "    <tr>\n",
       "      <th>...</th>\n",
       "      <td>...</td>\n",
       "      <td>...</td>\n",
       "      <td>...</td>\n",
       "      <td>...</td>\n",
       "      <td>...</td>\n",
       "      <td>...</td>\n",
       "    </tr>\n",
       "    <tr>\n",
       "      <th>8446</th>\n",
       "      <td>Zimbabwe</td>\n",
       "      <td>Sinopharm/Beijing</td>\n",
       "      <td>None</td>\n",
       "      <td>None</td>\n",
       "      <td>None</td>\n",
       "      <td>None</td>\n",
       "    </tr>\n",
       "    <tr>\n",
       "      <th>8447</th>\n",
       "      <td>Zimbabwe</td>\n",
       "      <td>Sinopharm/Beijing</td>\n",
       "      <td>None</td>\n",
       "      <td>None</td>\n",
       "      <td>None</td>\n",
       "      <td>None</td>\n",
       "    </tr>\n",
       "    <tr>\n",
       "      <th>8448</th>\n",
       "      <td>Zimbabwe</td>\n",
       "      <td>Sinopharm/Beijing</td>\n",
       "      <td>None</td>\n",
       "      <td>None</td>\n",
       "      <td>None</td>\n",
       "      <td>None</td>\n",
       "    </tr>\n",
       "    <tr>\n",
       "      <th>8449</th>\n",
       "      <td>Zimbabwe</td>\n",
       "      <td>Sinopharm/Beijing</td>\n",
       "      <td>None</td>\n",
       "      <td>None</td>\n",
       "      <td>None</td>\n",
       "      <td>None</td>\n",
       "    </tr>\n",
       "    <tr>\n",
       "      <th>8450</th>\n",
       "      <td>Zimbabwe</td>\n",
       "      <td>Sinopharm/Beijing</td>\n",
       "      <td>None</td>\n",
       "      <td>None</td>\n",
       "      <td>None</td>\n",
       "      <td>None</td>\n",
       "    </tr>\n",
       "  </tbody>\n",
       "</table>\n",
       "<p>8451 rows × 6 columns</p>\n",
       "</div>"
      ],
      "text/plain": [
       "          country                   0     1     2     3     4\n",
       "0     Afghanistan  Oxford/AstraZeneca  None  None  None  None\n",
       "1     Afghanistan  Oxford/AstraZeneca  None  None  None  None\n",
       "2     Afghanistan  Oxford/AstraZeneca  None  None  None  None\n",
       "3     Afghanistan  Oxford/AstraZeneca  None  None  None  None\n",
       "4     Afghanistan  Oxford/AstraZeneca  None  None  None  None\n",
       "...           ...                 ...   ...   ...   ...   ...\n",
       "8446     Zimbabwe   Sinopharm/Beijing  None  None  None  None\n",
       "8447     Zimbabwe   Sinopharm/Beijing  None  None  None  None\n",
       "8448     Zimbabwe   Sinopharm/Beijing  None  None  None  None\n",
       "8449     Zimbabwe   Sinopharm/Beijing  None  None  None  None\n",
       "8450     Zimbabwe   Sinopharm/Beijing  None  None  None  None\n",
       "\n",
       "[8451 rows x 6 columns]"
      ]
     },
<<<<<<< HEAD
     "execution_count": 40,
=======
     "execution_count": 37,
>>>>>>> a31d03f1f081a0d69f6e28b482fe16a945e71bdb
     "metadata": {},
     "output_type": "execute_result"
    }
   ],
   "source": [
    "dfcleancsv = pd.concat([df['country'], df['vaccines'].str.split(', ', expand=True)], axis=1)\n",
    "dfcleancsv"
   ]
  },
  {
   "cell_type": "code",
<<<<<<< HEAD
   "execution_count": 41,
=======
   "execution_count": 38,
>>>>>>> a31d03f1f081a0d69f6e28b482fe16a945e71bdb
   "metadata": {},
   "outputs": [],
   "source": [
    "dfcleancsv.to_csv('data/test.csv')"
   ]
  },
  {
   "cell_type": "code",
<<<<<<< HEAD
   "execution_count": 42,
=======
   "execution_count": 39,
>>>>>>> a31d03f1f081a0d69f6e28b482fe16a945e71bdb
   "metadata": {},
   "outputs": [
    {
     "data": {
      "text/html": [
       "<div>\n",
       "<style scoped>\n",
       "    .dataframe tbody tr th:only-of-type {\n",
       "        vertical-align: middle;\n",
       "    }\n",
       "\n",
       "    .dataframe tbody tr th {\n",
       "        vertical-align: top;\n",
       "    }\n",
       "\n",
       "    .dataframe thead th {\n",
       "        text-align: right;\n",
       "    }\n",
       "</style>\n",
       "<table border=\"1\" class=\"dataframe\">\n",
       "  <thead>\n",
       "    <tr style=\"text-align: right;\">\n",
       "      <th></th>\n",
       "      <th>country</th>\n",
       "      <th>variable</th>\n",
       "      <th>value</th>\n",
       "    </tr>\n",
       "  </thead>\n",
       "  <tbody>\n",
       "    <tr>\n",
       "      <th>0</th>\n",
       "      <td>Afghanistan</td>\n",
       "      <td>0</td>\n",
       "      <td>Oxford/AstraZeneca</td>\n",
       "    </tr>\n",
       "    <tr>\n",
       "      <th>1</th>\n",
       "      <td>Afghanistan</td>\n",
       "      <td>0</td>\n",
       "      <td>Oxford/AstraZeneca</td>\n",
       "    </tr>\n",
       "    <tr>\n",
       "      <th>2</th>\n",
       "      <td>Afghanistan</td>\n",
       "      <td>0</td>\n",
       "      <td>Oxford/AstraZeneca</td>\n",
       "    </tr>\n",
       "    <tr>\n",
       "      <th>3</th>\n",
       "      <td>Afghanistan</td>\n",
       "      <td>0</td>\n",
       "      <td>Oxford/AstraZeneca</td>\n",
       "    </tr>\n",
       "    <tr>\n",
       "      <th>4</th>\n",
       "      <td>Afghanistan</td>\n",
       "      <td>0</td>\n",
       "      <td>Oxford/AstraZeneca</td>\n",
       "    </tr>\n",
       "    <tr>\n",
       "      <th>...</th>\n",
       "      <td>...</td>\n",
       "      <td>...</td>\n",
       "      <td>...</td>\n",
       "    </tr>\n",
       "    <tr>\n",
       "      <th>42250</th>\n",
       "      <td>Zimbabwe</td>\n",
       "      <td>4</td>\n",
       "      <td>None</td>\n",
       "    </tr>\n",
       "    <tr>\n",
       "      <th>42251</th>\n",
       "      <td>Zimbabwe</td>\n",
       "      <td>4</td>\n",
       "      <td>None</td>\n",
       "    </tr>\n",
       "    <tr>\n",
       "      <th>42252</th>\n",
       "      <td>Zimbabwe</td>\n",
       "      <td>4</td>\n",
       "      <td>None</td>\n",
       "    </tr>\n",
       "    <tr>\n",
       "      <th>42253</th>\n",
       "      <td>Zimbabwe</td>\n",
       "      <td>4</td>\n",
       "      <td>None</td>\n",
       "    </tr>\n",
       "    <tr>\n",
       "      <th>42254</th>\n",
       "      <td>Zimbabwe</td>\n",
       "      <td>4</td>\n",
       "      <td>None</td>\n",
       "    </tr>\n",
       "  </tbody>\n",
       "</table>\n",
       "<p>42255 rows × 3 columns</p>\n",
       "</div>"
      ],
      "text/plain": [
       "           country variable               value\n",
       "0      Afghanistan        0  Oxford/AstraZeneca\n",
       "1      Afghanistan        0  Oxford/AstraZeneca\n",
       "2      Afghanistan        0  Oxford/AstraZeneca\n",
       "3      Afghanistan        0  Oxford/AstraZeneca\n",
       "4      Afghanistan        0  Oxford/AstraZeneca\n",
       "...            ...      ...                 ...\n",
       "42250     Zimbabwe        4                None\n",
       "42251     Zimbabwe        4                None\n",
       "42252     Zimbabwe        4                None\n",
       "42253     Zimbabwe        4                None\n",
       "42254     Zimbabwe        4                None\n",
       "\n",
       "[42255 rows x 3 columns]"
      ]
     },
<<<<<<< HEAD
     "execution_count": 42,
=======
     "execution_count": 39,
>>>>>>> a31d03f1f081a0d69f6e28b482fe16a945e71bdb
     "metadata": {},
     "output_type": "execute_result"
    }
   ],
   "source": [
    "vac_country=dfcleancsv.melt(id_vars=['country'])\n",
    "vac_country"
   ]
  },
  {
   "cell_type": "code",
<<<<<<< HEAD
   "execution_count": 43,
=======
   "execution_count": 40,
>>>>>>> a31d03f1f081a0d69f6e28b482fe16a945e71bdb
   "metadata": {},
   "outputs": [
    {
     "data": {
      "text/plain": [
       "country        0\n",
       "value      25072\n",
       "dtype: int64"
      ]
     },
<<<<<<< HEAD
     "execution_count": 43,
=======
     "execution_count": 40,
>>>>>>> a31d03f1f081a0d69f6e28b482fe16a945e71bdb
     "metadata": {},
     "output_type": "execute_result"
    }
   ],
   "source": [
    "vac_country.drop('variable', axis=1, inplace=True)\n",
    "vac_country.isnull().sum()"
   ]
  },
  {
   "cell_type": "code",
<<<<<<< HEAD
   "execution_count": 44,
=======
   "execution_count": 41,
>>>>>>> a31d03f1f081a0d69f6e28b482fe16a945e71bdb
   "metadata": {},
   "outputs": [
    {
     "data": {
      "text/html": [
       "<div>\n",
       "<style scoped>\n",
       "    .dataframe tbody tr th:only-of-type {\n",
       "        vertical-align: middle;\n",
       "    }\n",
       "\n",
       "    .dataframe tbody tr th {\n",
       "        vertical-align: top;\n",
       "    }\n",
       "\n",
       "    .dataframe thead th {\n",
       "        text-align: right;\n",
       "    }\n",
       "</style>\n",
       "<table border=\"1\" class=\"dataframe\">\n",
       "  <thead>\n",
       "    <tr style=\"text-align: right;\">\n",
       "      <th></th>\n",
       "      <th>country</th>\n",
       "      <th>vaccines</th>\n",
       "    </tr>\n",
       "  </thead>\n",
       "  <tbody>\n",
       "    <tr>\n",
       "      <th>0</th>\n",
       "      <td>Afghanistan</td>\n",
       "      <td>Oxford/AstraZeneca</td>\n",
       "    </tr>\n",
       "    <tr>\n",
       "      <th>1</th>\n",
       "      <td>Afghanistan</td>\n",
       "      <td>Oxford/AstraZeneca</td>\n",
       "    </tr>\n",
       "    <tr>\n",
       "      <th>2</th>\n",
       "      <td>Afghanistan</td>\n",
       "      <td>Oxford/AstraZeneca</td>\n",
       "    </tr>\n",
       "    <tr>\n",
       "      <th>3</th>\n",
       "      <td>Afghanistan</td>\n",
       "      <td>Oxford/AstraZeneca</td>\n",
       "    </tr>\n",
       "    <tr>\n",
       "      <th>4</th>\n",
       "      <td>Afghanistan</td>\n",
       "      <td>Oxford/AstraZeneca</td>\n",
       "    </tr>\n",
       "  </tbody>\n",
       "</table>\n",
       "</div>"
      ],
      "text/plain": [
       "       country            vaccines\n",
       "0  Afghanistan  Oxford/AstraZeneca\n",
       "1  Afghanistan  Oxford/AstraZeneca\n",
       "2  Afghanistan  Oxford/AstraZeneca\n",
       "3  Afghanistan  Oxford/AstraZeneca\n",
       "4  Afghanistan  Oxford/AstraZeneca"
      ]
     },
<<<<<<< HEAD
     "execution_count": 44,
=======
     "execution_count": 41,
>>>>>>> a31d03f1f081a0d69f6e28b482fe16a945e71bdb
     "metadata": {},
     "output_type": "execute_result"
    }
   ],
   "source": [
    "vac_country.columns = ['country','vaccines']\n",
    "vac_country.head()"
   ]
  },
  {
   "cell_type": "code",
<<<<<<< HEAD
   "execution_count": 45,
=======
   "execution_count": 42,
>>>>>>> a31d03f1f081a0d69f6e28b482fe16a945e71bdb
   "metadata": {},
   "outputs": [
    {
     "name": "stdout",
     "output_type": "stream",
     "text": [
      "11\n"
     ]
    },
    {
     "data": {
      "text/plain": [
       "array(['Oxford/AstraZeneca', 'Pfizer/BioNTech', 'Sputnik V', 'Moderna',\n",
       "       'Sinovac', 'Sinopharm/Beijing', 'Covaxin', 'EpiVacCorona',\n",
       "       'Johnson&Johnson', None, 'Sinopharm/Wuhan'], dtype=object)"
      ]
     },
<<<<<<< HEAD
     "execution_count": 45,
=======
     "execution_count": 42,
>>>>>>> a31d03f1f081a0d69f6e28b482fe16a945e71bdb
     "metadata": {},
     "output_type": "execute_result"
    }
   ],
   "source": [
    "print(len(vac_country.vaccines.unique()))\n",
    "vac_country.vaccines.unique()"
   ]
  },
  {
   "cell_type": "code",
<<<<<<< HEAD
   "execution_count": 46,
=======
   "execution_count": 43,
>>>>>>> a31d03f1f081a0d69f6e28b482fe16a945e71bdb
   "metadata": {},
   "outputs": [
    {
     "name": "stdout",
     "output_type": "stream",
     "text": [
      "<class 'pandas.core.frame.DataFrame'>\n",
      "RangeIndex: 42255 entries, 0 to 42254\n",
      "Data columns (total 2 columns):\n",
      " #   Column    Non-Null Count  Dtype \n",
      "---  ------    --------------  ----- \n",
      " 0   country   42255 non-null  object\n",
      " 1   vaccines  17183 non-null  object\n",
      "dtypes: object(2)\n",
      "memory usage: 660.4+ KB\n"
     ]
    }
   ],
   "source": [
    "vac_country.info()"
   ]
  },
  {
   "cell_type": "code",
<<<<<<< HEAD
   "execution_count": 47,
=======
   "execution_count": 44,
>>>>>>> a31d03f1f081a0d69f6e28b482fe16a945e71bdb
   "metadata": {},
   "outputs": [
    {
     "data": {
      "text/plain": [
       "country     0\n",
       "vaccines    0\n",
       "dtype: int64"
      ]
     },
<<<<<<< HEAD
     "execution_count": 47,
=======
     "execution_count": 44,
>>>>>>> a31d03f1f081a0d69f6e28b482fe16a945e71bdb
     "metadata": {},
     "output_type": "execute_result"
    }
   ],
   "source": [
    "vac_country = vac_country.dropna(axis=0)\n",
    "vac_country.isnull().sum()"
   ]
  },
  {
   "cell_type": "code",
<<<<<<< HEAD
   "execution_count": 48,
=======
   "execution_count": 45,
>>>>>>> a31d03f1f081a0d69f6e28b482fe16a945e71bdb
   "metadata": {},
   "outputs": [
    {
     "name": "stdout",
     "output_type": "stream",
     "text": [
      "10\n"
     ]
    }
   ],
   "source": [
    "print(len(vac_country.vaccines.unique()))"
   ]
  },
  {
   "cell_type": "code",
<<<<<<< HEAD
   "execution_count": 49,
=======
   "execution_count": 46,
>>>>>>> a31d03f1f081a0d69f6e28b482fe16a945e71bdb
   "metadata": {},
   "outputs": [
    {
     "data": {
      "text/html": [
       "<div>\n",
       "<style scoped>\n",
       "    .dataframe tbody tr th:only-of-type {\n",
       "        vertical-align: middle;\n",
       "    }\n",
       "\n",
       "    .dataframe tbody tr th {\n",
       "        vertical-align: top;\n",
       "    }\n",
       "\n",
       "    .dataframe thead th {\n",
       "        text-align: right;\n",
       "    }\n",
       "</style>\n",
       "<table border=\"1\" class=\"dataframe\">\n",
       "  <thead>\n",
       "    <tr style=\"text-align: right;\">\n",
       "      <th></th>\n",
       "      <th>unique</th>\n",
       "    </tr>\n",
       "    <tr>\n",
       "      <th>vaccines</th>\n",
       "      <th></th>\n",
       "    </tr>\n",
       "  </thead>\n",
       "  <tbody>\n",
       "    <tr>\n",
       "      <th>Covaxin</th>\n",
       "      <td>[India]</td>\n",
       "    </tr>\n",
       "    <tr>\n",
       "      <th>EpiVacCorona</th>\n",
       "      <td>[Russia]</td>\n",
       "    </tr>\n",
       "    <tr>\n",
       "      <th>Johnson&amp;Johnson</th>\n",
       "      <td>[South Africa, United States]</td>\n",
       "    </tr>\n",
       "    <tr>\n",
       "      <th>Moderna</th>\n",
       "      <td>[Austria, Belgium, Bulgaria, Canada, Czechia, ...</td>\n",
       "    </tr>\n",
       "    <tr>\n",
       "      <th>Oxford/AstraZeneca</th>\n",
       "      <td>[Afghanistan, Angola, Anguilla, Antigua and Ba...</td>\n",
       "    </tr>\n",
       "    <tr>\n",
       "      <th>Pfizer/BioNTech</th>\n",
       "      <td>[Albania, Andorra, Bermuda, Cayman Islands, Ch...</td>\n",
       "    </tr>\n",
       "    <tr>\n",
       "      <th>Sinopharm/Beijing</th>\n",
       "      <td>[Cambodia, China, Egypt, Equatorial Guinea, La...</td>\n",
       "    </tr>\n",
       "    <tr>\n",
       "      <th>Sinopharm/Wuhan</th>\n",
       "      <td>[China, United Arab Emirates]</td>\n",
       "    </tr>\n",
       "    <tr>\n",
       "      <th>Sinovac</th>\n",
       "      <td>[Azerbaijan, Indonesia, Brazil, Chile, Colombi...</td>\n",
       "    </tr>\n",
       "    <tr>\n",
       "      <th>Sputnik V</th>\n",
       "      <td>[Algeria, Belarus, Bolivia, Guinea, Iran, Kaza...</td>\n",
       "    </tr>\n",
       "  </tbody>\n",
       "</table>\n",
       "</div>"
      ],
      "text/plain": [
       "                                                               unique\n",
       "vaccines                                                             \n",
       "Covaxin                                                       [India]\n",
       "EpiVacCorona                                                 [Russia]\n",
       "Johnson&Johnson                         [South Africa, United States]\n",
       "Moderna             [Austria, Belgium, Bulgaria, Canada, Czechia, ...\n",
       "Oxford/AstraZeneca  [Afghanistan, Angola, Anguilla, Antigua and Ba...\n",
       "Pfizer/BioNTech     [Albania, Andorra, Bermuda, Cayman Islands, Ch...\n",
       "Sinopharm/Beijing   [Cambodia, China, Egypt, Equatorial Guinea, La...\n",
       "Sinopharm/Wuhan                         [China, United Arab Emirates]\n",
       "Sinovac             [Azerbaijan, Indonesia, Brazil, Chile, Colombi...\n",
       "Sputnik V           [Algeria, Belarus, Bolivia, Guinea, Iran, Kaza..."
      ]
     },
<<<<<<< HEAD
     "execution_count": 49,
=======
     "execution_count": 46,
>>>>>>> a31d03f1f081a0d69f6e28b482fe16a945e71bdb
     "metadata": {},
     "output_type": "execute_result"
    }
   ],
   "source": [
    "summary = vac_country.groupby('vaccines')['country'].agg(['unique'])\n",
    "summary"
   ]
  },
  {
   "cell_type": "code",
<<<<<<< HEAD
   "execution_count": 50,
=======
   "execution_count": 47,
>>>>>>> a31d03f1f081a0d69f6e28b482fe16a945e71bdb
   "metadata": {},
   "outputs": [
    {
     "data": {
      "text/html": [
       "<div>\n",
       "<style scoped>\n",
       "    .dataframe tbody tr th:only-of-type {\n",
       "        vertical-align: middle;\n",
       "    }\n",
       "\n",
       "    .dataframe tbody tr th {\n",
       "        vertical-align: top;\n",
       "    }\n",
       "\n",
       "    .dataframe thead th {\n",
       "        text-align: right;\n",
       "    }\n",
       "</style>\n",
       "<table border=\"1\" class=\"dataframe\">\n",
       "  <thead>\n",
       "    <tr style=\"text-align: right;\">\n",
       "      <th></th>\n",
       "      <th>unique</th>\n",
       "      <th>nCountry</th>\n",
       "    </tr>\n",
       "    <tr>\n",
       "      <th>vaccines</th>\n",
       "      <th></th>\n",
       "      <th></th>\n",
       "    </tr>\n",
       "  </thead>\n",
       "  <tbody>\n",
       "    <tr>\n",
       "      <th>Covaxin</th>\n",
       "      <td>[India]</td>\n",
       "      <td>1</td>\n",
       "    </tr>\n",
       "    <tr>\n",
       "      <th>EpiVacCorona</th>\n",
       "      <td>[Russia]</td>\n",
       "      <td>1</td>\n",
       "    </tr>\n",
       "    <tr>\n",
       "      <th>Johnson&amp;Johnson</th>\n",
       "      <td>[South Africa, United States]</td>\n",
       "      <td>2</td>\n",
       "    </tr>\n",
       "    <tr>\n",
       "      <th>Moderna</th>\n",
       "      <td>[Austria, Belgium, Bulgaria, Canada, Czechia, ...</td>\n",
       "      <td>34</td>\n",
       "    </tr>\n",
       "    <tr>\n",
       "      <th>Oxford/AstraZeneca</th>\n",
       "      <td>[Afghanistan, Angola, Anguilla, Antigua and Ba...</td>\n",
       "      <td>92</td>\n",
       "    </tr>\n",
       "    <tr>\n",
       "      <th>Pfizer/BioNTech</th>\n",
       "      <td>[Albania, Andorra, Bermuda, Cayman Islands, Ch...</td>\n",
       "      <td>80</td>\n",
       "    </tr>\n",
       "    <tr>\n",
       "      <th>Sinopharm/Beijing</th>\n",
       "      <td>[Cambodia, China, Egypt, Equatorial Guinea, La...</td>\n",
       "      <td>21</td>\n",
       "    </tr>\n",
       "    <tr>\n",
       "      <th>Sinopharm/Wuhan</th>\n",
       "      <td>[China, United Arab Emirates]</td>\n",
       "      <td>2</td>\n",
       "    </tr>\n",
       "    <tr>\n",
       "      <th>Sinovac</th>\n",
       "      <td>[Azerbaijan, Indonesia, Brazil, Chile, Colombi...</td>\n",
       "      <td>14</td>\n",
       "    </tr>\n",
       "    <tr>\n",
       "      <th>Sputnik V</th>\n",
       "      <td>[Algeria, Belarus, Bolivia, Guinea, Iran, Kaza...</td>\n",
       "      <td>20</td>\n",
       "    </tr>\n",
       "  </tbody>\n",
       "</table>\n",
       "</div>"
      ],
      "text/plain": [
       "                                                               unique  \\\n",
       "vaccines                                                                \n",
       "Covaxin                                                       [India]   \n",
       "EpiVacCorona                                                 [Russia]   \n",
       "Johnson&Johnson                         [South Africa, United States]   \n",
       "Moderna             [Austria, Belgium, Bulgaria, Canada, Czechia, ...   \n",
       "Oxford/AstraZeneca  [Afghanistan, Angola, Anguilla, Antigua and Ba...   \n",
       "Pfizer/BioNTech     [Albania, Andorra, Bermuda, Cayman Islands, Ch...   \n",
       "Sinopharm/Beijing   [Cambodia, China, Egypt, Equatorial Guinea, La...   \n",
       "Sinopharm/Wuhan                         [China, United Arab Emirates]   \n",
       "Sinovac             [Azerbaijan, Indonesia, Brazil, Chile, Colombi...   \n",
       "Sputnik V           [Algeria, Belarus, Bolivia, Guinea, Iran, Kaza...   \n",
       "\n",
       "                    nCountry  \n",
       "vaccines                      \n",
       "Covaxin                    1  \n",
       "EpiVacCorona               1  \n",
       "Johnson&Johnson            2  \n",
       "Moderna                   34  \n",
       "Oxford/AstraZeneca        92  \n",
       "Pfizer/BioNTech           80  \n",
       "Sinopharm/Beijing         21  \n",
       "Sinopharm/Wuhan            2  \n",
       "Sinovac                   14  \n",
       "Sputnik V                 20  "
      ]
     },
<<<<<<< HEAD
     "execution_count": 50,
=======
     "execution_count": 47,
>>>>>>> a31d03f1f081a0d69f6e28b482fe16a945e71bdb
     "metadata": {},
     "output_type": "execute_result"
    }
   ],
   "source": [
    "summary['nCountry'] = summary.unique.str.len()\n",
    "summary"
   ]
  },
  {
   "cell_type": "code",
<<<<<<< HEAD
   "execution_count": 51,
=======
   "execution_count": 48,
>>>>>>> a31d03f1f081a0d69f6e28b482fe16a945e71bdb
   "metadata": {},
   "outputs": [
    {
     "data": {
      "text/plain": [
       "267"
      ]
     },
<<<<<<< HEAD
     "execution_count": 51,
=======
     "execution_count": 48,
>>>>>>> a31d03f1f081a0d69f6e28b482fe16a945e71bdb
     "metadata": {},
     "output_type": "execute_result"
    }
   ],
   "source": [
    "summary.nCountry.sum()"
   ]
  },
  {
   "cell_type": "code",
<<<<<<< HEAD
   "execution_count": 52,
=======
   "execution_count": 49,
>>>>>>> a31d03f1f081a0d69f6e28b482fe16a945e71bdb
   "metadata": {},
   "outputs": [
    {
     "data": {
      "text/html": [
       "<div>\n",
       "<style scoped>\n",
       "    .dataframe tbody tr th:only-of-type {\n",
       "        vertical-align: middle;\n",
       "    }\n",
       "\n",
       "    .dataframe tbody tr th {\n",
       "        vertical-align: top;\n",
       "    }\n",
       "\n",
       "    .dataframe thead th {\n",
       "        text-align: right;\n",
       "    }\n",
       "</style>\n",
       "<table border=\"1\" class=\"dataframe\">\n",
       "  <thead>\n",
       "    <tr style=\"text-align: right;\">\n",
       "      <th></th>\n",
       "      <th>unique</th>\n",
       "      <th>nCountry</th>\n",
       "      <th>pCountry</th>\n",
       "    </tr>\n",
       "    <tr>\n",
       "      <th>vaccines</th>\n",
       "      <th></th>\n",
       "      <th></th>\n",
       "      <th></th>\n",
       "    </tr>\n",
       "  </thead>\n",
       "  <tbody>\n",
       "    <tr>\n",
       "      <th>Covaxin</th>\n",
       "      <td>[India]</td>\n",
       "      <td>1</td>\n",
       "      <td>0.37</td>\n",
       "    </tr>\n",
       "    <tr>\n",
       "      <th>EpiVacCorona</th>\n",
       "      <td>[Russia]</td>\n",
       "      <td>1</td>\n",
       "      <td>0.37</td>\n",
       "    </tr>\n",
       "    <tr>\n",
       "      <th>Johnson&amp;Johnson</th>\n",
       "      <td>[South Africa, United States]</td>\n",
       "      <td>2</td>\n",
       "      <td>0.75</td>\n",
       "    </tr>\n",
       "    <tr>\n",
       "      <th>Moderna</th>\n",
       "      <td>[Austria, Belgium, Bulgaria, Canada, Czechia, ...</td>\n",
       "      <td>34</td>\n",
       "      <td>12.73</td>\n",
       "    </tr>\n",
       "    <tr>\n",
       "      <th>Oxford/AstraZeneca</th>\n",
       "      <td>[Afghanistan, Angola, Anguilla, Antigua and Ba...</td>\n",
       "      <td>92</td>\n",
       "      <td>34.46</td>\n",
       "    </tr>\n",
       "    <tr>\n",
       "      <th>Pfizer/BioNTech</th>\n",
       "      <td>[Albania, Andorra, Bermuda, Cayman Islands, Ch...</td>\n",
       "      <td>80</td>\n",
       "      <td>29.96</td>\n",
       "    </tr>\n",
       "    <tr>\n",
       "      <th>Sinopharm/Beijing</th>\n",
       "      <td>[Cambodia, China, Egypt, Equatorial Guinea, La...</td>\n",
       "      <td>21</td>\n",
       "      <td>7.87</td>\n",
       "    </tr>\n",
       "    <tr>\n",
       "      <th>Sinopharm/Wuhan</th>\n",
       "      <td>[China, United Arab Emirates]</td>\n",
       "      <td>2</td>\n",
       "      <td>0.75</td>\n",
       "    </tr>\n",
       "    <tr>\n",
       "      <th>Sinovac</th>\n",
       "      <td>[Azerbaijan, Indonesia, Brazil, Chile, Colombi...</td>\n",
       "      <td>14</td>\n",
       "      <td>5.24</td>\n",
       "    </tr>\n",
       "    <tr>\n",
       "      <th>Sputnik V</th>\n",
       "      <td>[Algeria, Belarus, Bolivia, Guinea, Iran, Kaza...</td>\n",
       "      <td>20</td>\n",
       "      <td>7.49</td>\n",
       "    </tr>\n",
       "  </tbody>\n",
       "</table>\n",
       "</div>"
      ],
      "text/plain": [
       "                                                               unique  \\\n",
       "vaccines                                                                \n",
       "Covaxin                                                       [India]   \n",
       "EpiVacCorona                                                 [Russia]   \n",
       "Johnson&Johnson                         [South Africa, United States]   \n",
       "Moderna             [Austria, Belgium, Bulgaria, Canada, Czechia, ...   \n",
       "Oxford/AstraZeneca  [Afghanistan, Angola, Anguilla, Antigua and Ba...   \n",
       "Pfizer/BioNTech     [Albania, Andorra, Bermuda, Cayman Islands, Ch...   \n",
       "Sinopharm/Beijing   [Cambodia, China, Egypt, Equatorial Guinea, La...   \n",
       "Sinopharm/Wuhan                         [China, United Arab Emirates]   \n",
       "Sinovac             [Azerbaijan, Indonesia, Brazil, Chile, Colombi...   \n",
       "Sputnik V           [Algeria, Belarus, Bolivia, Guinea, Iran, Kaza...   \n",
       "\n",
       "                    nCountry  pCountry  \n",
       "vaccines                                \n",
       "Covaxin                    1      0.37  \n",
       "EpiVacCorona               1      0.37  \n",
       "Johnson&Johnson            2      0.75  \n",
       "Moderna                   34     12.73  \n",
       "Oxford/AstraZeneca        92     34.46  \n",
       "Pfizer/BioNTech           80     29.96  \n",
       "Sinopharm/Beijing         21      7.87  \n",
       "Sinopharm/Wuhan            2      0.75  \n",
       "Sinovac                   14      5.24  \n",
       "Sputnik V                 20      7.49  "
      ]
     },
<<<<<<< HEAD
     "execution_count": 52,
=======
     "execution_count": 49,
>>>>>>> a31d03f1f081a0d69f6e28b482fe16a945e71bdb
     "metadata": {},
     "output_type": "execute_result"
    }
   ],
   "source": [
    "summary = summary.assign(pCountry = lambda x: ((x['nCountry'])/267) * 100)\n",
    "summary"
   ]
  },
  {
   "cell_type": "code",
<<<<<<< HEAD
   "execution_count": 53,
=======
   "execution_count": 50,
   "metadata": {},
   "outputs": [
    {
     "data": {
      "text/plain": [
       "vaccines\n",
       "Oxford/AstraZeneca    92\n",
       "Pfizer/BioNTech       80\n",
       "Moderna               34\n",
       "Sinopharm/Beijing     21\n",
       "Sputnik V             20\n",
       "Sinovac               14\n",
       "Sinopharm/Wuhan        2\n",
       "Johnson&Johnson        2\n",
       "EpiVacCorona           1\n",
       "Covaxin                1\n",
       "Name: nCountry, dtype: int64"
      ]
     },
     "execution_count": 50,
     "metadata": {},
     "output_type": "execute_result"
    }
   ],
   "source": [
    "summary.nCountry.sort_values(ascending=False)"
   ]
  },
  {
   "cell_type": "code",
   "execution_count": 51,
>>>>>>> a31d03f1f081a0d69f6e28b482fe16a945e71bdb
   "metadata": {},
   "outputs": [
    {
     "data": {
      "text/html": [
       "<div>\n",
       "<style scoped>\n",
       "    .dataframe tbody tr th:only-of-type {\n",
       "        vertical-align: middle;\n",
       "    }\n",
       "\n",
       "    .dataframe tbody tr th {\n",
       "        vertical-align: top;\n",
       "    }\n",
       "\n",
       "    .dataframe thead th {\n",
       "        text-align: right;\n",
       "    }\n",
       "</style>\n",
       "<table border=\"1\" class=\"dataframe\">\n",
       "  <thead>\n",
       "    <tr style=\"text-align: right;\">\n",
       "      <th></th>\n",
       "      <th>unique</th>\n",
       "      <th>nCountry</th>\n",
       "      <th>pCountry</th>\n",
       "    </tr>\n",
       "    <tr>\n",
       "      <th>vaccines</th>\n",
       "      <th></th>\n",
       "      <th></th>\n",
       "      <th></th>\n",
       "    </tr>\n",
       "  </thead>\n",
       "  <tbody>\n",
       "    <tr>\n",
       "      <th>Oxford/AstraZeneca</th>\n",
       "      <td>[Afghanistan, Angola, Anguilla, Antigua and Ba...</td>\n",
       "      <td>92</td>\n",
       "      <td>34.46</td>\n",
       "    </tr>\n",
       "    <tr>\n",
       "      <th>Pfizer/BioNTech</th>\n",
       "      <td>[Albania, Andorra, Bermuda, Cayman Islands, Ch...</td>\n",
       "      <td>80</td>\n",
       "      <td>29.96</td>\n",
       "    </tr>\n",
       "    <tr>\n",
       "      <th>Moderna</th>\n",
       "      <td>[Austria, Belgium, Bulgaria, Canada, Czechia, ...</td>\n",
       "      <td>34</td>\n",
       "      <td>12.73</td>\n",
       "    </tr>\n",
       "    <tr>\n",
       "      <th>Sinopharm/Beijing</th>\n",
       "      <td>[Cambodia, China, Egypt, Equatorial Guinea, La...</td>\n",
       "      <td>21</td>\n",
       "      <td>7.87</td>\n",
       "    </tr>\n",
       "    <tr>\n",
       "      <th>Sputnik V</th>\n",
       "      <td>[Algeria, Belarus, Bolivia, Guinea, Iran, Kaza...</td>\n",
       "      <td>20</td>\n",
       "      <td>7.49</td>\n",
       "    </tr>\n",
       "    <tr>\n",
       "      <th>Sinovac</th>\n",
       "      <td>[Azerbaijan, Indonesia, Brazil, Chile, Colombi...</td>\n",
       "      <td>14</td>\n",
       "      <td>5.24</td>\n",
       "    </tr>\n",
       "    <tr>\n",
       "      <th>Johnson&amp;Johnson</th>\n",
       "      <td>[South Africa, United States]</td>\n",
       "      <td>2</td>\n",
       "      <td>0.75</td>\n",
       "    </tr>\n",
       "    <tr>\n",
       "      <th>Sinopharm/Wuhan</th>\n",
       "      <td>[China, United Arab Emirates]</td>\n",
       "      <td>2</td>\n",
       "      <td>0.75</td>\n",
       "    </tr>\n",
       "    <tr>\n",
       "      <th>Covaxin</th>\n",
       "      <td>[India]</td>\n",
       "      <td>1</td>\n",
       "      <td>0.37</td>\n",
       "    </tr>\n",
       "    <tr>\n",
       "      <th>EpiVacCorona</th>\n",
       "      <td>[Russia]</td>\n",
       "      <td>1</td>\n",
       "      <td>0.37</td>\n",
       "    </tr>\n",
       "  </tbody>\n",
       "</table>\n",
       "</div>"
      ],
      "text/plain": [
       "                                                               unique  \\\n",
       "vaccines                                                                \n",
       "Oxford/AstraZeneca  [Afghanistan, Angola, Anguilla, Antigua and Ba...   \n",
       "Pfizer/BioNTech     [Albania, Andorra, Bermuda, Cayman Islands, Ch...   \n",
       "Moderna             [Austria, Belgium, Bulgaria, Canada, Czechia, ...   \n",
       "Sinopharm/Beijing   [Cambodia, China, Egypt, Equatorial Guinea, La...   \n",
       "Sputnik V           [Algeria, Belarus, Bolivia, Guinea, Iran, Kaza...   \n",
       "Sinovac             [Azerbaijan, Indonesia, Brazil, Chile, Colombi...   \n",
       "Johnson&Johnson                         [South Africa, United States]   \n",
       "Sinopharm/Wuhan                         [China, United Arab Emirates]   \n",
       "Covaxin                                                       [India]   \n",
       "EpiVacCorona                                                 [Russia]   \n",
       "\n",
       "                    nCountry  pCountry  \n",
       "vaccines                                \n",
       "Oxford/AstraZeneca        92     34.46  \n",
       "Pfizer/BioNTech           80     29.96  \n",
       "Moderna                   34     12.73  \n",
       "Sinopharm/Beijing         21      7.87  \n",
       "Sputnik V                 20      7.49  \n",
       "Sinovac                   14      5.24  \n",
       "Johnson&Johnson            2      0.75  \n",
       "Sinopharm/Wuhan            2      0.75  \n",
       "Covaxin                    1      0.37  \n",
       "EpiVacCorona               1      0.37  "
      ]
     },
<<<<<<< HEAD
     "execution_count": 53,
=======
     "execution_count": 51,
>>>>>>> a31d03f1f081a0d69f6e28b482fe16a945e71bdb
     "metadata": {},
     "output_type": "execute_result"
    }
   ],
   "source": [
    "summary.sort_values('nCountry', ascending=False)"
   ]
  },
  {
   "cell_type": "code",
<<<<<<< HEAD
   "execution_count": 54,
=======
   "execution_count": 53,
>>>>>>> a31d03f1f081a0d69f6e28b482fe16a945e71bdb
   "metadata": {},
   "outputs": [
    {
     "data": {
      "image/png": "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\n",
      "text/plain": [
       "<Figure size 864x576 with 1 Axes>"
      ]
     },
     "metadata": {},
     "output_type": "display_data"
    }
   ],
   "source": [
    "plt.style.use('fivethirtyeight')\n",
    "plt.figure(figsize=(12,8))\n",
    "labels = summary.index\n",
    "\n",
    "plt.pie(summary.pCountry, labels=labels, explode=[0.05, 0.05, 0.05, 0.05, 0.05, 0.05, 0.05, 0.05, 0.05, 0.05], \n",
    "        wedgeprops={'edgecolor':'black', 'width':0.6}, startangle=180, autopct='%1.1F%%', radius=2)\n",
    "\n",
    "plt.legend(loc='right')\n",
    "plt.show()"
   ]
  },
  {
   "cell_type": "code",
<<<<<<< HEAD
   "execution_count": 55,
=======
   "execution_count": 54,
>>>>>>> a31d03f1f081a0d69f6e28b482fe16a945e71bdb
   "metadata": {},
   "outputs": [
    {
     "data": {
<<<<<<< HEAD
      "image/png": "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\n",
=======
      "image/png": "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\n",
>>>>>>> a31d03f1f081a0d69f6e28b482fe16a945e71bdb
      "text/plain": [
       "<Figure size 864x576 with 1 Axes>"
      ]
     },
     "metadata": {},
     "output_type": "display_data"
    }
   ],
   "source": [
    "summary = summary.sort_values('nCountry')\n",
    "\n",
    "plt.figure(figsize=(12,8))\n",
    "plt.title(\"Vaccines distribution by countries\")\n",
    "plt.style.use('fivethirtyeight')\n",
    "plt.xlabel('Number of countries')\n",
    "plt.xticks(np.arange(0,110,10))\n",
    "\n",
    "plt.barh(summary.index, summary.nCountry)\n",
    "plt.show()"
   ]
  },
  {
   "cell_type": "code",
   "execution_count": null,
   "metadata": {},
   "outputs": [],
   "source": []
  }
 ],
 "metadata": {
  "kernelspec": {
   "display_name": "Python 3",
   "language": "python",
   "name": "python3"
  },
  "language_info": {
   "codemirror_mode": {
    "name": "ipython",
    "version": 3
   },
   "file_extension": ".py",
   "mimetype": "text/x-python",
   "name": "python",
   "nbconvert_exporter": "python",
   "pygments_lexer": "ipython3",
   "version": "3.8.5"
  }
 },
 "nbformat": 4,
 "nbformat_minor": 4
}
