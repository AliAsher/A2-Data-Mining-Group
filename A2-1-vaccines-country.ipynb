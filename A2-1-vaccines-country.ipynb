{
 "cells": [
  {
   "cell_type": "markdown",
   "metadata": {},
   "source": [
    "Find out which vaccions are used in which country  \n",
    "Country of use by Covid vaccine-preferred type"
   ]
  },
  {
   "cell_type": "code",
   "execution_count": 1,
   "metadata": {},
   "outputs": [],
   "source": [
    "import pandas as pd\n",
    "import numpy as np\n",
    "import matplotlib.pyplot as plt"
   ]
  },
  {
   "cell_type": "code",
   "execution_count": 2,
   "metadata": {},
   "outputs": [],
   "source": [
    "vaccination = pd.read_csv('data/country_vaccinations.csv')"
   ]
  },
  {
   "cell_type": "code",
   "execution_count": 3,
   "metadata": {},
   "outputs": [
    {
     "name": "stdout",
     "output_type": "stream",
     "text": [
      "<class 'pandas.core.frame.DataFrame'>\n",
      "RangeIndex: 8451 entries, 0 to 8450\n",
      "Data columns (total 15 columns):\n",
      " #   Column                               Non-Null Count  Dtype  \n",
      "---  ------                               --------------  -----  \n",
      " 0   country                              8451 non-null   object \n",
      " 1   iso_code                             8451 non-null   object \n",
      " 2   date                                 8451 non-null   object \n",
      " 3   total_vaccinations                   5231 non-null   float64\n",
      " 4   people_vaccinated                    4688 non-null   float64\n",
      " 5   people_fully_vaccinated              3186 non-null   float64\n",
      " 6   daily_vaccinations_raw               4415 non-null   float64\n",
      " 7   daily_vaccinations                   8260 non-null   float64\n",
      " 8   total_vaccinations_per_hundred       5231 non-null   float64\n",
      " 9   people_vaccinated_per_hundred        4688 non-null   float64\n",
      " 10  people_fully_vaccinated_per_hundred  3186 non-null   float64\n",
      " 11  daily_vaccinations_per_million       8260 non-null   float64\n",
      " 12  vaccines                             8451 non-null   object \n",
      " 13  source_name                          8451 non-null   object \n",
      " 14  source_website                       8451 non-null   object \n",
      "dtypes: float64(9), object(6)\n",
      "memory usage: 990.5+ KB\n"
     ]
    }
   ],
   "source": [
    "vaccination.info()"
   ]
  },
  {
   "cell_type": "code",
   "execution_count": 9,
   "metadata": {},
   "outputs": [],
   "source": [
    "#vaccination = vaccination.astype({'date': 'datetime64[ns]'})\n",
    "#vaccination.info()"
   ]
  },
  {
   "cell_type": "code",
   "execution_count": 10,
   "metadata": {},
   "outputs": [],
   "source": [
    "#vaccination['date']"
   ]
  },
  {
   "cell_type": "code",
   "execution_count": 4,
   "metadata": {},
   "outputs": [
    {
     "data": {
      "text/plain": [
       "country                                   0\n",
       "iso_code                                  0\n",
       "date                                      0\n",
       "total_vaccinations                     3220\n",
       "people_vaccinated                      3763\n",
       "people_fully_vaccinated                5265\n",
       "daily_vaccinations_raw                 4036\n",
       "daily_vaccinations                      191\n",
       "total_vaccinations_per_hundred         3220\n",
       "people_vaccinated_per_hundred          3763\n",
       "people_fully_vaccinated_per_hundred    5265\n",
       "daily_vaccinations_per_million          191\n",
       "vaccines                                  0\n",
       "source_name                               0\n",
       "source_website                            0\n",
       "dtype: int64"
      ]
     },
     "execution_count": 4,
     "metadata": {},
     "output_type": "execute_result"
    }
   ],
   "source": [
    "vaccination.isnull().sum()"
   ]
  },
  {
   "cell_type": "code",
   "execution_count": 12,
   "metadata": {},
   "outputs": [
    {
     "data": {
      "text/html": [
       "<div>\n",
       "<style scoped>\n",
       "    .dataframe tbody tr th:only-of-type {\n",
       "        vertical-align: middle;\n",
       "    }\n",
       "\n",
       "    .dataframe tbody tr th {\n",
       "        vertical-align: top;\n",
       "    }\n",
       "\n",
       "    .dataframe thead th {\n",
       "        text-align: right;\n",
       "    }\n",
       "</style>\n",
       "<table border=\"1\" class=\"dataframe\">\n",
       "  <thead>\n",
       "    <tr style=\"text-align: right;\">\n",
       "      <th></th>\n",
       "      <th>country</th>\n",
       "      <th>iso_code</th>\n",
       "      <th>date</th>\n",
       "      <th>total_vaccinations</th>\n",
       "      <th>people_vaccinated</th>\n",
       "      <th>people_fully_vaccinated</th>\n",
       "      <th>daily_vaccinations_raw</th>\n",
       "      <th>daily_vaccinations</th>\n",
       "      <th>total_vaccinations_per_hundred</th>\n",
       "      <th>people_vaccinated_per_hundred</th>\n",
       "      <th>people_fully_vaccinated_per_hundred</th>\n",
       "      <th>daily_vaccinations_per_million</th>\n",
       "      <th>vaccines</th>\n",
       "      <th>source_name</th>\n",
       "      <th>source_website</th>\n",
       "    </tr>\n",
       "  </thead>\n",
       "  <tbody>\n",
       "    <tr>\n",
       "      <th>8446</th>\n",
       "      <td>Zimbabwe</td>\n",
       "      <td>ZWE</td>\n",
       "      <td>23/03/2021</td>\n",
       "      <td>44135.0</td>\n",
       "      <td>44135.0</td>\n",
       "      <td>NaN</td>\n",
       "      <td>841.0</td>\n",
       "      <td>655.0</td>\n",
       "      <td>0.30</td>\n",
       "      <td>0.30</td>\n",
       "      <td>NaN</td>\n",
       "      <td>44.0</td>\n",
       "      <td>Sinopharm/Beijing</td>\n",
       "      <td>Ministry of Health</td>\n",
       "      <td>https://twitter.com/MoHCCZim/status/1375899540...</td>\n",
       "    </tr>\n",
       "    <tr>\n",
       "      <th>8447</th>\n",
       "      <td>Zimbabwe</td>\n",
       "      <td>ZWE</td>\n",
       "      <td>24/03/2021</td>\n",
       "      <td>49404.0</td>\n",
       "      <td>49404.0</td>\n",
       "      <td>NaN</td>\n",
       "      <td>5269.0</td>\n",
       "      <td>1400.0</td>\n",
       "      <td>0.33</td>\n",
       "      <td>0.33</td>\n",
       "      <td>NaN</td>\n",
       "      <td>94.0</td>\n",
       "      <td>Sinopharm/Beijing</td>\n",
       "      <td>Ministry of Health</td>\n",
       "      <td>https://twitter.com/MoHCCZim/status/1375899540...</td>\n",
       "    </tr>\n",
       "    <tr>\n",
       "      <th>8448</th>\n",
       "      <td>Zimbabwe</td>\n",
       "      <td>ZWE</td>\n",
       "      <td>25/03/2021</td>\n",
       "      <td>54892.0</td>\n",
       "      <td>54892.0</td>\n",
       "      <td>NaN</td>\n",
       "      <td>5488.0</td>\n",
       "      <td>2127.0</td>\n",
       "      <td>0.37</td>\n",
       "      <td>0.37</td>\n",
       "      <td>NaN</td>\n",
       "      <td>143.0</td>\n",
       "      <td>Sinopharm/Beijing</td>\n",
       "      <td>Ministry of Health</td>\n",
       "      <td>https://twitter.com/MoHCCZim/status/1375899540...</td>\n",
       "    </tr>\n",
       "    <tr>\n",
       "      <th>8449</th>\n",
       "      <td>Zimbabwe</td>\n",
       "      <td>ZWE</td>\n",
       "      <td>26/03/2021</td>\n",
       "      <td>61093.0</td>\n",
       "      <td>61093.0</td>\n",
       "      <td>NaN</td>\n",
       "      <td>6201.0</td>\n",
       "      <td>2772.0</td>\n",
       "      <td>0.41</td>\n",
       "      <td>0.41</td>\n",
       "      <td>NaN</td>\n",
       "      <td>187.0</td>\n",
       "      <td>Sinopharm/Beijing</td>\n",
       "      <td>Ministry of Health</td>\n",
       "      <td>https://twitter.com/MoHCCZim/status/1375899540...</td>\n",
       "    </tr>\n",
       "    <tr>\n",
       "      <th>8450</th>\n",
       "      <td>Zimbabwe</td>\n",
       "      <td>ZWE</td>\n",
       "      <td>27/03/2021</td>\n",
       "      <td>65466.0</td>\n",
       "      <td>65466.0</td>\n",
       "      <td>NaN</td>\n",
       "      <td>4373.0</td>\n",
       "      <td>3322.0</td>\n",
       "      <td>0.44</td>\n",
       "      <td>0.44</td>\n",
       "      <td>NaN</td>\n",
       "      <td>224.0</td>\n",
       "      <td>Sinopharm/Beijing</td>\n",
       "      <td>Ministry of Health</td>\n",
       "      <td>https://twitter.com/MoHCCZim/status/1375899540...</td>\n",
       "    </tr>\n",
       "  </tbody>\n",
       "</table>\n",
       "</div>"
      ],
      "text/plain": [
       "       country iso_code        date  total_vaccinations  people_vaccinated  \\\n",
       "8446  Zimbabwe      ZWE  23/03/2021             44135.0            44135.0   \n",
       "8447  Zimbabwe      ZWE  24/03/2021             49404.0            49404.0   \n",
       "8448  Zimbabwe      ZWE  25/03/2021             54892.0            54892.0   \n",
       "8449  Zimbabwe      ZWE  26/03/2021             61093.0            61093.0   \n",
       "8450  Zimbabwe      ZWE  27/03/2021             65466.0            65466.0   \n",
       "\n",
       "      people_fully_vaccinated  daily_vaccinations_raw  daily_vaccinations  \\\n",
       "8446                      NaN                   841.0               655.0   \n",
       "8447                      NaN                  5269.0              1400.0   \n",
       "8448                      NaN                  5488.0              2127.0   \n",
       "8449                      NaN                  6201.0              2772.0   \n",
       "8450                      NaN                  4373.0              3322.0   \n",
       "\n",
       "      total_vaccinations_per_hundred  people_vaccinated_per_hundred  \\\n",
       "8446                            0.30                           0.30   \n",
       "8447                            0.33                           0.33   \n",
       "8448                            0.37                           0.37   \n",
       "8449                            0.41                           0.41   \n",
       "8450                            0.44                           0.44   \n",
       "\n",
       "      people_fully_vaccinated_per_hundred  daily_vaccinations_per_million  \\\n",
       "8446                                  NaN                            44.0   \n",
       "8447                                  NaN                            94.0   \n",
       "8448                                  NaN                           143.0   \n",
       "8449                                  NaN                           187.0   \n",
       "8450                                  NaN                           224.0   \n",
       "\n",
       "               vaccines         source_name  \\\n",
       "8446  Sinopharm/Beijing  Ministry of Health   \n",
       "8447  Sinopharm/Beijing  Ministry of Health   \n",
       "8448  Sinopharm/Beijing  Ministry of Health   \n",
       "8449  Sinopharm/Beijing  Ministry of Health   \n",
       "8450  Sinopharm/Beijing  Ministry of Health   \n",
       "\n",
       "                                         source_website  \n",
       "8446  https://twitter.com/MoHCCZim/status/1375899540...  \n",
       "8447  https://twitter.com/MoHCCZim/status/1375899540...  \n",
       "8448  https://twitter.com/MoHCCZim/status/1375899540...  \n",
       "8449  https://twitter.com/MoHCCZim/status/1375899540...  \n",
       "8450  https://twitter.com/MoHCCZim/status/1375899540...  "
      ]
     },
     "execution_count": 12,
     "metadata": {},
     "output_type": "execute_result"
    }
   ],
   "source": [
    "vaccination.tail()"
   ]
  },
  {
   "cell_type": "code",
   "execution_count": 5,
   "metadata": {},
   "outputs": [
    {
     "name": "stdout",
     "output_type": "stream",
     "text": [
      "154\n"
     ]
    },
    {
     "data": {
      "text/plain": [
       "array(['Afghanistan', 'Albania', 'Algeria', 'Andorra', 'Angola',\n",
       "       'Anguilla', 'Antigua and Barbuda', 'Argentina', 'Australia',\n",
       "       'Austria', 'Azerbaijan', 'Bahamas', 'Bahrain', 'Bangladesh',\n",
       "       'Barbados', 'Belarus', 'Belgium', 'Belize', 'Bermuda', 'Bolivia',\n",
       "       'Brazil', 'Bulgaria', 'Cambodia', 'Canada', 'Cayman Islands',\n",
       "       'Chile', 'China', 'Colombia', 'Costa Rica', \"Cote d'Ivoire\",\n",
       "       'Croatia', 'Cyprus', 'Czechia', 'Denmark', 'Dominica',\n",
       "       'Dominican Republic', 'Ecuador', 'Egypt', 'El Salvador', 'England',\n",
       "       'Equatorial Guinea', 'Estonia', 'Faeroe Islands',\n",
       "       'Falkland Islands', 'Finland', 'France', 'Germany', 'Ghana',\n",
       "       'Gibraltar', 'Greece', 'Greenland', 'Grenada', 'Guatemala',\n",
       "       'Guernsey', 'Guinea', 'Guyana', 'Honduras', 'Hong Kong', 'Hungary',\n",
       "       'Iceland', 'India', 'Indonesia', 'Iran', 'Ireland', 'Isle of Man',\n",
       "       'Israel', 'Italy', 'Jamaica', 'Japan', 'Jersey', 'Jordan',\n",
       "       'Kazakhstan', 'Kenya', 'Kuwait', 'Laos', 'Latvia', 'Lebanon',\n",
       "       'Liechtenstein', 'Lithuania', 'Luxembourg', 'Macao', 'Malawi',\n",
       "       'Malaysia', 'Maldives', 'Malta', 'Mauritius', 'Mexico', 'Moldova',\n",
       "       'Monaco', 'Mongolia', 'Montenegro', 'Montserrat', 'Morocco',\n",
       "       'Mozambique', 'Myanmar', 'Namibia', 'Nepal', 'Netherlands',\n",
       "       'New Zealand', 'Nigeria', 'North Macedonia', 'Northern Cyprus',\n",
       "       'Northern Ireland', 'Norway', 'Oman', 'Pakistan', 'Panama',\n",
       "       'Paraguay', 'Peru', 'Philippines', 'Poland', 'Portugal', 'Qatar',\n",
       "       'Romania', 'Russia', 'Rwanda', 'Saint Helena',\n",
       "       'Saint Kitts and Nevis', 'Saint Lucia',\n",
       "       'Saint Vincent and the Grenadines', 'San Marino', 'Saudi Arabia',\n",
       "       'Scotland', 'Senegal', 'Serbia', 'Seychelles', 'Sierra Leone',\n",
       "       'Singapore', 'Slovakia', 'Slovenia', 'South Africa', 'South Korea',\n",
       "       'Spain', 'Sri Lanka', 'Suriname', 'Sweden', 'Switzerland',\n",
       "       'Taiwan', 'Thailand', 'Togo', 'Trinidad and Tobago', 'Tunisia',\n",
       "       'Turkey', 'Turks and Caicos Islands', 'Uganda', 'Ukraine',\n",
       "       'United Arab Emirates', 'United Kingdom', 'United States',\n",
       "       'Uruguay', 'Venezuela', 'Vietnam', 'Wales', 'Zimbabwe'],\n",
       "      dtype=object)"
      ]
     },
     "execution_count": 5,
     "metadata": {},
     "output_type": "execute_result"
    }
   ],
   "source": [
    "print(len(vaccination['country'].unique()))\n",
    "vaccination['country'].unique()"
   ]
  },
  {
   "cell_type": "code",
   "execution_count": 14,
   "metadata": {},
   "outputs": [
    {
     "name": "stdout",
     "output_type": "stream",
     "text": [
      "154\n"
     ]
    },
    {
     "data": {
      "text/plain": [
       "array(['AFG', 'ALB', 'DZA', 'AND', 'AGO', 'AIA', 'ATG', 'ARG', 'AUS',\n",
       "       'AUT', 'AZE', 'BHS', 'BHR', 'BGD', 'BRB', 'BLR', 'BEL', 'BLZ',\n",
       "       'BMU', 'BOL', 'BRA', 'BGR', 'KHM', 'CAN', 'CYM', 'CHL', 'CHN',\n",
       "       'COL', 'CRI', 'CIV', 'HRV', 'CYP', 'CZE', 'DNK', 'DMA', 'DOM',\n",
       "       'ECU', 'EGY', 'SLV', 'OWID_ENG', 'GNQ', 'EST', 'FRO', 'FLK', 'FIN',\n",
       "       'FRA', 'DEU', 'GHA', 'GIB', 'GRC', 'GRL', 'GRD', 'GTM', 'GGY',\n",
       "       'GIN', 'GUY', 'HND', 'HKG', 'HUN', 'ISL', 'IND', 'IDN', 'IRN',\n",
       "       'IRL', 'IMN', 'ISR', 'ITA', 'JAM', 'JPN', 'JEY', 'JOR', 'KAZ',\n",
       "       'KEN', 'KWT', 'LAO', 'LVA', 'LBN', 'LIE', 'LTU', 'LUX', 'MAC',\n",
       "       'MWI', 'MYS', 'MDV', 'MLT', 'MUS', 'MEX', 'MDA', 'MCO', 'MNG',\n",
       "       'MNE', 'MSR', 'MAR', 'MOZ', 'MMR', 'NAM', 'NPL', 'NLD', 'NZL',\n",
       "       'NGA', 'MKD', 'OWID_CYN', 'OWID_NIR', 'NOR', 'OMN', 'PAK', 'PAN',\n",
       "       'PRY', 'PER', 'PHL', 'POL', 'PRT', 'QAT', 'ROU', 'RUS', 'RWA',\n",
       "       'SHN', 'KNA', 'LCA', 'VCT', 'SMR', 'SAU', 'OWID_SCT', 'SEN', 'SRB',\n",
       "       'SYC', 'SLE', 'SGP', 'SVK', 'SVN', 'ZAF', 'KOR', 'ESP', 'LKA',\n",
       "       'SUR', 'SWE', 'CHE', 'TWN', 'THA', 'TGO', 'TTO', 'TUN', 'TUR',\n",
       "       'TCA', 'UGA', 'UKR', 'ARE', 'GBR', 'USA', 'URY', 'VEN', 'VNM',\n",
       "       'OWID_WLS', 'ZWE'], dtype=object)"
      ]
     },
     "execution_count": 14,
     "metadata": {},
     "output_type": "execute_result"
    }
   ],
   "source": [
    "print(len(vaccination['iso_code'].unique()))\n",
    "vaccination['iso_code'].unique()"
   ]
  },
  {
   "cell_type": "code",
   "execution_count": 6,
   "metadata": {},
   "outputs": [
    {
     "name": "stdout",
     "output_type": "stream",
     "text": [
      "27\n"
     ]
    },
    {
     "data": {
      "text/plain": [
       "array(['Oxford/AstraZeneca', 'Pfizer/BioNTech', 'Sputnik V',\n",
       "       'Oxford/AstraZeneca, Sinopharm/Beijing, Sputnik V',\n",
       "       'Oxford/AstraZeneca, Pfizer/BioNTech',\n",
       "       'Moderna, Oxford/AstraZeneca, Pfizer/BioNTech', 'Sinovac',\n",
       "       'Oxford/AstraZeneca, Pfizer/BioNTech, Sinopharm/Beijing, Sputnik V',\n",
       "       'Oxford/AstraZeneca, Sinovac', 'Sinopharm/Beijing',\n",
       "       'Pfizer/BioNTech, Sinovac',\n",
       "       'Sinopharm/Beijing, Sinopharm/Wuhan, Sinovac',\n",
       "       'Moderna, Pfizer/BioNTech', 'Moderna',\n",
       "       'Moderna, Oxford/AstraZeneca',\n",
       "       'Moderna, Oxford/AstraZeneca, Pfizer/BioNTech, Sinopharm/Beijing, Sputnik V',\n",
       "       'Covaxin, Oxford/AstraZeneca',\n",
       "       'Pfizer/BioNTech, Sinopharm/Beijing',\n",
       "       'Sinopharm/Beijing, Sputnik V',\n",
       "       'Oxford/AstraZeneca, Pfizer/BioNTech, Sputnik V',\n",
       "       'Oxford/AstraZeneca, Sinopharm/Beijing',\n",
       "       'Oxford/AstraZeneca, Pfizer/BioNTech, Sinovac',\n",
       "       'EpiVacCorona, Sputnik V', 'Johnson&Johnson',\n",
       "       'Pfizer/BioNTech, Sputnik V',\n",
       "       'Oxford/AstraZeneca, Pfizer/BioNTech, Sinopharm/Beijing, Sinopharm/Wuhan, Sputnik V',\n",
       "       'Johnson&Johnson, Moderna, Pfizer/BioNTech'], dtype=object)"
      ]
     },
     "execution_count": 6,
     "metadata": {},
     "output_type": "execute_result"
    }
   ],
   "source": [
    "print(len(vaccination['vaccines'].unique()))\n",
    "vaccination['vaccines'].unique()"
   ]
  },
  {
   "cell_type": "code",
   "execution_count": 39,
   "metadata": {},
   "outputs": [],
   "source": [
    "vac_country = pd.DataFrame({'country':vaccination.country, 'vaccines':vaccination.vaccines})"
   ]
  },
  {
   "cell_type": "code",
   "execution_count": 40,
   "metadata": {},
   "outputs": [
    {
     "data": {
      "text/html": [
       "<div>\n",
       "<style scoped>\n",
       "    .dataframe tbody tr th:only-of-type {\n",
       "        vertical-align: middle;\n",
       "    }\n",
       "\n",
       "    .dataframe tbody tr th {\n",
       "        vertical-align: top;\n",
       "    }\n",
       "\n",
       "    .dataframe thead th {\n",
       "        text-align: right;\n",
       "    }\n",
       "</style>\n",
       "<table border=\"1\" class=\"dataframe\">\n",
       "  <thead>\n",
       "    <tr style=\"text-align: right;\">\n",
       "      <th></th>\n",
       "      <th>country</th>\n",
       "      <th>vaccines</th>\n",
       "    </tr>\n",
       "  </thead>\n",
       "  <tbody>\n",
       "    <tr>\n",
       "      <th>0</th>\n",
       "      <td>Afghanistan</td>\n",
       "      <td>Oxford/AstraZeneca</td>\n",
       "    </tr>\n",
       "    <tr>\n",
       "      <th>1</th>\n",
       "      <td>Afghanistan</td>\n",
       "      <td>Oxford/AstraZeneca</td>\n",
       "    </tr>\n",
       "    <tr>\n",
       "      <th>2</th>\n",
       "      <td>Afghanistan</td>\n",
       "      <td>Oxford/AstraZeneca</td>\n",
       "    </tr>\n",
       "    <tr>\n",
       "      <th>3</th>\n",
       "      <td>Afghanistan</td>\n",
       "      <td>Oxford/AstraZeneca</td>\n",
       "    </tr>\n",
       "    <tr>\n",
       "      <th>4</th>\n",
       "      <td>Afghanistan</td>\n",
       "      <td>Oxford/AstraZeneca</td>\n",
       "    </tr>\n",
       "    <tr>\n",
       "      <th>...</th>\n",
       "      <td>...</td>\n",
       "      <td>...</td>\n",
       "    </tr>\n",
       "    <tr>\n",
       "      <th>8446</th>\n",
       "      <td>Zimbabwe</td>\n",
       "      <td>Sinopharm/Beijing</td>\n",
       "    </tr>\n",
       "    <tr>\n",
       "      <th>8447</th>\n",
       "      <td>Zimbabwe</td>\n",
       "      <td>Sinopharm/Beijing</td>\n",
       "    </tr>\n",
       "    <tr>\n",
       "      <th>8448</th>\n",
       "      <td>Zimbabwe</td>\n",
       "      <td>Sinopharm/Beijing</td>\n",
       "    </tr>\n",
       "    <tr>\n",
       "      <th>8449</th>\n",
       "      <td>Zimbabwe</td>\n",
       "      <td>Sinopharm/Beijing</td>\n",
       "    </tr>\n",
       "    <tr>\n",
       "      <th>8450</th>\n",
       "      <td>Zimbabwe</td>\n",
       "      <td>Sinopharm/Beijing</td>\n",
       "    </tr>\n",
       "  </tbody>\n",
       "</table>\n",
       "<p>8451 rows × 2 columns</p>\n",
       "</div>"
      ],
      "text/plain": [
       "          country            vaccines\n",
       "0     Afghanistan  Oxford/AstraZeneca\n",
       "1     Afghanistan  Oxford/AstraZeneca\n",
       "2     Afghanistan  Oxford/AstraZeneca\n",
       "3     Afghanistan  Oxford/AstraZeneca\n",
       "4     Afghanistan  Oxford/AstraZeneca\n",
       "...           ...                 ...\n",
       "8446     Zimbabwe   Sinopharm/Beijing\n",
       "8447     Zimbabwe   Sinopharm/Beijing\n",
       "8448     Zimbabwe   Sinopharm/Beijing\n",
       "8449     Zimbabwe   Sinopharm/Beijing\n",
       "8450     Zimbabwe   Sinopharm/Beijing\n",
       "\n",
       "[8451 rows x 2 columns]"
      ]
     },
     "execution_count": 40,
     "metadata": {},
     "output_type": "execute_result"
    }
   ],
   "source": [
    "vac_country"
   ]
  },
  {
   "cell_type": "code",
   "execution_count": 41,
   "metadata": {},
   "outputs": [
    {
     "data": {
      "text/plain": [
       "1031"
      ]
     },
     "execution_count": 41,
     "metadata": {},
     "output_type": "execute_result"
    }
   ],
   "source": [
    "# display(vaccination[vaccination[\"vaccines\"]==\"Oxford/AstraZeneca\"][['vaccines','country','total_vaccinations']].sort_values(by='total_vaccinations', ascending=False))\n",
    "\n",
    "(vac_country['vaccines'] == 'Oxford/AstraZeneca').sum()"
   ]
  },
  {
   "cell_type": "code",
   "execution_count": 42,
   "metadata": {},
   "outputs": [
    {
     "data": {
      "text/plain": [
       "'Oxford/AstraZeneca, Pfizer/BioNTech, Sinopharm/Beijing, Sinopharm/Wuhan, Sputnik V'"
      ]
     },
     "execution_count": 42,
     "metadata": {},
     "output_type": "execute_result"
    }
   ],
   "source": [
    "vac_country['vaccines'][8000]"
   ]
  },
  {
   "cell_type": "code",
   "execution_count": 43,
   "metadata": {},
   "outputs": [
    {
     "data": {
      "text/html": [
       "<div>\n",
       "<style scoped>\n",
       "    .dataframe tbody tr th:only-of-type {\n",
       "        vertical-align: middle;\n",
       "    }\n",
       "\n",
       "    .dataframe tbody tr th {\n",
       "        vertical-align: top;\n",
       "    }\n",
       "\n",
       "    .dataframe thead th {\n",
       "        text-align: right;\n",
       "    }\n",
       "</style>\n",
       "<table border=\"1\" class=\"dataframe\">\n",
       "  <thead>\n",
       "    <tr style=\"text-align: right;\">\n",
       "      <th></th>\n",
       "      <th>country</th>\n",
       "      <th>vaccines</th>\n",
       "    </tr>\n",
       "  </thead>\n",
       "  <tbody>\n",
       "    <tr>\n",
       "      <th>0</th>\n",
       "      <td>Afghanistan</td>\n",
       "      <td>Oxford/AstraZeneca</td>\n",
       "    </tr>\n",
       "    <tr>\n",
       "      <th>1</th>\n",
       "      <td>Afghanistan</td>\n",
       "      <td>Oxford/AstraZeneca</td>\n",
       "    </tr>\n",
       "    <tr>\n",
       "      <th>2</th>\n",
       "      <td>Afghanistan</td>\n",
       "      <td>Oxford/AstraZeneca</td>\n",
       "    </tr>\n",
       "    <tr>\n",
       "      <th>3</th>\n",
       "      <td>Afghanistan</td>\n",
       "      <td>Oxford/AstraZeneca</td>\n",
       "    </tr>\n",
       "    <tr>\n",
       "      <th>4</th>\n",
       "      <td>Afghanistan</td>\n",
       "      <td>Oxford/AstraZeneca</td>\n",
       "    </tr>\n",
       "    <tr>\n",
       "      <th>...</th>\n",
       "      <td>...</td>\n",
       "      <td>...</td>\n",
       "    </tr>\n",
       "    <tr>\n",
       "      <th>8446</th>\n",
       "      <td>Zimbabwe</td>\n",
       "      <td>Sinopharm/Beijing</td>\n",
       "    </tr>\n",
       "    <tr>\n",
       "      <th>8447</th>\n",
       "      <td>Zimbabwe</td>\n",
       "      <td>Sinopharm/Beijing</td>\n",
       "    </tr>\n",
       "    <tr>\n",
       "      <th>8448</th>\n",
       "      <td>Zimbabwe</td>\n",
       "      <td>Sinopharm/Beijing</td>\n",
       "    </tr>\n",
       "    <tr>\n",
       "      <th>8449</th>\n",
       "      <td>Zimbabwe</td>\n",
       "      <td>Sinopharm/Beijing</td>\n",
       "    </tr>\n",
       "    <tr>\n",
       "      <th>8450</th>\n",
       "      <td>Zimbabwe</td>\n",
       "      <td>Sinopharm/Beijing</td>\n",
       "    </tr>\n",
       "  </tbody>\n",
       "</table>\n",
       "<p>8451 rows × 2 columns</p>\n",
       "</div>"
      ],
      "text/plain": [
       "          country            vaccines\n",
       "0     Afghanistan  Oxford/AstraZeneca\n",
       "1     Afghanistan  Oxford/AstraZeneca\n",
       "2     Afghanistan  Oxford/AstraZeneca\n",
       "3     Afghanistan  Oxford/AstraZeneca\n",
       "4     Afghanistan  Oxford/AstraZeneca\n",
       "...           ...                 ...\n",
       "8446     Zimbabwe   Sinopharm/Beijing\n",
       "8447     Zimbabwe   Sinopharm/Beijing\n",
       "8448     Zimbabwe   Sinopharm/Beijing\n",
       "8449     Zimbabwe   Sinopharm/Beijing\n",
       "8450     Zimbabwe   Sinopharm/Beijing\n",
       "\n",
       "[8451 rows x 2 columns]"
      ]
     },
     "execution_count": 43,
     "metadata": {},
     "output_type": "execute_result"
    }
   ],
   "source": [
    "vac_country.vaccines.str.split(', ')\n",
    "vac_country"
   ]
  },
  {
   "cell_type": "code",
   "execution_count": 44,
   "metadata": {},
   "outputs": [
    {
     "data": {
      "text/plain": [
       "'Oxford/AstraZeneca, Pfizer/BioNTech, Sinopharm/Beijing, Sinopharm/Wuhan, Sputnik V'"
      ]
     },
     "execution_count": 44,
     "metadata": {},
     "output_type": "execute_result"
    }
   ],
   "source": [
    "vac_country.vaccines[8000]"
   ]
  },
  {
   "cell_type": "code",
   "execution_count": 45,
   "metadata": {},
   "outputs": [
    {
     "name": "stdout",
     "output_type": "stream",
     "text": [
      "<class 'pandas.core.frame.DataFrame'>\n",
      "RangeIndex: 8451 entries, 0 to 8450\n",
      "Data columns (total 3 columns):\n",
      " #   Column            Non-Null Count  Dtype \n",
      "---  ------            --------------  ----- \n",
      " 0   country           8451 non-null   object\n",
      " 1   vaccines          8451 non-null   object\n",
      " 2   vaccines_splited  8451 non-null   object\n",
      "dtypes: object(3)\n",
      "memory usage: 198.2+ KB\n"
     ]
    }
   ],
   "source": [
    "vac_country.insert(2,'vaccines_splited', vac_country['vaccines'].str.split(', ') )\n",
    "vac_country.info()"
   ]
  },
  {
   "cell_type": "code",
   "execution_count": 47,
   "metadata": {},
   "outputs": [
    {
     "data": {
      "text/plain": [
       "['Oxford/AstraZeneca',\n",
       " 'Pfizer/BioNTech',\n",
       " 'Sinopharm/Beijing',\n",
       " 'Sinopharm/Wuhan',\n",
       " 'Sputnik V']"
      ]
     },
     "execution_count": 47,
     "metadata": {},
     "output_type": "execute_result"
    }
   ],
   "source": [
    "vac_country.vaccines_splited[8000]"
   ]
  },
  {
   "cell_type": "code",
   "execution_count": 48,
   "metadata": {},
   "outputs": [
    {
     "data": {
      "text/html": [
       "<div>\n",
       "<style scoped>\n",
       "    .dataframe tbody tr th:only-of-type {\n",
       "        vertical-align: middle;\n",
       "    }\n",
       "\n",
       "    .dataframe tbody tr th {\n",
       "        vertical-align: top;\n",
       "    }\n",
       "\n",
       "    .dataframe thead th {\n",
       "        text-align: right;\n",
       "    }\n",
       "</style>\n",
       "<table border=\"1\" class=\"dataframe\">\n",
       "  <thead>\n",
       "    <tr style=\"text-align: right;\">\n",
       "      <th></th>\n",
       "      <th>vaccines</th>\n",
       "      <th>vaccines_splited</th>\n",
       "    </tr>\n",
       "    <tr>\n",
       "      <th>country</th>\n",
       "      <th></th>\n",
       "      <th></th>\n",
       "    </tr>\n",
       "  </thead>\n",
       "  <tbody>\n",
       "    <tr>\n",
       "      <th>Afghanistan</th>\n",
       "      <td>Oxford/AstraZeneca</td>\n",
       "      <td>[Oxford/AstraZeneca]</td>\n",
       "    </tr>\n",
       "    <tr>\n",
       "      <th>Afghanistan</th>\n",
       "      <td>Oxford/AstraZeneca</td>\n",
       "      <td>[Oxford/AstraZeneca]</td>\n",
       "    </tr>\n",
       "    <tr>\n",
       "      <th>Afghanistan</th>\n",
       "      <td>Oxford/AstraZeneca</td>\n",
       "      <td>[Oxford/AstraZeneca]</td>\n",
       "    </tr>\n",
       "    <tr>\n",
       "      <th>Afghanistan</th>\n",
       "      <td>Oxford/AstraZeneca</td>\n",
       "      <td>[Oxford/AstraZeneca]</td>\n",
       "    </tr>\n",
       "    <tr>\n",
       "      <th>Afghanistan</th>\n",
       "      <td>Oxford/AstraZeneca</td>\n",
       "      <td>[Oxford/AstraZeneca]</td>\n",
       "    </tr>\n",
       "  </tbody>\n",
       "</table>\n",
       "</div>"
      ],
      "text/plain": [
       "                       vaccines      vaccines_splited\n",
       "country                                              \n",
       "Afghanistan  Oxford/AstraZeneca  [Oxford/AstraZeneca]\n",
       "Afghanistan  Oxford/AstraZeneca  [Oxford/AstraZeneca]\n",
       "Afghanistan  Oxford/AstraZeneca  [Oxford/AstraZeneca]\n",
       "Afghanistan  Oxford/AstraZeneca  [Oxford/AstraZeneca]\n",
       "Afghanistan  Oxford/AstraZeneca  [Oxford/AstraZeneca]"
      ]
     },
     "execution_count": 48,
     "metadata": {},
     "output_type": "execute_result"
    }
   ],
   "source": [
    "vac_country.set_index('country',inplace=True)\n",
    "vac_country.head()"
   ]
  },
  {
   "cell_type": "code",
   "execution_count": 51,
   "metadata": {},
   "outputs": [
    {
     "data": {
      "text/html": [
       "<div>\n",
       "<style scoped>\n",
       "    .dataframe tbody tr th:only-of-type {\n",
       "        vertical-align: middle;\n",
       "    }\n",
       "\n",
       "    .dataframe tbody tr th {\n",
       "        vertical-align: top;\n",
       "    }\n",
       "\n",
       "    .dataframe thead th {\n",
       "        text-align: right;\n",
       "    }\n",
       "</style>\n",
       "<table border=\"1\" class=\"dataframe\">\n",
       "  <thead>\n",
       "    <tr style=\"text-align: right;\">\n",
       "      <th></th>\n",
       "      <th>vaccines</th>\n",
       "    </tr>\n",
       "    <tr>\n",
       "      <th>country</th>\n",
       "      <th></th>\n",
       "    </tr>\n",
       "  </thead>\n",
       "  <tbody>\n",
       "    <tr>\n",
       "      <th>Afghanistan</th>\n",
       "      <td>Oxford/AstraZeneca</td>\n",
       "    </tr>\n",
       "    <tr>\n",
       "      <th>Afghanistan</th>\n",
       "      <td>Oxford/AstraZeneca</td>\n",
       "    </tr>\n",
       "    <tr>\n",
       "      <th>Afghanistan</th>\n",
       "      <td>Oxford/AstraZeneca</td>\n",
       "    </tr>\n",
       "    <tr>\n",
       "      <th>Afghanistan</th>\n",
       "      <td>Oxford/AstraZeneca</td>\n",
       "    </tr>\n",
       "    <tr>\n",
       "      <th>Afghanistan</th>\n",
       "      <td>Oxford/AstraZeneca</td>\n",
       "    </tr>\n",
       "    <tr>\n",
       "      <th>...</th>\n",
       "      <td>...</td>\n",
       "    </tr>\n",
       "    <tr>\n",
       "      <th>Zimbabwe</th>\n",
       "      <td>Sinopharm/Beijing</td>\n",
       "    </tr>\n",
       "    <tr>\n",
       "      <th>Zimbabwe</th>\n",
       "      <td>Sinopharm/Beijing</td>\n",
       "    </tr>\n",
       "    <tr>\n",
       "      <th>Zimbabwe</th>\n",
       "      <td>Sinopharm/Beijing</td>\n",
       "    </tr>\n",
       "    <tr>\n",
       "      <th>Zimbabwe</th>\n",
       "      <td>Sinopharm/Beijing</td>\n",
       "    </tr>\n",
       "    <tr>\n",
       "      <th>Zimbabwe</th>\n",
       "      <td>Sinopharm/Beijing</td>\n",
       "    </tr>\n",
       "  </tbody>\n",
       "</table>\n",
       "<p>8451 rows × 1 columns</p>\n",
       "</div>"
      ],
      "text/plain": [
       "                       vaccines\n",
       "country                        \n",
       "Afghanistan  Oxford/AstraZeneca\n",
       "Afghanistan  Oxford/AstraZeneca\n",
       "Afghanistan  Oxford/AstraZeneca\n",
       "Afghanistan  Oxford/AstraZeneca\n",
       "Afghanistan  Oxford/AstraZeneca\n",
       "...                         ...\n",
       "Zimbabwe      Sinopharm/Beijing\n",
       "Zimbabwe      Sinopharm/Beijing\n",
       "Zimbabwe      Sinopharm/Beijing\n",
       "Zimbabwe      Sinopharm/Beijing\n",
       "Zimbabwe      Sinopharm/Beijing\n",
       "\n",
       "[8451 rows x 1 columns]"
      ]
     },
     "execution_count": 51,
     "metadata": {},
     "output_type": "execute_result"
    }
   ],
   "source": [
    "vac_country.drop('vaccines_splited', axis=1, inplace=True)\n",
    "vac_country"
   ]
  },
  {
   "cell_type": "code",
   "execution_count": 52,
   "metadata": {},
   "outputs": [
    {
     "name": "stderr",
     "output_type": "stream",
     "text": [
      "<ipython-input-52-622c4397fbaa>:1: FutureWarning: Columnar iteration over characters will be deprecated in future releases.\n",
      "  vac_country['vac1'],vac_country['vac2'],vac_country['vac3']=vac_country.vaccines.str.split(', ',2).str\n"
     ]
    },
    {
     "data": {
      "text/html": [
       "<div>\n",
       "<style scoped>\n",
       "    .dataframe tbody tr th:only-of-type {\n",
       "        vertical-align: middle;\n",
       "    }\n",
       "\n",
       "    .dataframe tbody tr th {\n",
       "        vertical-align: top;\n",
       "    }\n",
       "\n",
       "    .dataframe thead th {\n",
       "        text-align: right;\n",
       "    }\n",
       "</style>\n",
       "<table border=\"1\" class=\"dataframe\">\n",
       "  <thead>\n",
       "    <tr style=\"text-align: right;\">\n",
       "      <th></th>\n",
       "      <th>vaccines</th>\n",
       "      <th>vac1</th>\n",
       "      <th>vac2</th>\n",
       "      <th>vac3</th>\n",
       "    </tr>\n",
       "    <tr>\n",
       "      <th>country</th>\n",
       "      <th></th>\n",
       "      <th></th>\n",
       "      <th></th>\n",
       "      <th></th>\n",
       "    </tr>\n",
       "  </thead>\n",
       "  <tbody>\n",
       "    <tr>\n",
       "      <th>Afghanistan</th>\n",
       "      <td>Oxford/AstraZeneca</td>\n",
       "      <td>Oxford/AstraZeneca</td>\n",
       "      <td>NaN</td>\n",
       "      <td>NaN</td>\n",
       "    </tr>\n",
       "    <tr>\n",
       "      <th>Afghanistan</th>\n",
       "      <td>Oxford/AstraZeneca</td>\n",
       "      <td>Oxford/AstraZeneca</td>\n",
       "      <td>NaN</td>\n",
       "      <td>NaN</td>\n",
       "    </tr>\n",
       "    <tr>\n",
       "      <th>Afghanistan</th>\n",
       "      <td>Oxford/AstraZeneca</td>\n",
       "      <td>Oxford/AstraZeneca</td>\n",
       "      <td>NaN</td>\n",
       "      <td>NaN</td>\n",
       "    </tr>\n",
       "    <tr>\n",
       "      <th>Afghanistan</th>\n",
       "      <td>Oxford/AstraZeneca</td>\n",
       "      <td>Oxford/AstraZeneca</td>\n",
       "      <td>NaN</td>\n",
       "      <td>NaN</td>\n",
       "    </tr>\n",
       "    <tr>\n",
       "      <th>Afghanistan</th>\n",
       "      <td>Oxford/AstraZeneca</td>\n",
       "      <td>Oxford/AstraZeneca</td>\n",
       "      <td>NaN</td>\n",
       "      <td>NaN</td>\n",
       "    </tr>\n",
       "    <tr>\n",
       "      <th>...</th>\n",
       "      <td>...</td>\n",
       "      <td>...</td>\n",
       "      <td>...</td>\n",
       "      <td>...</td>\n",
       "    </tr>\n",
       "    <tr>\n",
       "      <th>Zimbabwe</th>\n",
       "      <td>Sinopharm/Beijing</td>\n",
       "      <td>Sinopharm/Beijing</td>\n",
       "      <td>NaN</td>\n",
       "      <td>NaN</td>\n",
       "    </tr>\n",
       "    <tr>\n",
       "      <th>Zimbabwe</th>\n",
       "      <td>Sinopharm/Beijing</td>\n",
       "      <td>Sinopharm/Beijing</td>\n",
       "      <td>NaN</td>\n",
       "      <td>NaN</td>\n",
       "    </tr>\n",
       "    <tr>\n",
       "      <th>Zimbabwe</th>\n",
       "      <td>Sinopharm/Beijing</td>\n",
       "      <td>Sinopharm/Beijing</td>\n",
       "      <td>NaN</td>\n",
       "      <td>NaN</td>\n",
       "    </tr>\n",
       "    <tr>\n",
       "      <th>Zimbabwe</th>\n",
       "      <td>Sinopharm/Beijing</td>\n",
       "      <td>Sinopharm/Beijing</td>\n",
       "      <td>NaN</td>\n",
       "      <td>NaN</td>\n",
       "    </tr>\n",
       "    <tr>\n",
       "      <th>Zimbabwe</th>\n",
       "      <td>Sinopharm/Beijing</td>\n",
       "      <td>Sinopharm/Beijing</td>\n",
       "      <td>NaN</td>\n",
       "      <td>NaN</td>\n",
       "    </tr>\n",
       "  </tbody>\n",
       "</table>\n",
       "<p>8451 rows × 4 columns</p>\n",
       "</div>"
      ],
      "text/plain": [
       "                       vaccines                vac1 vac2 vac3\n",
       "country                                                      \n",
       "Afghanistan  Oxford/AstraZeneca  Oxford/AstraZeneca  NaN  NaN\n",
       "Afghanistan  Oxford/AstraZeneca  Oxford/AstraZeneca  NaN  NaN\n",
       "Afghanistan  Oxford/AstraZeneca  Oxford/AstraZeneca  NaN  NaN\n",
       "Afghanistan  Oxford/AstraZeneca  Oxford/AstraZeneca  NaN  NaN\n",
       "Afghanistan  Oxford/AstraZeneca  Oxford/AstraZeneca  NaN  NaN\n",
       "...                         ...                 ...  ...  ...\n",
       "Zimbabwe      Sinopharm/Beijing   Sinopharm/Beijing  NaN  NaN\n",
       "Zimbabwe      Sinopharm/Beijing   Sinopharm/Beijing  NaN  NaN\n",
       "Zimbabwe      Sinopharm/Beijing   Sinopharm/Beijing  NaN  NaN\n",
       "Zimbabwe      Sinopharm/Beijing   Sinopharm/Beijing  NaN  NaN\n",
       "Zimbabwe      Sinopharm/Beijing   Sinopharm/Beijing  NaN  NaN\n",
       "\n",
       "[8451 rows x 4 columns]"
      ]
     },
     "execution_count": 52,
     "metadata": {},
     "output_type": "execute_result"
    }
   ],
   "source": [
    "vac_country['vac1'],vac_country['vac2'],vac_country['vac3']=vac_country.vaccines.str.split(', ',2).str\n",
    "vac_country"
   ]
  },
  {
   "cell_type": "code",
   "execution_count": 55,
   "metadata": {},
   "outputs": [
    {
     "data": {
      "text/html": [
       "<div>\n",
       "<style scoped>\n",
       "    .dataframe tbody tr th:only-of-type {\n",
       "        vertical-align: middle;\n",
       "    }\n",
       "\n",
       "    .dataframe tbody tr th {\n",
       "        vertical-align: top;\n",
       "    }\n",
       "\n",
       "    .dataframe thead th {\n",
       "        text-align: right;\n",
       "    }\n",
       "</style>\n",
       "<table border=\"1\" class=\"dataframe\">\n",
       "  <thead>\n",
       "    <tr style=\"text-align: right;\">\n",
       "      <th></th>\n",
       "      <th>vac1</th>\n",
       "      <th>vac2</th>\n",
       "      <th>vac3</th>\n",
       "    </tr>\n",
       "    <tr>\n",
       "      <th>country</th>\n",
       "      <th></th>\n",
       "      <th></th>\n",
       "      <th></th>\n",
       "    </tr>\n",
       "  </thead>\n",
       "  <tbody>\n",
       "    <tr>\n",
       "      <th>Afghanistan</th>\n",
       "      <td>Oxford/AstraZeneca</td>\n",
       "      <td>NaN</td>\n",
       "      <td>NaN</td>\n",
       "    </tr>\n",
       "    <tr>\n",
       "      <th>Afghanistan</th>\n",
       "      <td>Oxford/AstraZeneca</td>\n",
       "      <td>NaN</td>\n",
       "      <td>NaN</td>\n",
       "    </tr>\n",
       "    <tr>\n",
       "      <th>Afghanistan</th>\n",
       "      <td>Oxford/AstraZeneca</td>\n",
       "      <td>NaN</td>\n",
       "      <td>NaN</td>\n",
       "    </tr>\n",
       "    <tr>\n",
       "      <th>Afghanistan</th>\n",
       "      <td>Oxford/AstraZeneca</td>\n",
       "      <td>NaN</td>\n",
       "      <td>NaN</td>\n",
       "    </tr>\n",
       "    <tr>\n",
       "      <th>Afghanistan</th>\n",
       "      <td>Oxford/AstraZeneca</td>\n",
       "      <td>NaN</td>\n",
       "      <td>NaN</td>\n",
       "    </tr>\n",
       "    <tr>\n",
       "      <th>...</th>\n",
       "      <td>...</td>\n",
       "      <td>...</td>\n",
       "      <td>...</td>\n",
       "    </tr>\n",
       "    <tr>\n",
       "      <th>Zimbabwe</th>\n",
       "      <td>Sinopharm/Beijing</td>\n",
       "      <td>NaN</td>\n",
       "      <td>NaN</td>\n",
       "    </tr>\n",
       "    <tr>\n",
       "      <th>Zimbabwe</th>\n",
       "      <td>Sinopharm/Beijing</td>\n",
       "      <td>NaN</td>\n",
       "      <td>NaN</td>\n",
       "    </tr>\n",
       "    <tr>\n",
       "      <th>Zimbabwe</th>\n",
       "      <td>Sinopharm/Beijing</td>\n",
       "      <td>NaN</td>\n",
       "      <td>NaN</td>\n",
       "    </tr>\n",
       "    <tr>\n",
       "      <th>Zimbabwe</th>\n",
       "      <td>Sinopharm/Beijing</td>\n",
       "      <td>NaN</td>\n",
       "      <td>NaN</td>\n",
       "    </tr>\n",
       "    <tr>\n",
       "      <th>Zimbabwe</th>\n",
       "      <td>Sinopharm/Beijing</td>\n",
       "      <td>NaN</td>\n",
       "      <td>NaN</td>\n",
       "    </tr>\n",
       "  </tbody>\n",
       "</table>\n",
       "<p>8451 rows × 3 columns</p>\n",
       "</div>"
      ],
      "text/plain": [
       "                           vac1 vac2 vac3\n",
       "country                                  \n",
       "Afghanistan  Oxford/AstraZeneca  NaN  NaN\n",
       "Afghanistan  Oxford/AstraZeneca  NaN  NaN\n",
       "Afghanistan  Oxford/AstraZeneca  NaN  NaN\n",
       "Afghanistan  Oxford/AstraZeneca  NaN  NaN\n",
       "Afghanistan  Oxford/AstraZeneca  NaN  NaN\n",
       "...                         ...  ...  ...\n",
       "Zimbabwe      Sinopharm/Beijing  NaN  NaN\n",
       "Zimbabwe      Sinopharm/Beijing  NaN  NaN\n",
       "Zimbabwe      Sinopharm/Beijing  NaN  NaN\n",
       "Zimbabwe      Sinopharm/Beijing  NaN  NaN\n",
       "Zimbabwe      Sinopharm/Beijing  NaN  NaN\n",
       "\n",
       "[8451 rows x 3 columns]"
      ]
     },
     "execution_count": 55,
     "metadata": {},
     "output_type": "execute_result"
    }
   ],
   "source": [
    "vac_country.drop('vaccines', axis =1, inplace=True)\n",
    "vac_country"
   ]
  },
  {
   "cell_type": "code",
   "execution_count": 58,
   "metadata": {},
   "outputs": [
    {
     "ename": "TypeError",
     "evalue": "first argument must be an iterable of pandas objects, you passed an object of type \"Series\"",
     "output_type": "error",
     "traceback": [
      "\u001b[1;31m---------------------------------------------------------------------------\u001b[0m",
      "\u001b[1;31mTypeError\u001b[0m                                 Traceback (most recent call last)",
      "\u001b[1;32m<ipython-input-58-430525dde7d6>\u001b[0m in \u001b[0;36m<module>\u001b[1;34m\u001b[0m\n\u001b[1;32m----> 1\u001b[1;33m \u001b[0mvac_country2\u001b[0m \u001b[1;33m=\u001b[0m\u001b[0mpd\u001b[0m\u001b[1;33m.\u001b[0m\u001b[0mconcat\u001b[0m\u001b[1;33m(\u001b[0m\u001b[0mvac_country\u001b[0m\u001b[1;33m.\u001b[0m\u001b[0mvac1\u001b[0m\u001b[1;33m,\u001b[0m \u001b[0mvac_country\u001b[0m\u001b[1;33m.\u001b[0m\u001b[0mvac2\u001b[0m\u001b[1;33m,\u001b[0m \u001b[0mvac_country\u001b[0m\u001b[1;33m.\u001b[0m\u001b[0mvac3\u001b[0m\u001b[1;33m)\u001b[0m\u001b[1;33m\u001b[0m\u001b[1;33m\u001b[0m\u001b[0m\n\u001b[0m\u001b[0;32m      2\u001b[0m \u001b[0mvac_country2\u001b[0m\u001b[1;33m\u001b[0m\u001b[1;33m\u001b[0m\u001b[0m\n",
      "\u001b[1;32m~\\anaconda3\\lib\\site-packages\\pandas\\core\\reshape\\concat.py\u001b[0m in \u001b[0;36mconcat\u001b[1;34m(objs, axis, join, ignore_index, keys, levels, names, verify_integrity, sort, copy)\u001b[0m\n\u001b[0;32m    272\u001b[0m     \u001b[0mValueError\u001b[0m\u001b[1;33m:\u001b[0m \u001b[0mIndexes\u001b[0m \u001b[0mhave\u001b[0m \u001b[0moverlapping\u001b[0m \u001b[0mvalues\u001b[0m\u001b[1;33m:\u001b[0m \u001b[1;33m[\u001b[0m\u001b[1;34m'a'\u001b[0m\u001b[1;33m]\u001b[0m\u001b[1;33m\u001b[0m\u001b[1;33m\u001b[0m\u001b[0m\n\u001b[0;32m    273\u001b[0m     \"\"\"\n\u001b[1;32m--> 274\u001b[1;33m     op = _Concatenator(\n\u001b[0m\u001b[0;32m    275\u001b[0m         \u001b[0mobjs\u001b[0m\u001b[1;33m,\u001b[0m\u001b[1;33m\u001b[0m\u001b[1;33m\u001b[0m\u001b[0m\n\u001b[0;32m    276\u001b[0m         \u001b[0maxis\u001b[0m\u001b[1;33m=\u001b[0m\u001b[0maxis\u001b[0m\u001b[1;33m,\u001b[0m\u001b[1;33m\u001b[0m\u001b[1;33m\u001b[0m\u001b[0m\n",
      "\u001b[1;32m~\\anaconda3\\lib\\site-packages\\pandas\\core\\reshape\\concat.py\u001b[0m in \u001b[0;36m__init__\u001b[1;34m(self, objs, axis, join, keys, levels, names, ignore_index, verify_integrity, copy, sort)\u001b[0m\n\u001b[0;32m    307\u001b[0m     ):\n\u001b[0;32m    308\u001b[0m         \u001b[1;32mif\u001b[0m \u001b[0misinstance\u001b[0m\u001b[1;33m(\u001b[0m\u001b[0mobjs\u001b[0m\u001b[1;33m,\u001b[0m \u001b[1;33m(\u001b[0m\u001b[0mABCSeries\u001b[0m\u001b[1;33m,\u001b[0m \u001b[0mABCDataFrame\u001b[0m\u001b[1;33m,\u001b[0m \u001b[0mstr\u001b[0m\u001b[1;33m)\u001b[0m\u001b[1;33m)\u001b[0m\u001b[1;33m:\u001b[0m\u001b[1;33m\u001b[0m\u001b[1;33m\u001b[0m\u001b[0m\n\u001b[1;32m--> 309\u001b[1;33m             raise TypeError(\n\u001b[0m\u001b[0;32m    310\u001b[0m                 \u001b[1;34m\"first argument must be an iterable of pandas \"\u001b[0m\u001b[1;33m\u001b[0m\u001b[1;33m\u001b[0m\u001b[0m\n\u001b[0;32m    311\u001b[0m                 \u001b[1;34mf'objects, you passed an object of type \"{type(objs).__name__}\"'\u001b[0m\u001b[1;33m\u001b[0m\u001b[1;33m\u001b[0m\u001b[0m\n",
      "\u001b[1;31mTypeError\u001b[0m: first argument must be an iterable of pandas objects, you passed an object of type \"Series\""
     ]
    }
   ],
   "source": [
    "vac_country2 =pd.concat(vac_country.vac1, vac_country.vac2, vac_country.vac3)\n",
    "vac_country2"
   ]
  },
  {
   "cell_type": "code",
   "execution_count": null,
   "metadata": {},
   "outputs": [],
   "source": []
  }
 ],
 "metadata": {
  "kernelspec": {
   "display_name": "Python 3",
   "language": "python",
   "name": "python3"
  },
  "language_info": {
   "codemirror_mode": {
    "name": "ipython",
    "version": 3
   },
   "file_extension": ".py",
   "mimetype": "text/x-python",
   "name": "python",
   "nbconvert_exporter": "python",
   "pygments_lexer": "ipython3",
   "version": "3.8.5"
  }
 },
 "nbformat": 4,
 "nbformat_minor": 4
}
