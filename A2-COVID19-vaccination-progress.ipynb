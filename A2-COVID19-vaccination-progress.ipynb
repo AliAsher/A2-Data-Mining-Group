{
 "cells": [
  {
   "cell_type": "markdown",
   "metadata": {},
   "source": [
    "dataset information"
   ]
  },
  {
   "cell_type": "markdown",
   "metadata": {},
   "source": [
    "Cleaning and organizing data\n",
    "\n",
    "1. find dataset info include # of columns, name of columns, no-null values and datatypes  \n",
    "2. See head and tail of dataset\n",
    "3. find data entry error e.g. category, duplicated or similar value to merge, unique values\n",
    "4. find missing values and identify if it is replaceableble \n",
    "5. find outliers "
   ]
  },
  {
   "cell_type": "markdown",
   "metadata": {},
   "source": [
    "Exploratory Data Analysis\n",
    "1. What vaccines are used in which countries?\n",
    "2. Which countries are the most vaccinated? \n",
    "3. Most vaccinated countries per percentgage of the population?\n",
    "4. Which vaccines is the most used around the globe?"
   ]
  },
  {
   "cell_type": "markdown",
   "metadata": {},
   "source": []
  },
  {
   "cell_type": "code",
   "execution_count": null,
   "metadata": {},
   "outputs": [],
   "source": []
  }
 ],
 "metadata": {
  "kernelspec": {
   "display_name": "Python 3",
   "language": "python",
   "name": "python3"
  },
  "language_info": {
   "codemirror_mode": {
    "name": "ipython",
    "version": 3
   },
   "file_extension": ".py",
   "mimetype": "text/x-python",
   "name": "python",
   "nbconvert_exporter": "python",
   "pygments_lexer": "ipython3",
   "version": "3.8.5"
  }
 },
 "nbformat": 4,
 "nbformat_minor": 4
}
