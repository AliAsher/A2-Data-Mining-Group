{
 "cells": [
  {
   "cell_type": "markdown",
   "metadata": {},
   "source": [
    "Questions:\n",
    "1. COVID-19 vaccine types and its use in various countries; \n",
    "    - create new dataframe with country & vaccine colums\n",
    "    - Splite vaccines if there is more than one vaccine\n",
    "    - Create a plot\n",
    "- Total number of vaccination per month by sorted by highest # of country people_fully_vaccinated\n",
    "- Total number of vaccinations and percent of vaccinations;\n",
    "- Daily vaccinations and daily vaccinations per million;\n",
    "- Total people vaccinated and percent of people vaccinated;\n",
    "\n",
    "People vaccinated\n",
    "People fully vaccinated\n",
    "\n",
    "Country - Total doeses given, people fully vaccinated, people given at least one dose % of population"
   ]
  },
  {
   "cell_type": "markdown",
   "metadata": {},
   "source": [
    "# Cleaning and organizing data\n",
    "\n",
    "1. find dataset info include # of columns, name of columns, no-null values and datatypes  \n",
    "2. See head and tail of dataset\n",
    "3. find data entry error e.g. category, duplicated or similar value to merge, unique values\n",
    "4. find missing values and identify if it is replaceableble \n",
    "5. find outliers > edit or remove outliers"
   ]
  },
  {
   "cell_type": "code",
   "execution_count": null,
   "metadata": {},
   "outputs": [],
   "source": []
  }
 ],
 "metadata": {
  "kernelspec": {
   "display_name": "Python 3",
   "language": "python",
   "name": "python3"
  },
  "language_info": {
   "codemirror_mode": {
    "name": "ipython",
    "version": 3
   },
   "file_extension": ".py",
   "mimetype": "text/x-python",
   "name": "python",
   "nbconvert_exporter": "python",
   "pygments_lexer": "ipython3",
   "version": "3.8.5"
  }
 },
 "nbformat": 4,
 "nbformat_minor": 4
}
